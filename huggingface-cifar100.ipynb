{
 "cells": [
  {
   "cell_type": "markdown",
   "id": "b77805ee",
   "metadata": {},
   "source": [
    "# Hugging Face CIFAR-100 Embeddings Example\n",
    "\n",
    "In this notebook we will see how to use a pre-trained Vision Transformers (ViT) model to collect embeddings on the CIFAR-100 dataset.\n",
    "\n",
    "This notebook demonstrates:\n",
    "\n",
    "- Registering the `CIFAR-100` dataset from Hugging Face.\n",
    "- Computing image embeddings with `transformers` and reducing them to 2D with UMAP.\n",
    "- Adding the computed embeddings as metrics to a 3LC `Run`."
   ]
  },
  {
   "cell_type": "code",
   "execution_count": null,
   "id": "7c3eb7df",
   "metadata": {
    "tags": [
     "parameters"
    ]
   },
   "outputs": [],
   "source": [
    "PROJECT_NAME = \"CIFAR-100\"\n",
    "RUN_NAME = \"Collect Image Embeddings\"\n",
    "DESCRIPTION = \"Collect image embeddings from ViT model on CIFAR-100\"\n",
    "DEVICE = \"cuda:0\"\n",
    "TRAIN_DATASET_NAME = \"hf-cifar-100-train\"\n",
    "TEST_DATASET_NAME = \"hf-cifar-100-test\"\n",
    "MODEL = \"google/vit-base-patch16-224\"\n",
    "BATCH_SIZE = 32\n",
    "TLC_PUBLIC_EXAMPLES_DEVELOPER_MODE = True\n",
    "INSTALL_DEPENDENCIES = False\n"
   ]
  },
  {
   "cell_type": "code",
   "execution_count": null,
   "id": "ef8e64ac",
   "metadata": {},
   "outputs": [],
   "source": [
    "%%capture\n",
    "if INSTALL_DEPENDENCIES:\n",
    "    %pip --quiet install datasets transformers\n",
    "    %pip --quiet install torch --index-url https://download.pytorch.org/whl/cu118\n",
    "    %pip --quiet install torchvision --index-url https://download.pytorch.org/whl/cu118\n",
    "    %pip --quiet install tlc[umap]"
   ]
  },
  {
   "cell_type": "code",
   "execution_count": null,
   "id": "248315b5",
   "metadata": {},
   "outputs": [],
   "source": [
    "import logging\n",
    "\n",
    "logging.getLogger(\"transformers.modeling_utils\").setLevel(logging.ERROR)  # Reduce model loading logs"
   ]
  },
  {
   "cell_type": "code",
   "execution_count": null,
   "id": "513648d6",
   "metadata": {},
   "outputs": [],
   "source": [
    "import datasets\n",
    "\n",
    "datasets.utils.logging.disable_progress_bar()"
   ]
  },
  {
   "cell_type": "markdown",
   "id": "a6bc918f",
   "metadata": {},
   "source": [
    "## Prepare the data\n",
    "\n",
    "To read the data into 3LC, we use `tlc.Table.from_hugging_face()` available under the Hugging Face integration. This returns a `Table` that works similarly to a Hugging Face `datasets.Dataset`."
   ]
  },
  {
   "cell_type": "code",
   "execution_count": null,
   "id": "6d3c06d5",
   "metadata": {},
   "outputs": [],
   "source": [
    "import tlc"
   ]
  },
  {
   "cell_type": "code",
   "execution_count": null,
   "id": "60aed3a2",
   "metadata": {},
   "outputs": [],
   "source": [
    "cifar100_train = tlc.Table.from_hugging_face(\n",
    "    \"cifar100\",\n",
    "    split=\"train\",\n",
    "    table_name=\"hf-table\",\n",
    "    project_name=PROJECT_NAME,\n",
    "    dataset_name=TRAIN_DATASET_NAME,\n",
    "    if_exists=\"overwrite\",\n",
    ")\n",
    "\n",
    "cifar100_test = tlc.Table.from_hugging_face(\n",
    "    \"cifar100\",\n",
    "    split=\"test\",\n",
    "    table_name=\"hf-table\",\n",
    "    project_name=PROJECT_NAME,\n",
    "    dataset_name=TEST_DATASET_NAME,\n",
    "    if_exists=\"overwrite\",\n",
    ")"
   ]
  },
  {
   "cell_type": "code",
   "execution_count": null,
   "id": "481bc7db",
   "metadata": {},
   "outputs": [],
   "source": [
    "cifar100_train[0][\"img\"]"
   ]
  },
  {
   "cell_type": "markdown",
   "id": "10b31b85",
   "metadata": {},
   "source": [
    "## Compute the data\n",
    "\n",
    "We then use the `transformers` library to compute embeddings and `umap-learn` to reduce the embeddings to two dimensions. "
   ]
  },
  {
   "cell_type": "code",
   "execution_count": null,
   "id": "a1dbd303",
   "metadata": {},
   "outputs": [],
   "source": [
    "import torch\n",
    "from torch.utils.data import DataLoader\n",
    "from tqdm.auto import tqdm\n",
    "from transformers import ViTImageProcessor, ViTModel\n",
    "\n",
    "device = torch.device(DEVICE)\n",
    "feature_extractor = ViTImageProcessor.from_pretrained(MODEL)\n",
    "model = ViTModel.from_pretrained(MODEL).to(device)"
   ]
  },
  {
   "cell_type": "code",
   "execution_count": null,
   "id": "e7da88de",
   "metadata": {},
   "outputs": [],
   "source": [
    "def extract_feature(sample):\n",
    "    return feature_extractor(images=sample[\"img\"], return_tensors=\"pt\")"
   ]
  },
  {
   "cell_type": "code",
   "execution_count": null,
   "id": "13b1c00c",
   "metadata": {},
   "outputs": [],
   "source": [
    "def infer_on_dataset(dataset):\n",
    "    activations = []\n",
    "    dataloader = DataLoader(dataset, batch_size=BATCH_SIZE, shuffle=False)\n",
    "    for inputs in tqdm(dataloader, total=len(dataloader)):\n",
    "        inputs[\"pixel_values\"] = inputs[\"pixel_values\"].squeeze()\n",
    "        inputs = inputs.to(DEVICE)\n",
    "        outputs = model(**inputs)\n",
    "        activations.append(outputs.last_hidden_state[:, 0, :].detach().cpu())\n",
    "\n",
    "    return activations"
   ]
  },
  {
   "cell_type": "code",
   "execution_count": null,
   "id": "f648a637",
   "metadata": {},
   "outputs": [],
   "source": [
    "activations = []\n",
    "model.eval()\n",
    "\n",
    "for dataset in (cifar100_train, cifar100_test):\n",
    "    dataset = dataset.map(extract_feature)\n",
    "    activations.extend(infer_on_dataset(dataset))"
   ]
  },
  {
   "cell_type": "code",
   "execution_count": null,
   "id": "dc03ed43",
   "metadata": {},
   "outputs": [],
   "source": [
    "activations = torch.cat(activations).numpy()\n",
    "activations.shape"
   ]
  },
  {
   "cell_type": "code",
   "execution_count": null,
   "id": "cee3ba7e",
   "metadata": {},
   "outputs": [],
   "source": [
    "import umap\n",
    "\n",
    "reducer = umap.UMAP(n_components=2)\n",
    "embeddings_2d = reducer.fit_transform(activations)"
   ]
  },
  {
   "cell_type": "markdown",
   "id": "b10a27af",
   "metadata": {},
   "source": [
    "## Collect the embeddings as 3LC metrics\n",
    "\n",
    "In this example the metrics are contained in a `numpy.ndarray` object. We can specify the schema of this data and provide it directly to 3LC using `Run.add_metrics_data()`."
   ]
  },
  {
   "cell_type": "code",
   "execution_count": null,
   "id": "4317e961",
   "metadata": {},
   "outputs": [],
   "source": [
    "run = tlc.init(\n",
    "    project_name=PROJECT_NAME,\n",
    "    run_name=RUN_NAME,\n",
    "    description=DESCRIPTION,\n",
    "    if_exists=\"overwrite\",\n",
    ")"
   ]
  },
  {
   "cell_type": "code",
   "execution_count": null,
   "id": "a9a4b989",
   "metadata": {},
   "outputs": [],
   "source": [
    "embeddings_2d_train = embeddings_2d[:len(cifar100_train)]\n",
    "embeddings_2d_test = embeddings_2d[len(cifar100_train):]"
   ]
  },
  {
   "cell_type": "code",
   "execution_count": null,
   "id": "8d221ca8",
   "metadata": {},
   "outputs": [],
   "source": [
    "embeddings_2d_train = embeddings_2d[:len(cifar100_train)]\n",
    "embeddings_2d_test = embeddings_2d[len(cifar100_train):]"
   ]
  },
  {
   "cell_type": "code",
   "execution_count": null,
   "id": "3b036700",
   "metadata": {},
   "outputs": [],
   "source": [
    "for dataset, embeddings in ((cifar100_train, embeddings_2d_train), (cifar100_test, embeddings_2d_test)):\n",
    "    run.add_metrics_data(\n",
    "        {\"embeddings\": list(embeddings)},\n",
    "        override_column_schemas={\"embeddings\": tlc.FloatVector2Schema()},\n",
    "        input_table_url=dataset.url\n",
    "    )"
   ]
  }
 ],
 "metadata": {
  "kernelspec": {
   "display_name": ".venv",
   "language": "python",
   "name": "python3"
  },
  "language_info": {
   "codemirror_mode": {
    "name": "ipython",
    "version": 3
   },
   "file_extension": ".py",
   "mimetype": "text/x-python",
   "name": "python",
   "nbconvert_exporter": "python",
   "pygments_lexer": "ipython3",
   "version": "3.8.10"
  }
 },
 "nbformat": 4,
 "nbformat_minor": 5
}
