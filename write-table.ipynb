{
 "cells": [
  {
   "cell_type": "markdown",
   "metadata": {},
   "source": [
    "# Write Table From Scratch"
   ]
  },
  {
   "cell_type": "code",
   "execution_count": null,
   "metadata": {},
   "outputs": [],
   "source": [
    "import tlc\n",
    "\n",
    "PROJECT_NAME = \"Write Table Sample\"\n",
    "DATASET_NAME = \"Cat Images\"\n",
    "TABLE_NAME = \"My Table\"\n",
    "\n",
    "root_url = tlc.Table.default_write_location() / PROJECT_NAME\n",
    "table_writer = tlc.TableWriter(\n",
    "    root_url=root_url,\n",
    "    table_name=TABLE_NAME,\n",
    "    dataset_name=DATASET_NAME,\n",
    "    project_name=PROJECT_NAME,\n",
    ")"
   ]
  },
  {
   "cell_type": "code",
   "execution_count": null,
   "metadata": {},
   "outputs": [],
   "source": [
    "# Helper function for creating bounding boxes\n",
    "import random\n",
    "\n",
    "MAX_LABEL = 10  # Define the maximum label value\n",
    "\n",
    "def create_dummy_bounding_box():\n",
    "    # Generate random center (x0, y0) and size (x1, y1) for the bounding box\n",
    "    # This is yolo format: [label, x0, y0, x1, y1]\n",
    "    x0, y0 = random.uniform(0.1, 0.9), random.uniform(0.1, 0.9)\n",
    "    x1, y1 = random.uniform(0.05, 0.2), random.uniform(0.05, 0.2)\n",
    "    \n",
    "    # Generate a random label\n",
    "    label = random.randint(0, MAX_LABEL)\n",
    "\n",
    "    return {\"x0\": x0, \"y0\": y0, \"x1\": x1, \"y1\": y1, \"label\": label}\n",
    "\n",
    "def create_dummy_bounding_boxes():\n",
    "    # Generate a random number of bounding boxes between 3 and 5\n",
    "    num_boxes = random.randint(3, 5)\n",
    "    bounding_boxes = [create_dummy_bounding_box() for _ in range(num_boxes)]\n",
    "\n",
    "    # Update image dimensions\n",
    "    image_height = random.randint(100, 500)\n",
    "    image_width = random.randint(100, 500)\n",
    "\n",
    "    return {\"image_height\": image_height, \"image_width\": image_width, \"bb_list\": bounding_boxes}\n"
   ]
  },
  {
   "cell_type": "code",
   "execution_count": null,
   "metadata": {},
   "outputs": [],
   "source": [
    "# Create table row by row\n",
    "# Our table will contain four rows. Each row will have two columns: a image, and a bounding box.\n",
    "table_rows = {\n",
    "    \"image\": [],\n",
    "    \"bounding_boxes\": []\n",
    "}\n",
    "\n",
    "for i in range(4):\n",
    "    table_rows[\"image\"].append(f\"image_{i}.jpg\")\n",
    "    bounding_boxes = create_dummy_bounding_boxes()\n",
    "    table_rows[\"bounding_boxes\"].append(bounding_boxes)"
   ]
  },
  {
   "cell_type": "code",
   "execution_count": null,
   "metadata": {},
   "outputs": [],
   "source": [
    "bb_schema = tlc.BoundingBoxListSchema(\n",
    "    label_value_map={float(i): tlc.MapElement(f\"label_{i}\") for i in range(MAX_LABEL + 1)},\n",
    "    x0_number_role=tlc.NUMBER_ROLE_BB_CENTER_X,\n",
    "    y0_number_role=tlc.NUMBER_ROLE_BB_CENTER_Y,\n",
    "    x1_number_role=tlc.NUMBER_ROLE_BB_SIZE_X,\n",
    "    y1_number_role=tlc.NUMBER_ROLE_BB_SIZE_Y,\n",
    "    x0_unit=\"relative\",\n",
    "    y0_unit=\"relative\",\n",
    "    x1_unit=\"relative\",\n",
    "    y1_unit=\"relative\",\n",
    "    include_segmentation=False,\n",
    ")\n",
    "\n",
    "schemas = {\n",
    "    \"image\": tlc.Schema(value=tlc.StringValue(tlc.STRING_ROLE_IMAGE_URL)),\n",
    "    \"bounding_boxes\": bb_schema\n",
    "}\n",
    "\n",
    "table_writer.set_override_column_schemas(override_column_schemas=schemas)"
   ]
  },
  {
   "cell_type": "code",
   "execution_count": null,
   "metadata": {},
   "outputs": [],
   "source": [
    "table_writer.add_batch(table_rows)\n",
    "table_writer.flush()"
   ]
  },
  {
   "cell_type": "code",
   "execution_count": null,
   "metadata": {},
   "outputs": [],
   "source": [
    "infos = table_writer.get_written_table_infos()\n",
    "print(infos)"
   ]
  },
  {
   "cell_type": "code",
   "execution_count": null,
   "metadata": {},
   "outputs": [],
   "source": [
    "t = tlc.Table.from_url(infos[0][\"url\"])\n",
    "t[0]"
   ]
  }
 ],
 "metadata": {
  "kernelspec": {
   "display_name": ".venv",
   "language": "python",
   "name": "python3"
  },
  "language_info": {
   "codemirror_mode": {
    "name": "ipython",
    "version": 3
   },
   "file_extension": ".py",
   "mimetype": "text/x-python",
   "name": "python",
   "nbconvert_exporter": "python",
   "pygments_lexer": "ipython3",
   "version": "3.8.7"
  }
 },
 "nbformat": 4,
 "nbformat_minor": 2
}
