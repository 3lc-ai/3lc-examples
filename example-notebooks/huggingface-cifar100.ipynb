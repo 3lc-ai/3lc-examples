{
 "cells": [
  {
   "cell_type": "markdown",
   "id": "cc27e3e7",
   "metadata": {},
   "source": [
    "# Hugging Face CIFAR-100 Embeddings Example"
   ]
  },
  {
   "cell_type": "markdown",
   "id": "66cd36c0",
   "metadata": {},
   "source": [
    "<div style=\"display: inline-flex; align-items: center; gap: 10px;\">\n",
    "        <a href=\"https://colab.research.google.com/github/3lc-ai/3lc-examples/blob/main/example-notebooks/huggingface-cifar100.ipynb\"\n",
    "        target=\"_blank\"\n",
    "            style=\"background-color: transparent; text-decoration: none; display: inline-flex; align-items: center;\n",
    "            padding: 5px 10px; font-family: Arial, sans-serif;\"> <img\n",
    "            src=\"https://colab.research.google.com/assets/colab-badge.svg\" alt=\"Open In Colab\" style=\"height: 30px;\n",
    "            vertical-align: middle;box-shadow: none;\"/>\n",
    "        </a> <a href=\"https://github.com/3lc-ai/3lc-examples/blob/main/example-notebooks/huggingface-cifar100.ipynb\"\n",
    "            style=\"text-decoration: none; display: inline-flex; align-items: center; background-color: #ffffff; border:\n",
    "            1px solid #d1d5da; border-radius: 8px; padding: 2px 10px; color: #333; font-family: Arial, sans-serif;\">\n",
    "            <svg aria-hidden=\"true\" focusable=\"false\" role=\"img\" class=\"octicon octicon-mark-github\" viewBox=\"0 0 16 16\"\n",
    "            width=\"20\" height=\"20\" fill=\"#333\"\n",
    "            style=\"display:inline-block;user-select:none;vertical-align:text-bottom;overflow:visible; margin-right:\n",
    "            8px;\">\n",
    "                <path d=\"M8 0c4.42 0 8 3.58 8 8a8.013 8.013 0 0 1-5.45 7.59c-.4.08-.55-.17-.55-.38 0-.27.01-1.13.01-2.2\n",
    "                0-.75-.25-1.23-.54-1.48 1.78-.2 3.65-.88 3.65-3.95 0-.88-.31-1.59-.82-2.15.08-.2.36-1.02-.08-2.12 0\n",
    "                0-.67-.22-2.2.82-.64-.18-1.32-.27-2-.27-.68 0-1.36.09-2 .27-1.53-1.03-2.2-.82-2.2-.82-.44 1.1-.16\n",
    "                1.92-.08 2.12-.51.56-.82 1.28-.82 2.15 0 3.06 1.86 3.75 3.64 3.95-.23.2-.44.55-.51\n",
    "                1.07-.46.21-1.61.55-2.33-.66-.15-.24-.6-.83-1.23-.82-.67.01-.27.38.01.53.34.19.73.9.82 1.13.16.45.68\n",
    "                1.31 2.69.94 0 .67.01 1.3.01 1.49 0 .21-.15.45-.55.38A7.995 7.995 0 0 1 0 8c0-4.42 3.58-8 8-8Z\"></path>\n",
    "            </svg> <span style=\"vertical-align: middle; color: #333;\">Open in GitHub</span>\n",
    "        </a>\n",
    "</div>"
   ]
  },
  {
   "cell_type": "markdown",
   "id": "b77805ee",
   "metadata": {},
   "source": [
    "In this notebook we will see how to use a pre-trained Vision Transformers (ViT) model to collect embeddings on the CIFAR-100 dataset.\n",
    "\n",
    "This notebook demonstrates:\n",
    "\n",
    "- Registering the `CIFAR-100` dataset from Hugging Face.\n",
    "- Computing image embeddings with `transformers` and reducing them to 2D with UMAP.\n",
    "- Adding the computed embeddings as metrics to a 3LC `Run`."
   ]
  },
  {
   "cell_type": "markdown",
   "id": "f6bc91fc",
   "metadata": {},
   "source": [
    "## Project Setup"
   ]
  },
  {
   "cell_type": "code",
   "execution_count": null,
   "id": "7c3eb7df",
   "metadata": {
    "tags": [
     "parameters"
    ]
   },
   "outputs": [],
   "source": [
    "PROJECT_NAME = \"CIFAR-100\"\n",
    "RUN_NAME = \"Collect Image Embeddings\"\n",
    "DESCRIPTION = \"Collect image embeddings from ViT model on CIFAR-100\"\n",
    "DEVICE = None\n",
    "TRAIN_DATASET_NAME = \"hf-cifar-100-train\"\n",
    "TEST_DATASET_NAME = \"hf-cifar-100-test\"\n",
    "MODEL = \"google/vit-base-patch16-224\"\n",
    "BATCH_SIZE = 32\n",
    "TRANSIENT_DATA_PATH = \"../transient_data\"\n",
    "TLC_PUBLIC_EXAMPLES_DEVELOPER_MODE = True\n",
    "INSTALL_DEPENDENCIES = False"
   ]
  },
  {
   "cell_type": "code",
   "execution_count": null,
   "id": "ef8e64ac",
   "metadata": {},
   "outputs": [],
   "source": [
    "%%capture\n",
    "if INSTALL_DEPENDENCIES:\n",
    "    %pip --quiet install torch --index-url https://download.pytorch.org/whl/cu118\n",
    "    %pip --quiet install torchvision --index-url https://download.pytorch.org/whl/cu118\n",
    "    %pip --quiet install 3lc[umap,huggingface]"
   ]
  },
  {
   "cell_type": "markdown",
   "id": "bd11a640",
   "metadata": {},
   "source": [
    "## Imports"
   ]
  },
  {
   "cell_type": "code",
   "execution_count": null,
   "id": "248315b5",
   "metadata": {},
   "outputs": [],
   "source": [
    "import logging\n",
    "\n",
    "import datasets\n",
    "\n",
    "import tlc\n",
    "\n",
    "logging.getLogger(\"transformers.modeling_utils\").setLevel(logging.ERROR)  # Reduce model loading logs\n",
    "datasets.utils.logging.disable_progress_bar()"
   ]
  },
  {
   "cell_type": "markdown",
   "id": "a6bc918f",
   "metadata": {},
   "source": [
    "## Prepare the data\n",
    "\n",
    "To read the data into 3LC, we use `tlc.Table.from_hugging_face()` available under the Hugging Face integration. This returns a `Table` that works similarly to a Hugging Face `datasets.Dataset`."
   ]
  },
  {
   "cell_type": "code",
   "execution_count": null,
   "id": "60aed3a2",
   "metadata": {},
   "outputs": [],
   "source": [
    "cifar100_train = tlc.Table.from_hugging_face(\n",
    "    \"cifar100\",\n",
    "    split=\"train\",\n",
    "    table_name=\"train\",\n",
    "    project_name=PROJECT_NAME,\n",
    "    dataset_name=TRAIN_DATASET_NAME,\n",
    "    description=\"CIFAR-100 training dataset\",\n",
    "    if_exists=\"overwrite\",\n",
    ")\n",
    "\n",
    "cifar100_test = tlc.Table.from_hugging_face(\n",
    "    \"cifar100\",\n",
    "    split=\"test\",\n",
    "    table_name=\"test\",\n",
    "    project_name=PROJECT_NAME,\n",
    "    dataset_name=TEST_DATASET_NAME,\n",
    "    description=\"CIFAR-100 test dataset\",\n",
    "    if_exists=\"overwrite\",\n",
    ")"
   ]
  },
  {
   "cell_type": "code",
   "execution_count": null,
   "id": "481bc7db",
   "metadata": {},
   "outputs": [],
   "source": [
    "cifar100_train[0][\"img\"]"
   ]
  },
  {
   "cell_type": "markdown",
   "id": "10b31b85",
   "metadata": {},
   "source": [
    "## Compute the data\n",
    "\n",
    "We then use the `transformers` library to compute embeddings and `umap-learn` to reduce the embeddings to two dimensions. "
   ]
  },
  {
   "cell_type": "code",
   "execution_count": null,
   "id": "a1dbd303",
   "metadata": {},
   "outputs": [],
   "source": [
    "import torch\n",
    "from torch.utils.data import DataLoader\n",
    "from tqdm.auto import tqdm\n",
    "from transformers import ViTImageProcessor, ViTModel\n",
    "\n",
    "if DEVICE is None:\n",
    "    if torch.cuda.is_available():\n",
    "        device = \"cuda:0\"\n",
    "    elif torch.backends.mps.is_available():\n",
    "        device = \"mps\"\n",
    "    else:\n",
    "        device = \"cpu\"\n",
    "else:\n",
    "    device = DEVICE\n",
    "\n",
    "device = torch.device(device)\n",
    "print(f\"Using device: {device}\")"
   ]
  },
  {
   "cell_type": "code",
   "execution_count": null,
   "id": "a4f0ee36",
   "metadata": {},
   "outputs": [],
   "source": [
    "feature_extractor = ViTImageProcessor.from_pretrained(MODEL)\n",
    "model = ViTModel.from_pretrained(MODEL).to(device)"
   ]
  },
  {
   "cell_type": "code",
   "execution_count": null,
   "id": "e7da88de",
   "metadata": {},
   "outputs": [],
   "source": [
    "def extract_feature(sample):\n",
    "    return feature_extractor(images=sample[\"img\"], return_tensors=\"pt\")"
   ]
  },
  {
   "cell_type": "code",
   "execution_count": null,
   "id": "13b1c00c",
   "metadata": {},
   "outputs": [],
   "source": [
    "def infer_on_dataset(dataset):\n",
    "    activations = []\n",
    "    dataloader = DataLoader(dataset, batch_size=BATCH_SIZE, shuffle=False)\n",
    "    for inputs in tqdm(dataloader, total=len(dataloader)):\n",
    "        inputs[\"pixel_values\"] = inputs[\"pixel_values\"].squeeze()\n",
    "        inputs = inputs.to(DEVICE)\n",
    "        outputs = model(**inputs)\n",
    "        activations.append(outputs.last_hidden_state[:, 0, :].detach().cpu())\n",
    "\n",
    "    return activations"
   ]
  },
  {
   "cell_type": "code",
   "execution_count": null,
   "id": "f648a637",
   "metadata": {},
   "outputs": [],
   "source": [
    "activations = []\n",
    "model.eval()\n",
    "\n",
    "for dataset in (cifar100_train, cifar100_test):\n",
    "    dataset = dataset.map(extract_feature)\n",
    "    activations.extend(infer_on_dataset(dataset))"
   ]
  },
  {
   "cell_type": "code",
   "execution_count": null,
   "id": "dc03ed43",
   "metadata": {},
   "outputs": [],
   "source": [
    "activations = torch.cat(activations).numpy()\n",
    "activations.shape"
   ]
  },
  {
   "cell_type": "code",
   "execution_count": null,
   "id": "cee3ba7e",
   "metadata": {},
   "outputs": [],
   "source": [
    "import umap\n",
    "\n",
    "reducer = umap.UMAP(n_components=2)\n",
    "embeddings_2d = reducer.fit_transform(activations)"
   ]
  },
  {
   "cell_type": "markdown",
   "id": "b10a27af",
   "metadata": {},
   "source": [
    "## Collect the embeddings as 3LC metrics\n",
    "\n",
    "In this example the metrics are contained in a `numpy.ndarray` object. We can specify the schema of this data and provide it directly to 3LC using `Run.add_metrics()`."
   ]
  },
  {
   "cell_type": "code",
   "execution_count": null,
   "id": "4317e961",
   "metadata": {},
   "outputs": [],
   "source": [
    "run = tlc.init(\n",
    "    project_name=PROJECT_NAME,\n",
    "    run_name=RUN_NAME,\n",
    "    description=DESCRIPTION,\n",
    "    if_exists=\"overwrite\",\n",
    ")"
   ]
  },
  {
   "cell_type": "code",
   "execution_count": null,
   "id": "a9a4b989",
   "metadata": {},
   "outputs": [],
   "source": [
    "embeddings_2d_train = embeddings_2d[: len(cifar100_train)]\n",
    "embeddings_2d_test = embeddings_2d[len(cifar100_train) :]"
   ]
  },
  {
   "cell_type": "code",
   "execution_count": null,
   "id": "8d221ca8",
   "metadata": {},
   "outputs": [],
   "source": [
    "embeddings_2d_train = embeddings_2d[: len(cifar100_train)]\n",
    "embeddings_2d_test = embeddings_2d[len(cifar100_train) :]"
   ]
  },
  {
   "cell_type": "code",
   "execution_count": null,
   "id": "3b036700",
   "metadata": {},
   "outputs": [],
   "source": [
    "for dataset, embeddings in ((cifar100_train, embeddings_2d_train), (cifar100_test, embeddings_2d_test)):\n",
    "    run.add_metrics(\n",
    "        {\"embeddings\": list(embeddings)},\n",
    "        column_schemas={\"embeddings\": tlc.FloatVector2Schema()},\n",
    "        foreign_table_url=dataset.url,\n",
    "    )"
   ]
  },
  {
   "cell_type": "code",
   "execution_count": null,
   "id": "9a88857d",
   "metadata": {},
   "outputs": [],
   "source": [
    "run.set_status_completed()"
   ]
  }
 ],
 "metadata": {
  "kernelspec": {
   "display_name": ".venv",
   "language": "python",
   "name": "python3"
  },
  "language_info": {
   "codemirror_mode": {
    "name": "ipython",
    "version": 3
   },
   "file_extension": ".py",
   "mimetype": "text/x-python",
   "name": "python",
   "nbconvert_exporter": "python",
   "pygments_lexer": "ipython3",
   "version": "3.9.13"
  }
 },
 "nbformat": 4,
 "nbformat_minor": 5
}
