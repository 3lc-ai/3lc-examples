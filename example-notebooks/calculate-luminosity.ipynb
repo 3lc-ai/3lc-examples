{
 "cells": [
  {
   "cell_type": "markdown",
   "id": "a4f590f1",
   "metadata": {},
   "source": [
    "# Per Bounding Box Luminosity Calculation"
   ]
  },
  {
   "cell_type": "markdown",
   "id": "34e307fa",
   "metadata": {},
   "source": [
    "<div style=\"display: inline-flex; align-items: center; gap: 10px;\">\n",
    "        <a href=\"https://colab.research.google.com/github/3lc-ai/3lc-examples/blob/main/example-notebooks/calculate-luminosity.ipynb\"\n",
    "        target=\"_blank\"\n",
    "            style=\"background-color: transparent; text-decoration: none; display: inline-flex; align-items: center;\n",
    "            padding: 5px 10px; font-family: Arial, sans-serif;\"> <img\n",
    "            src=\"https://colab.research.google.com/assets/colab-badge.svg\" alt=\"Open In Colab\" style=\"height: 30px;\n",
    "            vertical-align: middle;box-shadow: none;\"/>\n",
    "        </a> <a href=\"https://github.com/3lc-ai/3lc-examples/blob/main/example-notebooks/calculate-luminosity.ipynb\"\n",
    "            style=\"text-decoration: none; display: inline-flex; align-items: center; background-color: #ffffff; border:\n",
    "            1px solid #d1d5da; border-radius: 8px; padding: 2px 10px; color: #333; font-family: Arial, sans-serif;\">\n",
    "            <svg aria-hidden=\"true\" focusable=\"false\" role=\"img\" class=\"octicon octicon-mark-github\" viewBox=\"0 0 16 16\"\n",
    "            width=\"20\" height=\"20\" fill=\"#333\"\n",
    "            style=\"display:inline-block;user-select:none;vertical-align:text-bottom;overflow:visible; margin-right:\n",
    "            8px;\">\n",
    "                <path d=\"M8 0c4.42 0 8 3.58 8 8a8.013 8.013 0 0 1-5.45 7.59c-.4.08-.55-.17-.55-.38 0-.27.01-1.13.01-2.2\n",
    "                0-.75-.25-1.23-.54-1.48 1.78-.2 3.65-.88 3.65-3.95 0-.88-.31-1.59-.82-2.15.08-.2.36-1.02-.08-2.12 0\n",
    "                0-.67-.22-2.2.82-.64-.18-1.32-.27-2-.27-.68 0-1.36.09-2 .27-1.53-1.03-2.2-.82-2.2-.82-.44 1.1-.16\n",
    "                1.92-.08 2.12-.51.56-.82 1.28-.82 2.15 0 3.06 1.86 3.75 3.64 3.95-.23.2-.44.55-.51\n",
    "                1.07-.46.21-1.61.55-2.33-.66-.15-.24-.6-.83-1.23-.82-.67.01-.27.38.01.53.34.19.73.9.82 1.13.16.45.68\n",
    "                1.31 2.69.94 0 .67.01 1.3.01 1.49 0 .21-.15.45-.55.38A7.995 7.995 0 0 1 0 8c0-4.42 3.58-8 8-8Z\"></path>\n",
    "            </svg> <span style=\"vertical-align: middle; color: #333;\">Open in GitHub</span>\n",
    "        </a>\n",
    "</div>"
   ]
  },
  {
   "cell_type": "markdown",
   "id": "e3117fdc",
   "metadata": {},
   "source": [
    "This notebook demonstrates how to calculate the luminosity of images and their respective bounding boxes.\n",
    "We will write a new table combining the columns of the input table with the calculated luminosity properties.\n"
   ]
  },
  {
   "cell_type": "markdown",
   "id": "ed65b775",
   "metadata": {},
   "source": [
    "## Project Setup"
   ]
  },
  {
   "cell_type": "code",
   "execution_count": null,
   "id": "022adfc7",
   "metadata": {
    "tags": [
     "parameters"
    ]
   },
   "outputs": [],
   "source": [
    "PROJECT_NAME = \"Luminosity\"\n",
    "DATASET_NAME = \"COCO128\"\n",
    "TEST_DATA_PATH = \"./data\"\n",
    "TLC_PUBLIC_EXAMPLES_DEVELOPER_MODE = True\n",
    "INSTALL_DEPENDENCIES = False"
   ]
  },
  {
   "cell_type": "code",
   "execution_count": null,
   "id": "cdfaeb1e",
   "metadata": {},
   "outputs": [],
   "source": [
    "%%capture\n",
    "if INSTALL_DEPENDENCIES:\n",
    "    %pip --quiet install torch --index-url https://download.pytorch.org/whl/cu118\n",
    "    %pip --quiet install torchvision --index-url https://download.pytorch.org/whl/cu118\n",
    "    %pip --quiet install 3lc"
   ]
  },
  {
   "cell_type": "markdown",
   "id": "27f8878d",
   "metadata": {},
   "source": [
    "## Imports"
   ]
  },
  {
   "cell_type": "code",
   "execution_count": null,
   "id": "3d5dd222",
   "metadata": {},
   "outputs": [],
   "source": [
    "from __future__ import annotations\n",
    "\n",
    "from io import BytesIO\n",
    "\n",
    "import numpy as np\n",
    "import tqdm\n",
    "from PIL import Image\n",
    "\n",
    "import tlc"
   ]
  },
  {
   "cell_type": "markdown",
   "id": "3e40273b",
   "metadata": {},
   "source": [
    "## Set Up Input Table\n",
    "\n",
    "We will use a `TableFromCoco` to load the input dataset from a annotations file and a folder of images."
   ]
  },
  {
   "cell_type": "code",
   "execution_count": null,
   "id": "9459d259",
   "metadata": {},
   "outputs": [],
   "source": [
    "table_url = tlc.Url.create_table_url(\n",
    "    project_name=PROJECT_NAME,\n",
    "    dataset_name=DATASET_NAME,\n",
    "    table_name=\"table_from_coco\",\n",
    ")\n",
    "\n",
    "annotations_file = tlc.Url(TEST_DATA_PATH + \"/coco128/annotations.json\").to_absolute()\n",
    "images_dir = tlc.Url(TEST_DATA_PATH + \"/coco128/images\").to_absolute()\n",
    "\n",
    "input_table = tlc.Table.from_coco(\n",
    "    table_url=table_url,\n",
    "    annotations_file=annotations_file,\n",
    "    image_folder=images_dir,\n",
    "    description=\"COCO 128 dataset\",\n",
    "    if_exists=\"overwrite\",\n",
    ")\n",
    "\n",
    "input_table.ensure_fully_defined()"
   ]
  },
  {
   "cell_type": "markdown",
   "id": "56c66b6b",
   "metadata": {},
   "source": [
    "## Calculate the Luminosity of Images and Bounding Boxes\n",
    "\n",
    "In this section, we will calculate the luminosity property for each image as well as for each bounding box within the images.\n",
    "\n",
    "We build the variables `per_image_luminosity` and `per_bb_luminosity` to store the luminosity properties for each image and bounding box, respectively."
   ]
  },
  {
   "cell_type": "code",
   "execution_count": null,
   "id": "fbc6b91c",
   "metadata": {},
   "outputs": [],
   "source": [
    "def calculate_luminosity(image: Image) -> float:\n",
    "    np_image = np.array(image)\n",
    "    axes_to_reduce = tuple(range(np_image.ndim - 1))\n",
    "    avg_luminosity = np.mean(np_image, axis=axes_to_reduce) / 255.0\n",
    "    return float(np.mean(avg_luminosity))"
   ]
  },
  {
   "cell_type": "code",
   "execution_count": null,
   "id": "2ea0c0c7",
   "metadata": {},
   "outputs": [],
   "source": [
    "per_bb_luminosity: list[list[float]] = []\n",
    "per_image_luminosity: list[float] = []\n",
    "\n",
    "bb_schema = input_table.row_schema.values[\"bbs\"].values[\"bb_list\"]\n",
    "\n",
    "for row in tqdm.tqdm(input_table, total=len(input_table), desc=\"Calculating luminosity\"):\n",
    "    image_filename = row[\"image\"]\n",
    "    image_bbs = row[\"bbs\"][\"bb_list\"]\n",
    "\n",
    "    image_bytes = tlc.Url(image_filename).read()\n",
    "    image = Image.open(BytesIO(image_bytes))\n",
    "\n",
    "    image_luminosity = calculate_luminosity(image)\n",
    "    per_image_luminosity.append(image_luminosity)\n",
    "\n",
    "    bb_luminosity_list: list[float] = []\n",
    "    h, w = image.size\n",
    "\n",
    "    for bb in image_bbs:\n",
    "        bb_crop = tlc.BBCropInterface.crop(image, bb, bb_schema)\n",
    "        bb_luminosity = calculate_luminosity(bb_crop)\n",
    "        bb_luminosity_list.append(bb_luminosity)\n",
    "\n",
    "    per_bb_luminosity.append(bb_luminosity_list)"
   ]
  },
  {
   "cell_type": "markdown",
   "id": "e3004d7e",
   "metadata": {},
   "source": [
    "## Create new Table containing luminosity properties\n",
    "\n",
    "After calculating the luminosity, we will create a new table using a `TableWriter`.\n",
    "\n",
    "### Setup the Schema of the output Table"
   ]
  },
  {
   "cell_type": "code",
   "execution_count": null,
   "id": "f64fe5ba",
   "metadata": {},
   "outputs": [],
   "source": [
    "# Each entry in the list is a list of luminosity values for each bounding box in the image\n",
    "per_bb_luminosity_schema = tlc.Schema(\n",
    "    value=tlc.Float32Value(\n",
    "        value_min=0,\n",
    "        value_max=1,\n",
    "        number_role=tlc.NUMBER_ROLE_FRACTION,\n",
    "    ),\n",
    "    size0=tlc.DimensionNumericValue(value_min=0, value_max=1000),  # Max 1000 bounding boxes\n",
    "    sample_type=\"hidden\",  # Hide this column when iterating over the \"sample view\" of the table\n",
    "    writable=False,\n",
    ")\n",
    "\n",
    "per_image_luminosity_schema = tlc.Schema(\n",
    "    value=tlc.Float32Value(\n",
    "        value_min=0,\n",
    "        value_max=1,\n",
    "        number_role=tlc.NUMBER_ROLE_FRACTION,\n",
    "    ),\n",
    "    sample_type=\"hidden\",  # Hide this column when iterating over the \"sample view\" of the table\n",
    "    writable=False,\n",
    ")\n",
    "\n",
    "schemas = {\n",
    "    \"per_bb_luminosity\": per_bb_luminosity_schema,\n",
    "    \"per_image_luminosity\": per_image_luminosity_schema,\n",
    "}\n",
    "schemas.update(input_table.row_schema.values)  # Copy over the schema from the input table"
   ]
  },
  {
   "cell_type": "markdown",
   "id": "1bbf858f",
   "metadata": {},
   "source": [
    "### Write the output Table\n",
    "\n",
    "We will use a `TableWriter` to write the output table as a `TableFromParquet`."
   ]
  },
  {
   "cell_type": "code",
   "execution_count": null,
   "id": "6849894a",
   "metadata": {},
   "outputs": [],
   "source": [
    "from collections import defaultdict\n",
    "\n",
    "table_writer = tlc.TableWriter(\n",
    "    project_name=PROJECT_NAME,\n",
    "    dataset_name=DATASET_NAME,\n",
    "    description=\"Table with added per-bb luminosity metrics\",\n",
    "    table_name=\"added_luminosity_metrics\",\n",
    "    column_schemas=schemas,\n",
    "    if_exists=\"overwrite\",\n",
    "    input_tables=[input_table.url],\n",
    ")\n",
    "\n",
    "# TableWriter accepts data as a dictionary of column names to lists\n",
    "data = defaultdict(list)\n",
    "\n",
    "# Copy over all rows from the input table\n",
    "for row in input_table.table_rows:\n",
    "    for column_name, column_value in row.items():\n",
    "        data[column_name].append(column_value)\n",
    "\n",
    "# Add the luminosity metrics\n",
    "data[\"per_image_luminosity\"] = per_image_luminosity\n",
    "data[\"per_bb_luminosity\"] = per_bb_luminosity\n",
    "\n",
    "table_writer.add_batch(data)\n",
    "new_table = table_writer.finalize()"
   ]
  },
  {
   "cell_type": "markdown",
   "id": "043d61ac",
   "metadata": {},
   "source": [
    "### Inspect the properties of the output Table"
   ]
  },
  {
   "cell_type": "code",
   "execution_count": null,
   "id": "0efeea84",
   "metadata": {},
   "outputs": [],
   "source": [
    "print(len(new_table))\n",
    "print(new_table.columns)\n",
    "print(new_table.url.to_relative(input_table.url))"
   ]
  },
  {
   "cell_type": "markdown",
   "id": "b5238991",
   "metadata": {},
   "source": [
    "Let's check which columns are present in the sample view / table view of the input and output tables:"
   ]
  },
  {
   "cell_type": "code",
   "execution_count": null,
   "id": "fc5fea94",
   "metadata": {},
   "outputs": [],
   "source": [
    "# Sample view of input table\n",
    "input_table[0].keys()"
   ]
  },
  {
   "cell_type": "code",
   "execution_count": null,
   "id": "c7edf21f",
   "metadata": {},
   "outputs": [],
   "source": [
    "# Table view of input table\n",
    "input_table.table_rows[0].keys()"
   ]
  },
  {
   "cell_type": "code",
   "execution_count": null,
   "id": "90402652",
   "metadata": {},
   "outputs": [],
   "source": [
    "# Sample view of output table (does not contain the luminosity columns due to the sample_type=\"hidden\" flag)\n",
    "new_table[0].keys()"
   ]
  },
  {
   "cell_type": "code",
   "execution_count": null,
   "id": "892beace",
   "metadata": {},
   "outputs": [],
   "source": [
    "# Table view of output table (contains the luminosity columns)\n",
    "new_table.table_rows[0].keys()"
   ]
  }
 ],
 "metadata": {
  "kernelspec": {
   "display_name": ".venv",
   "language": "python",
   "name": "python3"
  },
  "language_info": {
   "codemirror_mode": {
    "name": "ipython",
    "version": 3
   },
   "file_extension": ".py",
   "mimetype": "text/x-python",
   "name": "python",
   "nbconvert_exporter": "python",
   "pygments_lexer": "ipython3",
   "version": "3.8.10"
  }
 },
 "nbformat": 4,
 "nbformat_minor": 5
}
