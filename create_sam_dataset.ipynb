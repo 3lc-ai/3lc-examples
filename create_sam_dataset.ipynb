{
 "cells": [
  {
   "cell_type": "markdown",
   "id": "7ed17c1d",
   "metadata": {},
   "source": [
    "# Create a SAM-ready 3LC Table using TableWriter"
   ]
  },
  {
   "cell_type": "markdown",
   "id": "602707dc",
   "metadata": {},
   "source": [
    "<div style=\"display: inline-flex; align-items: center; gap: 10px;\">\n",
    "        <a href=\"https://colab.research.google.com/github/3lc-ai/notebook-examples/blob/main/create_sam_dataset.ipynb\"\n",
    "        target=\"_blank\"\n",
    "            style=\"background-color: transparent; text-decoration: none; display: inline-flex; align-items: center;\n",
    "            padding: 5px 10px; font-family: Arial, sans-serif;\"> <img\n",
    "            src=\"https://colab.research.google.com/assets/colab-badge.svg\" alt=\"Open In Colab\" style=\"height: 30px;\n",
    "            vertical-align: middle;box-shadow: none;\"/>\n",
    "        </a> <a href=\"https://github.com/3lc-ai/notebook-examples/blob/main/create_sam_dataset.ipynb\"\n",
    "            style=\"text-decoration: none; display: inline-flex; align-items: center; background-color: #ffffff; border:\n",
    "            1px solid #d1d5da; border-radius: 8px; padding: 2px 10px; color: #333; font-family: Arial, sans-serif;\">\n",
    "            <svg aria-hidden=\"true\" focusable=\"false\" role=\"img\" class=\"octicon octicon-mark-github\" viewBox=\"0 0 16 16\"\n",
    "            width=\"20\" height=\"20\" fill=\"#333\"\n",
    "            style=\"display:inline-block;user-select:none;vertical-align:text-bottom;overflow:visible; margin-right:\n",
    "            8px;\">\n",
    "                <path d=\"M8 0c4.42 0 8 3.58 8 8a8.013 8.013 0 0 1-5.45 7.59c-.4.08-.55-.17-.55-.38 0-.27.01-1.13.01-2.2\n",
    "                0-.75-.25-1.23-.54-1.48 1.78-.2 3.65-.88 3.65-3.95 0-.88-.31-1.59-.82-2.15.08-.2.36-1.02-.08-2.12 0\n",
    "                0-.67-.22-2.2.82-.64-.18-1.32-.27-2-.27-.68 0-1.36.09-2 .27-1.53-1.03-2.2-.82-2.2-.82-.44 1.1-.16\n",
    "                1.92-.08 2.12-.51.56-.82 1.28-.82 2.15 0 3.06 1.86 3.75 3.64 3.95-.23.2-.44.55-.51\n",
    "                1.07-.46.21-1.61.55-2.33-.66-.15-.24-.6-.83-1.23-.82-.67.01-.27.38.01.53.34.19.73.9.82 1.13.16.45.68\n",
    "                1.31 2.69.94 0 .67.01 1.3.01 1.49 0 .21-.15.45-.55.38A7.995 7.995 0 0 1 0 8c0-4.42 3.58-8 8-8Z\"></path>\n",
    "            </svg> <span style=\"vertical-align: middle; color: #333;\">Open in GitHub</span>\n",
    "        </a>\n",
    "</div>"
   ]
  },
  {
   "cell_type": "markdown",
   "id": "f5f5dcdc",
   "metadata": {},
   "source": [
    "This notebook is a pre-requisite for running the `fine-tune-sam.ipynb` notebook, and is a modified version of the official colab tutorial from Encord which can be found [here](https://colab.research.google.com/drive/1F6uRommb3GswcRlPZWpkAQRMVNdVH7Ww).\n",
    "\n",
    "It demonstrates how you can manually create a 3LC Table by iteratively adding its rows. By using a 3LC Table, as opposed to some other data format, you will be able to view and edit the samples of the dataset in the 3LC Dashboard. The Table created can be used to fine-tune Segment Anything Model (SAM), and is created from the Stamp Verification (StaVer) dataset on kaggle."
   ]
  },
  {
   "cell_type": "code",
   "execution_count": null,
   "id": "f16f2a60",
   "metadata": {},
   "outputs": [],
   "source": [
    "# Parameters\n",
    "PROJECT_NAME = \"SAM Example\"\n",
    "DATASET_NAME = \"staver-dataset\"\n",
    "STAVER_DATASET_PATH = \"stamp-verification-staver-dataset\"  # Path to the dataset\n",
    "INSTALL_DEPENDENCIES = False"
   ]
  },
  {
   "cell_type": "code",
   "execution_count": null,
   "id": "f3e4e1f0",
   "metadata": {},
   "outputs": [],
   "source": [
    "%%capture\n",
    "if INSTALL_DEPENDENCIES:\n",
    "    %pip install tlc\n",
    "    %pip install opencv-python\n",
    "    %pip install kaggle"
   ]
  },
  {
   "cell_type": "code",
   "execution_count": null,
   "id": "a21528a3",
   "metadata": {},
   "outputs": [],
   "source": [
    "### HIDDEN CELL ###\n",
    "\n",
    "# Reloads all modules every time before executing the Python code.\n",
    "%load_ext autoreload\n",
    "%autoreload 2\n",
    "\n",
    "# Ensure notebook_tests on PATH\n",
    "import os\n",
    "import sys\n",
    "\n",
    "sys.path.append('..')\n",
    "import notebook_tests\n",
    "\n",
    "# Optionally override the default test data path\n",
    "if path := os.getenv(\"TLC_PUBLIC_EXAMPLES_TEST_DATA_PATH\"):\n",
    "    print(f\"Using test data path: {path}\")\n",
    "    TEST_DATA_PATH = path\n",
    "\n",
    "# Prints the current 3lc configuration\n",
    "!3lc config --list"
   ]
  },
  {
   "cell_type": "markdown",
   "id": "f45f908f",
   "metadata": {},
   "source": [
    "## Downloading StaVer Dataset"
   ]
  },
  {
   "cell_type": "code",
   "execution_count": null,
   "id": "4fe706c7",
   "metadata": {},
   "outputs": [],
   "source": [
    "# Don't forget to set up your kaggle API key, see https://github.com/Kaggle/kaggle-api#api-credentials\n",
    "# You can also manually download the dataset from https://www.kaggle.com/rtatman/stamp-verification-staver-dataset\n",
    "!mkdir $STAVER_DATASET_PATH\n",
    "!kaggle datasets download rtatman/stamp-verification-staver-dataset \n",
    "!unzip -o stamp-verification-staver-dataset.zip -d $STAVER_DATASET_PATH \n",
    "!rm stamp-verification-staver-dataset.zip"
   ]
  },
  {
   "cell_type": "markdown",
   "id": "39fe6b23",
   "metadata": {},
   "source": [
    "## Table creation"
   ]
  },
  {
   "cell_type": "code",
   "execution_count": null,
   "id": "81e9cb46",
   "metadata": {},
   "outputs": [],
   "source": [
    "from __future__ import annotations\n",
    "from pathlib import Path\n",
    "from typing import Any\n",
    "from random import random\n",
    "import cv2\n",
    "import tlc\n",
    "\n",
    "STAVER_DATASET = Path(STAVER_DATASET_PATH).absolute()"
   ]
  },
  {
   "cell_type": "code",
   "execution_count": null,
   "id": "a7224591",
   "metadata": {},
   "outputs": [],
   "source": [
    "def create_bboxes() -> dict[str, Any]:\n",
    "    # Exclude scans with zero or multiple bboxes (of the first 100)\n",
    "    stamps_to_exclude = {\n",
    "        \"stampDS-00008\",\n",
    "        \"stampDS-00010\",\n",
    "        \"stampDS-00015\",\n",
    "        \"stampDS-00021\",\n",
    "        \"stampDS-00027\",\n",
    "        \"stampDS-00031\",\n",
    "        \"stampDS-00039\",\n",
    "        \"stampDS-00041\",\n",
    "        \"stampDS-00049\",\n",
    "        \"stampDS-00053\",\n",
    "        \"stampDS-00059\",\n",
    "        \"stampDS-00069\",\n",
    "        \"stampDS-00073\",\n",
    "        \"stampDS-00080\",\n",
    "        \"stampDS-00090\",\n",
    "        \"stampDS-00098\",\n",
    "        \"stampDS-00100\",\n",
    "    }.union(\n",
    "        {\n",
    "            \"stampDS-00012\",\n",
    "            \"stampDS-00013\",\n",
    "            \"stampDS-00014\",\n",
    "        }\n",
    "    )  # Exclude 3 scans that aren't the type of scan we want to be fine tuning for\n",
    "\n",
    "    bbox_coords = {}\n",
    "    for f in sorted((STAVER_DATASET / \"ground-truth-maps\" / \"ground-truth-maps\").iterdir())[:100]:\n",
    "        k = f.stem[:-3]\n",
    "        if k not in stamps_to_exclude:\n",
    "            im = cv2.imread(f.as_posix())\n",
    "            gray = cv2.cvtColor(im, cv2.COLOR_BGR2GRAY)\n",
    "            contours, _ = cv2.findContours(gray, cv2.RETR_LIST, cv2.CHAIN_APPROX_SIMPLE)[-2:]\n",
    "            if len(contours) > 1:\n",
    "                x, y, w, h = cv2.boundingRect(contours[0])\n",
    "                height, width, _ = im.shape\n",
    "                bbox_coords[k] = {\n",
    "                    \"image_height\": height,\n",
    "                    \"image_width\": width,\n",
    "                    \"bb_list\": [{\"x0\": x, \"x1\": x + w, \"y0\": y, \"y1\": y + h, \"label\": 0}],\n",
    "                }\n",
    "\n",
    "    return bbox_coords\n",
    "\n",
    "\n",
    "def create_schema() -> tlc.Schema:\n",
    "    schema = tlc.SampleType.from_structure(\n",
    "        {\n",
    "            \"image\": tlc.ImagePath,\n",
    "            \"mask\": tlc.ImagePath,\n",
    "            \"My parameter A\": tlc.Float,\n",
    "            \"My parameter B\": tlc.Float,\n",
    "        }\n",
    "    ).schema\n",
    "\n",
    "    schema.add_sub_schema(\n",
    "        \"prompt box\", tlc.BoundingBoxListSchema({0.0: tlc.MapElement(\"Stamp\")}, include_segmentation=False)\n",
    "    )\n",
    "\n",
    "    return schema\n",
    "\n",
    "\n",
    "def create_table() -> tlc.Table:\n",
    "    table_writer = tlc.TableWriter(\n",
    "        project_name=PROJECT_NAME,\n",
    "        dataset_name=DATASET_NAME,\n",
    "        column_schemas=create_schema().values,\n",
    "    )\n",
    "\n",
    "    bboxes = create_bboxes()\n",
    "\n",
    "    for key in bboxes.keys():\n",
    "        table_writer.add_row(\n",
    "            {\n",
    "                \"image\": (STAVER_DATASET / \"scans\" / \"scans\" / f\"{key}.png\").as_posix(),\n",
    "                \"mask\": (STAVER_DATASET / \"ground-truth-pixel\" / \"ground-truth-pixel\" / f\"{key}-px.png\").as_posix(),\n",
    "                \"prompt box\": bboxes[key],\n",
    "                \"My parameter A\": random(),\n",
    "                \"My parameter B\": random(),\n",
    "            }\n",
    "        )\n",
    "\n",
    "    table = table_writer.finalize()\n",
    "\n",
    "    return table"
   ]
  },
  {
   "cell_type": "code",
   "execution_count": null,
   "id": "9dbfd91b",
   "metadata": {},
   "outputs": [],
   "source": [
    "table = create_table()"
   ]
  }
 ],
 "metadata": {
  "kernelspec": {
   "display_name": ".venv",
   "language": "python",
   "name": "python3"
  },
  "language_info": {
   "codemirror_mode": {
    "name": "ipython",
    "version": 3
   },
   "file_extension": ".py",
   "mimetype": "text/x-python",
   "name": "python",
   "nbconvert_exporter": "python",
   "pygments_lexer": "ipython3",
   "version": "3.8.10"
  }
 },
 "nbformat": 4,
 "nbformat_minor": 5
}
