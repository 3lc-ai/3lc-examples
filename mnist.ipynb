{
 "cells": [
  {
   "cell_type": "code",
   "execution_count": null,
   "id": "b549b3cf",
   "metadata": {},
   "outputs": [],
   "source": [
    "import os\n",
    "\n",
    "os.environ['PYPI_USERNAME'] = ''\n",
    "os.environ['PYPI_PASSWORD'] = ''\n",
    "\n",
    "!git clone https://github.com/3lc-ai/notebook-examples.git\n",
    "\n",
    "%run notebook-examples/tlc-install.ipynb"
   ]
  },
  {
   "cell_type": "code",
   "execution_count": null,
   "id": "65dfec1d",
   "metadata": {},
   "outputs": [],
   "source": [
    "import os\n",
    "\n",
    "os.environ['PYPI_USERNAME'] = ''\n",
    "os.environ['PYPI_PASSWORD'] = ''\n",
    "\n",
    "!git clone https://github.com/3lc-ai/notebook-examples.git\n",
    "\n",
    "%run notebook-examples/tlc-install.ipynb"
   ]
  },
  {
   "cell_type": "code",
   "execution_count": null,
   "id": "3c320517",
   "metadata": {},
   "outputs": [],
   "source": [
    "import os\n",
    "\n",
    "os.environ['PYPI_USERNAME'] = ''\n",
    "os.environ['PYPI_PASSWORD'] = ''\n",
    "\n",
    "!git clone https://github.com/3lc-ai/notebook-examples.git\n",
    "\n",
    "%run notebook-examples/tlc-install.ipynb"
   ]
  },
  {
   "cell_type": "code",
   "execution_count": null,
   "id": "de218ef1",
   "metadata": {},
   "outputs": [],
   "source": [
    "import os\n",
    "\n",
    "os.environ['PYPI_USERNAME'] = ''\n",
    "os.environ['PYPI_PASSWORD'] = ''\n",
    "\n",
    "!git clone https://github.com/3lc-ai/notebook-examples.git\n",
    "\n",
    "%run notebook-examples/tlc-install.ipynb"
   ]
  },
  {
   "cell_type": "code",
   "execution_count": null,
   "id": "d07ae084",
   "metadata": {
    "papermill": {
     "duration": 0.034635,
     "end_time": "2023-04-21T08:49:12.738217",
     "exception": false,
     "start_time": "2023-04-21T08:49:12.703582",
     "status": "completed"
    },
    "tags": [
     "parameters"
    ]
   },
   "outputs": [],
   "source": [
    "# Parameters\n",
    "EPOCHS = 4\n",
    "TRAIN_BATCH_SIZE = 64\n",
    "TEST_BATCH_SIZE = 1000\n",
    "LEARNING_RATE = 1.0\n",
    "LEARNING_RATE_SCHEDULER_GAMMA = 0.7\n",
    "EPOCHS = int(EPOCHS)\n",
    "NUM_WORKERS = 4\n",
    "PIN_MEMORY = True\n",
    "DEVICE = \"cuda\"\n",
    "DATASET_PATH=\"/datasets/mnist\""
   ]
  },
  {
   "attachments": {},
   "cell_type": "markdown",
   "id": "aa31f979",
   "metadata": {
    "papermill": {
     "duration": 0.010007,
     "end_time": "2023-04-21T08:49:12.758161",
     "exception": false,
     "start_time": "2023-04-21T08:49:12.748154",
     "status": "completed"
    },
    "tags": []
   },
   "source": [
    "# Pytorch MNIST Example\n",
    "\n",
    "Based on public Pytorch example from https://github.com/pytorch/examples/tree/main/mnist"
   ]
  },
  {
   "cell_type": "code",
   "execution_count": null,
   "id": "483482da",
   "metadata": {
    "papermill": {
     "duration": 1.32557,
     "end_time": "2023-04-21T08:49:14.119873",
     "exception": false,
     "start_time": "2023-04-21T08:49:12.794303",
     "status": "completed"
    },
    "tags": []
   },
   "outputs": [],
   "source": [
    "import torch\n",
    "import torchvision\n",
    "import os\n",
    "\n",
    "import torch.nn as nn\n",
    "import torch.nn.functional as F\n",
    "\n",
    "from torchvision import transforms"
   ]
  },
  {
   "cell_type": "code",
   "execution_count": null,
   "id": "5ad01d9d",
   "metadata": {
    "papermill": {
     "duration": 0.020995,
     "end_time": "2023-04-21T08:49:14.151867",
     "exception": false,
     "start_time": "2023-04-21T08:49:14.130872",
     "status": "completed"
    },
    "tags": []
   },
   "outputs": [],
   "source": [
    "cuda_kwargs = {'num_workers': NUM_WORKERS,\n",
    "               'pin_memory': PIN_MEMORY,\n",
    "               'shuffle': True}"
   ]
  },
  {
   "cell_type": "code",
   "execution_count": null,
   "id": "c36b6fe4",
   "metadata": {},
   "outputs": [],
   "source": [
    "import ssl\n",
    "ssl._create_default_https_context = ssl._create_unverified_context"
   ]
  },
  {
   "cell_type": "code",
   "execution_count": null,
   "id": "1ea9ecbb",
   "metadata": {
    "papermill": {
     "duration": 0.02287,
     "end_time": "2023-04-21T08:49:14.183738",
     "exception": false,
     "start_time": "2023-04-21T08:49:14.160868",
     "status": "completed"
    },
    "tags": []
   },
   "outputs": [],
   "source": [
    "kwargs = {\n",
    "    \"train\": {\"batch_size\": TRAIN_BATCH_SIZE},\n",
    "    \"val\": {\"batch_size\": TEST_BATCH_SIZE}\n",
    "}\n",
    "\n",
    "for stage in kwargs:\n",
    "    kwargs[stage].update(cuda_kwargs)"
   ]
  },
  {
   "cell_type": "code",
   "execution_count": null,
   "id": "b5dc3c62",
   "metadata": {
    "papermill": {
     "duration": 0.039067,
     "end_time": "2023-04-21T08:49:14.232796",
     "exception": false,
     "start_time": "2023-04-21T08:49:14.193729",
     "status": "completed"
    },
    "tags": []
   },
   "outputs": [],
   "source": [
    "class Net(nn.Module):\n",
    "    def __init__(self):\n",
    "        super(Net, self).__init__()\n",
    "        self.conv1 = nn.Conv2d(1, 32, 3, 1)\n",
    "        self.conv2 = nn.Conv2d(32, 64, 3, 1)\n",
    "        self.dropout1 = nn.Dropout(0.25)\n",
    "        self.dropout2 = nn.Dropout(0.5)\n",
    "        self.fc1 = nn.Linear(9216, 128)\n",
    "        self.fc2 = nn.Linear(128, 10)\n",
    "\n",
    "    def forward(self, x):\n",
    "        x = self.conv1(x)\n",
    "        x = F.relu(x)\n",
    "        x = self.conv2(x)\n",
    "        x = F.relu(x)\n",
    "        x = F.max_pool2d(x, 2)\n",
    "        x = self.dropout1(x)\n",
    "        x = torch.flatten(x, 1)\n",
    "        x = self.fc1(x)\n",
    "        x = F.relu(x)\n",
    "        x = self.dropout2(x)\n",
    "        x = self.fc2(x)\n",
    "        output = F.log_softmax(x, dim=1)\n",
    "        return output"
   ]
  },
  {
   "cell_type": "code",
   "execution_count": null,
   "id": "735b3c6c",
   "metadata": {
    "papermill": {
     "duration": 0.049009,
     "end_time": "2023-04-21T08:49:14.297804",
     "exception": false,
     "start_time": "2023-04-21T08:49:14.248795",
     "status": "completed"
    },
    "tags": []
   },
   "outputs": [],
   "source": [
    "device = torch.device(DEVICE)"
   ]
  },
  {
   "cell_type": "code",
   "execution_count": null,
   "id": "7543dd51",
   "metadata": {
    "papermill": {
     "duration": 0.033119,
     "end_time": "2023-04-21T08:49:14.342431",
     "exception": false,
     "start_time": "2023-04-21T08:49:14.309312",
     "status": "completed"
    },
    "tags": []
   },
   "outputs": [],
   "source": [
    "transform=transforms.Compose([\n",
    "        transforms.ToTensor(),\n",
    "        transforms.Normalize((0.1307,), (0.3081,))\n",
    "        ])"
   ]
  },
  {
   "cell_type": "code",
   "execution_count": null,
   "id": "123069e7",
   "metadata": {
    "papermill": {
     "duration": 0.068076,
     "end_time": "2023-04-21T08:49:14.420397",
     "exception": false,
     "start_time": "2023-04-21T08:49:14.352321",
     "status": "completed"
    },
    "tags": []
   },
   "outputs": [],
   "source": [
    "datasets = {\n",
    "    \"train\": torchvision.datasets.MNIST(DATASET_PATH, train=True, download=True, transform=transform),\n",
    "    \"val\": torchvision.datasets.MNIST(DATASET_PATH, train=False, transform=transform)\n",
    "}\n"
   ]
  },
  {
   "cell_type": "code",
   "execution_count": null,
   "id": "d697b983",
   "metadata": {
    "papermill": {
     "duration": 0.020995,
     "end_time": "2023-04-21T08:49:14.451417",
     "exception": false,
     "start_time": "2023-04-21T08:49:14.430422",
     "status": "completed"
    },
    "tags": []
   },
   "outputs": [],
   "source": [
    "data_loaders = {}\n",
    "for stage in datasets:\n",
    "    data_loaders[stage] = torch.utils.data.DataLoader(datasets[stage], **kwargs[stage])"
   ]
  },
  {
   "cell_type": "code",
   "execution_count": null,
   "id": "e7fea189",
   "metadata": {
    "papermill": {
     "duration": 0.147236,
     "end_time": "2023-04-21T08:49:14.609016",
     "exception": false,
     "start_time": "2023-04-21T08:49:14.461780",
     "status": "completed"
    },
    "tags": []
   },
   "outputs": [],
   "source": [
    "model = Net().to(device)\n",
    "optimizer = torch.optim.Adadelta(model.parameters(), lr=LEARNING_RATE)\n",
    "scheduler = torch.optim.lr_scheduler.StepLR(optimizer, step_size=1, gamma=LEARNING_RATE_SCHEDULER_GAMMA)"
   ]
  },
  {
   "cell_type": "code",
   "execution_count": null,
   "id": "49bb2f86",
   "metadata": {
    "papermill": {
     "duration": 0.037074,
     "end_time": "2023-04-21T08:49:14.656107",
     "exception": false,
     "start_time": "2023-04-21T08:49:14.619033",
     "status": "completed"
    },
    "tags": []
   },
   "outputs": [],
   "source": [
    "def train(model, device, train_loader, optimizer, epoch):\n",
    "    model.train()\n",
    "    total_loss = 0.0\n",
    "    correct = 0\n",
    "    for batch_idx, (data, target) in enumerate(train_loader):\n",
    "        data, target = data.to(device), target.to(device)\n",
    "        optimizer.zero_grad()\n",
    "        output = model(data)\n",
    "        loss = F.nll_loss(output, target)\n",
    "\n",
    "        total_loss += loss.sum().item()\n",
    "\n",
    "        loss.backward()\n",
    "        optimizer.step()\n",
    "\n",
    "        pred = output.argmax(dim=1, keepdim=True)  # get the index of the max log-probability\n",
    "        correct += pred.eq(target.view_as(pred)).sum().item()\n",
    "        \n",
    "    accuracy = correct / len(train_loader.dataset)\n",
    "    print(f\"Train - Avg. Loss: {total_loss / len(train_loader.dataset)} - Accuracy: {accuracy}\")\n",
    "    return {\"epoch\": epoch, \"loss\": total_loss / len(train_loader.dataset), \"accuracy\": accuracy, \"stage\": \"train\"}\n"
   ]
  },
  {
   "cell_type": "code",
   "execution_count": null,
   "id": "6e7f91b2",
   "metadata": {
    "papermill": {
     "duration": 0.038384,
     "end_time": "2023-04-21T08:49:14.704427",
     "exception": false,
     "start_time": "2023-04-21T08:49:14.666043",
     "status": "completed"
    },
    "tags": []
   },
   "outputs": [],
   "source": [
    "def test(model, device, loader, epoch, stage=\"val\"):\n",
    "    model.eval()\n",
    "    test_loss = 0\n",
    "    correct = 0\n",
    "    with torch.no_grad():\n",
    "        for data, target in loader[stage]:\n",
    "            data, target = data.to(device), target.to(device)\n",
    "            output = model(data)\n",
    "            test_loss += F.nll_loss(output, target, reduction='sum').item()  # sum up batch loss\n",
    "            pred = output.argmax(dim=1, keepdim=True)  # get the index of the max log-probability\n",
    "            correct += pred.eq(target.view_as(pred)).sum().item()\n",
    "\n",
    "    test_loss /= len(loader[stage].dataset)\n",
    "    accuracy = correct / len(loader[stage].dataset)\n",
    "\n",
    "    print(f\"Test - Avg. Loss: {test_loss} - Accuracy: {accuracy}\")\n",
    "    \n",
    "    return {\"epoch\": epoch, \"loss\": test_loss, \"accuracy\": accuracy, \"stage\": stage}"
   ]
  },
  {
   "cell_type": "code",
   "execution_count": null,
   "id": "2bf9f3e8",
   "metadata": {
    "papermill": {
     "duration": 47.350667,
     "end_time": "2023-04-21T08:50:02.065627",
     "exception": false,
     "start_time": "2023-04-21T08:49:14.714960",
     "status": "completed"
    },
    "tags": []
   },
   "outputs": [],
   "source": [
    "records = []\n",
    "for epoch in range(1, EPOCHS+1):\n",
    "    print(f\"Epoch {epoch}:\")\n",
    "    train(model, device, data_loaders[\"train\"], optimizer, epoch)\n",
    "    records.append(test(model, device, data_loaders, epoch, \"train\"))\n",
    "    records.append(test(model, device, data_loaders, epoch))\n",
    "    scheduler.step()"
   ]
  },
  {
   "cell_type": "code",
   "execution_count": null,
   "id": "79969500",
   "metadata": {
    "papermill": {
     "duration": 1.501667,
     "end_time": "2023-04-21T08:50:03.579292",
     "exception": false,
     "start_time": "2023-04-21T08:50:02.077625",
     "status": "completed"
    },
    "tags": []
   },
   "outputs": [],
   "source": [
    "import seaborn as sns\n",
    "import pandas as pd\n",
    "import matplotlib.pyplot as plt\n",
    "\n",
    "fig, axs = plt.subplots(nrows=2, sharex=True)\n",
    "\n",
    "records_df = pd.DataFrame(records)\n",
    "sns.lineplot(data=records_df, x=\"epoch\", y=\"accuracy\", hue=\"stage\", ax=axs[0])\n",
    "sns.lineplot(data=records_df, x=\"epoch\", y=\"loss\", hue=\"stage\", ax=axs[1])"
   ]
  }
 ],
 "metadata": {
  "kernelspec": {
   "display_name": ".venv",
   "language": "python",
   "name": "python3"
  },
  "language_info": {
   "codemirror_mode": {
    "name": "ipython",
    "version": 3
   },
   "file_extension": ".py",
   "mimetype": "text/x-python",
   "name": "python",
   "nbconvert_exporter": "python",
   "pygments_lexer": "ipython3",
   "version": "3.8.10"
  },
  "papermill": {
   "default_parameters": {},
   "duration": 54.911061,
   "end_time": "2023-04-21T08:50:05.171757",
   "environment_variables": {},
   "exception": null,
   "input_path": "c:\\Users\\RupalDangi\\experimental-notebooks\\experimental-notebooks\\vision\\classification\\MNIST\\torch-examples-cnn.ipynb",
   "output_path": "c:\\Users\\RupalDangi\\experimental-notebooks\\experimental-notebooks\\vision\\classification\\MNIST\\torch-examples-cnn.ipynb",
   "parameters": {
    "EPOCHS": 3
   },
   "start_time": "2023-04-21T08:49:10.260696",
   "version": "2.4.0"
  },
  "vscode": {
   "interpreter": {
    "hash": "d2fa9f9b95c7b5aace6f7f762d08b66ed4f3c8636bcfd83501da0f4af9b3f6c5"
   }
  }
 },
 "nbformat": 4,
 "nbformat_minor": 5
}
