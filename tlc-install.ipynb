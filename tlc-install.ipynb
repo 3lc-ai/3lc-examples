{
 "cells": [
  {
   "cell_type": "code",
   "execution_count": null,
   "metadata": {},
   "outputs": [],
   "source": [
    "import sys\n",
    "import os\n",
    "\n",
    "TLC_DOCUMENTATION_URL = 'https://docs.3lc.ai'\n",
    "PYPI_USERNAME_ENV_NAME = 'PYPI_USERNAME'\n",
    "PYPI_PASSWORD_ENV_NAME = 'PYPI_PASSWORD'\n",
    "DEFAULT_PYPI_REPO = 'bluware.jfrog.io/artifactory/api/pypi/Releases-TLC-Pypi-ubuntu/simple'\n",
    "DEFAULT_TLC_PACKAGE_NAME = 'tlc'\n",
    "\n",
    "perform_pip_install = os.environ.get('PERFORM_PIP_INSTALL', 'true')\n",
    "tlc_package_name = os.environ.get('TLC_PACKAGE_NAME', DEFAULT_TLC_PACKAGE_NAME)\n",
    "\n",
    "if perform_pip_install == 'true':\n",
    "    print(f'Beginning installing {tlc_package_name}')\n",
    "    pypi_username = os.environ.get(PYPI_USERNAME_ENV_NAME, '')\n",
    "    pypi_password = os.environ.get(PYPI_PASSWORD_ENV_NAME, '')\n",
    "    pypi_repo = os.environ.get('PYPI_REPO', DEFAULT_PYPI_REPO)\n",
    "\n",
    "    if not pypi_username or not pypi_password:\n",
    "        raise RuntimeError(f'Please set the environment variable {PYPI_USERNAME_ENV_NAME} and {PYPI_PASSWORD_ENV_NAME}. For more information, see {TLC_DOCUMENTATION_URL}')\n",
    "    \n",
    "    %pip install -q -i https://{pypi_username}:{pypi_password}@{pypi_repo} --extra-index-url=https://pypi.org/simple {tlc_package_name}\n",
    "    print('Installation completed')\n",
    "else:\n",
    "    print(f'PERFORM_PIP_INSTALL is {perform_pip_install} (not equal to true) and thus installation is skipped')\n",
    "    \n",
    "    "
   ]
  }
 ],
 "metadata": {
  "kernelspec": {
   "display_name": "myvenv",
   "language": "python",
   "name": "python3"
  },
  "language_info": {
   "name": "python",
   "version": "3.8.9"
  }
 },
 "nbformat": 4,
 "nbformat_minor": 2
}
