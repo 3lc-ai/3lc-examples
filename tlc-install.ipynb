{
 "cells": [
  {
   "cell_type": "code",
   "execution_count": null,
   "metadata": {},
   "outputs": [],
   "source": [
    "import sys\n",
    "import os\n",
    "\n",
    "TLC_DOCUMENTATION_URL = 'https://docs.3lc.ai'\n",
    "TLC_PYPI_API_KEY = 'API_KEY'\n",
    "TLC_PYPI_API_SECRET = 'API_SECRET'\n",
    "DEFAULT_PYPI_REPO = 'pypi.3lc.ai/repositories/releases'\n",
    "DEFAULT_TLC_PACKAGE_NAME = 'tlc'\n",
    "\n",
    "perform_pip_install = os.environ.get('PERFORM_PIP_INSTALL', 'true')\n",
    "tlc_package_name = os.environ.get('TLC_PACKAGE_NAME', DEFAULT_TLC_PACKAGE_NAME)\n",
    "\n",
    "if perform_pip_install == 'true':\n",
    "    print(f'Beginning installing {tlc_package_name}')\n",
    "    pypi_api_key = os.environ.get(TLC_PYPI_API_KEY, '')\n",
    "    pypi_api_secret = os.environ.get(TLC_PYPI_API_SECRET, '')\n",
    "    pypi_repo = os.environ.get('PYPI_REPO', DEFAULT_PYPI_REPO)\n",
    "\n",
    "    if not pypi_api_key or not pypi_api_secret:\n",
    "        raise RuntimeError(f'Please set the environment variable {TLC_PYPI_API_KEY} and {TLC_PYPI_API_SECRET}. For more information, see {TLC_DOCUMENTATION_URL}')\n",
    "    \n",
    "    %pip install -q -i https://{pypi_api_key}:{pypi_api_secret}@{pypi_repo} --extra-index-url=https://pypi.org/simple {tlc_package_name}\n",
    "    print('Installation completed')\n",
    "else:\n",
    "    print(f'PERFORM_PIP_INSTALL is {perform_pip_install} (not equal to true) and thus installation is skipped')\n",
    "    \n",
    "    "
   ]
  }
 ],
 "metadata": {
  "kernelspec": {
   "display_name": "myvenv",
   "language": "python",
   "name": "python3"
  },
  "language_info": {
   "name": "python",
   "version": "3.8.9"
  }
 },
 "nbformat": 4,
 "nbformat_minor": 2
}
