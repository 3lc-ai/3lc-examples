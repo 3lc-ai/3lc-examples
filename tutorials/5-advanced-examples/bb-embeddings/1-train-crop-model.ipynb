{
 "cells": [
  {
   "cell_type": "markdown",
   "metadata": {},
   "source": [
    "# Fine-tuning a classifier using bounding box data from a 3LC Table"
   ]
  },
  {
   "cell_type": "markdown",
   "metadata": {},
   "source": [
    "In this tutorial, we will fine-tune a classifier using bounding box data from a 3LC `Table`.\n",
    "\n",
    "We will load the COCO128 table from an earlier notebook and use it to create a\n",
    "`torch.utils.Dataset` of bounding box crops. These cropped images will be used to\n",
    "fine-tune a classifier. In a later tutorial, we will use this trained model to\n",
    "generate embeddings and predicted labels."
   ]
  },
  {
   "cell_type": "markdown",
   "metadata": {},
   "source": [
    "## Imports"
   ]
  },
  {
   "cell_type": "code",
   "execution_count": null,
   "metadata": {},
   "outputs": [],
   "source": [
    "import tlc\n",
    "from tlc_tools.augment_bbs.finetune_on_crops import train_model\n",
    "from tlc_tools.common import infer_torch_device\n",
    "from tlc_tools.split import split_table"
   ]
  },
  {
   "cell_type": "markdown",
   "metadata": {},
   "source": [
    "## Project setup"
   ]
  },
  {
   "cell_type": "code",
   "execution_count": null,
   "metadata": {},
   "outputs": [],
   "source": [
    "EPOCHS = 10\n",
    "MODEL_CHECKPOINT = \"../../../transient_data/bb_classifier.pth\"\n",
    "MODEL_NAME = \"efficientnet_b0\"\n",
    "INCLUDE_BACKGROUND = False"
   ]
  },
  {
   "cell_type": "markdown",
   "metadata": {},
   "source": [
    "## Set device"
   ]
  },
  {
   "cell_type": "code",
   "execution_count": null,
   "metadata": {},
   "outputs": [],
   "source": [
    "DEVICE = infer_torch_device()\n",
    "print(f\"Using device: {DEVICE}\")"
   ]
  },
  {
   "cell_type": "markdown",
   "metadata": {},
   "source": [
    "## Load input Table\n",
    "\n",
    "We will reuse the table created in the notebook [create-table-from-coco.ipynb](../../1-create-tables/create-table-from-coco.ipynb)."
   ]
  },
  {
   "cell_type": "code",
   "execution_count": null,
   "metadata": {},
   "outputs": [],
   "source": [
    "input_table = tlc.Table.from_names(\n",
    "    \"initial\",\n",
    "    \"COCO128\",\n",
    "    \"3LC Tutorials\",\n",
    ")"
   ]
  },
  {
   "cell_type": "markdown",
   "metadata": {},
   "source": [
    "## Split the Table"
   ]
  },
  {
   "cell_type": "code",
   "execution_count": null,
   "metadata": {},
   "outputs": [],
   "source": [
    "# Create splits for training and validation\n",
    "splits = split_table(input_table, {\"train\": 0.8, \"val\": 0.2})\n",
    "\n",
    "train_table = splits[\"train\"]\n",
    "val_table = splits[\"val\"]\n",
    "\n",
    "print(f\"Using table {train_table} for training\")\n",
    "print(f\"Using table {val_table} for validation\")"
   ]
  },
  {
   "cell_type": "markdown",
   "metadata": {},
   "source": [
    "## Train model"
   ]
  },
  {
   "cell_type": "code",
   "execution_count": null,
   "metadata": {},
   "outputs": [],
   "source": [
    "model, checkpoint_path = train_model(\n",
    "    train_table_url=train_table.url,\n",
    "    val_table_url=val_table.url,\n",
    "    model_checkpoint=MODEL_CHECKPOINT,\n",
    "    epochs=EPOCHS,\n",
    "    include_background=INCLUDE_BACKGROUND,\n",
    "    num_workers=0,  # Use more workers in a non-notebook environment\n",
    ")"
   ]
  }
 ],
 "metadata": {
  "kernelspec": {
   "display_name": ".venv",
   "language": "python",
   "name": "python3"
  },
  "language_info": {
   "codemirror_mode": {
    "name": "ipython",
    "version": 3
   },
   "file_extension": ".py",
   "mimetype": "text/x-python",
   "name": "python",
   "nbconvert_exporter": "python",
   "pygments_lexer": "ipython3",
   "version": "3.12.9"
  }
 },
 "nbformat": 4,
 "nbformat_minor": 2
}
