{
 "cells": [
  {
   "cell_type": "markdown",
   "metadata": {},
   "source": [
    "# Add Embeddings to a Run"
   ]
  },
  {
   "cell_type": "markdown",
   "metadata": {},
   "source": [
    "## ADD LINKS"
   ]
  },
  {
   "cell_type": "markdown",
   "metadata": {},
   "source": [
    "## ADD DESCRIPTION"
   ]
  },
  {
   "cell_type": "code",
   "execution_count": 1,
   "metadata": {},
   "outputs": [],
   "source": [
    "PROJECT_NAME = \"Bounding Box Classifier\"\n",
    "TRANSIENT_DATA_PATH = \"../../transient_data\"\n",
    "BATCH_SIZE = 32\n",
    "DATASET_NAME = \"Balloons\"\n",
    "RUN_NAME = \"Embeddings collection\""
   ]
  },
  {
   "cell_type": "markdown",
   "metadata": {},
   "source": [
    "## Imports"
   ]
  },
  {
   "cell_type": "code",
   "execution_count": 2,
   "metadata": {},
   "outputs": [],
   "source": [
    "import tlc\n",
    "import numpy as np"
   ]
  },
  {
   "cell_type": "markdown",
   "metadata": {},
   "source": [
    "## Load Table and Embeddings"
   ]
  },
  {
   "cell_type": "code",
   "execution_count": 3,
   "metadata": {},
   "outputs": [],
   "source": [
    "# Load the table created in the first notebook\n",
    "original_table = tlc.Table.from_names(\n",
    "    table_name=\"original\", \n",
    "    dataset_name=DATASET_NAME, \n",
    "    project_name=PROJECT_NAME\n",
    ")\n",
    "\n",
    "# Load the embeddings created in the second notebook\n",
    "embeddings = np.load(f\"{TRANSIENT_DATA_PATH}/bb_classifier_embeddings.npy\")"
   ]
  },
  {
   "cell_type": "code",
   "execution_count": 11,
   "metadata": {},
   "outputs": [
    {
     "name": "stdout",
     "output_type": "stream",
     "text": [
      "\u001b[5m\u001b[31mWARNING\u001b[0m \u001b[90m3lc: \u001b[0mBlacklisting Url: s3://3lc-projects due to EndpointConnectionError, Could not connect to the endpoint URL: \"https://3lc-projects.s3.eu-north-1.amazonaws.com/?list-type=2&prefix=cars%2Fruns%2F&delimiter=%2F&encoding-type=url\". Will retry in 0:00:20.\n",
      "\u001b[5m\u001b[31mWARNING\u001b[0m \u001b[90m3lc: \u001b[0mBlacklisting Url: s3://zephyr-experiments/projects due to EndpointConnectionError, Could not connect to the endpoint URL: \"https://zephyr-experiments.s3.eu-north-1.amazonaws.com/?list-type=2&prefix=projects%2FZephyr-7B-beta_subset%2Fdatasets%2Fultrachat_200k-train%2Ftables%2Foriginal%2F&delimiter=%2F&encoding-type=url\". Will retry in 0:00:20.\n",
      "\u001b[5m\u001b[31mWARNING\u001b[0m \u001b[90m3lc: \u001b[0mBlacklisting Url: s3://zephyr-experiments/projects due to EndpointConnectionError, Could not connect to the endpoint URL: \"https://zephyr-experiments.s3.eu-north-1.amazonaws.com/?list-type=2&prefix=projects%2F&delimiter=%2F&encoding-type=url\". Will retry in 0:00:20.\n",
      "\u001b[5m\u001b[31mWARNING\u001b[0m \u001b[90m3lc: \u001b[0mBlacklisting Url: s3://3lc-esmart-systems-data/tables due to EndpointConnectionError, Could not connect to the endpoint URL: \"https://3lc-esmart-systems-data.s3.eu-north-1.amazonaws.com/?list-type=2&prefix=tables%2F&delimiter=%2F&encoding-type=url\". Will retry in 0:00:20.\n",
      "\u001b[5m\u001b[31mWARNING\u001b[0m \u001b[90m3lc: \u001b[0mBlacklisting Url: s3://3lc-projects due to PermissionError, The difference between the request time and the current time is too large.. Will retry in 0:10:00.\n",
      "\u001b[5m\u001b[31mWARNING\u001b[0m \u001b[90m3lc: \u001b[0mBlacklisting Url: s3://3lc-projects due to EndpointConnectionError, Could not connect to the endpoint URL: \"https://3lc-projects.s3.eu-north-1.amazonaws.com/?list-type=2&prefix=Zephyr-7B-beta_subset%2Fruns%2F&delimiter=%2F&encoding-type=url\". Will retry in 0:00:20.\n",
      "\u001b[5m\u001b[31mWARNING\u001b[0m \u001b[90m3lc: \u001b[0mBlacklisting Url: s3://3lc-projects due to EndpointConnectionError, Could not connect to the endpoint URL: \"https://3lc-projects.s3.eu-north-1.amazonaws.com/?list-type=2&prefix=&delimiter=%2F&encoding-type=url\". Will retry in 0:00:20.\n",
      "\u001b[5m\u001b[31mWARNING\u001b[0m \u001b[90m3lc: \u001b[0mBlacklisting Url: s3://3lc-projects due to PermissionError, The difference between the request time and the current time is too large.. Will retry in 0:10:00.\n",
      "\u001b[5m\u001b[31mWARNING\u001b[0m \u001b[90m3lc: \u001b[0mBlacklisting Url: s3://3lc-projects due to EndpointConnectionError, Could not connect to the endpoint URL: \"https://3lc-projects.s3.eu-north-1.amazonaws.com/?list-type=2&prefix=&delimiter=%2F&encoding-type=url\". Will retry in 0:00:20.\n",
      "\u001b[5m\u001b[31mWARNING\u001b[0m \u001b[90m3lc: \u001b[0mBlacklisting Url: s3://3lc-projects due to EndpointConnectionError, Could not connect to the endpoint URL: \"https://3lc-projects.s3.eu-north-1.amazonaws.com/?list-type=2&prefix=yolov5-VOC%2Fdatasets%2FVOC-train%2Ftables%2FModified16551Values%2F&delimiter=%2F&encoding-type=url\". Will retry in 0:00:20.\n",
      "\u001b[5m\u001b[31mWARNING\u001b[0m \u001b[90m3lc: \u001b[0mBlacklisting Url: s3://3lc-projects due to PermissionError, The difference between the request time and the current time is too large.. Will retry in 0:10:00.\n",
      "\u001b[5m\u001b[31mWARNING\u001b[0m \u001b[90m3lc: \u001b[0mBlacklisting Url: s3://zephyr-experiments/projects due to PermissionError, The difference between the request time and the current time is too large.. Will retry in 0:10:00.\n",
      "\u001b[5m\u001b[31mWARNING\u001b[0m \u001b[90m3lc: \u001b[0mBlacklisting Url: s3://3lc-projects due to EndpointConnectionError, Could not connect to the endpoint URL: \"https://3lc-projects.s3.eu-north-1.amazonaws.com/?list-type=2&prefix=cars%2Fdatasets%2Fwenn-dataset-train%2Ftables%2Fcoco%2F&delimiter=%2F&encoding-type=url\". Will retry in 0:00:20.\n",
      "\u001b[5m\u001b[31mWARNING\u001b[0m \u001b[90m3lc: \u001b[0mBlacklisting Url: s3://3lc-projects due to EndpointConnectionError, Could not connect to the endpoint URL: \"https://3lc-projects.s3.eu-north-1.amazonaws.com/?list-type=2&prefix=&delimiter=%2F&encoding-type=url\". Will retry in 0:00:20.\n",
      "\u001b[5m\u001b[31mWARNING\u001b[0m \u001b[90m3lc: \u001b[0mBlacklisting Url: s3://zephyr-experiments/projects due to PermissionError, The difference between the request time and the current time is too large.. Will retry in 0:10:00.\n",
      "\u001b[5m\u001b[31mWARNING\u001b[0m \u001b[90m3lc: \u001b[0mBlacklisting Url: s3://3lc-esmart-systems-data/runs/yolov5-bird-nest due to PermissionError, The difference between the request time and the current time is too large.. Will retry in 0:10:00.\n",
      "\u001b[5m\u001b[31mWARNING\u001b[0m \u001b[90m3lc: \u001b[0mBlacklisting Url: s3://3lc-esmart-systems-data/tables due to EndpointConnectionError, Could not connect to the endpoint URL: \"https://3lc-esmart-systems-data.s3.eu-north-1.amazonaws.com/?list-type=2&prefix=tables%2F&delimiter=%2F&encoding-type=url\". Will retry in 0:00:20.\n",
      "\u001b[5m\u001b[31mWARNING\u001b[0m \u001b[90m3lc: \u001b[0mBlacklisting Url: s3://3lc-projects due to PermissionError, The difference between the request time and the current time is too large.. Will retry in 0:10:00.\n",
      "\u001b[5m\u001b[31mWARNING\u001b[0m \u001b[90m3lc: \u001b[0mBlacklisting Url: s3://3lc-projects due to EndpointConnectionError, Could not connect to the endpoint URL: \"https://3lc-projects.s3.eu-north-1.amazonaws.com/?list-type=2&prefix=anyverse_test%2Fdatasets%2Fanyverse-train-val-split-train%2F&delimiter=%2F&encoding-type=url\". Will retry in 0:00:20.\n",
      "\u001b[5m\u001b[31mWARNING\u001b[0m \u001b[90m3lc: \u001b[0mBlacklisting Url: s3://3lc-projects due to PermissionError, The difference between the request time and the current time is too large.. Will retry in 0:10:00.\n",
      "\u001b[5m\u001b[31mWARNING\u001b[0m \u001b[90m3lc: \u001b[0mBlacklisting Url: s3://3lc-projects due to PermissionError, The difference between the request time and the current time is too large.. Will retry in 0:10:00.\n",
      "\u001b[5m\u001b[31mWARNING\u001b[0m \u001b[90m3lc: \u001b[0mBlacklisting Url: s3://3lc-projects due to PermissionError, The difference between the request time and the current time is too large.. Will retry in 0:10:00.\n",
      "\u001b[5m\u001b[31mWARNING\u001b[0m \u001b[90m3lc: \u001b[0mBlacklisting Url: s3://3lc-esmart-systems-data/runs/yolov5-bird-nest due to PermissionError, The difference between the request time and the current time is too large.. Will retry in 0:10:00.\n",
      "\u001b[5m\u001b[31mWARNING\u001b[0m \u001b[90m3lc: \u001b[0mBlacklisting Url: s3://3lc-esmart-systems-data/runs/yolov5-bird-nest due to PermissionError, The difference between the request time and the current time is too large.. Will retry in 0:10:00.\n",
      "\u001b[5m\u001b[31mWARNING\u001b[0m \u001b[90m3lc: \u001b[0mBlacklisting Url: s3://3lc-esmart-systems-data/runs/yolov5-bird-nest due to PermissionError, The difference between the request time and the current time is too large.. Will retry in 0:10:00.\n",
      "\u001b[5m\u001b[31mWARNING\u001b[0m \u001b[90m3lc: \u001b[0mBlacklisting Url: s3://3lc-esmart-systems-data/tables due to EndpointConnectionError, Could not connect to the endpoint URL: \"https://3lc-esmart-systems-data.s3.eu-north-1.amazonaws.com/?list-type=2&prefix=tables%2F&delimiter=%2F&encoding-type=url\". Will retry in 0:00:20.\n",
      "\u001b[5m\u001b[31mWARNING\u001b[0m \u001b[90m3lc: \u001b[0mBlacklisting Url: s3://zephyr-experiments/projects due to EndpointConnectionError, Could not connect to the endpoint URL: \"https://zephyr-experiments.s3.eu-north-1.amazonaws.com/?list-type=2&prefix=projects%2FZephyr-7B-beta_subset%2Fdatasets%2Fultrachat_200k-train%2Ftables%2FSetWeightIn188RowsTo0%2F&delimiter=%2F&encoding-type=url\". Will retry in 0:00:20.\n",
      "\u001b[5m\u001b[31mWARNING\u001b[0m \u001b[90m3lc: \u001b[0mBlacklisting Url: s3://zephyr-experiments/projects due to EndpointConnectionError, Could not connect to the endpoint URL: \"https://zephyr-experiments.s3.eu-north-1.amazonaws.com/?list-type=2&prefix=projects%2FZephyr-7B-beta_subset%2Fdatasets%2Fultrachat_200k-train%2Ftables%2FSetWeightIn188RowsTo0%2F&delimiter=%2F&encoding-type=url\". Will retry in 0:00:20.\n",
      "\u001b[5m\u001b[31mWARNING\u001b[0m \u001b[90m3lc: \u001b[0mBlacklisting Url: s3://3lc-projects due to EndpointConnectionError, Could not connect to the endpoint URL: \"https://3lc-projects.s3.eu-north-1.amazonaws.com/?list-type=2&prefix=COCO-Metrics-Collection%2Fruns%2FMC-detectron2-faster_rcnn_R_50_FPN_1x%2F&delimiter=%2F&encoding-type=url\". Will retry in 0:00:20.\n",
      "\u001b[5m\u001b[31mWARNING\u001b[0m \u001b[90m3lc: \u001b[0mBlacklisting Url: s3://zephyr-experiments/projects due to EndpointConnectionError, Could not connect to the endpoint URL: \"https://zephyr-experiments.s3.eu-north-1.amazonaws.com/?list-type=2&prefix=projects%2F&delimiter=%2F&encoding-type=url\". Will retry in 0:00:20.\n",
      "\u001b[5m\u001b[31mWARNING\u001b[0m \u001b[90m3lc: \u001b[0mBlacklisting Url: s3://3lc-esmart-systems-data/tables due to EndpointConnectionError, Could not connect to the endpoint URL: \"https://3lc-esmart-systems-data.s3.eu-north-1.amazonaws.com/?list-type=2&prefix=tables%2F&delimiter=%2F&encoding-type=url\". Will retry in 0:00:20.\n",
      "\u001b[5m\u001b[31mWARNING\u001b[0m \u001b[90m3lc: \u001b[0mBlacklisting Url: s3://3lc-projects due to EndpointConnectionError, Could not connect to the endpoint URL: \"https://3lc-projects.s3.eu-north-1.amazonaws.com/?list-type=2&prefix=&delimiter=%2F&encoding-type=url\". Will retry in 0:00:20.\n",
      "\u001b[5m\u001b[31mWARNING\u001b[0m \u001b[90m3lc: \u001b[0mBlacklisting Url: s3://3lc-esmart-systems-data/runs/yolov5-bird-nest due to EndpointConnectionError, Could not connect to the endpoint URL: \"https://3lc-esmart-systems-data.s3.eu-north-1.amazonaws.com/?list-type=2&prefix=runs%2Fyolov5-bird-nest%2F&delimiter=%2F&encoding-type=url\". Will retry in 0:00:20.\n",
      "\u001b[5m\u001b[31mWARNING\u001b[0m \u001b[90m3lc: \u001b[0mBlacklisting Url: s3://zephyr-experiments/projects due to PermissionError, The difference between the request time and the current time is too large.. Will retry in 0:10:00.\n",
      "\u001b[5m\u001b[31mWARNING\u001b[0m \u001b[90m3lc: \u001b[0mBlacklisting Url: s3://3lc-projects due to EndpointConnectionError, Could not connect to the endpoint URL: \"https://3lc-projects.s3.eu-north-1.amazonaws.com/?list-type=2&prefix=&delimiter=%2F&encoding-type=url\". Will retry in 0:00:20.\n",
      "\u001b[5m\u001b[31mWARNING\u001b[0m \u001b[90m3lc: \u001b[0mBlacklisting Url: s3://3lc-projects due to EndpointConnectionError, Could not connect to the endpoint URL: \"https://3lc-projects.s3.eu-north-1.amazonaws.com/?list-type=2&prefix=chessvision-classification%2Fruns%2F&delimiter=%2F&encoding-type=url\". Will retry in 0:00:20.\n",
      "\u001b[5m\u001b[31mWARNING\u001b[0m \u001b[90m3lc: \u001b[0mBlacklisting Url: s3://3lc-projects due to PermissionError, The difference between the request time and the current time is too large.. Will retry in 0:10:00.\n",
      "\u001b[5m\u001b[31mWARNING\u001b[0m \u001b[90m3lc: \u001b[0mBlacklisting Url: s3://zephyr-experiments/projects due to EndpointConnectionError, Could not connect to the endpoint URL: \"https://zephyr-experiments.s3.eu-north-1.amazonaws.com/?list-type=2&prefix=projects%2F&delimiter=%2F&encoding-type=url\". Will retry in 0:00:20.\n",
      "\u001b[5m\u001b[31mWARNING\u001b[0m \u001b[90m3lc: \u001b[0mBlacklisting Url: s3://3lc-projects due to EndpointConnectionError, Could not connect to the endpoint URL: \"https://3lc-projects.s3.eu-north-1.amazonaws.com/?list-type=2&prefix=Hugging%20Face%20SegFormer%20Example%2F&delimiter=%2F&encoding-type=url\". Will retry in 0:00:20.\n",
      "\u001b[5m\u001b[31mWARNING\u001b[0m \u001b[90m3lc: \u001b[0mBlacklisting Url: s3://3lc-projects due to EndpointConnectionError, Could not connect to the endpoint URL: \"https://3lc-projects.s3.eu-north-1.amazonaws.com/?list-type=2&prefix=Zephyr-7B-beta_subset%2Fruns%2Fdebug-confidence%2F&delimiter=%2F&encoding-type=url\". Will retry in 0:00:20.\n",
      "\u001b[5m\u001b[31mWARNING\u001b[0m \u001b[90m3lc: \u001b[0mBlacklisting Url: s3://3lc-esmart-systems-data/runs/yolov5-bird-nest due to PermissionError, The difference between the request time and the current time is too large.. Will retry in 0:10:00.\n",
      "\u001b[5m\u001b[31mWARNING\u001b[0m \u001b[90m3lc: \u001b[0mBlacklisting Url: s3://3lc-projects due to EndpointConnectionError, Could not connect to the endpoint URL: \"https://3lc-projects.s3.eu-north-1.amazonaws.com/?list-type=2&prefix=&delimiter=%2F&encoding-type=url\". Will retry in 0:00:20.\n",
      "\u001b[5m\u001b[31mWARNING\u001b[0m \u001b[90m3lc: \u001b[0mBlacklisting Url: s3://3lc-projects due to EndpointConnectionError, Could not connect to the endpoint URL: \"https://3lc-projects.s3.eu-north-1.amazonaws.com/?list-type=2&prefix=yolov8-coco128%2Fruns%2F&delimiter=%2F&encoding-type=url\". Will retry in 0:00:20.\n",
      "\u001b[5m\u001b[31mWARNING\u001b[0m \u001b[90m3lc: \u001b[0mBlacklisting Url: s3://zephyr-experiments/projects due to PermissionError, The difference between the request time and the current time is too large.. Will retry in 0:10:00.\n",
      "\u001b[5m\u001b[31mWARNING\u001b[0m \u001b[90m3lc: \u001b[0mBlacklisting Url: s3://3lc-projects due to PermissionError, The difference between the request time and the current time is too large.. Will retry in 0:10:00.\n",
      "\u001b[5m\u001b[31mWARNING\u001b[0m \u001b[90m3lc: \u001b[0mBlacklisting Url: s3://3lc-projects due to PermissionError, The difference between the request time and the current time is too large.. Will retry in 0:10:00.\n",
      "\u001b[5m\u001b[31mWARNING\u001b[0m \u001b[90m3lc: \u001b[0mBlacklisting Url: s3://3lc-esmart-systems-data/tables due to PermissionError, The difference between the request time and the current time is too large.. Will retry in 0:10:00.\n",
      "\u001b[5m\u001b[31mWARNING\u001b[0m \u001b[90m3lc: \u001b[0mBlacklisting Url: s3://3lc-projects due to PermissionError, The difference between the request time and the current time is too large.. Will retry in 0:10:00.\n",
      "\u001b[5m\u001b[31mWARNING\u001b[0m \u001b[90m3lc: \u001b[0mBlacklisting Url: s3://3lc-projects due to PermissionError, The difference between the request time and the current time is too large.. Will retry in 0:10:00.\n",
      "\u001b[5m\u001b[31mWARNING\u001b[0m \u001b[90m3lc: \u001b[0mBlacklisting Url: s3://3lc-projects due to PermissionError, The difference between the request time and the current time is too large.. Will retry in 0:10:00.\n",
      "\u001b[5m\u001b[31mWARNING\u001b[0m \u001b[90m3lc: \u001b[0mBlacklisting Url: s3://zephyr-experiments/projects due to PermissionError, The difference between the request time and the current time is too large.. Will retry in 0:10:00.\n",
      "\u001b[5m\u001b[31mWARNING\u001b[0m \u001b[90m3lc: \u001b[0mBlacklisting Url: s3://3lc-projects due to EndpointConnectionError, Could not connect to the endpoint URL: \"https://3lc-projects.s3.eu-north-1.amazonaws.com/?list-type=2&prefix=3lc-public-examples%2F&delimiter=%2F&encoding-type=url\". Will retry in 0:00:20.\n",
      "\u001b[5m\u001b[31mWARNING\u001b[0m \u001b[90m3lc: \u001b[0mBlacklisting Url: s3://3lc-projects due to EndpointConnectionError, Could not connect to the endpoint URL: \"https://3lc-projects.s3.eu-north-1.amazonaws.com/?list-type=2&prefix=anyverse_test%2Fdatasets%2Fkitti-train%2Ftables%2F&delimiter=%2F&encoding-type=url\". Will retry in 0:00:20.\n",
      "\u001b[5m\u001b[31mWARNING\u001b[0m \u001b[90m3lc: \u001b[0mBlacklisting Url: s3://3lc-projects due to PermissionError, The difference between the request time and the current time is too large.. Will retry in 0:10:00.\n",
      "\u001b[5m\u001b[31mWARNING\u001b[0m \u001b[90m3lc: \u001b[0mBlacklisting Url: s3://3lc-projects due to PermissionError, The difference between the request time and the current time is too large.. Will retry in 0:10:00.\n",
      "\u001b[5m\u001b[31mWARNING\u001b[0m \u001b[90m3lc: \u001b[0mBlacklisting Url: s3://3lc-projects due to EndpointConnectionError, Could not connect to the endpoint URL: \"https://3lc-projects.s3.eu-north-1.amazonaws.com/?list-type=2&prefix=3LC%2Fdatasets%2F3LC_Employees%2Ftables%2F3LC_Oslo_Employees_Labelled%2F&delimiter=%2F&encoding-type=url\". Will retry in 0:00:20.\n",
      "\u001b[5m\u001b[31mWARNING\u001b[0m \u001b[90m3lc: \u001b[0mBlacklisting Url: s3://3lc-esmart-systems-data/runs/yolov5-bird-nest due to PermissionError, The difference between the request time and the current time is too large.. Will retry in 0:10:00.\n",
      "\u001b[5m\u001b[31mWARNING\u001b[0m \u001b[90m3lc: \u001b[0mBlacklisting Url: s3://3lc-projects due to PermissionError, The difference between the request time and the current time is too large.. Will retry in 0:10:00.\n",
      "\u001b[5m\u001b[31mWARNING\u001b[0m \u001b[90m3lc: \u001b[0mBlacklisting Url: s3://3lc-projects due to PermissionError, The difference between the request time and the current time is too large.. Will retry in 0:10:00.\n",
      "\u001b[5m\u001b[31mWARNING\u001b[0m \u001b[90m3lc: \u001b[0mBlacklisting Url: s3://3lc-esmart-systems-data/tables due to EndpointConnectionError, Could not connect to the endpoint URL: \"https://3lc-esmart-systems-data.s3.eu-north-1.amazonaws.com/?list-type=2&prefix=tables%2Fcoco128-val%2F&delimiter=%2F&encoding-type=url\". Will retry in 0:00:20.\n",
      "\u001b[5m\u001b[31mWARNING\u001b[0m \u001b[90m3lc: \u001b[0mBlacklisting Url: s3://3lc-projects due to EndpointConnectionError, Could not connect to the endpoint URL: \"https://3lc-projects.s3.eu-north-1.amazonaws.com/?list-type=2&prefix=chessvision-classification%2Fdatasets%2Fchessboard-squares-unlabeled%2F&delimiter=%2F&encoding-type=url\". Will retry in 0:00:20.\n",
      "\u001b[5m\u001b[31mWARNING\u001b[0m \u001b[90m3lc: \u001b[0mBlacklisting Url: s3://3lc-projects due to PermissionError, The difference between the request time and the current time is too large.. Will retry in 0:10:00.\n",
      "\u001b[5m\u001b[31mWARNING\u001b[0m \u001b[90m3lc: \u001b[0mBlacklisting Url: s3://3lc-projects due to PermissionError, The difference between the request time and the current time is too large.. Will retry in 0:10:00.\n",
      "\u001b[5m\u001b[31mWARNING\u001b[0m \u001b[90m3lc: \u001b[0mBlacklisting Url: s3://3lc-projects due to EndpointConnectionError, Could not connect to the endpoint URL: \"https://3lc-projects.s3.eu-north-1.amazonaws.com/?list-type=2&prefix=Hugging%20Face%20SegFormer%20Example%2F&delimiter=%2F&encoding-type=url\". Will retry in 0:00:20.\n",
      "\u001b[5m\u001b[31mWARNING\u001b[0m \u001b[90m3lc: \u001b[0mBlacklisting Url: s3://3lc-projects due to EndpointConnectionError, Could not connect to the endpoint URL: \"https://3lc-projects.s3.eu-north-1.amazonaws.com/?list-type=2&prefix=COCO-Metrics-Collection%2Fdatasets%2FCOCO_VAL%2Ftables%2F&delimiter=%2F&encoding-type=url\". Will retry in 0:00:20.\n",
      "\u001b[5m\u001b[31mWARNING\u001b[0m \u001b[90m3lc: \u001b[0mBlacklisting Url: s3://3lc-projects due to PermissionError, The difference between the request time and the current time is too large.. Will retry in 0:10:00.\n",
      "\u001b[5m\u001b[31mWARNING\u001b[0m \u001b[90m3lc: \u001b[0mBlacklisting Url: s3://3lc-projects due to PermissionError, The difference between the request time and the current time is too large.. Will retry in 0:10:00.\n",
      "\u001b[5m\u001b[31mWARNING\u001b[0m \u001b[90m3lc: \u001b[0mBlacklisting Url: s3://3lc-esmart-systems-data/runs/yolov5-bird-nest due to PermissionError, The difference between the request time and the current time is too large.. Will retry in 0:10:00.\n",
      "\u001b[5m\u001b[31mWARNING\u001b[0m \u001b[90m3lc: \u001b[0mBlacklisting Url: s3://3lc-esmart-systems-data/tables due to EndpointConnectionError, Could not connect to the endpoint URL: \"https://3lc-esmart-systems-data.s3.eu-north-1.amazonaws.com/?list-type=2&prefix=tables%2Fbird-nest-2-classes-train%2F&delimiter=%2F&encoding-type=url\". Will retry in 0:00:20.\n",
      "\u001b[5m\u001b[31mWARNING\u001b[0m \u001b[90m3lc: \u001b[0mBlacklisting Url: s3://3lc-esmart-systems-data/runs/yolov5-bird-nest due to PermissionError, The difference between the request time and the current time is too large.. Will retry in 0:10:00.\n",
      "\u001b[5m\u001b[31mWARNING\u001b[0m \u001b[90m3lc: \u001b[0mBlacklisting Url: s3://3lc-projects due to PermissionError, The difference between the request time and the current time is too large.. Will retry in 0:10:00.\n",
      "\u001b[5m\u001b[31mWARNING\u001b[0m \u001b[90m3lc: \u001b[0mBlacklisting Url: s3://3lc-projects due to EndpointConnectionError, Could not connect to the endpoint URL: \"https://3lc-projects.s3.eu-north-1.amazonaws.com/?list-type=2&prefix=chessboard-segmentation%2Fdatasets%2Fchessboard-segmentation-train%2Ftables%2Ftable%2F&delimiter=%2F&encoding-type=url\". Will retry in 0:00:20.\n",
      "\u001b[5m\u001b[31mWARNING\u001b[0m \u001b[90m3lc: \u001b[0mBlacklisting Url: s3://zephyr-experiments/projects due to EndpointConnectionError, Could not connect to the endpoint URL: \"https://zephyr-experiments.s3.eu-north-1.amazonaws.com/?list-type=2&prefix=projects%2F&delimiter=%2F&encoding-type=url\". Will retry in 0:00:20.\n",
      "\u001b[5m\u001b[31mWARNING\u001b[0m \u001b[90m3lc: \u001b[0mBlacklisting Url: s3://3lc-esmart-systems-data/runs/yolov5-bird-nest due to EndpointConnectionError, Could not connect to the endpoint URL: \"https://3lc-esmart-systems-data.s3.eu-north-1.amazonaws.com/?list-type=2&prefix=runs%2Fyolov5-bird-nest%2F&delimiter=%2F&encoding-type=url\". Will retry in 0:00:20.\n"
     ]
    }
   ],
   "source": [
    "run = tlc.init(project_name=PROJECT_NAME, run_name=RUN_NAME)\n",
    "\n",
    "embedding_list_schema = tlc.Schema(\n",
    "    display_name=\"Embeddings\",\n",
    "    writable=False,\n",
    "    value=tlc.Float32Value(number_role=tlc.NUMBER_ROLE_XYZ_COMPONENT),\n",
    "    size0=tlc.DimensionNumericValue(value_min=3, value_max=3, number_role=tlc.NUMBER_ROLE_XYZ_COMPONENT, enforce_max=True),\n",
    "    size1=tlc.DimensionNumericValue(enforce_min=False, value_max=1000),\n",
    ")\n",
    "\n",
    "metrics_writer = tlc.MetricsTableWriter(run_url=run.url, foreign_table_url=original_table.url, column_schemas={\"embeddings\": embedding_list_schema})\n",
    "\n",
    "embedding_index = 0\n",
    "for i, sample in enumerate(original_table):\n",
    "    embeddings_list = []\n",
    "    example_ids = []\n",
    "    for bb in sample[\"bbs\"][\"bb_list\"]:\n",
    "        embeddings_list.append(embeddings[embedding_index].tolist())\n",
    "        embedding_index += 1\n",
    "\n",
    "    metrics_writer.add_row(\n",
    "        {\n",
    "            \"embeddings\": [[e[0] for e in embeddings_list], [e[1] for e in embeddings_list], [e[2] for e in embeddings_list]],\n",
    "            tlc.EXAMPLE_ID: i\n",
    "        }\n",
    "    )\n",
    "\n",
    "# Finalize writes the metrics table to disk\n",
    "metrics_table = metrics_writer.finalize()\n",
    "\n",
    "# Ensure the metrics table is associated with the run\n",
    "run.add_metrics_table(metrics_table)\n",
    "\n",
    "# Mark the run as completed\n",
    "run.set_status_completed()"
   ]
  }
 ],
 "metadata": {
  "kernelspec": {
   "display_name": ".venv",
   "language": "python",
   "name": "python3"
  },
  "language_info": {
   "codemirror_mode": {
    "name": "ipython",
    "version": 3
   },
   "file_extension": ".py",
   "mimetype": "text/x-python",
   "name": "python",
   "nbconvert_exporter": "python",
   "pygments_lexer": "ipython3",
   "version": "3.11.9"
  }
 },
 "nbformat": 4,
 "nbformat_minor": 2
}
