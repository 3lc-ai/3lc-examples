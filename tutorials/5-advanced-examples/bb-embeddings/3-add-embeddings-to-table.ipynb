{
 "cells": [
  {
   "cell_type": "markdown",
   "metadata": {},
   "source": [
    "# Add Embeddings to Table"
   ]
  },
  {
   "cell_type": "markdown",
   "metadata": {},
   "source": [
    "In this tutorial, we will take a set of previously computed embeddings and associate them with their corresponding bounding box in a Table representing\n",
    "a COCO-style object-detection dataset.\n",
    "\n",
    "This will create a Table with an additional column containing the embeddings for each bounding box.\n",
    "\n",
    "To run this notebook, you must also have run:\n",
    "* [1-fine-tune-on-crops.ipynb](https://github.com/3lc-ai/3lc-examples/blob/main/tutorials/bb-embeddings/1-fine-tune-on-crops.ipynb)\n",
    "* [2-collect-embeddings.ipynb](https://github.com/3lc-ai/3lc-examples/blob/main/tutorials/bb-embeddings/2-collect-embeddings.ipynb)"
   ]
  },
  {
   "cell_type": "markdown",
   "metadata": {},
   "source": [
    "## Imports"
   ]
  },
  {
   "cell_type": "code",
   "execution_count": null,
   "metadata": {},
   "outputs": [],
   "source": [
    "from copy import deepcopy\n",
    "\n",
    "import numpy as np\n",
    "import tlc\n",
    "from tqdm.auto import tqdm"
   ]
  },
  {
   "cell_type": "markdown",
   "metadata": {},
   "source": [
    "## Project Setup"
   ]
  },
  {
   "cell_type": "code",
   "execution_count": null,
   "metadata": {},
   "outputs": [],
   "source": [
    "PROJECT_NAME = \"3LC Tutorials\"\n",
    "DATASET_NAME = \"COCO128\"\n",
    "TRANSIENT_DATA_PATH = \"../../../transient_data\"\n",
    "EMBEDDING_SAVE_PATH = TRANSIENT_DATA_PATH + \"/bb_classifier_embeddings.npy\"\n",
    "LABELS_SAVE_PATH = TRANSIENT_DATA_PATH + \"/bb_classifier_labels.npy\"\n",
    "BATCH_SIZE = 32\n",
    "NUM_COMPONENTS = 2"
   ]
  },
  {
   "cell_type": "markdown",
   "metadata": {},
   "source": [
    "## Load input Table"
   ]
  },
  {
   "cell_type": "code",
   "execution_count": null,
   "metadata": {},
   "outputs": [],
   "source": [
    "original_table = tlc.Table.from_names(\n",
    "    table_name=\"initial\",\n",
    "    dataset_name=DATASET_NAME,\n",
    "    project_name=PROJECT_NAME,\n",
    ")"
   ]
  },
  {
   "cell_type": "markdown",
   "metadata": {},
   "source": [
    "## Create New Table with Embeddings"
   ]
  },
  {
   "cell_type": "code",
   "execution_count": null,
   "metadata": {},
   "outputs": [],
   "source": [
    "# Open the embeddings and labels created in previous notebook\n",
    "embeddings = np.load(EMBEDDING_SAVE_PATH)\n",
    "labels = np.load(LABELS_SAVE_PATH)\n",
    "\n",
    "# Create schema for embedding\n",
    "embedding_schema = tlc.Schema(\n",
    "    value=tlc.Float32Value(),\n",
    "    size0=tlc.DimensionNumericValue(NUM_COMPONENTS, NUM_COMPONENTS),\n",
    ")\n",
    "\n",
    "# Create a schema for the new table\n",
    "new_table_schema = deepcopy(original_table.rows_schema)\n",
    "label_schema = deepcopy(new_table_schema.values[\"bbs\"].values[\"bb_list\"].values[\"label\"])\n",
    "label_schema.writable = False\n",
    "new_table_schema.values[\"bbs\"].values[\"bb_list\"].add_sub_schema(\"embedding\", embedding_schema)\n",
    "new_table_schema.values[\"bbs\"].values[\"bb_list\"].add_sub_schema(\"predicted_label\", label_schema)"
   ]
  },
  {
   "cell_type": "code",
   "execution_count": null,
   "metadata": {},
   "outputs": [],
   "source": [
    "# Create a TableWriter for the new table\n",
    "table_writer = tlc.TableWriter(\n",
    "    project_name=PROJECT_NAME,\n",
    "    dataset_name=DATASET_NAME,\n",
    "    table_name=\"embeddings_added\",\n",
    "    column_schemas=new_table_schema.values,\n",
    "    input_tables=[original_table.url],\n",
    ")\n",
    "\n",
    "# Iterate over the rows of the original table and add the embeddings\n",
    "i = 0\n",
    "for row in tqdm(original_table):\n",
    "    new_row = deepcopy(row)\n",
    "    for bb in new_row[\"bbs\"][\"bb_list\"]:\n",
    "        bb[\"embedding\"] = embeddings[i].tolist()\n",
    "        bb[\"predicted_label\"] = int(labels[i])\n",
    "        i += 1\n",
    "\n",
    "    table_writer.add_row(new_row)\n",
    "\n",
    "# Create the new table\n",
    "table_writer.finalize()"
   ]
  }
 ],
 "metadata": {
  "kernelspec": {
   "display_name": ".venv",
   "language": "python",
   "name": "python3"
  },
  "language_info": {
   "codemirror_mode": {
    "name": "ipython",
    "version": 3
   },
   "file_extension": ".py",
   "mimetype": "text/x-python",
   "name": "python",
   "nbconvert_exporter": "python",
   "pygments_lexer": "ipython3",
   "version": "3.11.3"
  }
 },
 "nbformat": 4,
 "nbformat_minor": 2
}
