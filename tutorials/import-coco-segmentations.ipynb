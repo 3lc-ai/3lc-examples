{
 "cells": [
  {
   "cell_type": "markdown",
   "metadata": {},
   "source": [
    "# Add Segmentation Masks to a TableFromCoco\n",
    "\n",
    "Segmentation support is currently quite limited in 3LC, but we are working hard to improve it. In the meantime, you can use this notebook to add segmentation masks to a TableFromCoco object. This will allow you to use the segmentation masks in your 3LC project.\n",
    "\n",
    "NOTE: When segmentation polygons are converted to a single-channel PNG, instance information is lost, and overlapping regions will be merged, with the highest value label taking precedence. \n",
    "\n",
    "NOTE: Using the masks in training is not yet supported, but might be possible with some extra work.\n",
    "\n",
    "NOTE: It is possible to edit the masks in the 3LC Dashboard, but the original polygons, or any associated bounding boxes will not be edited."
   ]
  },
  {
   "cell_type": "code",
   "execution_count": 1,
   "metadata": {},
   "outputs": [],
   "source": [
    "%load_ext autoreload\n",
    "%autoreload 2"
   ]
  },
  {
   "cell_type": "code",
   "execution_count": 2,
   "metadata": {},
   "outputs": [],
   "source": [
    "import tlc\n",
    "from pycocotools.coco import COCO\n",
    "import pycocotools.mask as mask_util\n",
    "from PIL import Image\n",
    "import numpy as np\n",
    "\n",
    "from tools import add_columns_to_table\n",
    "from tools.common import data_root\n"
   ]
  },
  {
   "cell_type": "markdown",
   "metadata": {},
   "source": [
    "Load a TableFromCoco object and its associated annotations.json file."
   ]
  },
  {
   "cell_type": "code",
   "execution_count": 3,
   "metadata": {},
   "outputs": [],
   "source": [
    "# REPLACE THIS WITH YOUR OWN DATA\n",
    "\n",
    "annotations_file = data_root() / \"coco128\" / \"annotations.json\"\n",
    "image_folder = data_root() / \"coco128\" / \"images\"\n",
    "\n",
    "# annotations_file = data_root() / \"balloons/train/train-annotations.json\"\n",
    "# image_folder = data_root() / \"balloons/train\""
   ]
  },
  {
   "cell_type": "code",
   "execution_count": 4,
   "metadata": {},
   "outputs": [],
   "source": [
    "# REPLACE THIS WITH YOUR OWN TABLE\n",
    "\n",
    "table = tlc.Table.from_coco(\n",
    "    annotations_file=annotations_file,\n",
    "    image_folder=image_folder,\n",
    "    table_name=\"initial\",\n",
    "    dataset_name=\"COCO128\",\n",
    "    project_name=\"3LC Demos\",\n",
    ")\n"
   ]
  },
  {
   "cell_type": "code",
   "execution_count": null,
   "metadata": {},
   "outputs": [],
   "source": [
    "table"
   ]
  },
  {
   "cell_type": "code",
   "execution_count": null,
   "metadata": {},
   "outputs": [],
   "source": [
    "# The segmentation _is_ in the Table, but connected components have been flattened, and label information has been lost.\n",
    "# We will fix this in a later release.\n",
    "\n",
    "table[0][\"bbs\"][\"segmentation\"]"
   ]
  },
  {
   "cell_type": "markdown",
   "metadata": {},
   "source": [
    "Unfortunately, the \"segmentation\" field in the TableFromCoco is useless, as it does not contain label information.\n",
    "\n",
    "So, we will need to parse the original annotations.json file, construct new segmentation (polygon) values, create a new column, and add it to the table. Later we can convert the segmentations to masks (png).\n",
    "\n",
    " We will construct a list of values for the new \"polygon_segments\" column of the format:\n",
    "\n",
    "```python\n",
    " {\n",
    "     \"polygons\": list[list[list[float]]],\n",
    "     \"labels\": list[int],\n",
    " }\n",
    "```\n",
    "\n",
    "\"polygons\" dimensions: (n_annotations, n_connected_components, n_points_per_component x 2)\n"
   ]
  },
  {
   "cell_type": "code",
   "execution_count": null,
   "metadata": {},
   "outputs": [],
   "source": [
    "coco = COCO(annotations_file)\n",
    "image_ids = sorted(coco.getImgIds())"
   ]
  },
  {
   "cell_type": "code",
   "execution_count": 8,
   "metadata": {},
   "outputs": [],
   "source": [
    "assert len(image_ids) == len(table)"
   ]
  },
  {
   "cell_type": "code",
   "execution_count": 9,
   "metadata": {},
   "outputs": [],
   "source": [
    "# Collect segmentation polygons and labels\n",
    "segmentation_polygons = []\n",
    "\n",
    "for image_id in image_ids:\n",
    "    annotation_ids = coco.getAnnIds(imgIds=image_id)\n",
    "    annotations = coco.loadAnns(annotation_ids)\n",
    "\n",
    "    polygons = []\n",
    "    labels = []\n",
    "\n",
    "    for annotation in annotations:\n",
    "        segmentation = [[float(x) for x in l] for l in annotation[\"segmentation\"]]\n",
    "        polygons.append(segmentation)\n",
    "        labels.append(annotation[\"category_id\"])\n",
    "\n",
    "    segmentation_polygons.append({\"polygons\": polygons, \"labels\": labels})"
   ]
  },
  {
   "cell_type": "code",
   "execution_count": null,
   "metadata": {},
   "outputs": [],
   "source": [
    "segmentation_polygons[0]"
   ]
  },
  {
   "cell_type": "code",
   "execution_count": 11,
   "metadata": {},
   "outputs": [],
   "source": [
    "# Define a schema for the new column we will add to the table\n",
    "\n",
    "schema = tlc.Schema(\"polygon_segments\")\n",
    "value_map = table.get_value_map(\"bbs.bb_list.label\")\n",
    "assert value_map is not None\n",
    "\n",
    "segmentation_list_schema = tlc.Schema(\n",
    "    value=tlc.Float32Value(), \n",
    "    size0=tlc.DimensionNumericValue(0, 1000),  # Annotations\n",
    "    size1=tlc.DimensionNumericValue(0, 100),   # Connected components\n",
    "    size2=tlc.DimensionNumericValue(0, 10000), # Points per component\n",
    ")\n",
    "\n",
    "label_schema = tlc.Schema(\n",
    "    value=tlc.Int32Value(value_map=value_map),\n",
    "    size0=tlc.DimensionNumericValue(0, 1000),  # Annotations\n",
    ")\n",
    "\n",
    "schema.add_sub_schema(\"polygons\", segmentation_list_schema)\n",
    "schema.add_sub_schema(\"labels\", label_schema)\n",
    "\n",
    "column_schemas = {\n",
    "    \"polygon_segments\": schema\n",
    "}"
   ]
  },
  {
   "cell_type": "code",
   "execution_count": 12,
   "metadata": {},
   "outputs": [],
   "source": [
    "new_table = add_columns_to_table(\n",
    "    table, \n",
    "    {\"polygon_segments\": segmentation_polygons}, \n",
    "    column_schemas, \n",
    "    \"added-polygon-segments\",\n",
    "    \"Added polygon segment column to table\",\n",
    ")"
   ]
  },
  {
   "cell_type": "code",
   "execution_count": 13,
   "metadata": {},
   "outputs": [],
   "source": [
    "bb_list = new_table[0][\"bbs\"][\"bb_list\"]\n",
    "polygons = new_table[0][\"polygon_segments\"][\"polygons\"]\n",
    "labels = new_table[0][\"polygon_segments\"][\"labels\"]"
   ]
  },
  {
   "cell_type": "code",
   "execution_count": null,
   "metadata": {},
   "outputs": [],
   "source": [
    "new_table.columns"
   ]
  },
  {
   "cell_type": "markdown",
   "metadata": {},
   "source": [
    "## Part 2: Convert Polygon to Mask (PNG)\n",
    "\n"
   ]
  },
  {
   "cell_type": "code",
   "execution_count": 15,
   "metadata": {},
   "outputs": [],
   "source": [
    "def polygons_to_mask(polygons: list[list[float]], height: int, width: int) -> np.ndarray:\n",
    "    formatted_polygons = []\n",
    "\n",
    "    for polygon in polygons:\n",
    "        if isinstance(polygon[0], list):  # Handling nested lists of coordinates\n",
    "            # Flatten the polygon (convert from [[x1, y1], [x2, y2], ...] to [x1, y1, x2, y2, ...])\n",
    "            flat_polygon = [coord for point in polygon for coord in point]\n",
    "            formatted_polygons.append(flat_polygon)\n",
    "        else:\n",
    "            formatted_polygons.append(polygon)\n",
    "\n",
    "    # Convert polygons to COCO-style RLE format\n",
    "    rle = mask_util.frPyObjects(formatted_polygons, height, width)\n",
    "\n",
    "    # Decode RLE into a binary mask\n",
    "    mask = mask_util.decode(rle)[:, :]\n",
    "    \n",
    "    return mask"
   ]
  },
  {
   "cell_type": "code",
   "execution_count": 16,
   "metadata": {},
   "outputs": [],
   "source": [
    "def row_to_mask(row):\n",
    "    image_height = row[\"height\"]\n",
    "    image_width = row[\"width\"]\n",
    "\n",
    "    polygons = row[\"polygon_segments\"][\"polygons\"]\n",
    "    labels = row[\"polygon_segments\"][\"labels\"]\n",
    "    labels = [label + 1 for label in labels]\n",
    "\n",
    "    if len(polygons) == 0:\n",
    "        return Image.new(\"L\", (image_width, image_height))\n",
    "    \n",
    "    masks = [polygons_to_mask(polygon, image_height, image_width) for polygon in polygons]\n",
    "\n",
    "    # Create a mask for each label\n",
    "    label_masks = [np.zeros_like(mask) for mask in masks]\n",
    "\n",
    "    for mask, orig_mask, label in zip(label_masks, masks, labels):\n",
    "        mask[orig_mask == 1] = label\n",
    "\n",
    "    # Combine the masks into a single image\n",
    "    combined_mask = np.zeros_like(masks[0])\n",
    "\n",
    "    for mask in label_masks:\n",
    "        combined_mask = np.maximum(combined_mask, mask)\n",
    "\n",
    "    mask_image = Image.fromarray(combined_mask.squeeze().astype(np.uint8))\n",
    "    return mask_image"
   ]
  },
  {
   "cell_type": "code",
   "execution_count": 18,
   "metadata": {},
   "outputs": [],
   "source": [
    "masks = [row_to_mask(row) for row in new_table]"
   ]
  },
  {
   "cell_type": "code",
   "execution_count": 19,
   "metadata": {},
   "outputs": [],
   "source": [
    "# Construct a incremented value map (0 is reserved for the background)\n",
    "\n",
    "map = {0: tlc.MapElement(\"background\")}\n",
    "for value, label in value_map.items():\n",
    "    map[value+1] = label\n",
    "\n",
    "mask_schema = tlc.SegmentationPILImage(\"mask\", classes=map)"
   ]
  },
  {
   "cell_type": "code",
   "execution_count": 20,
   "metadata": {},
   "outputs": [],
   "source": [
    "# Add the masks to the table\n",
    "with tlc.bulk_data_url_context(new_table.bulk_data_url.to_absolute(new_table.url), new_table.url):\n",
    "    mask_table = add_columns_to_table(\n",
    "        new_table, {\"mask\": masks},\n",
    "        {\"mask\": mask_schema},\n",
    "        \"added-masks\",\n",
    "        \"Added masks to table\",\n",
    "    )"
   ]
  },
  {
   "cell_type": "code",
   "execution_count": null,
   "metadata": {},
   "outputs": [],
   "source": [
    "mask_table.table_rows[0][\"mask\"]"
   ]
  }
 ],
 "metadata": {
  "kernelspec": {
   "display_name": ".venv",
   "language": "python",
   "name": "python3"
  },
  "language_info": {
   "codemirror_mode": {
    "name": "ipython",
    "version": 3
   },
   "file_extension": ".py",
   "mimetype": "text/x-python",
   "name": "python",
   "nbconvert_exporter": "python",
   "pygments_lexer": "ipython3",
   "version": "3.11.3"
  }
 },
 "nbformat": 4,
 "nbformat_minor": 2
}
