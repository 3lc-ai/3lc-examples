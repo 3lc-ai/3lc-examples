{
 "cells": [
  {
   "cell_type": "markdown",
   "metadata": {},
   "source": [
    "# Get image embeddings using SAM"
   ]
  },
  {
   "cell_type": "markdown",
   "metadata": {},
   "source": [
    "<div style=\"display: inline-flex; align-items: center; gap: 10px;\">\n",
    "        <a href=\"https://colab.research.google.com/github/3lc-ai/3lc-examples/blob/main/tutorials/sam-embeddings.ipynb\"\n",
    "        target=\"_blank\"\n",
    "            style=\"background-color: transparent; text-decoration: none; display: inline-flex; align-items: center;\n",
    "            padding: 5px 10px; font-family: Arial, sans-serif;\"> <img\n",
    "            src=\"https://colab.research.google.com/assets/colab-badge.svg\" alt=\"Open In Colab\" style=\"height: 30px;\n",
    "            vertical-align: middle;box-shadow: none;\"/>\n",
    "        </a> <a href=\"https://github.com/3lc-ai/3lc-examples/blob/main/tutorials/sam-embeddings.ipynb\"\n",
    "            style=\"text-decoration: none; display: inline-flex; align-items: center; background-color: #ffffff; border:\n",
    "            1px solid #d1d5da; border-radius: 8px; padding: 2px 10px; color: #333; font-family: Arial, sans-serif;\">\n",
    "            <svg aria-hidden=\"true\" focusable=\"false\" role=\"img\" class=\"octicon octicon-mark-github\" viewBox=\"0 0 16 16\"\n",
    "            width=\"20\" height=\"20\" fill=\"#333\"\n",
    "            style=\"display:inline-block;user-select:none;vertical-align:text-bottom;overflow:visible; margin-right:\n",
    "            8px;\">\n",
    "                <path d=\"M8 0c4.42 0 8 3.58 8 8a8.013 8.013 0 0 1-5.45 7.59c-.4.08-.55-.17-.55-.38 0-.27.01-1.13.01-2.2\n",
    "                0-.75-.25-1.23-.54-1.48 1.78-.2 3.65-.88 3.65-3.95 0-.88-.31-1.59-.82-2.15.08-.2.36-1.02-.08-2.12 0\n",
    "                0-.67-.22-2.2.82-.64-.18-1.32-.27-2-.27-.68 0-1.36.09-2 .27-1.53-1.03-2.2-.82-2.2-.82-.44 1.1-.16\n",
    "                1.92-.08 2.12-.51.56-.82 1.28-.82 2.15 0 3.06 1.86 3.75 3.64 3.95-.23.2-.44.55-.51\n",
    "                1.07-.46.21-1.61.55-2.33-.66-.15-.24-.6-.83-1.23-.82-.67.01-.27.38.01.53.34.19.73.9.82 1.13.16.45.68\n",
    "                1.31 2.69.94 0 .67.01 1.3.01 1.49 0 .21-.15.45-.55.38A7.995 7.995 0 0 1 0 8c0-4.42 3.58-8 8-8Z\"></path>\n",
    "            </svg> <span style=\"vertical-align: middle; color: #333;\">Open in GitHub</span>\n",
    "        </a>\n",
    "</div>"
   ]
  },
  {
   "cell_type": "markdown",
   "metadata": {},
   "source": [
    "In this example, we will show how to create a Run containing embeddings extracted from SAM for a set of images."
   ]
  },
  {
   "cell_type": "markdown",
   "metadata": {},
   "source": [
    "## Constants"
   ]
  },
  {
   "cell_type": "code",
   "execution_count": 14,
   "metadata": {},
   "outputs": [],
   "source": [
    "ABSOLUTE_PATH_TO_IMAGES = \"/Users/markus/Code/3lc-examples/data/coco128/images\"\n",
    "MODEL_TYPE = \"vit_b\"\n",
    "MODEL_URL = \"https://dl.fbaipublicfiles.com/segment_anything/sam_vit_b_01ec64.pth\"\n",
    "CHECKPOINT = \"sam_vit_b_01ec64.pth\"\n",
    "DEVICE = \"mps\"\n",
    "EMBEDDING_DIM = 3\n",
    "REDUCTION_METHOD = \"pacmap\"\n",
    "BATCH_SIZE = 4\n",
    "INSTALL_DEPENDENCIES = False"
   ]
  },
  {
   "cell_type": "markdown",
   "metadata": {},
   "source": [
    "## Install dependencies"
   ]
  },
  {
   "cell_type": "code",
   "execution_count": 15,
   "metadata": {},
   "outputs": [],
   "source": [
    "%%capture\n",
    "if INSTALL_DEPENDENCIES:\n",
    "    %pip --quiet install 3lc segment_anything pacmap opencv-python"
   ]
  },
  {
   "cell_type": "markdown",
   "metadata": {},
   "source": [
    "## Imports"
   ]
  },
  {
   "cell_type": "code",
   "execution_count": 16,
   "metadata": {},
   "outputs": [],
   "source": [
    "from pathlib import Path\n",
    "import tlc\n",
    "import torch\n",
    "from segment_anything import sam_model_registry\n",
    "from segment_anything.utils.transforms import ResizeLongestSide\n",
    "import cv2\n",
    "from tqdm import tqdm\n",
    "from torch.utils.data import DataLoader"
   ]
  },
  {
   "cell_type": "markdown",
   "metadata": {},
   "source": [
    "## Download model weights"
   ]
  },
  {
   "cell_type": "code",
   "execution_count": 17,
   "metadata": {},
   "outputs": [],
   "source": [
    "if not Path(CHECKPOINT).exists():\n",
    "    torch.hub.download_url_to_file(MODEL_URL, CHECKPOINT)"
   ]
  },
  {
   "cell_type": "markdown",
   "metadata": {},
   "source": [
    "## Set up model and preprocessing"
   ]
  },
  {
   "cell_type": "code",
   "execution_count": 18,
   "metadata": {},
   "outputs": [],
   "source": [
    "def create_model():\n",
    "    sam_model = sam_model_registry[MODEL_TYPE](checkpoint=CHECKPOINT)\n",
    "    sam_model.to(DEVICE)\n",
    "    sam_model.eval()\n",
    "    return sam_model"
   ]
  },
  {
   "cell_type": "code",
   "execution_count": 19,
   "metadata": {},
   "outputs": [],
   "source": [
    "sam_model = create_model()\n",
    "RESIZE_TRANSFORM = ResizeLongestSide(sam_model.image_encoder.img_size)\n",
    "PREPROCESS_TRANSFORM = sam_model.preprocess\n",
    "\n",
    "def transform_to_sam_format(sample):\n",
    "    image = cv2.cvtColor(cv2.imread(sample[\"image\"]), cv2.COLOR_BGR2RGB)\n",
    "    image = RESIZE_TRANSFORM.apply_image(image)\n",
    "    image = torch.as_tensor(image, device=DEVICE).permute(2, 0, 1).contiguous()\n",
    "    image = PREPROCESS_TRANSFORM(image)\n",
    "\n",
    "    return {\"image\": image}"
   ]
  },
  {
   "cell_type": "markdown",
   "metadata": {},
   "source": [
    "## Create 3LC Table and Run"
   ]
  },
  {
   "cell_type": "code",
   "execution_count": 20,
   "metadata": {},
   "outputs": [],
   "source": [
    "# The paths of all the images in the specified directory\n",
    "image_paths = sorted([str(p) for p in Path(ABSOLUTE_PATH_TO_IMAGES).iterdir()])\n",
    "\n",
    "# Create a table with the image paths and apply the transformation defined above\n",
    "table = tlc.Table.from_dict(\n",
    "    data={\"image\": image_paths},\n",
    "    structure={\"image\": tlc.ImagePath},\n",
    "    project_name=\"SAM-embeddings\",\n",
    "    dataset_name=\"Name of my dataset\",\n",
    "    table_name=\"initial\",\n",
    ").map(transform_to_sam_format)\n",
    "\n",
    "# Initialize a 3LC Run\n",
    "run = tlc.init(project_name=\"SAM-embeddings\", run_name=\"Collect embeddings\")\n",
    "\n",
    "# Add our Table to the Run\n",
    "run.add_input_table(table)"
   ]
  },
  {
   "cell_type": "markdown",
   "metadata": {},
   "source": [
    "## Collect embeddings using SAM"
   ]
  },
  {
   "cell_type": "code",
   "execution_count": 21,
   "metadata": {},
   "outputs": [
    {
     "name": "stderr",
     "output_type": "stream",
     "text": [
      "100%|██████████| 32/32 [01:18<00:00,  2.44s/it]\n"
     ]
    },
    {
     "data": {
      "text/plain": [
       "{Url('/Users/markus/Library/Application Support/3LC/projects/SAM-embeddings/runs/Collect embeddings_0004/metrics_0000'): Url('/Users/markus/Library/Application Support/3LC/projects/SAM-embeddings/runs/Collect embeddings_0004/metrics_0000_reduced_embedding_00')}"
      ]
     },
     "execution_count": 21,
     "metadata": {},
     "output_type": "execute_result"
    }
   ],
   "source": [
    "# Define the Schema for our MetricsTableWriter\n",
    "embedding_size = tlc.DimensionNumericValue(\n",
    "    value_min=256,\n",
    "    value_max=256,\n",
    "    enforce_min=True,\n",
    "    enforce_max=True,\n",
    ")\n",
    "image_embedding_schema = tlc.Schema(\n",
    "    \"Image Embedding\",\n",
    "    writable=False,\n",
    "    computable=False,\n",
    "    value=tlc.Float32Value(number_role=tlc.NUMBER_ROLE_NN_EMBEDDING),\n",
    "    size0=embedding_size,\n",
    ")\n",
    "\n",
    "# Create a MetricsTableWriter\n",
    "metrics_writer = tlc.MetricsTableWriter(\n",
    "    run.url,\n",
    "    table.url,\n",
    "    column_schemas={\"embedding\": image_embedding_schema},\n",
    ")\n",
    "\n",
    "\n",
    "# Iterate over the Table and collect the embeddings\n",
    "for i, sample in enumerate(tqdm(DataLoader(table, batch_size=BATCH_SIZE))):\n",
    "    with torch.no_grad():\n",
    "        embedding = sam_model.image_encoder(sample[\"image\"])\n",
    "    metrics_writer.add_batch(\n",
    "        {\n",
    "            \"embedding\": embedding.mean(dim=[2, 3]).cpu().numpy(),\n",
    "            \"example_id\": list(range(i * BATCH_SIZE, (i + 1) * BATCH_SIZE)),\n",
    "        }\n",
    "    )\n",
    "\n",
    "# Finalize the MetricsTableWriter and update the Run with the collected metrics\n",
    "metrics_writer.finalize()\n",
    "metrics_infos = metrics_writer.get_written_metrics_infos()\n",
    "run.update_metrics(metrics_infos)\n",
    "\n",
    "# Reduce the embeddings using the specified method and number of dimensions\n",
    "run.reduce_embeddings_by_foreign_table_url(\n",
    "    table.url, method=REDUCTION_METHOD, n_components=EMBEDDING_DIM\n",
    ")"
   ]
  }
 ],
 "metadata": {
  "kernelspec": {
   "display_name": ".venv",
   "language": "python",
   "name": "python3"
  },
  "language_info": {
   "codemirror_mode": {
    "name": "ipython",
    "version": 3
   },
   "file_extension": ".py",
   "mimetype": "text/x-python",
   "name": "python",
   "nbconvert_exporter": "python",
   "pygments_lexer": "ipython3",
   "version": "3.11.9"
  }
 },
 "nbformat": 4,
 "nbformat_minor": 2
}
