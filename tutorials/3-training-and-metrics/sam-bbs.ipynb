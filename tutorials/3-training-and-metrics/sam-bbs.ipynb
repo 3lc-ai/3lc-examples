{
 "cells": [
  {
   "cell_type": "markdown",
   "metadata": {},
   "source": [
    "<!-- For reference:\n",
    "\n",
    "from ultralytics.data.annotator import auto_annotate\n",
    "from ultralytics.models.sam import Predictor as SAMPredictor\n",
    "from ultralytics import SAM -->"
   ]
  },
  {
   "cell_type": "code",
   "execution_count": null,
   "metadata": {},
   "outputs": [],
   "source": [
    "%load_ext autoreload\n",
    "%autoreload 2"
   ]
  },
  {
   "cell_type": "code",
   "execution_count": null,
   "metadata": {},
   "outputs": [],
   "source": [
    "import cv2\n",
    "import numpy as np\n",
    "import tlc\n",
    "import tqdm\n",
    "from segment_anything import SamPredictor, sam_model_registry\n",
    "\n",
    "from tlc_tools.common import infer_torch_device"
   ]
  },
  {
   "cell_type": "code",
   "execution_count": null,
   "metadata": {},
   "outputs": [],
   "source": [
    "PROJECT_NAME = \"3LC Tutorials\"\n",
    "MODEL_TYPE = \"vit_b\"\n",
    "MODEL_URL = \"https://dl.fbaipublicfiles.com/segment_anything/sam_vit_b_01ec64.pth\"\n",
    "CHECKPOINT = \"../../transient_data/sam_vit_b_01ec64.pth\"\n",
    "EMBEDDING_DIM = 3\n",
    "REDUCTION_METHOD = \"umap\"\n",
    "BATCH_SIZE = 4"
   ]
  },
  {
   "cell_type": "code",
   "execution_count": null,
   "metadata": {},
   "outputs": [],
   "source": [
    "device = infer_torch_device()\n",
    "print(f\"Using device: {device}\")"
   ]
  },
  {
   "cell_type": "code",
   "execution_count": null,
   "metadata": {},
   "outputs": [],
   "source": [
    "def bbs_to_segments(\n",
    "    input_table: tlc.Table,\n",
    "    sam_model_type: str = MODEL_TYPE,\n",
    "    checkpoint: str = CHECKPOINT,\n",
    "):\n",
    "    sam_model = sam_model_registry[sam_model_type](checkpoint=checkpoint)\n",
    "    sam_model.to(device)\n",
    "    sam_model.eval()\n",
    "\n",
    "    sam_predictor = SamPredictor(sam_model)\n",
    "\n",
    "    value_map = input_table.get_value_map(\"bbs.bb_list.label\")\n",
    "\n",
    "    table_writer = tlc.TableWriter(\n",
    "        f\"{input_table.name}-sam\",\n",
    "        input_table.dataset_name,\n",
    "        input_table.project_name,\n",
    "        description=\"Added SAM-segmentations from bounding box prompts\",\n",
    "        column_schemas={\n",
    "            \"image\": tlc.ImageUrlStringValue(),\n",
    "            \"segments\": tlc.InstanceSegmentationMasks(\n",
    "                \"segments\",\n",
    "                instance_properties_structure={\n",
    "                    \"label\": tlc.CategoricalLabel(\"label\", classes=value_map),\n",
    "                    \"score\": tlc.Schema(\n",
    "                        value=tlc.Float32Value(0, 1), description=\"Confidence score (predicted IoU) of the segmentation\"\n",
    "                    ),\n",
    "                },\n",
    "                is_prediction=True,\n",
    "            ),\n",
    "        },\n",
    "        input_tables=[input_table.url],\n",
    "    )\n",
    "\n",
    "    for row in tqdm.tqdm(input_table, desc=\"Processing rows\", total=len(input_table)):\n",
    "        segments = []\n",
    "        labels = []\n",
    "        confidence = []\n",
    "\n",
    "        image = cv2.imread(row[\"image\"])\n",
    "        sam_predictor.set_image(image)\n",
    "\n",
    "        for bb in row[\"bbs\"][\"bb_list\"]:\n",
    "            box_arr = np.array([bb[\"x0\"], bb[\"y0\"], bb[\"x0\"] + bb[\"x1\"], bb[\"y0\"] + bb[\"y1\"]])\n",
    "\n",
    "            masks, scores, _ = sam_predictor.predict(\n",
    "                box=box_arr,\n",
    "                multimask_output=False,\n",
    "            )\n",
    "\n",
    "            segments.append(masks[0].astype(np.uint8))\n",
    "            labels.append(bb[\"label\"])\n",
    "            confidence.append(scores[0])\n",
    "\n",
    "        if len(segments) > 0:\n",
    "            stacked_masks = np.asfortranarray(np.stack(segments, axis=-1))\n",
    "        else:\n",
    "            stacked_masks = np.zeros((0, 0, 0), dtype=np.uint8)\n",
    "\n",
    "        output_row = {\n",
    "            \"image\": row[\"image\"],\n",
    "            \"segments\": {\n",
    "                \"image_height\": image.shape[0],\n",
    "                \"image_width\": image.shape[1],\n",
    "                \"masks\": stacked_masks,\n",
    "                \"instance_properties\": {\n",
    "                    \"label\": labels,\n",
    "                    \"score\": confidence,\n",
    "                },\n",
    "            },\n",
    "        }\n",
    "\n",
    "        table_writer.add_row(output_row)\n",
    "\n",
    "    out_table = table_writer.finalize()\n",
    "    return out_table"
   ]
  },
  {
   "cell_type": "code",
   "execution_count": null,
   "metadata": {},
   "outputs": [],
   "source": [
    "# table = tlc.Table.from_names(\"train\", \"Aerial-aerial-sheep\", \"RF100VL\")\n",
    "table = tlc.Table.from_names(\"initial\", \"COCO128\", \"3LC Tutorials\")\n",
    "out_table = bbs_to_segments(table)"
   ]
  }
 ],
 "metadata": {
  "kernelspec": {
   "display_name": ".venv",
   "language": "python",
   "name": "python3"
  },
  "language_info": {
   "codemirror_mode": {
    "name": "ipython",
    "version": 3
   },
   "file_extension": ".py",
   "mimetype": "text/x-python",
   "name": "python",
   "nbconvert_exporter": "python",
   "pygments_lexer": "ipython3",
   "version": "3.12.9"
  }
 },
 "nbformat": 4,
 "nbformat_minor": 2
}
