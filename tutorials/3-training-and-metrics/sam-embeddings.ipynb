{
 "cells": [
  {
   "cell_type": "markdown",
   "metadata": {},
   "source": [
    "# Get image embeddings using SAM"
   ]
  },
  {
   "cell_type": "markdown",
   "metadata": {},
   "source": [
    "In this example, we will show how to create a Run containing embeddings extracted from SAM for a set of images."
   ]
  },
  {
   "cell_type": "markdown",
   "metadata": {},
   "source": [
    "## Constants"
   ]
  },
  {
   "cell_type": "code",
   "execution_count": 1,
   "metadata": {},
   "outputs": [],
   "source": [
    "from pathlib import Path\n",
    "\n",
    "PROJECT_NAME = \"3LC Tutorials\"\n",
    "MODEL_TYPE = \"vit_b\"\n",
    "MODEL_URL = \"https://dl.fbaipublicfiles.com/segment_anything/sam_vit_b_01ec64.pth\"\n",
    "CHECKPOINT = \"../../transient_data/sam_vit_b_01ec64.pth\"\n",
    "DEVICE = None\n",
    "EMBEDDING_DIM = 3\n",
    "REDUCTION_METHOD = \"umap\"\n",
    "BATCH_SIZE = 4\n",
    "INSTALL_DEPENDENCIES = False"
   ]
  },
  {
   "cell_type": "markdown",
   "metadata": {},
   "source": [
    "## Install dependencies"
   ]
  },
  {
   "cell_type": "code",
   "execution_count": 2,
   "metadata": {},
   "outputs": [],
   "source": [
    "%%capture\n",
    "if INSTALL_DEPENDENCIES:\n",
    "    %pip --quiet install 3lc segment_anything opencv-python\n",
    "    if REDUCTION_METHOD == \"umap\":\n",
    "        %pip --quiet install umap-learn joblib\n",
    "    elif REDUCTION_METHOD == \"pacmap\":\n",
    "        %pip --quiet install pacmap joblib"
   ]
  },
  {
   "cell_type": "markdown",
   "metadata": {},
   "source": [
    "## Imports"
   ]
  },
  {
   "cell_type": "code",
   "execution_count": 3,
   "metadata": {},
   "outputs": [],
   "source": [
    "import tlc\n",
    "import torch\n",
    "from segment_anything import sam_model_registry\n",
    "from segment_anything.utils.transforms import ResizeLongestSide\n",
    "import cv2"
   ]
  },
  {
   "cell_type": "markdown",
   "metadata": {},
   "source": [
    "## Infer which device to use"
   ]
  },
  {
   "cell_type": "code",
   "execution_count": 4,
   "metadata": {},
   "outputs": [],
   "source": [
    "if DEVICE is None:\n",
    "    if torch.cuda.is_available():\n",
    "        device = \"cuda:0\"\n",
    "    elif torch.backends.mps.is_available():\n",
    "        device = \"mps\"\n",
    "    else:\n",
    "        device = \"cpu\"\n",
    "else:\n",
    "    device = DEVICE"
   ]
  },
  {
   "cell_type": "markdown",
   "metadata": {},
   "source": [
    "## Download model weights"
   ]
  },
  {
   "cell_type": "code",
   "execution_count": 5,
   "metadata": {},
   "outputs": [],
   "source": [
    "if not Path(CHECKPOINT).exists():\n",
    "    torch.hub.download_url_to_file(MODEL_URL, CHECKPOINT)"
   ]
  },
  {
   "cell_type": "markdown",
   "metadata": {},
   "source": [
    "## Set up model and preprocessing"
   ]
  },
  {
   "cell_type": "code",
   "execution_count": 6,
   "metadata": {},
   "outputs": [],
   "source": [
    "def create_model():\n",
    "    sam_model = sam_model_registry[MODEL_TYPE](checkpoint=CHECKPOINT)\n",
    "    sam_model.to(device)\n",
    "    sam_model.eval()\n",
    "    return sam_model"
   ]
  },
  {
   "cell_type": "code",
   "execution_count": 7,
   "metadata": {},
   "outputs": [
    {
     "name": "stderr",
     "output_type": "stream",
     "text": [
      "c:\\Project\\notebook-examples\\.venv\\Lib\\site-packages\\segment_anything\\build_sam.py:105: FutureWarning: You are using `torch.load` with `weights_only=False` (the current default value), which uses the default pickle module implicitly. It is possible to construct malicious pickle data which will execute arbitrary code during unpickling (See https://github.com/pytorch/pytorch/blob/main/SECURITY.md#untrusted-models for more details). In a future release, the default value for `weights_only` will be flipped to `True`. This limits the functions that could be executed during unpickling. Arbitrary objects will no longer be allowed to be loaded via this mode unless they are explicitly allowlisted by the user via `torch.serialization.add_safe_globals`. We recommend you start setting `weights_only=True` for any use case where you don't have full control of the loaded file. Please open an issue on GitHub for any issues related to this experimental feature.\n",
      "  state_dict = torch.load(f)\n"
     ]
    }
   ],
   "source": [
    "sam_model = create_model()\n",
    "RESIZE_TRANSFORM = ResizeLongestSide(sam_model.image_encoder.img_size)\n",
    "PREPROCESS_TRANSFORM = sam_model.preprocess\n",
    "\n",
    "def transform_to_sam_format(sample):\n",
    "    image = cv2.cvtColor(cv2.imread(sample[\"image\"]), cv2.COLOR_BGR2RGB)\n",
    "    image = RESIZE_TRANSFORM.apply_image(image)\n",
    "    image = torch.as_tensor(image, device=device).permute(2, 0, 1).contiguous()\n",
    "    image = PREPROCESS_TRANSFORM(image)\n",
    "\n",
    "    return {\"image\": image}"
   ]
  },
  {
   "cell_type": "markdown",
   "metadata": {},
   "source": [
    "## Create 3LC Table and Run"
   ]
  },
  {
   "cell_type": "code",
   "execution_count": 8,
   "metadata": {},
   "outputs": [
    {
     "name": "stdout",
     "output_type": "stream",
     "text": [
      "\u001b[90m3lc: \u001b[0mCreated new run at C:/Users/gudbrand/AppData/Local/3LC/3LC/projects/3LC Tutorials/runs/Collect embeddings\n"
     ]
    }
   ],
   "source": [
    "# Reuse the COCO128 table from ../1-create-tables/create-table-from-coco and apply the transformation defined above\n",
    "table = tlc.Table.from_names(\"initial\", \"COCO128\", PROJECT_NAME).map(transform_to_sam_format)\n",
    "\n",
    "# Initialize a 3LC Run\n",
    "run = tlc.init(\n",
    "    project_name=PROJECT_NAME,\n",
    "    run_name=\"Collect embeddings\",\n",
    "    description=\"Collect embeddings for the COCO128 dataset using the SAM model\",\n",
    ")"
   ]
  },
  {
   "cell_type": "markdown",
   "metadata": {},
   "source": [
    "## Collect embeddings using SAM"
   ]
  },
  {
   "cell_type": "code",
   "execution_count": 9,
   "metadata": {},
   "outputs": [
    {
     "data": {
      "application/vnd.jupyter.widget-view+json": {
       "model_id": "b401721727134b02a18fddab314aca36",
       "version_major": 2,
       "version_minor": 0
      },
      "text/plain": [
       "Output()"
      ]
     },
     "metadata": {},
     "output_type": "display_data"
    },
    {
     "data": {
      "text/html": [
       "<pre style=\"white-space:pre;overflow-x:auto;line-height:normal;font-family:Menlo,'DejaVu Sans Mono',consolas,'Courier New',monospace\"></pre>\n"
      ],
      "text/plain": []
     },
     "metadata": {},
     "output_type": "display_data"
    }
   ],
   "source": [
    "\n",
    "embeddings_metrics_collector = tlc.EmbeddingsMetricsCollector(layers=[0])\n",
    "\n",
    "predictor = tlc.Predictor(\n",
    "    sam_model.image_encoder,\n",
    "    layers=[0],\n",
    "    unpack_dicts=True,\n",
    "    device=device,\n",
    ")\n",
    "\n",
    "tlc.collect_metrics(\n",
    "    table,\n",
    "    embeddings_metrics_collector,\n",
    "    predictor,\n",
    ")"
   ]
  },
  {
   "cell_type": "markdown",
   "metadata": {},
   "source": [
    "## Reduce dimensionality of embeddings"
   ]
  },
  {
   "cell_type": "code",
   "execution_count": 10,
   "metadata": {},
   "outputs": [
    {
     "name": "stdout",
     "output_type": "stream",
     "text": [
      "\u001b[90m3lc: \u001b[0mFitting UMAP model on column 'embeddings_0' for table ../metrics_0000\n"
     ]
    },
    {
     "data": {
      "application/vnd.jupyter.widget-view+json": {
       "model_id": "1d46e102788449048de138f17f331370",
       "version_major": 2,
       "version_minor": 0
      },
      "text/plain": [
       "Epochs completed:   0%|            0/500 [00:00]"
      ]
     },
     "metadata": {},
     "output_type": "display_data"
    },
    {
     "name": "stdout",
     "output_type": "stream",
     "text": [
      "\u001b[90m3lc: \u001b[0mTransforming column 'embeddings_0' in table ../metrics_0000 with UMAP model ./reduced_0000.pkl\n"
     ]
    },
    {
     "data": {
      "text/plain": [
       "{Url('C:/Users/gudbrand/AppData/Local/3LC/3LC/projects/3LC Tutorials/runs/Collect embeddings/metrics_0000'): Url('C:/Users/gudbrand/AppData/Local/3LC/3LC/projects/3LC Tutorials/runs/Collect embeddings/reduced_0000')}"
      ]
     },
     "execution_count": 10,
     "metadata": {},
     "output_type": "execute_result"
    }
   ],
   "source": [
    "run.reduce_embeddings_by_foreign_table_url(\n",
    "    table.url,\n",
    "    method=REDUCTION_METHOD,\n",
    "    n_components=EMBEDDING_DIM\n",
    ")"
   ]
  }
 ],
 "metadata": {
  "kernelspec": {
   "display_name": ".venv",
   "language": "python",
   "name": "python3"
  },
  "language_info": {
   "codemirror_mode": {
    "name": "ipython",
    "version": 3
   },
   "file_extension": ".py",
   "mimetype": "text/x-python",
   "name": "python",
   "nbconvert_exporter": "python",
   "pygments_lexer": "ipython3",
   "version": "3.11.3"
  }
 },
 "nbformat": 4,
 "nbformat_minor": 2
}
