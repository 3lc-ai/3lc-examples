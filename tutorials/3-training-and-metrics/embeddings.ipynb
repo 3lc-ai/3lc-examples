{
 "cells": [
  {
   "cell_type": "code",
   "execution_count": null,
   "metadata": {},
   "outputs": [],
   "source": [
    "\n",
    "\n",
    "# Input: a classification model, a train table, and a val table\n",
    "\n",
    "# collect embeddings on the train table and the val table, add the embeddings as new columns to the table\n",
    "\n",
    "# fit a umap model on the train table, and transform the val table\n"
   ]
  },
  {
   "cell_type": "code",
   "execution_count": null,
   "metadata": {},
   "outputs": [],
   "source": [
    "import tlc\n",
    "import timm\n",
    "from tlc_tools.common import infer_torch_device\n",
    "from torchvision.transforms import Compose, Resize, ToTensor, Normalize\n",
    "from tlc_tools.embeddings import add_embeddings_to_table\n"
   ]
  },
  {
   "cell_type": "code",
   "execution_count": null,
   "metadata": {},
   "outputs": [],
   "source": [
    "model_name = \"resnet18\""
   ]
  },
  {
   "cell_type": "code",
   "execution_count": null,
   "metadata": {},
   "outputs": [],
   "source": [
    "train_table = tlc.Table.from_names(\"initial\", \"CIFAR-10-train\", \"3LC Tutorials\")\n",
    "val_table = tlc.Table.from_names(\"initial\", \"CIFAR-10-val\", \"3LC Tutorials\")"
   ]
  },
  {
   "cell_type": "code",
   "execution_count": null,
   "metadata": {},
   "outputs": [],
   "source": [
    "device = infer_torch_device()\n",
    "model = timm.create_model(model_name, pretrained=True, num_classes=0)\n",
    "model = model.to(device)"
   ]
  },
  {
   "cell_type": "code",
   "execution_count": null,
   "metadata": {},
   "outputs": [],
   "source": [
    "\n",
    "transform = Compose([\n",
    "    Resize(256),\n",
    "    ToTensor(),\n",
    "    Normalize(mean=[0.485, 0.456, 0.406], std=[0.229, 0.224, 0.225])\n",
    "])\n",
    "\n",
    "def transformed_image(sample):\n",
    "    return transform(sample[0])\n",
    "\n",
    "train_table.clear_maps()\n",
    "train_table.map(transformed_image)\n",
    "\n",
    "val_table.clear_maps()\n",
    "val_table.map(transformed_image)\n",
    "\n",
    "train_table[0]"
   ]
  },
  {
   "cell_type": "code",
   "execution_count": null,
   "metadata": {},
   "outputs": [],
   "source": [
    "train_table_with_embeddings = add_embeddings_to_table(train_table, model, device=device)"
   ]
  },
  {
   "cell_type": "code",
   "execution_count": null,
   "metadata": {},
   "outputs": [],
   "source": [
    "val_table_with_embeddings = add_embeddings_to_table(val_table, model, device=device)"
   ]
  },
  {
   "cell_type": "code",
   "execution_count": null,
   "metadata": {},
   "outputs": [],
   "source": [
    "url_mapping = tlc.reduce_embeddings_with_producer_consumer(\n",
    "    val_table_with_embeddings,\n",
    "    [train_table_with_embeddings],\n",
    "    method=\"pacmap\",\n",
    "    n_components=2,\n",
    ")"
   ]
  },
  {
   "cell_type": "code",
   "execution_count": null,
   "metadata": {},
   "outputs": [],
   "source": [
    "reduced_train_table_url = url_mapping[train_table_with_embeddings.url]\n",
    "reduced_val_table_url = url_mapping[val_table_with_embeddings.url]"
   ]
  },
  {
   "cell_type": "code",
   "execution_count": null,
   "metadata": {},
   "outputs": [],
   "source": [
    "print(f\"Reduced train table url: {reduced_train_table_url}\")\n",
    "print(f\"Reduced val table url: {reduced_val_table_url}\")"
   ]
  }
 ],
 "metadata": {
  "kernelspec": {
   "display_name": ".venv",
   "language": "python",
   "name": "python3"
  },
  "language_info": {
   "codemirror_mode": {
    "name": "ipython",
    "version": 3
   },
   "file_extension": ".py",
   "mimetype": "text/x-python",
   "name": "python",
   "nbconvert_exporter": "python",
   "pygments_lexer": "ipython3",
   "version": "3.11.3"
  }
 },
 "nbformat": 4,
 "nbformat_minor": 2
}
