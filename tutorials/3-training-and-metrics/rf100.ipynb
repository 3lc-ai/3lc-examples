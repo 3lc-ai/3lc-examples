{
 "cells": [
  {
   "cell_type": "code",
   "execution_count": null,
   "metadata": {},
   "outputs": [],
   "source": [
    "%load_ext autoreload\n",
    "%autoreload 2"
   ]
  },
  {
   "cell_type": "code",
   "execution_count": null,
   "metadata": {},
   "outputs": [],
   "source": [
    "ROOT_PATH = \"C:/Data/rf100-vl\""
   ]
  },
  {
   "cell_type": "code",
   "execution_count": null,
   "metadata": {},
   "outputs": [],
   "source": [
    "from pprint import pprint\n",
    "\n",
    "from rf100vl.util import DATASET_TO_CATEGORY_JSON\n",
    "\n",
    "pprint(DATASET_TO_CATEGORY_JSON)"
   ]
  },
  {
   "cell_type": "code",
   "execution_count": null,
   "metadata": {},
   "outputs": [],
   "source": [
    "datasets_to_download = list(DATASET_TO_CATEGORY_JSON.keys())\n",
    "categories_to_download = list(DATASET_TO_CATEGORY_JSON.values())"
   ]
  },
  {
   "cell_type": "code",
   "execution_count": null,
   "metadata": {},
   "outputs": [],
   "source": [
    "from rf100vl import get_rf100vl_projects\n",
    "\n",
    "projects = get_rf100vl_projects()\n",
    "\n",
    "for project in projects:\n",
    "    if not categories_to_download or project.category not in categories_to_download:\n",
    "        continue\n",
    "    if not datasets_to_download or project.name not in datasets_to_download:\n",
    "        continue\n",
    "\n",
    "    project.download(path=ROOT_PATH, overwrite=False)\n",
    "    break"
   ]
  },
  {
   "cell_type": "code",
   "execution_count": null,
   "metadata": {},
   "outputs": [],
   "source": [
    "import tlc"
   ]
  },
  {
   "cell_type": "code",
   "execution_count": null,
   "metadata": {},
   "outputs": [],
   "source": [
    "tlc.register_url_alias(\"RF100_ROOT\", ROOT_PATH, force=True)"
   ]
  },
  {
   "cell_type": "code",
   "execution_count": null,
   "metadata": {},
   "outputs": [],
   "source": [
    "from pathlib import Path\n",
    "\n",
    "project_name = \"RF100VL\"\n",
    "dataset_folders = [f for f in Path(ROOT_PATH).iterdir() if f.is_dir()]\n",
    "\n",
    "for dataset in dataset_folders:\n",
    "    DATASET_CATEGORY = DATASET_TO_CATEGORY_JSON[dataset.name].replace(\"/\", \"_\")\n",
    "    print(f\"Registering tables for dataset {dataset.name} in category {DATASET_CATEGORY}\")\n",
    "\n",
    "    for split in [\"train\"]:  # [\"train\", \"test\", \"valid\"]:\n",
    "        anno_path = dataset / split / \"_annotations.coco.json\"\n",
    "        if not anno_path.exists():\n",
    "            print(f\"Annotation file {anno_path} does not exist\")\n",
    "\n",
    "        try:\n",
    "            table = tlc.Table.from_coco(\n",
    "                anno_path,\n",
    "                table_name=split,\n",
    "                dataset_name=f\"{DATASET_CATEGORY}-{dataset.name}\",\n",
    "                project_name=project_name,\n",
    "            )\n",
    "        except Exception as e:\n",
    "            print(f\"Error registering table {split} for dataset {dataset.name}: {e}\")"
   ]
  },
  {
   "cell_type": "code",
   "execution_count": null,
   "metadata": {},
   "outputs": [],
   "source": [
    "local_project_url = tlc.Url.create_run_url(project_name=project_name).parent.parent\n",
    "local_data_url = tlc.Url(ROOT_PATH)\n",
    "\n",
    "s3_root = tlc.Url(\"s3://3lc-projects\")\n",
    "s3_project_url = s3_root / project_name\n",
    "s3_data_url = s3_root / \"data\" / tlc.Url(ROOT_PATH).name"
   ]
  },
  {
   "cell_type": "code",
   "execution_count": null,
   "metadata": {},
   "outputs": [],
   "source": [
    "print(\"Copying project to S3..\")\n",
    "print(f\"  Local: {local_project_url}\")\n",
    "print(f\"  S3: {s3_project_url}\")"
   ]
  },
  {
   "cell_type": "code",
   "execution_count": null,
   "metadata": {},
   "outputs": [],
   "source": [
    "!aws s3 sync {local_project_url} {s3_project_url}"
   ]
  },
  {
   "cell_type": "code",
   "execution_count": null,
   "metadata": {},
   "outputs": [],
   "source": [
    "print(\"Copying data to S3..\")\n",
    "print(f\"  Local: {local_data_url}\")\n",
    "print(f\"  S3: {s3_data_url}\")"
   ]
  },
  {
   "cell_type": "code",
   "execution_count": null,
   "metadata": {},
   "outputs": [],
   "source": [
    "print(s3_data_url)"
   ]
  },
  {
   "cell_type": "code",
   "execution_count": null,
   "metadata": {},
   "outputs": [],
   "source": [
    "tlc.register_project_url_alias(\n",
    "    \"RF100_ROOT\",\n",
    "    s3_data_url,\n",
    "    project=project_name,\n",
    "    root=s3_project_url.parent,\n",
    ")"
   ]
  },
  {
   "cell_type": "code",
   "execution_count": null,
   "metadata": {},
   "outputs": [],
   "source": [
    "!aws s3 sync {local_data_url} {s3_data_url}"
   ]
  }
 ],
 "metadata": {
  "kernelspec": {
   "display_name": ".venv",
   "language": "python",
   "name": "python3"
  },
  "language_info": {
   "codemirror_mode": {
    "name": "ipython",
    "version": 3
   },
   "file_extension": ".py",
   "mimetype": "text/x-python",
   "name": "python",
   "nbconvert_exporter": "python",
   "pygments_lexer": "ipython3",
   "version": "3.12.9"
  }
 },
 "nbformat": 4,
 "nbformat_minor": 2
}
