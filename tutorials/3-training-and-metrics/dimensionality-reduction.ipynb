{
 "cells": [
  {
   "cell_type": "markdown",
   "metadata": {},
   "source": [
    "# Apply dimensionality reduction to multiple Tables\n",
    "\n",
    "This example shows how to use the \"producer-consumer\" pattern for re-using dimensionality reduction models across different tables.\n",
    "\n",
    "Specifically, high-dimensional embeddings from the same model are added as new columns to the train and val split of the CIFAR-10 dataset. With a single call, a UMAP model is trained on the train split embeddings, and then used to transform both the train and val split embeddings. This ensures that the reduced, 3-dimensional embeddings are mapped to the same space, which is crucial for comparing embeddings across tables.\n",
    "\n",
    "The `tlc` package contains several helper functions for working with dimensionality reduction, and currently support both the UMAP and PaCMAP algorithms. A \"producer\" table is a reduction table that fits a dimensionality reduction model to the data, and saves the model for later use. A \"consumer\" table is a reduction table that uses the model from a producer table to only transform the data."
   ]
  },
  {
   "cell_type": "markdown",
   "metadata": {},
   "source": [
    "## Project setup"
   ]
  },
  {
   "cell_type": "code",
   "execution_count": null,
   "metadata": {},
   "outputs": [],
   "source": [
    "model_name = \"resnet18\"\n",
    "METHOD = \"pacmap\"\n",
    "NUM_COMPONENTS = 2"
   ]
  },
  {
   "cell_type": "markdown",
   "metadata": {},
   "source": [
    "## Imports"
   ]
  },
  {
   "cell_type": "code",
   "execution_count": null,
   "metadata": {},
   "outputs": [],
   "source": [
    "import timm\n",
    "import tlc\n",
    "from torchvision.transforms import Compose, Normalize, Resize, ToTensor\n",
    "\n",
    "from tlc_tools.common import infer_torch_device\n",
    "from tlc_tools.embeddings import add_embeddings_to_table"
   ]
  },
  {
   "cell_type": "markdown",
   "metadata": {},
   "source": [
    "## Load input Tables\n",
    "\n",
    "We will re-use the CIFAR-10 tables created in an earlier notebook."
   ]
  },
  {
   "cell_type": "code",
   "execution_count": null,
   "metadata": {},
   "outputs": [],
   "source": [
    "train_table = tlc.Table.from_names(\"initial\", \"CIFAR-10-train\", \"3LC Tutorials\")\n",
    "val_table = tlc.Table.from_names(\"initial\", \"CIFAR-10-val\", \"3LC Tutorials\")"
   ]
  },
  {
   "cell_type": "markdown",
   "metadata": {},
   "source": [
    "## Load model"
   ]
  },
  {
   "cell_type": "code",
   "execution_count": null,
   "metadata": {},
   "outputs": [],
   "source": [
    "model = timm.create_model(model_name, pretrained=True, num_classes=0)\n",
    "model = model.to(infer_torch_device())"
   ]
  },
  {
   "cell_type": "code",
   "execution_count": null,
   "metadata": {},
   "outputs": [],
   "source": [
    "# Map the table to ensure only suitably preprocessed images are passed to the model\n",
    "\n",
    "transform = Compose([Resize(256), ToTensor(), Normalize(mean=[0.485, 0.456, 0.406], std=[0.229, 0.224, 0.225])])\n",
    "\n",
    "\n",
    "def transformed_image(sample):\n",
    "    return transform(sample[0])\n",
    "\n",
    "\n",
    "train_table.clear_maps()\n",
    "train_table.map(transformed_image)\n",
    "\n",
    "val_table.clear_maps()\n",
    "val_table.map(transformed_image)\n",
    "\n",
    "train_table[0]"
   ]
  },
  {
   "cell_type": "code",
   "execution_count": null,
   "metadata": {},
   "outputs": [],
   "source": [
    "train_table_with_embeddings = add_embeddings_to_table(\n",
    "    table=train_table,\n",
    "    model=model,\n",
    ")"
   ]
  },
  {
   "cell_type": "code",
   "execution_count": null,
   "metadata": {},
   "outputs": [],
   "source": [
    "val_table_with_embeddings = add_embeddings_to_table(\n",
    "    table=val_table,\n",
    "    model=model,\n",
    ")"
   ]
  },
  {
   "cell_type": "markdown",
   "metadata": {},
   "source": [
    "## Perform dimensionality reduction"
   ]
  },
  {
   "cell_type": "code",
   "execution_count": null,
   "metadata": {},
   "outputs": [],
   "source": [
    "url_mapping = tlc.reduce_embeddings_with_producer_consumer(\n",
    "    producer=val_table_with_embeddings,\n",
    "    consumers=[train_table_with_embeddings],\n",
    "    method=METHOD,\n",
    "    n_components=NUM_COMPONENTS,\n",
    ")"
   ]
  },
  {
   "cell_type": "code",
   "execution_count": null,
   "metadata": {},
   "outputs": [],
   "source": [
    "reduced_train_table_url = url_mapping[train_table_with_embeddings.url]\n",
    "reduced_val_table_url = url_mapping[val_table_with_embeddings.url]"
   ]
  },
  {
   "cell_type": "code",
   "execution_count": null,
   "metadata": {},
   "outputs": [],
   "source": [
    "print(f\"Reduced train table url: {reduced_train_table_url}\")\n",
    "print(f\"Reduced val table url: {reduced_val_table_url}\")"
   ]
  }
 ],
 "metadata": {
  "kernelspec": {
   "display_name": ".venv",
   "language": "python",
   "name": "python3"
  },
  "language_info": {
   "codemirror_mode": {
    "name": "ipython",
    "version": 3
   },
   "file_extension": ".py",
   "mimetype": "text/x-python",
   "name": "python",
   "nbconvert_exporter": "python",
   "pygments_lexer": "ipython3",
   "version": "3.11.3"
  }
 },
 "nbformat": 4,
 "nbformat_minor": 2
}
