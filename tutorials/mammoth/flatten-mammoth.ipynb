{
 "cells": [
  {
   "cell_type": "code",
   "execution_count": 1,
   "metadata": {},
   "outputs": [],
   "source": [
    "import tlc\n",
    "\n",
    "table = tlc.Table.from_names(table_name=\"mammoth-10k\", dataset_name=\"Mammoth\", project_name=\"Table Writer Examples\")\n"
   ]
  },
  {
   "cell_type": "code",
   "execution_count": 2,
   "metadata": {},
   "outputs": [
    {
     "name": "stdout",
     "output_type": "stream",
     "text": [
      "\u001b[90m3lc: \u001b[0mFitting UMAP model on column 'points' for table ../mammoth-10k\n"
     ]
    },
    {
     "data": {
      "application/vnd.jupyter.widget-view+json": {
       "model_id": "b9b384af88eb4c5badb4bfdb5813ece7",
       "version_major": 2,
       "version_minor": 0
      },
      "text/plain": [
       "Epochs completed:   0%|            0/500 [00:00]"
      ]
     },
     "metadata": {},
     "output_type": "display_data"
    },
    {
     "name": "stdout",
     "output_type": "stream",
     "text": [
      "\u001b[90m3lc: \u001b[0mTransforming column 'points' in table ../mammoth-10k with UMAP model ./mammoth-10k_reduced_points_00.pkl\n",
      "\u001b[90m3lc: \u001b[0mFitting UMAP model on column 'points' for table ../mammoth-10k_reduced_points_00\n"
     ]
    },
    {
     "data": {
      "application/vnd.jupyter.widget-view+json": {
       "model_id": "dbbf3d85a5a84b1193eeaee5eb9512ad",
       "version_major": 2,
       "version_minor": 0
      },
      "text/plain": [
       "Epochs completed:   0%|            0/500 [00:00]"
      ]
     },
     "metadata": {},
     "output_type": "display_data"
    },
    {
     "name": "stdout",
     "output_type": "stream",
     "text": [
      "\u001b[90m3lc: \u001b[0mTransforming column 'points' in table ../mammoth-10k_reduced_points_00 with UMAP model ./mammoth-10k_reduced_points_and_points_00.pkl\n",
      "Reduced UMAP: C:/Users/gudbrand/AppData/Local/3LC/3LC/projects/Table Writer Examples/datasets/Mammoth/tables/mammoth-10k_reduced_points_and_points_00\n"
     ]
    }
   ],
   "source": [
    "reduced_umap = tlc.reduce_embeddings_multiple_parameters(\n",
    "    table,\n",
    "    \"umap\",\n",
    "    parameter_sets=[\n",
    "        {\n",
    "            \"n_components\": 2,\n",
    "            \"n_neighbors\": 15,\n",
    "            \"min_dist\": 0.1,\n",
    "            \"metric\": \"euclidean\",\n",
    "        },\n",
    "        {\n",
    "            \"n_components\": 2,\n",
    "            \"n_neighbors\": 50,\n",
    "            \"min_dist\": 0.5,\n",
    "            \"metric\": \"manhattan\",\n",
    "            \"retain_source_embedding_column\": True,\n",
    "        },\n",
    "    ],\n",
    ")\n",
    "print(f\"Reduced UMAP: {reduced_umap}\")"
   ]
  },
  {
   "cell_type": "code",
   "execution_count": 3,
   "metadata": {},
   "outputs": [
    {
     "name": "stdout",
     "output_type": "stream",
     "text": [
      "\u001b[90m3lc: \u001b[0mFitting PaCMAP model on column 'points' for table ../mammoth-10k_reduced_points_and_points_00\n",
      "\u001b[90m3lc: \u001b[0mTransforming column 'points' in table ../mammoth-10k_reduced_points_and_points_00 with PaCMAP model ./mammoth-10k_reduced_points_and_points_and_points_00.pkl\n",
      "\u001b[90m3lc: \u001b[0mFitting PaCMAP model on column 'points' for table ../mammoth-10k_reduced_points_and_points_and_points_00\n",
      "\u001b[90m3lc: \u001b[0mTransforming column 'points' in table ../mammoth-10k_reduced_points_and_points_and_points_00 with PaCMAP model ./mammoth-10k_reduced_points_and_points_and_points_and_points_00.pkl\n",
      "Reduced PACMAP: C:/Users/gudbrand/AppData/Local/3LC/3LC/projects/Table Writer Examples/datasets/Mammoth/tables/mammoth-10k_reduced_points_and_points_and_points_and_points_00\n"
     ]
    }
   ],
   "source": [
    "reduced_table = tlc.Table.from_url(reduced_umap)\n",
    "\n",
    "reduced_pacmap = tlc.reduce_embeddings_multiple_parameters(\n",
    "    reduced_table,\n",
    "    \"pacmap\",\n",
    "    parameter_sets=[\n",
    "        {\"n_components\": 2, \"n_neighbors\": 10, \"MN_ratio\": 0.5, \"FP_ratio\": 2.0},\n",
    "        {\"n_components\": 2, \"n_neighbors\": 30, \"MN_ratio\": 1.0, \"FP_ratio\": 1.0, \"retain_source_embedding_column\": True},\n",
    "    ],\n",
    ")\n",
    "print(f\"Reduced PACMAP: {reduced_pacmap}\")\n"
   ]
  }
 ],
 "metadata": {
  "kernelspec": {
   "display_name": ".venv",
   "language": "python",
   "name": "python3"
  },
  "language_info": {
   "codemirror_mode": {
    "name": "ipython",
    "version": 3
   },
   "file_extension": ".py",
   "mimetype": "text/x-python",
   "name": "python",
   "nbconvert_exporter": "python",
   "pygments_lexer": "ipython3",
   "version": "3.8.10"
  }
 },
 "nbformat": 4,
 "nbformat_minor": 2
}
