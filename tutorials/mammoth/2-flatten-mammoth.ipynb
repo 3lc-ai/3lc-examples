{
 "cells": [
  {
   "cell_type": "markdown",
   "metadata": {},
   "source": [
    "# Perform Dimensionality Reduction on existing Table"
   ]
  },
  {
   "cell_type": "markdown",
   "metadata": {},
   "source": [
    "<div style=\"display: inline-flex; align-items: center; gap: 10px;\">\n",
    "        <a href=\"https://colab.research.google.com/github/3lc-ai/notebook-examples/blob/main/tutorials/mammoth/2-flatten-mammoth.ipynb\"\n",
    "        target=\"_blank\"\n",
    "            style=\"background-color: transparent; text-decoration: none; display: inline-flex; align-items: center;\n",
    "            padding: 5px 10px; font-family: Arial, sans-serif;\"> <img\n",
    "            src=\"https://colab.research.google.com/assets/colab-badge.svg\" alt=\"Open In Colab\" style=\"height: 30px;\n",
    "            vertical-align: middle;box-shadow: none;\"/>\n",
    "        </a> <a href=\"https://github.com/3lc-ai/notebook-examples/blob/main/tutorials/mammoth/2-flatten-mammoth.ipynb\"\n",
    "            style=\"text-decoration: none; display: inline-flex; align-items: center; background-color: #ffffff; border:\n",
    "            1px solid #d1d5da; border-radius: 8px; padding: 2px 10px; color: #333; font-family: Arial, sans-serif;\">\n",
    "            <svg aria-hidden=\"true\" focusable=\"false\" role=\"img\" class=\"octicon octicon-mark-github\" viewBox=\"0 0 16 16\"\n",
    "            width=\"20\" height=\"20\" fill=\"#333\"\n",
    "            style=\"display:inline-block;user-select:none;vertical-align:text-bottom;overflow:visible; margin-right:\n",
    "            8px;\">\n",
    "                <path d=\"M8 0c4.42 0 8 3.58 8 8a8.013 8.013 0 0 1-5.45 7.59c-.4.08-.55-.17-.55-.38 0-.27.01-1.13.01-2.2\n",
    "                0-.75-.25-1.23-.54-1.48 1.78-.2 3.65-.88 3.65-3.95 0-.88-.31-1.59-.82-2.15.08-.2.36-1.02-.08-2.12 0\n",
    "                0-.67-.22-2.2.82-.64-.18-1.32-.27-2-.27-.68 0-1.36.09-2 .27-1.53-1.03-2.2-.82-2.2-.82-.44 1.1-.16\n",
    "                1.92-.08 2.12-.51.56-.82 1.28-.82 2.15 0 3.06 1.86 3.75 3.64 3.95-.23.2-.44.55-.51\n",
    "                1.07-.46.21-1.61.55-2.33-.66-.15-.24-.6-.83-1.23-.82-.67.01-.27.38.01.53.34.19.73.9.82 1.13.16.45.68\n",
    "                1.31 2.69.94 0 .67.01 1.3.01 1.49 0 .21-.15.45-.55.38A7.995 7.995 0 0 1 0 8c0-4.42 3.58-8 8-8Z\"></path>\n",
    "            </svg> <span style=\"vertical-align: middle; color: #333;\">Open in GitHub</span>\n",
    "        </a>\n",
    "</div>"
   ]
  },
  {
   "cell_type": "markdown",
   "metadata": {},
   "source": [
    "This notebook demonstrates how to perform dimensionality reduction on a column in an already existing `tlc.Table` using two different\n",
    "dimensionality reduction algorithms, `pacmap` and `umap`.\n",
    "\n",
    "The Table we will be using in this notebook contains a column of points in 3 dimensions. We reduce these columns to points in 2 dimensions. While a dimensionality reduction from 3 to 2 is not the most typical use case for dimensionality reduction, it is a good way to visualize and compare the effects of different dimensionality reduction algorithms.\n",
    "\n",
    "To run this notebook, you must also have run:\n",
    "* [1-create-mammoth-table.ipynb](https://github.com/3lc-ai/notebook-examples/blob/main/tutorials/mammoth/1-write-mammoth-table.ipynb)"
   ]
  },
  {
   "cell_type": "code",
   "execution_count": null,
   "metadata": {},
   "outputs": [],
   "source": [
    "import tlc\n",
    "\n",
    "table = tlc.Table.from_names(table_name=\"mammoth-10k\", dataset_name=\"Mammoth\", project_name=\"Table Writer Examples\")"
   ]
  },
  {
   "cell_type": "code",
   "execution_count": null,
   "metadata": {},
   "outputs": [],
   "source": [
    "reduced_umap = tlc.reduce_embeddings_multiple_parameters(\n",
    "    table=table,\n",
    "    method=\"umap\",\n",
    "    parameter_sets=[\n",
    "        {\n",
    "            \"n_components\": 2,\n",
    "            \"n_neighbors\": 15,\n",
    "            \"min_dist\": 0.1,\n",
    "            \"metric\": \"euclidean\",\n",
    "        },\n",
    "        {\n",
    "            \"n_components\": 2,\n",
    "            \"n_neighbors\": 50,\n",
    "            \"min_dist\": 0.5,\n",
    "            \"metric\": \"manhattan\",\n",
    "            \"retain_source_embedding_column\": True,\n",
    "        },\n",
    "    ],\n",
    ")\n",
    "\n",
    "print(f\"Reduced UMAP: {reduced_umap}\")"
   ]
  },
  {
   "cell_type": "code",
   "execution_count": null,
   "metadata": {},
   "outputs": [],
   "source": [
    "reduced_table = tlc.Table.from_url(reduced_umap)\n",
    "\n",
    "reduced_pacmap = tlc.reduce_embeddings_multiple_parameters(\n",
    "    table=reduced_table,\n",
    "    method=\"pacmap\",\n",
    "    parameter_sets=[\n",
    "        {\"n_components\": 2, \"n_neighbors\": 10, \"MN_ratio\": 0.5, \"FP_ratio\": 2.0},\n",
    "        {\"n_components\": 2, \"n_neighbors\": 30, \"MN_ratio\": 1.0, \"FP_ratio\": 1.0, \"retain_source_embedding_column\": True},\n",
    "    ],\n",
    ")\n",
    "\n",
    "print(f\"Reduced PACMAP: {reduced_pacmap}\")"
   ]
  }
 ],
 "metadata": {
  "kernelspec": {
   "display_name": ".venv",
   "language": "python",
   "name": "python3"
  },
  "language_info": {
   "codemirror_mode": {
    "name": "ipython",
    "version": 3
   },
   "file_extension": ".py",
   "mimetype": "text/x-python",
   "name": "python",
   "nbconvert_exporter": "python",
   "pygments_lexer": "ipython3",
   "version": "3.8.10"
  }
 },
 "nbformat": 4,
 "nbformat_minor": 2
}
