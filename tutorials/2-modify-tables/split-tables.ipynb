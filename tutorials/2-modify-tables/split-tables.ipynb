{
 "cells": [
  {
   "cell_type": "code",
   "execution_count": null,
   "metadata": {},
   "outputs": [],
   "source": [
    "%load_ext autoreload\n",
    "%autoreload 2"
   ]
  },
  {
   "cell_type": "code",
   "execution_count": null,
   "metadata": {},
   "outputs": [],
   "source": [
    "import tlc"
   ]
  },
  {
   "cell_type": "code",
   "execution_count": null,
   "metadata": {},
   "outputs": [],
   "source": [
    "# dataset_name = \"cats-and-dogs\"\n",
    "# project_name = \"image-classification-table\"\n",
    "# table_name = \"initial\"\n",
    "\n",
    "# table = tlc.Table.from_names(    \n",
    "#     table_name=\"initial\",\n",
    "#     dataset_name=dataset_name,\n",
    "#     project_name=project_name,\n",
    "# )\n",
    "\n",
    "table = tlc.Table.from_url(tlc.Url(\"/Users/frederik/Library/Application Support/3LC/projects/add-embeddings/datasets/coco128/tables/reduced_0000\"))"
   ]
  },
  {
   "cell_type": "code",
   "execution_count": null,
   "metadata": {},
   "outputs": [],
   "source": [
    "table[0]"
   ]
  },
  {
   "cell_type": "code",
   "execution_count": null,
   "metadata": {},
   "outputs": [],
   "source": [
    "from tools.split import split_table\n",
    "\n",
    "splits = split_table(\n",
    "    table=table,\n",
    "    splits={\"train\": 0.7, \"val\": 0.3},\n",
    "    split_strategy=\"traversal_index\",\n",
    "    split_by=\"embedding_pacmap\",\n",
    ")\n",
    "\n",
    "train_table = splits[\"train\"]\n",
    "val_table = splits[\"val\"]"
   ]
  },
  {
   "cell_type": "code",
   "execution_count": null,
   "metadata": {},
   "outputs": [],
   "source": [
    "print(len(train_table))\n",
    "print(len(val_table))"
   ]
  },
  {
   "cell_type": "code",
   "execution_count": null,
   "metadata": {},
   "outputs": [],
   "source": [
    "for row in train_table:\n",
    "    print(row)"
   ]
  },
  {
   "cell_type": "code",
   "execution_count": null,
   "metadata": {},
   "outputs": [],
   "source": [
    "for row in val_table:\n",
    "    print(row)"
   ]
  },
  {
   "cell_type": "code",
   "execution_count": null,
   "metadata": {},
   "outputs": [],
   "source": []
  }
 ],
 "metadata": {
  "kernelspec": {
   "display_name": ".venv",
   "language": "python",
   "name": "python3"
  },
  "language_info": {
   "codemirror_mode": {
    "name": "ipython",
    "version": 3
   },
   "file_extension": ".py",
   "mimetype": "text/x-python",
   "name": "python",
   "nbconvert_exporter": "python",
   "pygments_lexer": "ipython3",
   "version": "3.12.7"
  }
 },
 "nbformat": 4,
 "nbformat_minor": 2
}
