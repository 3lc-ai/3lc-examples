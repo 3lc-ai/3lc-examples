{
 "cells": [
  {
   "cell_type": "code",
   "execution_count": 66,
   "metadata": {},
   "outputs": [
    {
     "name": "stdout",
     "output_type": "stream",
     "text": [
      "The autoreload extension is already loaded. To reload it, use:\n",
      "  %reload_ext autoreload\n"
     ]
    }
   ],
   "source": [
    "%load_ext autoreload\n",
    "%autoreload 2"
   ]
  },
  {
   "cell_type": "code",
   "execution_count": 67,
   "metadata": {},
   "outputs": [],
   "source": [
    "import tlc"
   ]
  },
  {
   "cell_type": "code",
   "execution_count": 68,
   "metadata": {},
   "outputs": [],
   "source": [
    "dataset_name = \"cats-and-dogs\"\n",
    "project_name = \"image-classification-table\"\n",
    "table_name = \"initial\"\n",
    "\n",
    "table = tlc.Table.from_names(    \n",
    "    table_name=\"initial\",\n",
    "    dataset_name=dataset_name,\n",
    "    project_name=project_name,\n",
    ")"
   ]
  },
  {
   "cell_type": "code",
   "execution_count": 69,
   "metadata": {},
   "outputs": [
    {
     "name": "stdout",
     "output_type": "stream",
     "text": [
      "\u001b[90m3lc: \u001b[0mCreating transaction\n",
      "\u001b[90m3lc: \u001b[0mCommitting transaction\n",
      "\u001b[90m3lc: \u001b[0mCreating transaction\n",
      "\u001b[90m3lc: \u001b[0mCommitting transaction\n"
     ]
    }
   ],
   "source": [
    "from tools.split import split_table\n",
    "\n",
    "splits = split_table(\n",
    "    table=table,\n",
    "    splits={\"train\": 0.7, \"val\": 0.3},\n",
    "    split_strategy=\"stratified\",\n",
    "    stratify_column=1,\n",
    ")\n",
    "\n",
    "train_table = splits[\"train\"]\n",
    "val_table = splits[\"val\"]"
   ]
  },
  {
   "cell_type": "code",
   "execution_count": 70,
   "metadata": {},
   "outputs": [
    {
     "name": "stdout",
     "output_type": "stream",
     "text": [
      "7\n",
      "3\n"
     ]
    }
   ],
   "source": [
    "print(len(train_table))\n",
    "print(len(val_table))"
   ]
  },
  {
   "cell_type": "code",
   "execution_count": 71,
   "metadata": {},
   "outputs": [
    {
     "name": "stdout",
     "output_type": "stream",
     "text": [
      "(<PIL.JpegImagePlugin.JpegImageFile image mode=RGB size=350x280 at 0x321D93470>, 0)\n",
      "(<PIL.JpegImagePlugin.JpegImageFile image mode=RGB size=400x480 at 0x321D93080>, 0)\n",
      "(<PIL.JpegImagePlugin.JpegImageFile image mode=RGB size=387x500 at 0x321D93470>, 0)\n",
      "(<PIL.JpegImagePlugin.JpegImageFile image mode=RGB size=407x282 at 0x321D93080>, 1)\n",
      "(<PIL.JpegImagePlugin.JpegImageFile image mode=RGB size=500x375 at 0x321D93470>, 1)\n",
      "(<PIL.JpegImagePlugin.JpegImageFile image mode=RGB size=420x500 at 0x321D93080>, 1)\n",
      "(<PIL.JpegImagePlugin.JpegImageFile image mode=RGB size=395x360 at 0x321D93470>, 1)\n"
     ]
    }
   ],
   "source": [
    "for row in train_table:\n",
    "    print(row)"
   ]
  },
  {
   "cell_type": "code",
   "execution_count": 72,
   "metadata": {},
   "outputs": [
    {
     "name": "stdout",
     "output_type": "stream",
     "text": [
      "(<PIL.JpegImagePlugin.JpegImageFile image mode=RGB size=491x500 at 0x321D93B60>, 0)\n",
      "(<PIL.JpegImagePlugin.JpegImageFile image mode=RGB size=500x375 at 0x321D93470>, 0)\n",
      "(<PIL.JpegImagePlugin.JpegImageFile image mode=RGB size=320x240 at 0x321D93290>, 1)\n"
     ]
    }
   ],
   "source": [
    "for row in val_table:\n",
    "    print(row)"
   ]
  },
  {
   "cell_type": "code",
   "execution_count": null,
   "metadata": {},
   "outputs": [],
   "source": []
  }
 ],
 "metadata": {
  "kernelspec": {
   "display_name": ".venv",
   "language": "python",
   "name": "python3"
  },
  "language_info": {
   "codemirror_mode": {
    "name": "ipython",
    "version": 3
   },
   "file_extension": ".py",
   "mimetype": "text/x-python",
   "name": "python",
   "nbconvert_exporter": "python",
   "pygments_lexer": "ipython3",
   "version": "3.12.7"
  }
 },
 "nbformat": 4,
 "nbformat_minor": 2
}
