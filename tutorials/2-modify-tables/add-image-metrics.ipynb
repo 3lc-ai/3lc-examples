{
 "cells": [
  {
   "cell_type": "markdown",
   "metadata": {},
   "source": [
    "# Add Image Metrics to an Existing Table"
   ]
  },
  {
   "cell_type": "markdown",
   "metadata": {},
   "source": [
    "In this example, we will first write a simple table containing a single column of image paths.\n",
    "We will then write a second table, containing the image paths from the first table, and extended with new columns containing image metrics."
   ]
  },
  {
   "cell_type": "code",
   "execution_count": 1,
   "metadata": {},
   "outputs": [],
   "source": [
    "%load_ext autoreload\n",
    "%autoreload 2"
   ]
  },
  {
   "cell_type": "code",
   "execution_count": 2,
   "metadata": {},
   "outputs": [],
   "source": [
    "from collections import defaultdict\n",
    "import tlc\n",
    "from tools import add_columns_to_table\n",
    "from tools.metrics import compute_image_metrics\n"
   ]
  },
  {
   "cell_type": "markdown",
   "metadata": {},
   "source": [
    "## Write the initial table"
   ]
  },
  {
   "cell_type": "code",
   "execution_count": 3,
   "metadata": {},
   "outputs": [],
   "source": [
    "# table = tlc.Table.from_names(\"initial\", \"coco128\", \"add-image-metrics\")\n",
    "table = tlc.Table.from_names(\"reduced_0000\", \"TACO\", \"TACO\")"
   ]
  },
  {
   "cell_type": "markdown",
   "metadata": {},
   "source": [
    "## Extend the table with image metrics"
   ]
  },
  {
   "cell_type": "code",
   "execution_count": 4,
   "metadata": {},
   "outputs": [
    {
     "name": "stdout",
     "output_type": "stream",
     "text": [
      "dict_keys(['image_id', 'image', 'bbs', 'width', 'height', 'embedding_pacmap'])\n",
      "dict_keys(['image_id', 'image', 'bbs', 'width', 'height', 'weight', 'embedding_pacmap', 'brightness', 'sharpness', 'contrast', 'average_red', 'average_green', 'average_blue'])\n"
     ]
    }
   ],
   "source": [
    "# Iterate through the input table, compute metrics for each image, and add the metrics to the extended table\n",
    "\n",
    "new_columns = defaultdict(list)\n",
    "for row in table.table_rows:\n",
    "    image_path = tlc.Url(row[\"image\"]).to_absolute().to_str()\n",
    "    metrics = compute_image_metrics(image_path)\n",
    "    for column_name, value in metrics.items():\n",
    "        new_columns[column_name].append(value)\n",
    "\n",
    "extended_table = add_columns_to_table(\n",
    "    table=table,\n",
    "    columns=new_columns,\n",
    "    output_table_name=\"added-image-metrics\",\n",
    "    description=\"COCO128 dataset with added image metrics\",\n",
    ")\n",
    "\n",
    "print(extended_table[0].keys())  # Notice only the \"image\" column is present in the \"sample-view\" of the table\n",
    "print(extended_table.table_rows[0].keys())  # Notice all the columns are present in the \"row-view\" of the table"
   ]
  }
 ],
 "metadata": {
  "kernelspec": {
   "display_name": ".venv",
   "language": "python",
   "name": "python3"
  },
  "language_info": {
   "codemirror_mode": {
    "name": "ipython",
    "version": 3
   },
   "file_extension": ".py",
   "mimetype": "text/x-python",
   "name": "python",
   "nbconvert_exporter": "python",
   "pygments_lexer": "ipython3",
   "version": "3.11.3"
  }
 },
 "nbformat": 4,
 "nbformat_minor": 2
}
