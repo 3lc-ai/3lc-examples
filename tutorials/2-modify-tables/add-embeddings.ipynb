{
 "cells": [
  {
   "cell_type": "markdown",
   "metadata": {},
   "source": [
    "# Add Embeddings to an Existing Table\n"
   ]
  },
  {
   "cell_type": "markdown",
   "metadata": {},
   "source": [
    "In this example we will extend an existing table with embeddings computed from a pre-trained model.\n",
    "\n",
    "- Write an initial table containing a single column of image URLs.\n",
    "- Write a new table containing the input URLs and the embeddings computed from a pre-trained model.\n",
    "- Apply dimensionality reduction to the extended table to get a final table containing the URLs, the embeddings, and the reduced embeddings."
   ]
  },
  {
   "cell_type": "code",
   "execution_count": 1,
   "metadata": {},
   "outputs": [],
   "source": [
    "import tlc"
   ]
  },
  {
   "cell_type": "markdown",
   "metadata": {},
   "source": [
    "## Load the initial table\n",
    "\n",
    "We load the previously written COCO128 table (see [create-table-from-coco.ipynb](../1-create-tables/create-table-from-coco.ipynb))."
   ]
  },
  {
   "cell_type": "code",
   "execution_count": 2,
   "metadata": {},
   "outputs": [],
   "source": [
    "table = tlc.Table.from_names(\"initial\", \"COCO128\", \"3LC Tutorials\")"
   ]
  },
  {
   "cell_type": "markdown",
   "metadata": {},
   "source": [
    "## Extend the table with embeddings from a pre-trained model\n",
    "\n",
    "We will use the ViT model pre-trained on ImageNet to compute embeddings for the images in the table.\n",
    "A benefit of using this model is that meaningful embeddings can be extracted easily using the `last_hidden_state` attribute of the model output."
   ]
  },
  {
   "cell_type": "code",
   "execution_count": 3,
   "metadata": {},
   "outputs": [
    {
     "name": "stderr",
     "output_type": "stream",
     "text": [
      "Some weights of ViTModel were not initialized from the model checkpoint at google/vit-base-patch16-224 and are newly initialized: ['vit.pooler.dense.bias', 'vit.pooler.dense.weight']\n",
      "You should probably TRAIN this model on a down-stream task to be able to use it for predictions and inference.\n",
      "Extracting embeddings:   0%|          | 0/32 [00:00<?, ?it/s]c:\\Project\\notebook-examples\\.venv\\Lib\\site-packages\\transformers\\models\\vit\\modeling_vit.py:253: UserWarning: 1Torch was not compiled with flash attention. (Triggered internally at ..\\aten\\src\\ATen\\native\\transformers\\cuda\\sdp_utils.cpp:263.)\n",
      "  context_layer = torch.nn.functional.scaled_dot_product_attention(\n",
      "Extracting embeddings: 100%|██████████| 32/32 [00:02<00:00, 13.62it/s]\n"
     ]
    }
   ],
   "source": [
    "from tools.embeddings import add_embeddings_to_table\n",
    "from PIL import Image\n",
    "\n",
    "table.map(lambda x: Image.open(x[\"image\"]).convert(\"RGB\"))\n",
    "extended_table = add_embeddings_to_table(table)"
   ]
  },
  {
   "cell_type": "markdown",
   "metadata": {},
   "source": [
    "## Reduce the embeddings to 2 dimensions\n",
    "\n",
    "Finally we reduce the embedding-column to 2 dimensions using UMAP. The result is a table containing the URLs, the embeddings, and the reduced embeddings."
   ]
  },
  {
   "cell_type": "code",
   "execution_count": 4,
   "metadata": {},
   "outputs": [
    {
     "name": "stdout",
     "output_type": "stream",
     "text": [
      "\u001b[90m3lc: \u001b[0mFitting PaCMAP model on column 'embedding' for table ../with_embeddings\n",
      "\u001b[90m3lc: \u001b[0mTransforming column 'embedding' in table ../with_embeddings with PaCMAP model ./reduced_0000.pkl\n",
      "dict_keys(['image_id', 'image', 'bbs', 'width', 'height', 'weight', 'embedding_pacmap'])\n"
     ]
    }
   ],
   "source": [
    "reduced_table = tlc.reduce_embeddings(\n",
    "    extended_table,\n",
    "    method=\"pacmap\",\n",
    "    n_components=2,\n",
    "    retain_source_embedding_column=False,\n",
    ")\n",
    "\n",
    "print(reduced_table.table_rows[0].keys()) # The row-view of the reduced table contains both the embeddings and the reduced embeddings"
   ]
  },
  {
   "cell_type": "code",
   "execution_count": 5,
   "metadata": {},
   "outputs": [
    {
     "data": {
      "text/plain": [
       "Url('relative://reduced_0000.pkl')"
      ]
     },
     "execution_count": 5,
     "metadata": {},
     "output_type": "execute_result"
    }
   ],
   "source": [
    "reduced_table.model_url"
   ]
  },
  {
   "cell_type": "code",
   "execution_count": null,
   "metadata": {},
   "outputs": [],
   "source": []
  }
 ],
 "metadata": {
  "kernelspec": {
   "display_name": ".venv",
   "language": "python",
   "name": "python3"
  },
  "language_info": {
   "codemirror_mode": {
    "name": "ipython",
    "version": 3
   },
   "file_extension": ".py",
   "mimetype": "text/x-python",
   "name": "python",
   "nbconvert_exporter": "python",
   "pygments_lexer": "ipython3",
   "version": "3.11.3"
  }
 },
 "nbformat": 4,
 "nbformat_minor": 2
}
