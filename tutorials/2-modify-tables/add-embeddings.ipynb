{
 "cells": [
  {
   "cell_type": "markdown",
   "metadata": {},
   "source": [
    "# Add Embeddings to an Existing Table\n"
   ]
  },
  {
   "cell_type": "markdown",
   "metadata": {},
   "source": [
    "In this example we will extend an existing table with embeddings computed from a pre-trained model.\n",
    "\n",
    "- Write an initial table containing a single column of image URLs.\n",
    "- Write a new table containing the input URLs and the embeddings computed from a pre-trained model.\n",
    "- Apply dimensionality reduction to the extended table to get a final table containing the URLs, the embeddings, and the reduced embeddings."
   ]
  },
  {
   "cell_type": "code",
   "execution_count": null,
   "metadata": {},
   "outputs": [],
   "source": [
    "from pathlib import Path\n",
    "import tlc\n",
    "import tqdm\n",
    "\n",
    "from tools.common import examples_root"
   ]
  },
  {
   "cell_type": "markdown",
   "metadata": {},
   "source": [
    "## Write the initial table\n",
    "\n",
    "We write a simple table containing a single column of image URLs from our COCO-128 dataset."
   ]
  },
  {
   "cell_type": "code",
   "execution_count": null,
   "metadata": {},
   "outputs": [],
   "source": [
    "data_path = (examples_root() / \"data/coco128/images\").absolute().as_posix()\n",
    "project_name = \"add-embeddings\"\n",
    "dataset_name = \"coco128\"\n",
    "\n",
    "table = tlc.Table.from_image_folder(\n",
    "    data_path,\n",
    "    include_label_column=False,\n",
    "    table_name=\"initial\",\n",
    "    dataset_name=dataset_name,\n",
    "    project_name=project_name,\n",
    "    add_weight_column=False,\n",
    "    description=\"COCO128 dataset\",\n",
    ")\n"
   ]
  },
  {
   "cell_type": "markdown",
   "metadata": {},
   "source": [
    "## Extend the table with embeddings from a pre-trained model\n",
    "\n",
    "We will use the ViT model pre-trained on ImageNet to compute embeddings for the images in the table.\n",
    "A benefit of using this model is that meaningful embeddings can be extracted easily using the `last_hidden_state` attribute of the model output."
   ]
  },
  {
   "cell_type": "code",
   "execution_count": null,
   "metadata": {},
   "outputs": [],
   "source": [
    "from tools.embeddings import add_embeddings_to_table\n",
    "\n",
    "table.map(lambda x: x.convert(\"RGB\"))\n",
    "extended_table = add_embeddings_to_table(table, batch_size=32)"
   ]
  },
  {
   "cell_type": "markdown",
   "metadata": {},
   "source": [
    "## Reduce the embeddings to 2 dimensions\n",
    "\n",
    "Finally we reduce the embedding-column to 2 dimensions using UMAP. The result is a table containing the URLs, the embeddings, and the reduced embeddings."
   ]
  },
  {
   "cell_type": "code",
   "execution_count": null,
   "metadata": {},
   "outputs": [],
   "source": [
    "reduced_table = tlc.reduce_embeddings(\n",
    "    extended_table,\n",
    "    method=\"pacmap\",\n",
    "    n_components=2,\n",
    "    retain_source_embedding_column=False,\n",
    ")\n",
    "\n",
    "print(reduced_table.table_rows[0].keys()) # The row-view of the reduced table contains both the embeddings and the reduced embeddings"
   ]
  },
  {
   "cell_type": "code",
   "execution_count": null,
   "metadata": {},
   "outputs": [],
   "source": [
    "reduced_table.model_url"
   ]
  },
  {
   "cell_type": "code",
   "execution_count": null,
   "metadata": {},
   "outputs": [],
   "source": []
  }
 ],
 "metadata": {
  "kernelspec": {
   "display_name": ".venv",
   "language": "python",
   "name": "python3"
  },
  "language_info": {
   "codemirror_mode": {
    "name": "ipython",
    "version": 3
   },
   "file_extension": ".py",
   "mimetype": "text/x-python",
   "name": "python",
   "nbconvert_exporter": "python",
   "pygments_lexer": "ipython3",
   "version": "3.12.7"
  }
 },
 "nbformat": 4,
 "nbformat_minor": 2
}
