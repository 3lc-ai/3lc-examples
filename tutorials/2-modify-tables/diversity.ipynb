{
 "cells": [
  {
   "cell_type": "code",
   "execution_count": 2,
   "metadata": {},
   "outputs": [],
   "source": [
    "%load_ext autoreload\n",
    "%autoreload 2"
   ]
  },
  {
   "cell_type": "code",
   "execution_count": 3,
   "metadata": {},
   "outputs": [],
   "source": [
    "from tools.metrics import diversity, uniqueness, traversal_index\n",
    "import tlc"
   ]
  },
  {
   "cell_type": "code",
   "execution_count": 4,
   "metadata": {},
   "outputs": [],
   "source": [
    "table = tlc.Table.from_url(\"C:/Users/gudbrand/AppData/Local/3LC/3LC/projects/chessvision-classification/datasets/chesspieces-val/tables/val-cleaned-filtered\")"
   ]
  },
  {
   "cell_type": "code",
   "execution_count": null,
   "metadata": {},
   "outputs": [],
   "source": [
    "table.set_row_cache_url(\"./row_cache.parquet\")\n",
    "table.get_rows_as_binary()"
   ]
  },
  {
   "cell_type": "code",
   "execution_count": 6,
   "metadata": {},
   "outputs": [],
   "source": [
    "import json\n",
    "\n",
    "init_params = json.loads((table.url / \"object.3lc.json\").read())\n",
    "init_params[\"row_cache_url\"] = tlc.Url(init_params[\"row_cache_url\"]).to_absolute(table.url)\n",
    "from tlc.core.objects.tables.from_url.table_from_row_cache import TableFromRowCache\n",
    "\n",
    "table_from_row_cache = TableFromRowCache(init_params)\n"
   ]
  },
  {
   "cell_type": "code",
   "execution_count": 8,
   "metadata": {},
   "outputs": [],
   "source": [
    "label_column = table_from_row_cache.get_column(\"label\")"
   ]
  },
  {
   "cell_type": "code",
   "execution_count": 9,
   "metadata": {},
   "outputs": [],
   "source": [
    "metrics_table = tlc.Table.from_url(\"C:/Users/gudbrand/AppData/Local/3LC/3LC/projects/chessvision-classification/runs/sienna-cheeseburger/reduced_0001\")"
   ]
  },
  {
   "cell_type": "code",
   "execution_count": null,
   "metadata": {},
   "outputs": [],
   "source": [
    "metrics_table.get_foreign_table_url().to_absolute(metrics_table.url) == table.url"
   ]
  },
  {
   "cell_type": "code",
   "execution_count": null,
   "metadata": {},
   "outputs": [],
   "source": [
    "metrics_table.columns"
   ]
  },
  {
   "cell_type": "code",
   "execution_count": 12,
   "metadata": {},
   "outputs": [],
   "source": [
    "embeddings_column = metrics_table.get_column(\"embeddings_pacmap\")"
   ]
  },
  {
   "cell_type": "code",
   "execution_count": 13,
   "metadata": {},
   "outputs": [],
   "source": [
    "import numpy as np\n",
    "\n",
    "label_column = np.array(label_column.to_numpy().tolist(), dtype=np.float32)\n",
    "embeddings_column = np.array(embeddings_column.to_numpy().tolist(), dtype=np.float32)"
   ]
  },
  {
   "cell_type": "code",
   "execution_count": 14,
   "metadata": {},
   "outputs": [],
   "source": [
    "diversity = diversity(label_column, embeddings_column)\n",
    "uniqueness = uniqueness(label_column, embeddings_column)\n",
    "traversal = traversal_index(embeddings_column)"
   ]
  },
  {
   "cell_type": "code",
   "execution_count": 15,
   "metadata": {},
   "outputs": [],
   "source": [
    "# run = tlc.Run.from_url(\"C:/Users/gudbrand/AppData/Local/3LC/3LC/projects/chessvision-classification/runs/sienna-cheeseburger\")\n",
    "\n",
    "# run.add_metrics_data(metrics={\"image_diversity\": diversity}, input_table_url=table.url, stream_name=\"diversity\")\n",
    "# run.add_metrics_data(metrics={\"image_uniqueness\": uniqueness}, input_table_url=table.url, stream_name=\"uniqueness\")\n",
    "# run.add_metrics_data(metrics={\"traversal_index\": [int(t) for t in traversal]}, input_table_url=table.url, stream_name=\"traversal\")"
   ]
  },
  {
   "cell_type": "code",
   "execution_count": null,
   "metadata": {},
   "outputs": [],
   "source": [
    "from tools import add_columns_to_table\n",
    "\n",
    "added_columns_table = add_columns_to_table(\n",
    "    table,\n",
    "    columns={\n",
    "        \"image_diversity\": diversity,\n",
    "        \"image_uniqueness\": uniqueness,\n",
    "        \"traversal_index\": traversal,\n",
    "    },\n",
    ")"
   ]
  }
 ],
 "metadata": {
  "kernelspec": {
   "display_name": ".venv",
   "language": "python",
   "name": "python3"
  },
  "language_info": {
   "codemirror_mode": {
    "name": "ipython",
    "version": 3
   },
   "file_extension": ".py",
   "mimetype": "text/x-python",
   "name": "python",
   "nbconvert_exporter": "python",
   "pygments_lexer": "ipython3",
   "version": "3.11.3"
  }
 },
 "nbformat": 4,
 "nbformat_minor": 2
}
