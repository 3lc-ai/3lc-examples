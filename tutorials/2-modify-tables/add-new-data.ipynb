{
 "cells": [
  {
   "cell_type": "markdown",
   "metadata": {},
   "source": [
    "# Add New Data to Existing Table Lineage\n",
    "\n",
    "Adding new data to an existing dataset is a common task, as more data is collected and we want to leverage it to improve the model. This notebook demonstrates how to add new data to an existing 3LC dataset by creating a new table that merges two or more existing tables.\n",
    "\n",
    "We will cover two examples:\n",
    "1. Adding new data with the same classes.\n",
    "2. Adding new data with different classes, requiring a new, merged schema."
   ]
  },
  {
   "cell_type": "code",
   "execution_count": null,
   "metadata": {},
   "outputs": [],
   "source": [
    "from tlc_tools.common import get_dataset_path\n",
    "import tlc"
   ]
  },
  {
   "cell_type": "markdown",
   "metadata": {},
   "source": [
    "## Add new data with the same classes\n",
    "\n",
    "We will reuse the cats and dogs dataset from the previous section and add a new batch of data.\n",
    "\n",
    "Before we add it, we need to create a Table with the new data."
   ]
  },
  {
   "cell_type": "code",
   "execution_count": null,
   "metadata": {},
   "outputs": [],
   "source": [
    "data_path = get_dataset_path(\"more-cats-and-dogs\")\n",
    "\n",
    "dataset_name = \"cats-and-dogs\"\n",
    "project_name = \"image-classification-table\"\n",
    "\n",
    "new_data_table = tlc.Table.from_image_folder(\n",
    "    data_path,\n",
    "    table_name=\"new-data\",\n",
    "    dataset_name=dataset_name,\n",
    "    project_name=project_name,\n",
    "    add_weight_column=True,\n",
    "    if_exists=\"overwrite\",\n",
    ")\n",
    "\n",
    "new_data_table"
   ]
  },
  {
   "cell_type": "markdown",
   "metadata": {},
   "source": [
    "Now that we have the new Table, let's also get the cats and dogs dataset from the previous section."
   ]
  },
  {
   "cell_type": "code",
   "execution_count": null,
   "metadata": {},
   "outputs": [],
   "source": [
    "initial_table = tlc.Table.from_names(\"initial\", dataset_name, project_name)\n",
    "initial_table"
   ]
  },
  {
   "cell_type": "markdown",
   "metadata": {},
   "source": [
    "Now that we have the two tables, we are ready to combine them using Table.join_tables()."
   ]
  },
  {
   "cell_type": "code",
   "execution_count": null,
   "metadata": {},
   "outputs": [],
   "source": [
    "joined_table = tlc.Table.join_tables([initial_table, new_data_table], table_name=\"added-more-data\")\n",
    "joined_table"
   ]
  },
  {
   "cell_type": "markdown",
   "metadata": {},
   "source": [
    "## Add new data with different classes\n",
    "\n",
    "We will now create a new image folder table containing animals in the categories \"bats\" and \"frogs\". This table will be joined with our existing table.\n"
   ]
  },
  {
   "cell_type": "code",
   "execution_count": null,
   "metadata": {},
   "outputs": [],
   "source": [
    "data_path = get_dataset_path(\"bats-and-frogs\")\n",
    "\n",
    "dataset_name = \"cats-and-dogs\"\n",
    "project_name = \"image-classification-table\"\n",
    "\n",
    "more_new_data_table = tlc.Table.from_image_folder(\n",
    "    data_path,\n",
    "    table_name=\"more-new-data\",\n",
    "    dataset_name=dataset_name,\n",
    "    project_name=project_name,\n",
    "    add_weight_column=True, # Set to zero somehow here\n",
    "    weight_value=0.0,\n",
    "    if_exists=\"overwrite\",\n",
    ")\n",
    "\n",
    "more_new_data_table"
   ]
  },
  {
   "cell_type": "code",
   "execution_count": null,
   "metadata": {},
   "outputs": [],
   "source": [
    "more_new_data_table.table_rows[2]"
   ]
  },
  {
   "cell_type": "markdown",
   "metadata": {},
   "source": [
    "We now create yet another Table by joining the previous table with the table with new images of bats and frogs."
   ]
  },
  {
   "cell_type": "code",
   "execution_count": null,
   "metadata": {},
   "outputs": [],
   "source": [
    "joined_again_table = tlc.Table.join_tables([joined_table, more_new_data_table], table_name=\"added-bats-and-frogs-data\")\n",
    "joined_again_table"
   ]
  },
  {
   "cell_type": "markdown",
   "metadata": {},
   "source": [
    "Originally, the two tables had different value maps. Let's inspect them:"
   ]
  },
  {
   "cell_type": "code",
   "execution_count": null,
   "metadata": {},
   "outputs": [],
   "source": [
    "joined_table.get_simple_value_map(\"label\")"
   ]
  },
  {
   "cell_type": "code",
   "execution_count": null,
   "metadata": {},
   "outputs": [],
   "source": [
    "more_new_data_table.get_simple_value_map(\"label\")"
   ]
  },
  {
   "cell_type": "markdown",
   "metadata": {},
   "source": [
    "Notice how these value maps had overlapping class indices. Table.join_tables() handled this by combining these schemas:"
   ]
  },
  {
   "cell_type": "code",
   "execution_count": null,
   "metadata": {},
   "outputs": [],
   "source": [
    "joined_again_table.get_simple_value_map(\"label\")"
   ]
  },
  {
   "cell_type": "markdown",
   "metadata": {},
   "source": [
    "It also updated the data correspondingly:"
   ]
  },
  {
   "cell_type": "code",
   "execution_count": null,
   "metadata": {},
   "outputs": [],
   "source": [
    "joined_again_table[25]"
   ]
  },
  {
   "cell_type": "code",
   "execution_count": null,
   "metadata": {},
   "outputs": [],
   "source": []
  }
 ],
 "metadata": {
  "kernelspec": {
   "display_name": ".venv",
   "language": "python",
   "name": "python3"
  },
  "language_info": {
   "codemirror_mode": {
    "name": "ipython",
    "version": 3
   },
   "file_extension": ".py",
   "mimetype": "text/x-python",
   "name": "python",
   "nbconvert_exporter": "python",
   "pygments_lexer": "ipython3",
   "version": "3.12.7"
  }
 },
 "nbformat": 4,
 "nbformat_minor": 2
}
