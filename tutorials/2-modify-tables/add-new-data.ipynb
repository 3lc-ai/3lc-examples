{
 "cells": [
  {
   "cell_type": "markdown",
   "metadata": {},
   "source": [
    "# Add new data to existing Table lineage\n",
    "\n",
    "Adding new data to an existing dataset is a common task, as more data is collected and we want to leverage it to improve the model. This notebook demonstrates how to add new data to an existing 3LC dataset by creating a new table that merges two or more existing tables.\n",
    "\n",
    "We will cover two examples:\n",
    "1. Adding new data with the same classes.\n",
    "2. Adding new data with different classes, requiring a new, merged schema."
   ]
  },
  {
   "cell_type": "markdown",
   "metadata": {},
   "source": [
    "## Imports"
   ]
  },
  {
   "cell_type": "code",
   "execution_count": null,
   "metadata": {},
   "outputs": [],
   "source": [
    "from pathlib import Path\n",
    "\n",
    "import tlc"
   ]
  },
  {
   "cell_type": "markdown",
   "metadata": {},
   "source": [
    "## Project setup"
   ]
  },
  {
   "cell_type": "code",
   "execution_count": null,
   "metadata": {},
   "outputs": [],
   "source": [
    "PROJECT_NAME = \"3LC Tutorials\"\n",
    "DATASET_NAME = \"cats-and-dogs\"\n",
    "data_path = Path(\"../../data/more-cats-and-dogs\").absolute()\n",
    "\n",
    "assert data_path.exists()"
   ]
  },
  {
   "cell_type": "markdown",
   "metadata": {},
   "source": [
    "## Add new data with the same classes\n",
    "\n",
    "We will reuse the cats and dogs dataset from the previous section and add a new batch of data.\n",
    "\n",
    "Before we add it, we need to create a `Table` with the new data. Notice also that we set the `weight_column_value=0.0`, this is to keep track of which samples were added in the resulting table."
   ]
  },
  {
   "cell_type": "code",
   "execution_count": null,
   "metadata": {},
   "outputs": [],
   "source": [
    "new_data_table = tlc.Table.from_image_folder(\n",
    "    data_path,\n",
    "    table_name=\"new-data\",\n",
    "    dataset_name=DATASET_NAME,\n",
    "    project_name=PROJECT_NAME,\n",
    "    add_weight_column=True,\n",
    "    weight_column_value=0.0,\n",
    "    if_exists=\"overwrite\",\n",
    ")\n",
    "\n",
    "new_data_table"
   ]
  },
  {
   "cell_type": "markdown",
   "metadata": {},
   "source": [
    "Let's also get the cats and dogs dataset from the notebook [create-image-classification-table.ipynb](../1-create-tables/create-image-classification-table.ipynb) to use as a base for the new data."
   ]
  },
  {
   "cell_type": "code",
   "execution_count": null,
   "metadata": {},
   "outputs": [],
   "source": [
    "initial_table = tlc.Table.from_names(table_name=\"initial\", dataset_name=DATASET_NAME, project_name=PROJECT_NAME)\n",
    "initial_table"
   ]
  },
  {
   "cell_type": "markdown",
   "metadata": {},
   "source": [
    "Now that we have the two tables, we are ready to combine them using `Table.join_tables()`. We specify a list of tables to join, and the name of the new table resulting from joining them."
   ]
  },
  {
   "cell_type": "code",
   "execution_count": null,
   "metadata": {},
   "outputs": [],
   "source": [
    "joined_table = tlc.Table.join_tables([initial_table, new_data_table], table_name=\"added-more-data\")\n",
    "joined_table"
   ]
  },
  {
   "cell_type": "code",
   "execution_count": null,
   "metadata": {},
   "outputs": [],
   "source": [
    "for row in joined_table.table_rows:\n",
    "    print(row)"
   ]
  },
  {
   "cell_type": "markdown",
   "metadata": {},
   "source": [
    "## Add new data with different classes\n",
    "\n",
    "We will now create a new image folder table containing animals in the categories \"bats\" and \"frogs\". This table will be joined with our existing table.\n"
   ]
  },
  {
   "cell_type": "code",
   "execution_count": null,
   "metadata": {},
   "outputs": [],
   "source": [
    "data_path = Path(\"../../data/bats-and-frogs\").absolute()\n",
    "\n",
    "more_new_data_table = tlc.Table.from_image_folder(\n",
    "    data_path,\n",
    "    table_name=\"more-new-data\",\n",
    "    dataset_name=DATASET_NAME,\n",
    "    project_name=PROJECT_NAME,\n",
    "    add_weight_column=True,\n",
    "    weight_column_value=0.0,\n",
    "    if_exists=\"overwrite\",\n",
    ")\n",
    "\n",
    "more_new_data_table"
   ]
  },
  {
   "cell_type": "code",
   "execution_count": null,
   "metadata": {},
   "outputs": [],
   "source": [
    "more_new_data_table.table_rows[2]"
   ]
  },
  {
   "cell_type": "markdown",
   "metadata": {},
   "source": [
    "We now create yet another `Table` by joining the previous table with the table with new images of bats and frogs."
   ]
  },
  {
   "cell_type": "code",
   "execution_count": null,
   "metadata": {},
   "outputs": [],
   "source": [
    "joined_again_table = tlc.Table.join_tables([joined_table, more_new_data_table], table_name=\"added-bats-and-frogs-data\")\n",
    "joined_again_table"
   ]
  },
  {
   "cell_type": "markdown",
   "metadata": {},
   "source": [
    "Originally, the two tables had different value maps. Let's inspect them:"
   ]
  },
  {
   "cell_type": "code",
   "execution_count": null,
   "metadata": {},
   "outputs": [],
   "source": [
    "joined_table.get_simple_value_map(\"label\")"
   ]
  },
  {
   "cell_type": "code",
   "execution_count": null,
   "metadata": {},
   "outputs": [],
   "source": [
    "more_new_data_table.get_simple_value_map(\"label\")"
   ]
  },
  {
   "cell_type": "markdown",
   "metadata": {},
   "source": [
    "Notice how these value maps had overlapping class indices. `Table.join_tables()` handled this by combining their schemas:"
   ]
  },
  {
   "cell_type": "code",
   "execution_count": null,
   "metadata": {},
   "outputs": [],
   "source": [
    "joined_again_table.get_simple_value_map(\"label\")"
   ]
  },
  {
   "cell_type": "markdown",
   "metadata": {},
   "source": [
    "It also updated the data correspondingly:"
   ]
  },
  {
   "cell_type": "code",
   "execution_count": null,
   "metadata": {},
   "outputs": [],
   "source": [
    "joined_again_table[25]"
   ]
  }
 ],
 "metadata": {
  "kernelspec": {
   "display_name": ".venv",
   "language": "python",
   "name": "python3"
  },
  "language_info": {
   "codemirror_mode": {
    "name": "ipython",
    "version": 3
   },
   "file_extension": ".py",
   "mimetype": "text/x-python",
   "name": "python",
   "nbconvert_exporter": "python",
   "pygments_lexer": "ipython3",
   "version": "3.11.3"
  }
 },
 "nbformat": 4,
 "nbformat_minor": 2
}
