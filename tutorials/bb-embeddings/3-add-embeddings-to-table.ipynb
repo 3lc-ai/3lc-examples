{
 "cells": [
  {
   "cell_type": "markdown",
   "metadata": {},
   "source": [
    "# Add Embeddings to Table"
   ]
  },
  {
   "cell_type": "markdown",
   "metadata": {},
   "source": [
    "# ADD LINKS"
   ]
  },
  {
   "cell_type": "markdown",
   "metadata": {},
   "source": [
    "# ADD DESCRIPTION"
   ]
  },
  {
   "cell_type": "code",
   "execution_count": null,
   "metadata": {},
   "outputs": [],
   "source": [
    "PROJECT_NAME = \"Bounding Box Classifier\"\n",
    "TRANSIENT_DATA_PATH = \"../../transient_data\"\n",
    "BATCH_SIZE = 32\n",
    "DATASET_NAME = \"Balloons\""
   ]
  },
  {
   "cell_type": "markdown",
   "metadata": {},
   "source": [
    "## Imports"
   ]
  },
  {
   "cell_type": "code",
   "execution_count": null,
   "metadata": {},
   "outputs": [],
   "source": [
    "from copy import deepcopy\n",
    "\n",
    "import numpy as np\n",
    "import tlc\n",
    "from tqdm.auto import tqdm"
   ]
  },
  {
   "cell_type": "markdown",
   "metadata": {},
   "source": [
    "## Get Original Table"
   ]
  },
  {
   "cell_type": "code",
   "execution_count": null,
   "metadata": {},
   "outputs": [],
   "source": [
    "# Open the Table created in the first notebook\n",
    "original_table = tlc.Table.from_names(\n",
    "    project_name=PROJECT_NAME,\n",
    "    dataset_name=DATASET_NAME,\n",
    "    table_name=\"original\"\n",
    ")"
   ]
  },
  {
   "cell_type": "markdown",
   "metadata": {},
   "source": [
    "## Create New Table with Embeddings"
   ]
  },
  {
   "cell_type": "code",
   "execution_count": null,
   "metadata": {},
   "outputs": [],
   "source": [
    "# Open the embeddings created in previous notebook\n",
    "embeddings = np.load(TRANSIENT_DATA_PATH + \"/bb_classifier_embeddings.npy\")\n",
    "\n",
    "# Create schema for embedding\n",
    "embedding_schema = tlc.FloatVector3Schema()\n",
    "\n",
    "# Create a schema for the new table\n",
    "new_table_schema = deepcopy(original_table.rows_schema)\n",
    "new_table_schema.values[\"bbs\"].values[\"bb_list\"].add_sub_schema(\"embedding\", embedding_schema)"
   ]
  },
  {
   "cell_type": "code",
   "execution_count": null,
   "metadata": {},
   "outputs": [],
   "source": [
    "# Create a TableWriter for the new table\n",
    "table_writer = tlc.TableWriter(\n",
    "    project_name=PROJECT_NAME,\n",
    "    dataset_name=DATASET_NAME,\n",
    "    table_name=\"embeddings_added\",\n",
    "    column_schemas=new_table_schema.values,\n",
    "    if_exists=\"overwrite\"\n",
    ")\n",
    "\n",
    "# Iterate over the rows of the original table and add the embeddings\n",
    "i = 0\n",
    "for row in tqdm(original_table):\n",
    "    new_row = deepcopy(row)\n",
    "    for bb in new_row[\"bbs\"][\"bb_list\"]:\n",
    "        bb[\"embedding\"] = embeddings[i].tolist()\n",
    "        i += 1\n",
    "\n",
    "    table_writer.add_row(new_row)\n",
    "\n",
    "# Create the new table\n",
    "table_writer.finalize()\n",
    "    "
   ]
  }
 ],
 "metadata": {
  "kernelspec": {
   "display_name": ".venv",
   "language": "python",
   "name": "python3"
  },
  "language_info": {
   "codemirror_mode": {
    "name": "ipython",
    "version": 3
   },
   "file_extension": ".py",
   "mimetype": "text/x-python",
   "name": "python",
   "nbconvert_exporter": "python",
   "pygments_lexer": "ipython3",
   "version": "3.11.9"
  }
 },
 "nbformat": 4,
 "nbformat_minor": 2
}
