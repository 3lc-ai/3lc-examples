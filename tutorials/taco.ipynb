{
 "cells": [
  {
   "cell_type": "code",
   "execution_count": 1,
   "metadata": {},
   "outputs": [],
   "source": [
    "import tlc\n",
    "from tools.embeddings import add_embeddings_to_table\n",
    "from PIL import Image"
   ]
  },
  {
   "cell_type": "code",
   "execution_count": 2,
   "metadata": {},
   "outputs": [],
   "source": [
    "# Load the initial table\n",
    "table = tlc.Table.from_names(table_name=\"official_initial\", dataset_name=\"TACO\", project_name=\"TACO\")"
   ]
  },
  {
   "cell_type": "code",
   "execution_count": 3,
   "metadata": {},
   "outputs": [
    {
     "data": {
      "text/plain": [
       "TableFromCoco(project_name=\"TACO\", dataset_name=\"TACO\", name=\"official_initial\", row_count=1500)"
      ]
     },
     "execution_count": 3,
     "metadata": {},
     "output_type": "execute_result"
    }
   ],
   "source": [
    "# `add_embeddings_to_table` below expects PIL images, our table returns samples as dictionaries;\n",
    "# map the table to return the images directly:\n",
    "\n",
    "def preprocess(sample):\n",
    "    return Image.open(sample[\"image\"])\n",
    "\n",
    "table.map(preprocess)"
   ]
  },
  {
   "cell_type": "code",
   "execution_count": 4,
   "metadata": {},
   "outputs": [
    {
     "name": "stderr",
     "output_type": "stream",
     "text": [
      "Some weights of ViTModel were not initialized from the model checkpoint at google/vit-base-patch16-224 and are newly initialized: ['vit.pooler.dense.bias', 'vit.pooler.dense.weight']\n",
      "You should probably TRAIN this model on a down-stream task to be able to use it for predictions and inference.\n",
      "Extracting embeddings:   0%|          | 0/188 [00:00<?, ?it/s]c:\\Project\\notebook-examples\\.venv\\Lib\\site-packages\\transformers\\models\\vit\\modeling_vit.py:253: UserWarning: 1Torch was not compiled with flash attention. (Triggered internally at ..\\aten\\src\\ATen\\native\\transformers\\cuda\\sdp_utils.cpp:263.)\n",
      "  context_layer = torch.nn.functional.scaled_dot_product_attention(\n",
      "Extracting embeddings: 100%|██████████| 188/188 [02:13<00:00,  1.41it/s]\n"
     ]
    }
   ],
   "source": [
    "# Add embeddings from the ViT model to the table\n",
    "embeddings_table = add_embeddings_to_table(table, batch_size=8)"
   ]
  },
  {
   "cell_type": "code",
   "execution_count": 5,
   "metadata": {},
   "outputs": [
    {
     "data": {
      "text/plain": [
       "TableFromParquet(project_name=\"TACO\", dataset_name=\"TACO\", name=\"with_embeddings\", row_count=1500)"
      ]
     },
     "execution_count": 5,
     "metadata": {},
     "output_type": "execute_result"
    }
   ],
   "source": [
    "embeddings_table"
   ]
  },
  {
   "cell_type": "code",
   "execution_count": null,
   "metadata": {},
   "outputs": [],
   "source": [
    "# Add embeddings from SAM model to the table\n"
   ]
  },
  {
   "cell_type": "code",
   "execution_count": 6,
   "metadata": {},
   "outputs": [
    {
     "name": "stdout",
     "output_type": "stream",
     "text": [
      "\u001b[90m3lc: \u001b[0mFitting PaCMAP model on column 'embedding' for table ../with_embeddings\n",
      "\u001b[90m3lc: \u001b[0mTransforming column 'embedding' in table ../with_embeddings with PaCMAP model ./reduced_0000.pkl\n"
     ]
    }
   ],
   "source": [
    "# Reduce the embeddings using PaCMAP\n",
    "reduced_table = tlc.reduce_embeddings(\n",
    "    embeddings_table,\n",
    "    method=\"pacmap\",\n",
    "    delete_source_tables=False,\n",
    "    source_embedding_column=\"embedding\",\n",
    ")"
   ]
  }
 ],
 "metadata": {
  "kernelspec": {
   "display_name": ".venv",
   "language": "python",
   "name": "python3"
  },
  "language_info": {
   "codemirror_mode": {
    "name": "ipython",
    "version": 3
   },
   "file_extension": ".py",
   "mimetype": "text/x-python",
   "name": "python",
   "nbconvert_exporter": "python",
   "pygments_lexer": "ipython3",
   "version": "3.11.3"
  }
 },
 "nbformat": 4,
 "nbformat_minor": 2
}
