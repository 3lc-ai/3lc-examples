{
 "cells": [
  {
   "cell_type": "code",
   "execution_count": 12,
   "metadata": {},
   "outputs": [],
   "source": [
    "import os\n",
    "from pathlib import Path\n",
    "\n",
    "import tlc\n",
    "\n",
    "DATA_PATH = Path(\"../data/cats-and-dogs\").absolute().as_posix()\n",
    "dir2label = {\"cats\": 0, \"dogs\": 1}\n",
    "\n",
    "image_files = []\n",
    "labels = []\n",
    "\n",
    "for dir in [\"cats\", \"dogs\"]:\n",
    "    for file_name in os.listdir(f\"{DATA_PATH}/{dir}\"):\n",
    "        image_files.append(f\"{DATA_PATH}/{dir}/{file_name}\")\n",
    "        labels.append(dir2label[dir])\n"
   ]
  },
  {
   "cell_type": "code",
   "execution_count": null,
   "metadata": {},
   "outputs": [],
   "source": [
    "table_writer = tlc.TableWriter(\n",
    "    table_name=\"table-writer-add-rows\",\n",
    "    dataset_name=\"cats-and-dogs\",\n",
    "    project_name=\"3LC Public Tutorials\",\n",
    "    column_schemas={\n",
    "        \"image\": tlc.ImagePath(\"image\"),\n",
    "        \"label\": tlc.CategoricalLabel(\"label\", [\"cat\", \"dog\"]),\n",
    "        \"weight\": tlc.SampleWeightSchema(),\n",
    "    },\n",
    "    if_exists=\"overwrite\",\n",
    ")\n",
    "\n",
    "for image, label in zip(image_files, labels):\n",
    "    table_writer.add_row(\n",
    "        {\n",
    "            \"image\": image,\n",
    "            \"label\": label,\n",
    "            \"weight\": 1.0,\n",
    "        }\n",
    "    )\n",
    "\n",
    "table = table_writer.finalize()\n",
    "\n",
    "print(f\"Created table at URL {table.url} with {len(table)} rows.\")\n",
    "\n",
    "print(\"\\nFirst row (sample view):\")\n",
    "print(table[0])\n",
    "\n",
    "print(\"\\nFirst row (table view):\")\n",
    "print(table.table_rows[0])"
   ]
  }
 ],
 "metadata": {
  "kernelspec": {
   "display_name": ".venv",
   "language": "python",
   "name": "python3"
  },
  "language_info": {
   "codemirror_mode": {
    "name": "ipython",
    "version": 3
   },
   "file_extension": ".py",
   "mimetype": "text/x-python",
   "name": "python",
   "nbconvert_exporter": "python",
   "pygments_lexer": "ipython3",
   "version": "3.11.3"
  }
 },
 "nbformat": 4,
 "nbformat_minor": 2
}
