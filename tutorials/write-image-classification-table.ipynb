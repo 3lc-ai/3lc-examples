{
 "cells": [
  {
   "cell_type": "markdown",
   "metadata": {},
   "source": [
    "# Write a Table of Images and Categorical Labels\n",
    "\n",
    "In this example we will write a small table containing images of cats and dogs.\n",
    "The table will have two visible columns: one for the image and one for the label.\n",
    "In addition, we will add a \"sample-weight\" column, which will not be visible in the table rows."
   ]
  },
  {
   "cell_type": "code",
   "execution_count": null,
   "metadata": {},
   "outputs": [],
   "source": [
    "import tlc\n",
    "\n",
    "from pathlib import Path"
   ]
  },
  {
   "cell_type": "markdown",
   "metadata": {},
   "source": [
    "## Create a table from a image folder"
   ]
  },
  {
   "cell_type": "code",
   "execution_count": null,
   "metadata": {},
   "outputs": [],
   "source": [
    "data_path = Path(\"../data/cats-and-dogs\").absolute().as_posix()\n",
    "\n",
    "dataset_name = \"cats-and-dogs\"\n",
    "project_name = \"image-classification-table\"\n",
    "\n",
    "table = tlc.Table.from_image_folder(\n",
    "    data_path,\n",
    "    table_name=\"initial\",\n",
    "    dataset_name=dataset_name,\n",
    "    project_name=project_name,\n",
    "    add_weight_column=True,\n",
    "    if_exists=\"overwrite\",\n",
    ")\n",
    "\n",
    "print(f\"Created table with {len(table)} rows.\")\n",
    "\n",
    "print(\"\\nFirst row (sample view):\")\n",
    "print(table[0])\n",
    "\n",
    "print(\"\\nFirst row (table view):\")\n",
    "print(table.table_rows[0])"
   ]
  }
 ],
 "metadata": {
  "kernelspec": {
   "display_name": ".venv",
   "language": "python",
   "name": "python3"
  },
  "language_info": {
   "codemirror_mode": {
    "name": "ipython",
    "version": 3
   },
   "file_extension": ".py",
   "mimetype": "text/x-python",
   "name": "python",
   "nbconvert_exporter": "python",
   "pygments_lexer": "ipython3",
   "version": "3.11.3"
  }
 },
 "nbformat": 4,
 "nbformat_minor": 2
}
