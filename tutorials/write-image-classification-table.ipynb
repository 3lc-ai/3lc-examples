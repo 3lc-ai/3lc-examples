{
 "cells": [
  {
   "cell_type": "markdown",
   "metadata": {},
   "source": [
    "# Write a Table of Images and Categorical Labels\n",
    "\n",
    "In this example we will write a small table containing images of cats and dogs.\n",
    "The table will have two visible columns: one for the image and one for the label.\n",
    "In addition, we will add a \"sample-weight\" column, which will not be visible in the table rows."
   ]
  },
  {
   "cell_type": "code",
   "execution_count": null,
   "metadata": {},
   "outputs": [],
   "source": [
    "import os\n",
    "from pathlib import Path\n",
    "import tlc\n",
    "from PIL import Image"
   ]
  },
  {
   "cell_type": "markdown",
   "metadata": {},
   "source": [
    "## Collect lists of image paths and labels"
   ]
  },
  {
   "cell_type": "code",
   "execution_count": null,
   "metadata": {},
   "outputs": [],
   "source": [
    "data_path = Path(\"../data/cats-and-dogs\").absolute().as_posix()\n",
    "dir2label = {\"cats\": 0, \"dogs\": 1}\n",
    "\n",
    "image_files = []\n",
    "labels = []\n",
    "\n",
    "for dir_name in [\"cats\", \"dogs\"]:\n",
    "    for file_name in os.listdir(f\"{data_path}/{dir_name}\"):\n",
    "        image_files.append(f\"{data_path}/{dir_name}/{file_name}\")\n",
    "        labels.append(dir2label[dir_name])\n"
   ]
  },
  {
   "cell_type": "markdown",
   "metadata": {},
   "source": [
    "## Write a table using a TableWriter"
   ]
  },
  {
   "cell_type": "code",
   "execution_count": null,
   "metadata": {},
   "outputs": [],
   "source": [
    "project_name = \"image-classification-table\"\n",
    "\n",
    "table_writer = tlc.TableWriter(\n",
    "    table_name=\"initial\",\n",
    "    dataset_name=\"cats-and-dogs\",\n",
    "    project_name=project_name,\n",
    "    column_schemas={\n",
    "        \"image\": tlc.ImagePath,\n",
    "        \"label\": tlc.CategoricalLabel(\"label\", [\"cat\", \"dog\"]),\n",
    "        \"weight\": tlc.SampleWeightSchema(),\n",
    "    },\n",
    "    if_exists=\"overwrite\",\n",
    ")\n",
    "\n",
    "for image, label in zip(image_files, labels):\n",
    "    table_writer.add_row(\n",
    "        {\n",
    "            \"image\": image,\n",
    "            \"label\": label,\n",
    "            \"weight\": 1.0,\n",
    "        }\n",
    "    )\n",
    "\n",
    "table = table_writer.finalize()\n",
    "\n",
    "print(f\"Created table with {len(table)} rows.\")\n",
    "\n",
    "print(\"\\nFirst row (sample view):\")\n",
    "print(table[0])\n",
    "\n",
    "print(\"\\nFirst row (table view):\")\n",
    "print(table.table_rows[0])"
   ]
  },
  {
   "cell_type": "code",
   "execution_count": null,
   "metadata": {},
   "outputs": [],
   "source": [
    "# Map the table so that it is compatible with typical classification models\n",
    "def map_fn(sample):\n",
    "    return (Image.open(sample[\"image\"]), sample[\"label\"])\n",
    "\n",
    "table.map(map_fn)\n",
    "table[0]  # Now the first row is a tuple with the image and the label"
   ]
  }
 ],
 "metadata": {
  "kernelspec": {
   "display_name": ".venv",
   "language": "python",
   "name": "python3"
  },
  "language_info": {
   "codemirror_mode": {
    "name": "ipython",
    "version": 3
   },
   "file_extension": ".py",
   "mimetype": "text/x-python",
   "name": "python",
   "nbconvert_exporter": "python",
   "pygments_lexer": "ipython3",
   "version": "3.11.3"
  }
 },
 "nbformat": 4,
 "nbformat_minor": 2
}
