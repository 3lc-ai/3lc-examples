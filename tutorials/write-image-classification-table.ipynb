{
 "cells": [
  {
   "cell_type": "code",
   "execution_count": 2,
   "metadata": {},
   "outputs": [
    {
     "name": "stdout",
     "output_type": "stream",
     "text": [
      "\u001b[4m\u001b[5m\u001b[31mERROR\u001b[0m \u001b[90m3lc: \u001b[0mAPI key error: API key not valid.\n",
      "\u001b[4m\u001b[5m\u001b[31mERROR\u001b[0m \u001b[90m3lc: \u001b[0mAPI key error: API key not valid.\n",
      "\u001b[90m3lc: \u001b[0mAPI key written to: C:\\Users\\gudbrand\\AppData\\Local\\3LC\\3LC\\api_key.txt\n"
     ]
    }
   ],
   "source": [
    "DATA_PATH = \"../data/cats-and-dogs\"\n",
    "\n",
    "import os\n",
    "\n",
    "import numpy as np\n",
    "from PIL import Image\n",
    "\n",
    "import tlc\n",
    "\n",
    "label_map = {\"cat\": 0, \"dog\": 1}\n",
    "\n",
    "# structure = (tlc.PILImage(\"image\"), tlc.CategoricalLabel(\"label\", [\"cat\", \"dog\"]))\n",
    "\n",
    "table_writer = tlc.TableWriter(\n",
    "    table_name=\"test\",\n",
    "    dataset_name=\"cats-and-dogs\",\n",
    "    project_name=\"3LC Public Tutorials\",\n",
    "    column_schemas={\n",
    "        \"image\": tlc.PILImage(\"image\"),\n",
    "        \"label\": tlc.CategoricalLabel(\"label\", label_map.keys()),\n",
    "        \"weight\": tlc.SampleWeightSchema(),\n",
    "    },\n",
    "    if_exists=\"overwrite\",\n",
    ")\n",
    "\n",
    "for label in [\"cat\", \"dog\"]:\n",
    "    for file_name in os.listdir(f\"{DATA_PATH}/{label}\"):\n",
    "        image = Image.open(f\"{DATA_PATH}/{label}/{file_name}\")\n",
    "        table_writer.add_row(\n",
    "            {\n",
    "                \"image\": image,\n",
    "                \"label\": label_map[label],\n",
    "                \"weight\": 1.0,\n",
    "            }\n",
    "        )\n",
    "\n",
    "table = table_writer.finalize()\n",
    "\n",
    "print(f\"Created table at URL {table.url} with {len(table)} rows.\")"
   ]
  }
 ],
 "metadata": {
  "kernelspec": {
   "display_name": ".venv",
   "language": "python",
   "name": "python3"
  },
  "language_info": {
   "codemirror_mode": {
    "name": "ipython",
    "version": 3
   },
   "file_extension": ".py",
   "mimetype": "text/x-python",
   "name": "python",
   "nbconvert_exporter": "python",
   "pygments_lexer": "ipython3",
   "version": "3.11.3"
  }
 },
 "nbformat": 4,
 "nbformat_minor": 2
}
