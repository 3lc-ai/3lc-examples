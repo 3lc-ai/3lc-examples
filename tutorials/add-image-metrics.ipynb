{
 "cells": [
  {
   "cell_type": "markdown",
   "metadata": {},
   "source": [
    "# Add Image Metrics to an Existing Table"
   ]
  },
  {
   "cell_type": "markdown",
   "metadata": {},
   "source": [
    "<div style=\"display: inline-flex; align-items: center; gap: 10px;\">\n",
    "        <a href=\"https://colab.research.google.com/github/3lc-ai/3lc-examples/blob/main/tutorials/add-image-metrics.ipynb\"\n",
    "        target=\"_blank\"\n",
    "            style=\"background-color: transparent; text-decoration: none; display: inline-flex; align-items: center;\n",
    "            padding: 5px 10px; font-family: Arial, sans-serif;\"> <img\n",
    "            src=\"https://colab.research.google.com/assets/colab-badge.svg\" alt=\"Open In Colab\" style=\"height: 30px;\n",
    "            vertical-align: middle;box-shadow: none;\"/>\n",
    "        </a> <a href=\"https://github.com/3lc-ai/3lc-examples/blob/main/tutorials/add-image-metrics.ipynb\"\n",
    "            style=\"text-decoration: none; display: inline-flex; align-items: center; background-color: #ffffff; border:\n",
    "            1px solid #d1d5da; border-radius: 8px; padding: 2px 10px; color: #333; font-family: Arial, sans-serif;\">\n",
    "            <svg aria-hidden=\"true\" focusable=\"false\" role=\"img\" class=\"octicon octicon-mark-github\" viewBox=\"0 0 16 16\"\n",
    "            width=\"20\" height=\"20\" fill=\"#333\"\n",
    "            style=\"display:inline-block;user-select:none;vertical-align:text-bottom;overflow:visible; margin-right:\n",
    "            8px;\">\n",
    "                <path d=\"M8 0c4.42 0 8 3.58 8 8a8.013 8.013 0 0 1-5.45 7.59c-.4.08-.55-.17-.55-.38 0-.27.01-1.13.01-2.2\n",
    "                0-.75-.25-1.23-.54-1.48 1.78-.2 3.65-.88 3.65-3.95 0-.88-.31-1.59-.82-2.15.08-.2.36-1.02-.08-2.12 0\n",
    "                0-.67-.22-2.2.82-.64-.18-1.32-.27-2-.27-.68 0-1.36.09-2 .27-1.53-1.03-2.2-.82-2.2-.82-.44 1.1-.16\n",
    "                1.92-.08 2.12-.51.56-.82 1.28-.82 2.15 0 3.06 1.86 3.75 3.64 3.95-.23.2-.44.55-.51\n",
    "                1.07-.46.21-1.61.55-2.33-.66-.15-.24-.6-.83-1.23-.82-.67.01-.27.38.01.53.34.19.73.9.82 1.13.16.45.68\n",
    "                1.31 2.69.94 0 .67.01 1.3.01 1.49 0 .21-.15.45-.55.38A7.995 7.995 0 0 1 0 8c0-4.42 3.58-8 8-8Z\"></path>\n",
    "            </svg> <span style=\"vertical-align: middle; color: #333;\">Open in GitHub</span>\n",
    "        </a>\n",
    "</div>"
   ]
  },
  {
   "cell_type": "markdown",
   "metadata": {},
   "source": [
    "In this example, we will first write a simple table containing a single column of image paths.\n",
    "We will then write a second table, containing the image paths from the first table, and extended with new columns containing image metrics."
   ]
  },
  {
   "cell_type": "code",
   "execution_count": 1,
   "metadata": {},
   "outputs": [],
   "source": [
    "from collections import defaultdict\n",
    "from pathlib import Path\n",
    "\n",
    "import numpy as np\n",
    "import tlc\n",
    "from PIL import Image, ImageStat\n",
    "\n",
    "from tools import add_columns_to_table\n"
   ]
  },
  {
   "cell_type": "markdown",
   "metadata": {},
   "source": [
    "## Write the initial table"
   ]
  },
  {
   "cell_type": "code",
   "execution_count": 2,
   "metadata": {},
   "outputs": [],
   "source": [
    "data_path = Path(\"../data/coco128/images\").absolute().as_posix()\n",
    "dataset_name = \"coco128\"\n",
    "project_name = \"add-image-metrics\"\n",
    "\n",
    "table = tlc.Table.from_image_folder(\n",
    "    data_path,\n",
    "    table_name=\"initial\",\n",
    "    dataset_name=dataset_name,\n",
    "    project_name=project_name,\n",
    "    include_label_column=False,\n",
    "    add_weight_column=False,\n",
    "    description=\"Initial table with images from COCO128 dataset\",\n",
    ")"
   ]
  },
  {
   "cell_type": "markdown",
   "metadata": {},
   "source": [
    "## Extend the table with image metrics"
   ]
  },
  {
   "cell_type": "code",
   "execution_count": 3,
   "metadata": {},
   "outputs": [],
   "source": [
    "def compute_image_metrics(image_path: str):\n",
    "    \"\"\"Return a dict of image metrics for the given image path.\"\"\"\n",
    "    image = Image.open(image_path)\n",
    "    width, height = image.size\n",
    "    pixels = np.array(image)\n",
    "\n",
    "    # Convert to grayscale for some metrics\n",
    "    grayscale_image = image.convert(\"L\")\n",
    "    stat = ImageStat.Stat(grayscale_image)\n",
    "\n",
    "    # Compute brightness (average grayscale value)\n",
    "    brightness = stat.mean[0]\n",
    "\n",
    "    # Compute contrast (standard deviation of grayscale values)\n",
    "    contrast = stat.stddev[0]\n",
    "\n",
    "    # Compute average RGB values\n",
    "    try:\n",
    "        avg_r = np.mean(pixels[:, :, 0])\n",
    "        avg_g = np.mean(pixels[:, :, 1])\n",
    "        avg_b = np.mean(pixels[:, :, 2])\n",
    "    except IndexError: # Image is grayscale\n",
    "        avg_r = avg_g = avg_b = 0\n",
    "\n",
    "    return {\n",
    "        \"width\": width,\n",
    "        \"height\": height,\n",
    "        \"brightness\": brightness,\n",
    "        \"contrast\": contrast,\n",
    "        \"average_red\": avg_r,\n",
    "        \"average_green\": avg_g,\n",
    "        \"average_blue\": avg_b,\n",
    "    }"
   ]
  },
  {
   "cell_type": "code",
   "execution_count": null,
   "metadata": {},
   "outputs": [],
   "source": [
    "\n",
    "schemas = {\n",
    "    \"width\": tlc.Schema(value=tlc.Int32Value(), writable=False, sample_type=\"hidden\"),\n",
    "    \"height\": tlc.Schema(value=tlc.Int32Value(), writable=False, sample_type=\"hidden\"),\n",
    "    \"brightness\": tlc.Schema(value=tlc.Float32Value(), writable=False, sample_type=\"hidden\"),\n",
    "    \"contrast\": tlc.Schema(value=tlc.Float32Value(), writable=False, sample_type=\"hidden\"),\n",
    "    \"average_red\": tlc.Schema(value=tlc.Float32Value(), writable=False, sample_type=\"hidden\"),\n",
    "    \"average_green\": tlc.Schema(value=tlc.Float32Value(), writable=False, sample_type=\"hidden\"),\n",
    "    \"average_blue\": tlc.Schema(value=tlc.Float32Value(), writable=False, sample_type=\"hidden\"),\n",
    "}\n",
    "\n",
    "# Iterate through the input table, compute metrics for each image, and add the metrics to the extended table\n",
    "new_columns = defaultdict(list)\n",
    "for row in table.table_rows:\n",
    "    image_path = row[\"image\"]\n",
    "    metrics = compute_image_metrics(image_path)\n",
    "    for column_name, value in metrics.items():\n",
    "        new_columns[column_name].append(value)\n",
    "\n",
    "extended_table = add_columns_to_table(\n",
    "    table,\n",
    "    new_columns,\n",
    "    schemas,\n",
    "    output_table_name=\"added-image-metrics\",\n",
    "    description=\"COCO128 dataset with added image metrics\",\n",
    ")\n",
    "\n",
    "print(extended_table[0].keys())  # Notice only the \"image\" column is present in the \"sample-view\" of the table\n",
    "print(extended_table.table_rows[0].keys())  # Notice all the columns are present in the \"row-view\" of the table"
   ]
  }
 ],
 "metadata": {
  "kernelspec": {
   "display_name": ".venv",
   "language": "python",
   "name": "python3"
  },
  "language_info": {
   "codemirror_mode": {
    "name": "ipython",
    "version": 3
   },
   "file_extension": ".py",
   "mimetype": "text/x-python",
   "name": "python",
   "nbconvert_exporter": "python",
   "pygments_lexer": "ipython3",
   "version": "3.11.3"
  }
 },
 "nbformat": 4,
 "nbformat_minor": 2
}
