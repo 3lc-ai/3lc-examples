{
 "cells": [
  {
   "cell_type": "markdown",
   "metadata": {},
   "source": [
    "# Add Image Metrics to an Existing Table\n",
    "\n",
    "In this example, we will first write a simple table containing a single column of image paths.\n",
    "We will then write a second table, containing the image paths from the first table, and extended with new columns containing image metrics."
   ]
  },
  {
   "cell_type": "code",
   "execution_count": null,
   "metadata": {},
   "outputs": [],
   "source": [
    "from pathlib import Path\n",
    "import tlc\n",
    "from PIL import Image, ImageStat\n",
    "import numpy as np"
   ]
  },
  {
   "cell_type": "markdown",
   "metadata": {},
   "source": [
    "## Write the initial table"
   ]
  },
  {
   "cell_type": "code",
   "execution_count": null,
   "metadata": {},
   "outputs": [],
   "source": [
    "data_path = Path(\"../data/coco128/images\").absolute().as_posix()\n",
    "dataset_name = \"coco128\"\n",
    "project_name = \"add-image-metrics\"\n",
    "\n",
    "table = tlc.Table.from_image_folder(\n",
    "    data_path,\n",
    "    table_name=\"initial\",\n",
    "    dataset_name=dataset_name,\n",
    "    project_name=project_name,\n",
    "    include_label_column=False,\n",
    "    add_weight_column=False,\n",
    "    description=\"Initial table with images from COCO128 dataset\",\n",
    ")"
   ]
  },
  {
   "cell_type": "markdown",
   "metadata": {},
   "source": [
    "## Extend the table with image metrics"
   ]
  },
  {
   "cell_type": "code",
   "execution_count": null,
   "metadata": {},
   "outputs": [],
   "source": [
    "def compute_image_metrics(image_path: str):    \n",
    "    \"\"\"Return a dict of image metrics for the given image path.\"\"\"\n",
    "    image = Image.open(image_path)\n",
    "    width, height = image.size\n",
    "    pixels = np.array(image)\n",
    "\n",
    "    # Convert to grayscale for some metrics\n",
    "    grayscale_image = image.convert(\"L\")\n",
    "    stat = ImageStat.Stat(grayscale_image)\n",
    "\n",
    "    # Compute brightness (average grayscale value)\n",
    "    brightness = stat.mean[0]\n",
    "\n",
    "    # Compute contrast (standard deviation of grayscale values)\n",
    "    contrast = stat.stddev[0]\n",
    "\n",
    "    # Compute average RGB values\n",
    "    try:\n",
    "        avg_r = np.mean(pixels[:, :, 0])\n",
    "        avg_g = np.mean(pixels[:, :, 1])\n",
    "        avg_b = np.mean(pixels[:, :, 2])\n",
    "    except IndexError: # Image is grayscale\n",
    "        avg_r = avg_g = avg_b = 0\n",
    "\n",
    "    return {\n",
    "        \"width\": width,\n",
    "        \"height\": height,\n",
    "        \"brightness\": brightness,\n",
    "        \"contrast\": contrast,\n",
    "        \"average_red\": avg_r,\n",
    "        \"average_green\": avg_g,\n",
    "        \"average_blue\": avg_b,\n",
    "    }"
   ]
  },
  {
   "cell_type": "code",
   "execution_count": null,
   "metadata": {},
   "outputs": [],
   "source": [
    "# Create a TableWriter for the extended table\n",
    "# We ensure the schema of the metrics-columns are not writeable and hidden in the sample-view\n",
    "extended_table_writer = tlc.TableWriter(\n",
    "    table_name=\"added-image-metrics\",\n",
    "    dataset_name=dataset_name,\n",
    "    project_name=project_name,\n",
    "    description=\"COCO128 dataset with added image metrics\",\n",
    "    column_schemas={\n",
    "        \"image\": tlc.ImagePath,\n",
    "        \"width\": tlc.Schema(value=tlc.Int32Value(), writable=False, sample_type=\"hidden\"),\n",
    "        \"height\": tlc.Schema(value=tlc.Int32Value(), writable=False, sample_type=\"hidden\"),\n",
    "        \"brightness\": tlc.Schema(value=tlc.Float32Value(), writable=False, sample_type=\"hidden\"),\n",
    "        \"contrast\": tlc.Schema(value=tlc.Float32Value(), writable=False, sample_type=\"hidden\"),\n",
    "        \"average_red\": tlc.Schema(value=tlc.Float32Value(), writable=False, sample_type=\"hidden\"),\n",
    "        \"average_green\": tlc.Schema(value=tlc.Float32Value(), writable=False, sample_type=\"hidden\"),\n",
    "        \"average_blue\": tlc.Schema(value=tlc.Float32Value(), writable=False, sample_type=\"hidden\"),\n",
    "    },\n",
    ")\n",
    "\n",
    "# Iterate through the input table, compute metrics for each image, and add the metrics to the extended table\n",
    "for row in table.table_rows:\n",
    "    image_path = row[\"image\"]\n",
    "    metrics = compute_image_metrics(image_path)\n",
    "    new_row = {**row, **metrics}\n",
    "    extended_table_writer.add_row(new_row)\n",
    "\n",
    "extended_table = extended_table_writer.finalize()\n",
    "\n",
    "print(extended_table[0].keys())            # Notice only the \"image\" column is present in the \"sample-view\" of the table\n",
    "print(extended_table.table_rows[0].keys()) # Notice all the columns are present in the \"row-view\" of the table"
   ]
  }
 ],
 "metadata": {
  "kernelspec": {
   "display_name": ".venv",
   "language": "python",
   "name": "python3"
  },
  "language_info": {
   "codemirror_mode": {
    "name": "ipython",
    "version": 3
   },
   "file_extension": ".py",
   "mimetype": "text/x-python",
   "name": "python",
   "nbconvert_exporter": "python",
   "pygments_lexer": "ipython3",
   "version": "3.11.3"
  }
 },
 "nbformat": 4,
 "nbformat_minor": 2
}
