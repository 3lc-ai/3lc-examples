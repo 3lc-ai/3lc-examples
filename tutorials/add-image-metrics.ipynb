{
 "cells": [
  {
   "cell_type": "markdown",
   "metadata": {},
   "source": [
    "# Add Image Metrics to an existing Table"
   ]
  },
  {
   "cell_type": "code",
   "execution_count": 2,
   "metadata": {},
   "outputs": [],
   "source": [
    "from pathlib import Path\n",
    "\n",
    "DATA_PATH = Path(\"../data/coco128/images\").absolute().as_posix()\n"
   ]
  },
  {
   "cell_type": "markdown",
   "metadata": {},
   "source": [
    "## Write the initial table"
   ]
  },
  {
   "cell_type": "code",
   "execution_count": 3,
   "metadata": {},
   "outputs": [],
   "source": [
    "import os\n",
    "import tlc\n",
    "\n",
    "table_writer = tlc.TableWriter(\n",
    "    table_name=\"coco128\",\n",
    "    dataset_name=\"coco128\",\n",
    "    project_name=\"add-image-metrics\",\n",
    "    description=\"COCO128 dataset\",\n",
    "    column_schemas={\n",
    "        \"image\": tlc.ImagePath\n",
    "    }\n",
    ")\n",
    "\n",
    "for image_name in os.listdir(DATA_PATH):\n",
    "    image_path = os.path.join(DATA_PATH, image_name)\n",
    "    table_writer.add_row({\"image\": image_path})\n",
    "\n",
    "table = table_writer.finalize()\n"
   ]
  },
  {
   "cell_type": "markdown",
   "metadata": {},
   "source": [
    "## Extend the table with image metrics"
   ]
  },
  {
   "cell_type": "code",
   "execution_count": 15,
   "metadata": {},
   "outputs": [],
   "source": [
    "from PIL import Image, ImageStat\n",
    "import numpy as np\n",
    "\n",
    "def compute_image_metrics(image_path: str):    \n",
    "    \"\"\"Return a dict of image metrics for the given image path.\"\"\"\n",
    "    image = Image.open(image_path)\n",
    "    width, height = image.size\n",
    "    pixels = np.array(image)\n",
    "\n",
    "    # Convert to grayscale for some metrics\n",
    "    grayscale_image = image.convert(\"L\")\n",
    "    stat = ImageStat.Stat(grayscale_image)\n",
    "\n",
    "    # Compute brightness (average grayscale value)\n",
    "    brightness = stat.mean[0]\n",
    "\n",
    "    # Compute contrast (standard deviation of grayscale values)\n",
    "    contrast = stat.stddev[0]\n",
    "\n",
    "    # Compute average RGB values\n",
    "    try:\n",
    "        avg_r = np.mean(pixels[:, :, 0])\n",
    "        avg_g = np.mean(pixels[:, :, 1])\n",
    "        avg_b = np.mean(pixels[:, :, 2])\n",
    "    except IndexError: # Image is grayscale\n",
    "        avg_r = avg_g = avg_b = 0\n",
    "\n",
    "    return {\n",
    "        \"width\": width,\n",
    "        \"height\": height,\n",
    "        \"brightness\": brightness,\n",
    "        \"contrast\": contrast,\n",
    "        \"average_red\": avg_r,\n",
    "        \"average_green\": avg_g,\n",
    "        \"average_blue\": avg_b,\n",
    "    }"
   ]
  },
  {
   "cell_type": "code",
   "execution_count": 24,
   "metadata": {},
   "outputs": [
    {
     "name": "stdout",
     "output_type": "stream",
     "text": [
      "{'image': 'C:/Project/notebook-examples/data/coco128/images/000000000009.jpg'}\n"
     ]
    }
   ],
   "source": [
    "extended_table_writer = tlc.TableWriter(\n",
    "    table_name=\"added-image-metrics\",\n",
    "    dataset_name=\"coco128\",\n",
    "    project_name=\"add-image-metrics\",\n",
    "    description=\"COCO128 dataset with added image metrics\",\n",
    "    column_schemas={\n",
    "        \"image\": tlc.ImagePath,\n",
    "        \"width\": tlc.Schema(value=tlc.Int32Value(), writable=False, sample_type=\"hidden\"),\n",
    "        \"height\": tlc.Schema(value=tlc.Int32Value(), writable=False, sample_type=\"hidden\"),\n",
    "        \"brightness\": tlc.Schema(value=tlc.Float32Value(), writable=False, sample_type=\"hidden\"),\n",
    "        \"contrast\": tlc.Schema(value=tlc.Float32Value(), writable=False, sample_type=\"hidden\"),\n",
    "        \"average_red\": tlc.Schema(value=tlc.Float32Value(), writable=False, sample_type=\"hidden\"),\n",
    "        \"average_green\": tlc.Schema(value=tlc.Float32Value(), writable=False, sample_type=\"hidden\"),\n",
    "        \"average_blue\": tlc.Schema(value=tlc.Float32Value(), writable=False, sample_type=\"hidden\"),\n",
    "    },\n",
    ")\n",
    "\n",
    "for row in table:\n",
    "    image_path = row[\"image\"]\n",
    "    metrics = compute_image_metrics(image_path)\n",
    "    new_row = {**row, **metrics}\n",
    "    extended_table_writer.add_row(new_row)\n",
    "\n",
    "extended_table = extended_table_writer.finalize()\n",
    "\n",
    "print(extended_table[0])"
   ]
  }
 ],
 "metadata": {
  "kernelspec": {
   "display_name": ".venv",
   "language": "python",
   "name": "python3"
  },
  "language_info": {
   "codemirror_mode": {
    "name": "ipython",
    "version": 3
   },
   "file_extension": ".py",
   "mimetype": "text/x-python",
   "name": "python",
   "nbconvert_exporter": "python",
   "pygments_lexer": "ipython3",
   "version": "3.11.3"
  }
 },
 "nbformat": 4,
 "nbformat_minor": 2
}
