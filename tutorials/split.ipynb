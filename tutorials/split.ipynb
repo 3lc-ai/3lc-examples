{
 "cells": [
  {
   "cell_type": "code",
   "execution_count": null,
   "metadata": {},
   "outputs": [],
   "source": [
    "1. Import images from folder into initial table\n",
    "2. Add embeddings column using some model\n",
    "3. Reduce the table using UMAP/PACMAP\n",
    "4. Add local / global image metrics\n",
    "5. Split initial table into train/test split\n"
   ]
  },
  {
   "cell_type": "code",
   "execution_count": 5,
   "metadata": {},
   "outputs": [],
   "source": [
    "%load_ext autoreload\n",
    "%autoreload 2"
   ]
  },
  {
   "cell_type": "code",
   "execution_count": 3,
   "metadata": {},
   "outputs": [],
   "source": [
    "import tlc\n",
    "from tools.embeddings import add_embeddings_to_table"
   ]
  },
  {
   "cell_type": "code",
   "execution_count": 4,
   "metadata": {},
   "outputs": [],
   "source": [
    "dataset_name = \"cats-and-dogs\"\n",
    "project_name = \"image-classification-table\"\n",
    "table_name = \"initial\"\n",
    "\n",
    "table = tlc.Table.from_names(    \n",
    "    table_name=\"initial\",\n",
    "    dataset_name=dataset_name,\n",
    "    project_name=project_name,\n",
    ")"
   ]
  },
  {
   "cell_type": "code",
   "execution_count": null,
   "metadata": {},
   "outputs": [],
   "source": [
    "table_with_embeddings = add_embeddings_to_table(table)\n"
   ]
  },
  {
   "cell_type": "code",
   "execution_count": null,
   "metadata": {},
   "outputs": [],
   "source": [
    "reduced_table = tlc.reduce_embeddings(\n",
    "    table_with_embeddings,\n",
    "    method=\"umap\",\n",
    "    delete_source_tables=False,\n",
    "    source_embedding_column=\"embedding\",\n",
    ")"
   ]
  },
  {
   "cell_type": "code",
   "execution_count": 16,
   "metadata": {},
   "outputs": [],
   "source": [
    "from tools.add_columns_to_table import add_columns_to_table\n",
    "from tools.common import get_column_from_table\n",
    "from tools.metrics import uniqueness, diversity, traversal_index\n",
    "\n",
    "embedding_column = get_column_from_table(reduced_table, \"embedding_umap\")\n",
    "label_column = get_column_from_table(reduced_table, \"label\")\n",
    "\n",
    "uniqueness_score = uniqueness(embeddings=embedding_column, labels=label_column)\n",
    "diversity_score = diversity(embeddings=embedding_column, labels=label_column)\n",
    "traversal_index_score = traversal_index(embedding_column)\n",
    "\n",
    "added_metrics_table = add_columns_to_table(\n",
    "    table=reduced_table,\n",
    "    columns={\n",
    "        \"uniqueness\": uniqueness_score,\n",
    "        \"diversity\": diversity_score,\n",
    "        \"traversal_index\": traversal_index_score,\n",
    "        },\n",
    "    output_table_name=\"with_metrics_and_embeddings\",\n",
    ")\n"
   ]
  },
  {
   "cell_type": "code",
   "execution_count": null,
   "metadata": {},
   "outputs": [],
   "source": [
    "from tools.split import split_table\n",
    "\n",
    "splits = split_table(\n",
    "    table=added_metrics_table,\n",
    "    splits={\"train\": 0.7, \"val\": 0.2, \"test\": 0.1},\n",
    ")\n",
    "\n",
    "train_table = splits[\"train\"]\n",
    "val_table = splits[\"val\"]\n",
    "test_table = splits[\"test\"]"
   ]
  },
  {
   "cell_type": "code",
   "execution_count": null,
   "metadata": {},
   "outputs": [],
   "source": [
    "print(len(train_table))\n",
    "print(len(val_table))\n",
    "print(len(test_table))"
   ]
  },
  {
   "cell_type": "code",
   "execution_count": null,
   "metadata": {},
   "outputs": [],
   "source": [
    "train_table.url"
   ]
  }
 ],
 "metadata": {
  "kernelspec": {
   "display_name": ".venv",
   "language": "python",
   "name": "python3"
  },
  "language_info": {
   "codemirror_mode": {
    "name": "ipython",
    "version": 3
   },
   "file_extension": ".py",
   "mimetype": "text/x-python",
   "name": "python",
   "nbconvert_exporter": "python",
   "pygments_lexer": "ipython3",
   "version": "3.11.3"
  }
 },
 "nbformat": 4,
 "nbformat_minor": 2
}
