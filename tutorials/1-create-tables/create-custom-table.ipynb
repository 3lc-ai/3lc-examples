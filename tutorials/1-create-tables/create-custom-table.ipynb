{
 "cells": [
  {
   "cell_type": "markdown",
   "metadata": {},
   "source": [
    "# Create Custom Table\n",
    "\n",
    "This guide demonstrates how to create a custom 3LC Table containing different data types.\n",
    "\n",
    "The table will contain dummy data for demonstration purposes, and contain the following columns:\n",
    "\n",
    "- `id` (int): A non-writable unique identifier for each row.\n",
    "- `name` (string): A name for each row.\n",
    "- `image` (image): An image for each row.\n",
    "- `label` (enum-int): A tag for each row.\n",
    "- `age` (int): An age for each row.\n",
    "- `weight` (float): A sample-weight for each row.\n",
    "\n",
    "We show how column schemas can be defined and how to write the Table row-by-row."
   ]
  },
  {
   "cell_type": "code",
   "execution_count": 28,
   "metadata": {},
   "outputs": [],
   "source": [
    "import tlc\n",
    "from tools.common import data_root"
   ]
  },
  {
   "cell_type": "code",
   "execution_count": 29,
   "metadata": {},
   "outputs": [],
   "source": [
    "root = data_root()\n",
    "\n",
    "# Prepare the data (5 images of dogs with random metadata)\n",
    "\n",
    "images = [\n",
    "    str(root / \"cats-and-dogs/dogs/1500.jpg\"),\n",
    "    str(root / \"cats-and-dogs/dogs/1501.jpg\"),\n",
    "    str(root / \"cats-and-dogs/dogs/1502.jpg\"),\n",
    "    str(root / \"cats-and-dogs/dogs/1503.jpg\"),\n",
    "    str(root / \"cats-and-dogs/dogs/1504.jpg\"),\n",
    "]\n",
    "\n",
    "names = [\n",
    "    \"Jennifer\", \n",
    "    \"John\",\n",
    "    \"Jane\",\n",
    "    \"Johnson\",\n",
    "    \"Jenny\"\n",
    "]\n",
    "\n",
    "labels = [0, 1, 1, 0, 0]\n",
    "ages = [7, 5, 6, 7, 8]\n",
    "weights = [1, 1, 1, 1, 1]"
   ]
  },
  {
   "cell_type": "code",
   "execution_count": 30,
   "metadata": {},
   "outputs": [],
   "source": [
    "# Specify the schemas of the columns. \n",
    "# The \"name\" and \"age\" columns are automatically inferred from the data and do not need to be overridden.\n",
    "\n",
    "schemas = {\n",
    "    \"id\": tlc.Schema(value=tlc.Int32Value(), writable=False),  # Ensure the ID is not writable\n",
    "    \"image\": tlc.ImagePath,  # A ImagePath stores paths to images. In the 3LC Dashboard, the images will be displayed.\n",
    "    \"label\": tlc.CategoricalLabel(\"label\", classes=[\"good dog\", \"bad dog\"]),  # Label is just an integer, but we want to display it as a string\n",
    "    \"weight\": tlc.SampleWeightSchema(),  # The weight of the sample, to be used for weighted training\n",
    "}"
   ]
  },
  {
   "cell_type": "code",
   "execution_count": 31,
   "metadata": {},
   "outputs": [],
   "source": [
    "# Loop over the data and use a tlc.TableWriter to write the table\n",
    "\n",
    "table_writer = tlc.TableWriter(\n",
    "    table_name=\"good-dog-bad-dog\",\n",
    "    dataset_name=\"Dogs\", \n",
    "    project_name=\"Cats and Dogs\",\n",
    "    description=\"A table of good and bad dogs\",\n",
    "    column_schemas=schemas,\n",
    ")\n",
    "\n",
    "for i, (image, name, label, age, weight) in enumerate(zip(images, names, labels, ages, weights)):\n",
    "    table_writer.add_row(\n",
    "        {\n",
    "            \"id\": i,\n",
    "            \"name\": name,\n",
    "            \"image\": image,\n",
    "            \"label\": label,\n",
    "            \"age\": age,\n",
    "            \"weight\": weight,\n",
    "        }\n",
    "    )"
   ]
  },
  {
   "cell_type": "code",
   "execution_count": 32,
   "metadata": {},
   "outputs": [],
   "source": [
    "# Finalize the TableWriter to write the table to disk. \n",
    "# The URL of the written Table is based on the table name, dataset name, and project name.\n",
    "table = table_writer.finalize()"
   ]
  },
  {
   "cell_type": "code",
   "execution_count": null,
   "metadata": {},
   "outputs": [],
   "source": [
    "table"
   ]
  }
 ],
 "metadata": {
  "kernelspec": {
   "display_name": ".venv",
   "language": "python",
   "name": "python3"
  },
  "language_info": {
   "codemirror_mode": {
    "name": "ipython",
    "version": 3
   },
   "file_extension": ".py",
   "mimetype": "text/x-python",
   "name": "python",
   "nbconvert_exporter": "python",
   "pygments_lexer": "ipython3",
   "version": "3.11.3"
  }
 },
 "nbformat": 4,
 "nbformat_minor": 2
}
