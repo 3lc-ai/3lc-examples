{
 "cells": [
  {
   "cell_type": "markdown",
   "metadata": {},
   "source": [
    "# Create Custom Table\n",
    "\n",
    "This guide demonstrates how to create a custom 3LC Table containing different data types.\n",
    "\n",
    "The table will contain dummy data for demonstration purposes, and contain the following columns:\n",
    "\n",
    "- `id` (int): A non-writable unique identifier for each row.\n",
    "- `name` (string): A name for each row.\n",
    "- `image` (image): An image for each row.\n",
    "- `label` (enum-int): A tag for each row.\n",
    "- `age` (int): An age for each row.\n",
    "- `weight` (float): A sample-weight for each row.\n",
    "\n",
    "We show how column schemas can be defined and how to write the Table row-by-row."
   ]
  },
  {
   "cell_type": "code",
   "execution_count": 1,
   "metadata": {},
   "outputs": [],
   "source": [
    "import tlc\n",
    "from tools.common import data_root"
   ]
  },
  {
   "cell_type": "code",
   "execution_count": 2,
   "metadata": {},
   "outputs": [],
   "source": [
    "# Prepare the data (5 images of dogs with random metadata)\n",
    "\n",
    "dogs_folder = data_root() / \"cats-and-dogs/dogs\"\n",
    "\n",
    "images = [str(dogs_folder / f\"150{i}.jpg\") for i in range(5)]\n",
    "names = [\"Jennifer\", \"John\", \"Jane\", \"Johnson\", \"Jenny\"]\n",
    "labels = [0, 1, 1, 0, 0]\n",
    "ages = [7, 5, 6, 7, 8]\n",
    "weights = [1, 1, 1, 1, 1]"
   ]
  },
  {
   "cell_type": "code",
   "execution_count": 3,
   "metadata": {},
   "outputs": [],
   "source": [
    "# Specify the schemas of the columns. \n",
    "# The \"name\" and \"age\" columns are automatically inferred from the data and do not need to be overridden.\n",
    "\n",
    "schemas = {\n",
    "    \"id\": tlc.Schema(value=tlc.Int32Value(), writable=False),  # Ensure the ID is not writable\n",
    "    \"image\": tlc.ImagePath,  # A ImagePath stores paths to images. In the 3LC Dashboard, the images will be displayed.\n",
    "    \"label\": tlc.CategoricalLabel(\"label\", classes=[\"good dog\", \"bad dog\"]),  # Label is just an integer, but we want to display it as a string\n",
    "    \"weight\": tlc.SampleWeightSchema(),  # The weight of the sample, to be used for weighted training\n",
    "}"
   ]
  },
  {
   "cell_type": "code",
   "execution_count": 4,
   "metadata": {},
   "outputs": [],
   "source": [
    "# Loop over the data and use a tlc.TableWriter to write the table\n",
    "\n",
    "table_writer = tlc.TableWriter(\n",
    "    table_name=\"good-dog-bad-dog\",\n",
    "    dataset_name=\"Dogs\", \n",
    "    project_name=\"3LC Tutorials\",\n",
    "    description=\"A table of good and bad dogs\",\n",
    "    column_schemas=schemas,\n",
    ")\n",
    "\n",
    "for i, (image, name, label, age, weight) in enumerate(zip(images, names, labels, ages, weights)):\n",
    "    table_writer.add_row(\n",
    "        {\n",
    "            \"id\": i,\n",
    "            \"name\": name,\n",
    "            \"image\": image,\n",
    "            \"label\": label,\n",
    "            \"age\": age,\n",
    "            \"weight\": weight,\n",
    "        }\n",
    "    )"
   ]
  },
  {
   "cell_type": "code",
   "execution_count": 5,
   "metadata": {},
   "outputs": [],
   "source": [
    "# Finalize the TableWriter to write the table to disk. \n",
    "# The URL of the written Table is based on the table name, dataset name, and project name.\n",
    "\n",
    "table = table_writer.finalize()"
   ]
  }
 ],
 "metadata": {
  "kernelspec": {
   "display_name": ".venv",
   "language": "python",
   "name": "python3"
  },
  "language_info": {
   "codemirror_mode": {
    "name": "ipython",
    "version": 3
   },
   "file_extension": ".py",
   "mimetype": "text/x-python",
   "name": "python",
   "nbconvert_exporter": "python",
   "pygments_lexer": "ipython3",
   "version": "3.11.3"
  }
 },
 "nbformat": 4,
 "nbformat_minor": 2
}
