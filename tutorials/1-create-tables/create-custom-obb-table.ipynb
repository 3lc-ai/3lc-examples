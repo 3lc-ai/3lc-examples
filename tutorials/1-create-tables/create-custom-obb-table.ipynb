{
 "cells": [
  {
   "cell_type": "markdown",
   "id": "0",
   "metadata": {},
   "source": [
    "# Create a custom OBB table\n",
    "\n",
    "hrsc2016-ms\n",
    "\n",
    "`Chen, W.; Han, B.; Yang, Z.; Gao, X. MSSDet: Multi-Scale Ship-Detection Framework in Optical Remote-Sensing Images and New Benchmark. Remote Sens. 2022, 14, 5460. https://doi.org/10.3390/rs14215460`\n"
   ]
  },
  {
   "cell_type": "markdown",
   "id": "1",
   "metadata": {},
   "source": [
    "## Project setup"
   ]
  },
  {
   "cell_type": "code",
   "execution_count": null,
   "id": "2",
   "metadata": {},
   "outputs": [],
   "source": [
    "PROJECT_NAME = \"3LC Tutorials\"\n",
    "DATASET_NAME = \"HRSC2016-MS\""
   ]
  },
  {
   "cell_type": "markdown",
   "id": "3",
   "metadata": {},
   "source": [
    "## Imports"
   ]
  },
  {
   "cell_type": "code",
   "execution_count": null,
   "id": "4",
   "metadata": {},
   "outputs": [],
   "source": [
    "import xml.etree.ElementTree as ET\n",
    "from collections import defaultdict\n",
    "from pathlib import Path\n",
    "\n",
    "import tlc"
   ]
  },
  {
   "cell_type": "markdown",
   "id": "5",
   "metadata": {},
   "source": [
    "## Prepare the data\n",
    "\n",
    "https://github.com/wmchen/HRSC2016-MS\n"
   ]
  },
  {
   "cell_type": "code",
   "execution_count": null,
   "id": "6",
   "metadata": {},
   "outputs": [],
   "source": [
    "DATASET_ROOT = \"D:/Data/HRSC2016-MS\"\n",
    "\n",
    "tlc.register_url_alias(\"HRSC2016_MS_DATA\", DATASET_ROOT)"
   ]
  },
  {
   "cell_type": "code",
   "execution_count": null,
   "id": "7",
   "metadata": {},
   "outputs": [],
   "source": [
    "row_data = defaultdict(dict)\n",
    "\n",
    "for split in [\"train\", \"val\"]:\n",
    "    image_splits = Path(DATASET_ROOT) / \"ImageSets\" / f\"{split}.txt\"\n",
    "    image_ids = image_splits.read_text().splitlines()\n",
    "    row_data[split] = defaultdict(list)\n",
    "\n",
    "    for image_id in image_ids:\n",
    "        image_path = Path(DATASET_ROOT) / \"AllImages\" / f\"{image_id}.bmp\"\n",
    "        annotation_path = Path(DATASET_ROOT) / \"Annotations\" / f\"{image_id}.xml\"\n",
    "        if not image_path.exists():\n",
    "            print(f\"Image {image_id} does not exist\")\n",
    "        if not annotation_path.exists():\n",
    "            print(f\"Annotation {image_id} does not exist\")\n",
    "        row_data[split][\"image\"].append(tlc.Url(image_path).to_relative().to_str())\n",
    "        row_data[split][\"obb\"].append(annotation_path)"
   ]
  },
  {
   "cell_type": "code",
   "execution_count": null,
   "id": "8",
   "metadata": {},
   "outputs": [],
   "source": [
    "def load_obb_annotation(annotation_path):\n",
    "    \"\"\"Example annotation:\"\"\"\n",
    "    tree = ET.parse(annotation_path)\n",
    "    root = tree.getroot()\n",
    "    width = int(root.find(\"size\").find(\"width\").text)\n",
    "    height = int(root.find(\"size\").find(\"height\").text)\n",
    "    annotations = {\n",
    "        \"instances\": [],\n",
    "        \"instances_additional_data\": {\n",
    "            \"label\": [],\n",
    "            \"difficult\": [],\n",
    "            \"truncated\": [],\n",
    "        },\n",
    "        \"x_max\": width,\n",
    "        \"y_max\": height,\n",
    "    }\n",
    "    for obj in root.findall(\"object\"):\n",
    "        difficult = int(obj.find(\"difficult\").text)\n",
    "        truncated = int(obj.find(\"truncated\").text)\n",
    "        bbox = obj.find(\"robndbox\")\n",
    "        cx, cy, w, h, angle = (float(bbox.find(tag).text) for tag in [\"cx\", \"cy\", \"w\", \"h\", \"angle\"])\n",
    "\n",
    "        annotations[\"instances\"].append(\n",
    "            {\n",
    "                \"oriented_bbs_2d\": [\n",
    "                    {\n",
    "                        \"center_x\": cx,\n",
    "                        \"center_y\": cy,\n",
    "                        \"size_x\": w,\n",
    "                        \"size_y\": h,\n",
    "                        \"rotation\": angle,\n",
    "                    }\n",
    "                ]\n",
    "            }\n",
    "        )\n",
    "\n",
    "        annotations[\"instances_additional_data\"][\"label\"].append(0)\n",
    "        annotations[\"instances_additional_data\"][\"difficult\"].append(bool(difficult))\n",
    "        annotations[\"instances_additional_data\"][\"truncated\"].append(bool(truncated))\n",
    "\n",
    "    return annotations"
   ]
  },
  {
   "cell_type": "code",
   "execution_count": null,
   "id": "9",
   "metadata": {},
   "outputs": [],
   "source": [
    "for split in [\"train\", \"val\"]:\n",
    "    row_data[split][\"obb\"] = [load_obb_annotation(path) for path in row_data[split][\"obb\"]]"
   ]
  },
  {
   "cell_type": "code",
   "execution_count": null,
   "id": "10",
   "metadata": {},
   "outputs": [],
   "source": [
    "schemas = {\n",
    "    \"image\": tlc.Schema(value=tlc.ImageUrlStringValue()),\n",
    "    \"obb\": tlc.Geometry2DSchema(\n",
    "        include_2d_oriented_bounding_boxes=True,\n",
    "        per_instance_schemas={\n",
    "            \"label\": tlc.CategoricalLabelListSchema([\"ship\"]),\n",
    "            \"difficult\": tlc.BoolListSchema(),\n",
    "            \"truncated\": tlc.BoolListSchema(),\n",
    "        },\n",
    "    ),\n",
    "}"
   ]
  },
  {
   "cell_type": "code",
   "execution_count": null,
   "id": "11",
   "metadata": {},
   "outputs": [],
   "source": [
    "for split in [\"train\", \"val\"]:\n",
    "    table = tlc.Table.from_dict(\n",
    "        data=row_data[split],\n",
    "        structure=schemas,\n",
    "        table_name=f\"{split}\",\n",
    "        dataset_name=DATASET_NAME,\n",
    "        project_name=PROJECT_NAME,\n",
    "        if_exists=\"rename\",\n",
    "    )"
   ]
  }
 ],
 "metadata": {
  "kernelspec": {
   "display_name": ".venv",
   "language": "python",
   "name": "python3"
  },
  "language_info": {
   "codemirror_mode": {
    "name": "ipython",
    "version": 3
   },
   "file_extension": ".py",
   "mimetype": "text/x-python",
   "name": "python",
   "nbconvert_exporter": "python",
   "pygments_lexer": "ipython3",
   "version": "3.12.9"
  }
 },
 "nbformat": 4,
 "nbformat_minor": 5
}
