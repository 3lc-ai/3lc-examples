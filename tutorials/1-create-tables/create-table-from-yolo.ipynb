{
 "cells": [
  {
   "cell_type": "markdown",
   "metadata": {},
   "source": [
    "# Create a 3LC Table from Ultralytics YOLO Format\n",
    "\n",
    "In this notebook we will create tables from an object detection dataset in the Ultralytics YOLO format. These can be used in the 3LC integrations with YOLOv5 and Ultralytics YOLO."
   ]
  },
  {
   "cell_type": "code",
   "execution_count": null,
   "metadata": {},
   "outputs": [],
   "source": [
    "import tlc\n",
    "\n",
    "from tlc_tools.common import data_root"
   ]
  },
  {
   "cell_type": "code",
   "execution_count": 4,
   "metadata": {},
   "outputs": [],
   "source": [
    "PROJECT_NAME = \"3LC Tutorials\"\n",
    "yolo_yaml_file = data_root() / \"yolo/simple.yaml\""
   ]
  },
  {
   "cell_type": "markdown",
   "metadata": {},
   "source": [
    "Using the 'Table.from_yolo()' method we create a Table for each split, by pointing to the dataset yaml file and specifying the split. "
   ]
  },
  {
   "cell_type": "code",
   "execution_count": 5,
   "metadata": {},
   "outputs": [
    {
     "name": "stdout",
     "output_type": "stream",
     "text": [
      "\u001b[90m3lc: \u001b[0myaml file has relative 'path', but no 'datasets_dir' path provided. Trying some alternatives:\n",
      "\u001b[90m3lc: \u001b[0m- Trying prepending parent of input_url (C:\\Project\\notebook-examples\\data\\yolo) as datasets_dir.\n",
      "\u001b[90m3lc: \u001b[0mFound data for parent of input_url: C:\\Project\\notebook-examples\\data\\yolo\\datasets\\simple. Using this as datasets_dir.\n",
      "\u001b[90m3lc: \u001b[0mFound 4 images in train split from C:/Project/notebook-examples/data/yolo/simple.yaml.\n",
      "\u001b[90m3lc: \u001b[0myaml file has relative 'path', but no 'datasets_dir' path provided. Trying some alternatives:\n",
      "\u001b[90m3lc: \u001b[0m- Trying prepending parent of input_url (C:\\Project\\notebook-examples\\data\\yolo) as datasets_dir.\n",
      "\u001b[90m3lc: \u001b[0mFound data for parent of input_url: C:\\Project\\notebook-examples\\data\\yolo\\datasets\\simple. Using this as datasets_dir.\n",
      "\u001b[90m3lc: \u001b[0mFound 4 images in train split from C:/Project/notebook-examples/data/yolo/simple.yaml.\n",
      "\u001b[90m3lc: \u001b[0myaml file has relative 'path', but no 'datasets_dir' path provided. Trying some alternatives:\n",
      "\u001b[90m3lc: \u001b[0m- Trying prepending parent of input_url (C:\\Project\\notebook-examples\\data\\yolo) as datasets_dir.\n",
      "\u001b[90m3lc: \u001b[0mFound data for parent of input_url: C:\\Project\\notebook-examples\\data\\yolo\\datasets\\simple. Using this as datasets_dir.\n",
      "\u001b[90m3lc: \u001b[0mFound 4 images in val split from C:/Project/notebook-examples/data/yolo/simple.yaml.\n",
      "\u001b[90m3lc: \u001b[0myaml file has relative 'path', but no 'datasets_dir' path provided. Trying some alternatives:\n",
      "\u001b[90m3lc: \u001b[0m- Trying prepending parent of input_url (C:\\Project\\notebook-examples\\data\\yolo) as datasets_dir.\n",
      "\u001b[90m3lc: \u001b[0mFound data for parent of input_url: C:\\Project\\notebook-examples\\data\\yolo\\datasets\\simple. Using this as datasets_dir.\n",
      "\u001b[90m3lc: \u001b[0mFound 4 images in val split from C:/Project/notebook-examples/data/yolo/simple.yaml.\n"
     ]
    }
   ],
   "source": [
    "train_table = tlc.Table.from_yolo(\n",
    "    dataset_yaml_file=yolo_yaml_file,\n",
    "    split=\"train\",\n",
    "    table_name=\"initial\",\n",
    "    dataset_name=\"yolo-train\", \n",
    "    project_name=PROJECT_NAME,\n",
    ")\n",
    "\n",
    "val_table = tlc.Table.from_yolo(\n",
    "    dataset_yaml_file=yolo_yaml_file,\n",
    "    split=\"val\",\n",
    "    table_name=\"initial\",\n",
    "    dataset_name=\"yolo-val\", \n",
    "    project_name=PROJECT_NAME,\n",
    ")"
   ]
  },
  {
   "cell_type": "code",
   "execution_count": 6,
   "metadata": {},
   "outputs": [
    {
     "data": {
      "text/plain": [
       "['image', 'width', 'height', 'bbs', 'weight']"
      ]
     },
     "execution_count": 6,
     "metadata": {},
     "output_type": "execute_result"
    }
   ],
   "source": [
    "train_table.columns"
   ]
  },
  {
   "cell_type": "code",
   "execution_count": 7,
   "metadata": {},
   "outputs": [
    {
     "data": {
      "text/plain": [
       "{'image': 'C:/Project/notebook-examples/data/yolo/datasets/simple/images/train/image_2.png',\n",
       " 'width': 100,\n",
       " 'height': 100,\n",
       " 'bbs': {'image_width': 100,\n",
       "  'image_height': 100,\n",
       "  'bb_list': [{'x0': 0.3, 'x1': 0.6, 'y0': 0.3, 'y1': 0.6, 'label': 3}]}}"
      ]
     },
     "execution_count": 7,
     "metadata": {},
     "output_type": "execute_result"
    }
   ],
   "source": [
    "train_table[1]"
   ]
  },
  {
   "cell_type": "code",
   "execution_count": 8,
   "metadata": {},
   "outputs": [
    {
     "data": {
      "image/jpeg": "[encoded data removed]",
      "image/png": "[encoded data removed]",
      "text/plain": [
       "<PIL.PngImagePlugin.PngImageFile image mode=RGB size=100x100>"
      ]
     },
     "execution_count": 8,
     "metadata": {},
     "output_type": "execute_result"
    }
   ],
   "source": [
    "from PIL import Image\n",
    "\n",
    "Image.open(train_table[1][\"image\"])"
   ]
  }
 ],
 "metadata": {
  "kernelspec": {
   "display_name": ".venv",
   "language": "python",
   "name": "python3"
  },
  "language_info": {
   "codemirror_mode": {
    "name": "ipython",
    "version": 3
   },
   "file_extension": ".py",
   "mimetype": "text/x-python",
   "name": "python",
   "nbconvert_exporter": "python",
   "pygments_lexer": "ipython3",
   "version": "3.11.3"
  }
 },
 "nbformat": 4,
 "nbformat_minor": 2
}
