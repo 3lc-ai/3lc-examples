{
 "cells": [
  {
   "cell_type": "markdown",
   "metadata": {},
   "source": [
    "# Create a 3LC Table from Ultralytics YOLO Format\n",
    "\n",
    "In this notebook we will create tables from an object detection dataset in the Ultralytics YOLO format."
   ]
  },
  {
   "cell_type": "code",
   "execution_count": null,
   "metadata": {},
   "outputs": [],
   "source": [
    "import tlc\n",
    "\n",
    "from tools.common import get_dataset_path"
   ]
  },
  {
   "cell_type": "code",
   "execution_count": null,
   "metadata": {},
   "outputs": [],
   "source": [
    "PROJECT_NAME = \"import-yolo-tables\"\n",
    "yolo_yaml_file = get_dataset_path(\"yolo\") / \"simple.yaml\""
   ]
  },
  {
   "cell_type": "code",
   "execution_count": null,
   "metadata": {},
   "outputs": [],
   "source": [
    "train_table = tlc.Table.from_yolo(\n",
    "    dataset_yaml_file=yolo_yaml_file,\n",
    "    split=\"train\",\n",
    "    table_name=\"initial\",\n",
    "    dataset_name=\"train\", \n",
    "    project_name=PROJECT_NAME,\n",
    ")\n",
    "\n",
    "val_table = tlc.Table.from_yolo(\n",
    "    dataset_yaml_file=yolo_yaml_file,\n",
    "    split=\"val\",\n",
    "    table_name=\"initial\",\n",
    "    dataset_name=\"val\", \n",
    "    project_name=PROJECT_NAME,\n",
    ")"
   ]
  },
  {
   "cell_type": "code",
   "execution_count": null,
   "metadata": {},
   "outputs": [],
   "source": [
    "train_table.columns"
   ]
  },
  {
   "cell_type": "code",
   "execution_count": null,
   "metadata": {},
   "outputs": [],
   "source": [
    "train_table[1]"
   ]
  },
  {
   "cell_type": "code",
   "execution_count": null,
   "metadata": {},
   "outputs": [],
   "source": [
    "from PIL import Image\n",
    "\n",
    "Image.open(train_table[1][\"image\"])"
   ]
  }
 ],
 "metadata": {
  "kernelspec": {
   "display_name": ".venv",
   "language": "python",
   "name": "python3"
  },
  "language_info": {
   "codemirror_mode": {
    "name": "ipython",
    "version": 3
   },
   "file_extension": ".py",
   "mimetype": "text/x-python",
   "name": "python",
   "nbconvert_exporter": "python",
   "pygments_lexer": "ipython3",
   "version": "3.11.3"
  }
 },
 "nbformat": 4,
 "nbformat_minor": 2
}
