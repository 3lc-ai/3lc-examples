{
 "cells": [
  {
   "cell_type": "markdown",
   "metadata": {},
   "source": [
    "# Create Table From Torch Dataset\n",
    "\n",
    "This notebook shows how to create a table from a `torch.utils.data.Dataset`. The\n",
    "method `tlc.Table.from_torch_dataset(...)` can be used to convert any Torch\n",
    "dataset to a 3LC Table. It does this by iterating over the dataset and\n",
    "converting each sample to be compatible with 3LC Table's on-disk format. The\n",
    "schema can either be provided, or it will be inferred from the first sample.\n",
    "\n",
    "Caveats: due to the nature of the implementation, this method is not suitable\n",
    "for stochastic or infinite datasets, as only a single instantiation of the\n",
    "dataset will be seen, and a complete iteration is required to create the table.\n",
    "\n",
    "Furthermore, the method will not work for \"iterable\" datasets, only \"map-style\",\n",
    "as it requires access to the length of the dataset."
   ]
  },
  {
   "cell_type": "markdown",
   "metadata": {},
   "source": [
    "## Imports"
   ]
  },
  {
   "cell_type": "code",
   "execution_count": null,
   "metadata": {},
   "outputs": [],
   "source": [
    "import tlc\n",
    "from torchvision.datasets import CIFAR10"
   ]
  },
  {
   "cell_type": "markdown",
   "metadata": {},
   "source": [
    "## Project Setup"
   ]
  },
  {
   "cell_type": "code",
   "execution_count": null,
   "metadata": {},
   "outputs": [],
   "source": [
    "TRANSIENT_DATA_PATH = \"../../transient_data\"  # A folder to store temporary data (zipped CIFAR images)"
   ]
  },
  {
   "cell_type": "markdown",
   "metadata": {},
   "source": [
    "## Create Table"
   ]
  },
  {
   "cell_type": "code",
   "execution_count": null,
   "metadata": {},
   "outputs": [],
   "source": [
    "train_dataset = CIFAR10(root=TRANSIENT_DATA_PATH, train=True, download=True)\n",
    "val_dataset = CIFAR10(root=TRANSIENT_DATA_PATH, train=False)\n",
    "\n",
    "# The \"structure\" of the table is a representation of an individual sample in the dataset.\n",
    "# Here, we define the structure of the table to be A tuple containing a image and a label.\n",
    "structure = (tlc.PILImage(\"Image\"), tlc.CategoricalLabel(\"Label\", classes=train_dataset.classes))\n",
    "\n",
    "train_table = tlc.Table.from_torch_dataset(\n",
    "    train_dataset,\n",
    "    structure=structure,\n",
    "    project_name=\"3LC Tutorials\",\n",
    "    dataset_name=\"CIFAR-10-train\",\n",
    "    table_name=\"initial\"\n",
    ")\n",
    "\n",
    "val_table = tlc.Table.from_torch_dataset(\n",
    "    val_dataset,\n",
    "    structure=structure,\n",
    "    project_name=\"3LC Tutorials\",\n",
    "    dataset_name=\"CIFAR-10-val\",\n",
    "    table_name=\"initial\"\n",
    ")"
   ]
  }
 ],
 "metadata": {
  "kernelspec": {
   "display_name": ".venv",
   "language": "python",
   "name": "python3"
  },
  "language_info": {
   "codemirror_mode": {
    "name": "ipython",
    "version": 3
   },
   "file_extension": ".py",
   "mimetype": "text/x-python",
   "name": "python",
   "nbconvert_exporter": "python",
   "pygments_lexer": "ipython3",
   "version": "3.11.3"
  }
 },
 "nbformat": 4,
 "nbformat_minor": 2
}
