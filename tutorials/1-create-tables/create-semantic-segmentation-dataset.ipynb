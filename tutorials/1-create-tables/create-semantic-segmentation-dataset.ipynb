{
 "cells": [
  {
   "cell_type": "markdown",
   "metadata": {},
   "source": [
    "# Import Semantic Segmentation Dataset"
   ]
  },
  {
   "cell_type": "markdown",
   "metadata": {},
   "source": [
    "In this tutorial, we will import the LIACi (Lifecycle Inspection, Analysis and\n",
    "Condition information) Semantic Segmentation Dataset for Underwater Ship\n",
    "Inspections, introduced in\n",
    "[this](https://ieeexplore.ieee.org/stamp/stamp.jsp?tp=&arnumber=9998080) paper.\n",
    "\n",
    "The dataset contains roughly 2000 images of underwater ship hulls, together with\n",
    "corresponding annotations. The dataset contains both COCO-style annotations\n",
    "(bounding boxes and segmentation polygons) and pixel-wise annotations stored as\n",
    "single-channel bitmap images, with one image per class.\n",
    "\n",
    "In this notebook, we will create two different `tlc.Table`s from the dataset,\n",
    "in order to showcase different ways of working with annotated image data in 3LC:\n",
    "\n",
    "1. `tlc.Table.from_torch_dataset()` using a custom torch dataset where the mask\n",
    "   images from all classes are merged into a single segmentation mask. This corresponds to a semantic segmentation mask, where each pixel is assigned one and only one class.\n",
    "2. `tlc.Table.from_torch_dataset()` using a custom torch dataset which returns all\n",
    "   the 10 masks as separate elements. This corresponds to an instance segmentation mask, where each pixel can be assigned to multiple classes.\n",
    "\n",
    "<div style=\"background-color: #fff8e1; padding: 10px; border-left: 6px solid #FFC107; margin-bottom: 15px; color: #333;\">\n",
    "    <strong>Note:</strong> Full support for semantic and instance segmentation is coming soon to 3LC. <br>\n",
    "    This notebook is a preview of the capabilities that will be available in the future.\n",
    "</div>"
   ]
  },
  {
   "cell_type": "markdown",
   "metadata": {},
   "source": [
    "## Project setup"
   ]
  },
  {
   "cell_type": "code",
   "execution_count": null,
   "metadata": {},
   "outputs": [],
   "source": [
    "PROJECT_NAME = \"3LC Tutorials\"\n",
    "DATASET_NAME = \"LIACI\""
   ]
  },
  {
   "cell_type": "markdown",
   "metadata": {},
   "source": [
    "## Imports"
   ]
  },
  {
   "cell_type": "code",
   "execution_count": null,
   "metadata": {},
   "outputs": [],
   "source": [
    "import os\n",
    "from colorsys import hls_to_rgb\n",
    "\n",
    "import numpy as np\n",
    "import tlc\n",
    "from PIL import Image\n",
    "from torch.utils.data import Dataset"
   ]
  },
  {
   "cell_type": "markdown",
   "metadata": {},
   "source": [
    "## Prepare dataset\n",
    "\n",
    "The dataset is available for download from the [official website](https://data.sintef.no/product/details/dp-9e112cec-3a59-4b58-86b3-ecb1f2878c60), and must be downloaded and extracted to a local directory manually.\n",
    "\n",
    "The dataset is stored in the following layout: \n",
    "\n",
    "```\n",
    "LIACi_dataset_pretty\n",
    "│\n",
    "├── images\n",
    "│   ├── image_0001.jpg\n",
    "│   ├── image_0002.jpg\n",
    "│   ├── image_0003.jpg\n",
    "│   └── ...\n",
    "│\n",
    "├── masks\n",
    "│   ├── anode\n",
    "│   │   ├── image_0001.bmp\n",
    "│   │   ├── image_0002.bmp\n",
    "│   │   ├── image_0003.bmp\n",
    "│   │   └── ...\n",
    "│   ├── bilge_keel\n",
    "│   ├── corrosion\n",
    "│   ├── defect\n",
    "│   ├── marine_growth\n",
    "│   ├── over_board_valves\n",
    "│   ├── paint_peel\n",
    "│   ├── propeller\n",
    "│   ├── saliency\n",
    "│   ├── sea_chest_grating\n",
    "│   ├── segmentation\n",
    "│   └── ship_hull\n",
    "│\n",
    "├── coco-annotations.json\n",
    "├── train_test_split.csv\n",
    "...\n",
    "```\n",
    "\n",
    "In other words, there is a single binary mask for each class for each image.\n",
    "\n"
   ]
  },
  {
   "cell_type": "code",
   "execution_count": null,
   "metadata": {},
   "outputs": [],
   "source": [
    "# Replace with your own path, after downloading and extracting the dataset\n",
    "DATASET_ROOT = \"C:/Data/LIACi_dataset_pretty\"\n",
    "\n",
    "# Register the dataset root as an alias, enabling easy sharing/moving of the table\n",
    "tlc.register_url_alias(\"LIACI_DATASET_ROOT\", DATASET_ROOT)"
   ]
  },
  {
   "cell_type": "markdown",
   "metadata": {},
   "source": [
    "## Helpers"
   ]
  },
  {
   "cell_type": "code",
   "execution_count": null,
   "metadata": {},
   "outputs": [],
   "source": [
    "# Define some helpers for adding nice colors to the Table's value map:\n",
    "\n",
    "\n",
    "def generate_hsi_colors(num_colors=10):\n",
    "    \"\"\"Generate a list of distinct colors in HSI space.\"\"\"\n",
    "    colors = []\n",
    "    saturation = 1.0\n",
    "    intensity = 0.7\n",
    "    hues = np.linspace(0, 1, num_colors, endpoint=False)\n",
    "    for hue in hues:\n",
    "        rgb = hls_to_rgb(hue, intensity, saturation)\n",
    "        colors.append(rgb_to_hex(rgb))\n",
    "    return colors\n",
    "\n",
    "\n",
    "def rgb_to_hex(rgb):\n",
    "    \"\"\"Convert an RGB tuple to a hex string.\"\"\"\n",
    "    return f\"#{int(rgb[0] * 255):02x}{int(rgb[1] * 255):02x}{int(rgb[2] * 255):02x}\"\n",
    "\n",
    "\n",
    "colors = generate_hsi_colors(num_colors=10)"
   ]
  },
  {
   "cell_type": "code",
   "execution_count": null,
   "metadata": {},
   "outputs": [],
   "source": [
    "# Mapping from directory name to category ID\n",
    "dir_2_category_id = {\n",
    "    \"sea_chest_grating\": 1,\n",
    "    \"paint_peel\": 2,\n",
    "    \"over_board_valves\": 3,\n",
    "    \"defect\": 4,\n",
    "    \"corrosion\": 5,\n",
    "    \"propeller\": 6,\n",
    "    \"anode\": 7,\n",
    "    \"bilge_keel\": 8,\n",
    "    \"marine_growth\": 9,\n",
    "    \"ship_hull\": 10,\n",
    "}\n",
    "\n",
    "# Construct a Value Map containing a name and a color for each category\n",
    "value_map = {}\n",
    "for index, (dir_name, cat_id) in enumerate(dir_2_category_id.items()):\n",
    "    value_map[float(cat_id)] = tlc.MapElement(\n",
    "        internal_name=dir_name,\n",
    "        display_color=colors[index],\n",
    "    )"
   ]
  },
  {
   "cell_type": "markdown",
   "metadata": {},
   "source": [
    "## Approach 1: Import Merged Masks"
   ]
  },
  {
   "cell_type": "code",
   "execution_count": null,
   "metadata": {},
   "outputs": [],
   "source": [
    "# Define a torch Dataset returning (image, merged_mask) pairs:\n",
    "class LIACIDataset(Dataset):\n",
    "    def __init__(self, root, inverse_value_map):\n",
    "        self.root = root\n",
    "        self.inverse_value_map = inverse_value_map\n",
    "        image_folder = f\"{root}/images\"\n",
    "        self.image_files = os.listdir(image_folder)\n",
    "\n",
    "    def __len__(self):\n",
    "        return len(self.image_files)\n",
    "\n",
    "    def __getitem__(self, idx):\n",
    "        image_file = self.image_files[idx]\n",
    "        image_path = f\"{self.root}/images/{image_file}\"\n",
    "        image = Image.open(image_path)\n",
    "        mask = self._make_mask(image_file.replace(\".jpg\", \".bmp\"))\n",
    "        return image, mask\n",
    "\n",
    "    def _make_mask(self, image_file) -> Image:\n",
    "        # Merge all 10 binary masks into a single multi-class mask for this image\n",
    "        # Create an empty array for the categorical mask, initialized to 0 (background)\n",
    "        mask_shape = None\n",
    "        merged_mask = None\n",
    "\n",
    "        # Iterate over all categories\n",
    "        for category, category_id in self.inverse_value_map.items():\n",
    "            # Build the path to the current category mask\n",
    "            category_mask_path = f\"{self.root}/masks/{category}/{image_file}\"\n",
    "\n",
    "            # Open the binary mask for this category\n",
    "            category_mask = Image.open(category_mask_path)\n",
    "\n",
    "            # Convert the category mask to a numpy array\n",
    "            category_mask_array = np.array(category_mask)\n",
    "\n",
    "            # Ensure that the merged mask is initialized only once, with the correct shape\n",
    "            if mask_shape is None:\n",
    "                mask_shape = category_mask_array.shape\n",
    "                merged_mask = np.zeros(mask_shape, dtype=np.uint8)\n",
    "\n",
    "            # Assign the category ID to the merged mask wherever the binary mask is 1\n",
    "            merged_mask[category_mask_array == 1] = category_id\n",
    "\n",
    "        # Convert the merged mask back to a PIL Image\n",
    "        categorical_mask = Image.fromarray(merged_mask)\n",
    "\n",
    "        return categorical_mask\n",
    "\n",
    "\n",
    "dataset = LIACIDataset(DATASET_ROOT, dir_2_category_id)"
   ]
  },
  {
   "cell_type": "code",
   "execution_count": null,
   "metadata": {},
   "outputs": [],
   "source": [
    "dataset[0][0]"
   ]
  },
  {
   "cell_type": "code",
   "execution_count": null,
   "metadata": {},
   "outputs": [],
   "source": [
    "dataset[0][1]"
   ]
  },
  {
   "cell_type": "markdown",
   "metadata": {},
   "source": [
    "### Create the Table \n",
    "\n",
    "Since this Table will contain images that are generated on-the-fly, and not\n",
    "backed by a file on disk, images will be written in the Table's \"bulk_data_url\"\n",
    "field."
   ]
  },
  {
   "cell_type": "code",
   "execution_count": null,
   "metadata": {},
   "outputs": [],
   "source": [
    "merged_mask_table = tlc.Table.from_torch_dataset(\n",
    "    dataset,\n",
    "    (tlc.PILImage(\"image\"), tlc.SegmentationPILImage(\"segmentation_map\", classes=value_map)),\n",
    "    project_name=PROJECT_NAME,\n",
    "    dataset_name=DATASET_NAME,\n",
    "    table_name=\"merged-masks\",\n",
    ")"
   ]
  },
  {
   "cell_type": "code",
   "execution_count": null,
   "metadata": {},
   "outputs": [],
   "source": [
    "merged_mask_table"
   ]
  },
  {
   "cell_type": "code",
   "execution_count": null,
   "metadata": {},
   "outputs": [],
   "source": [
    "# Print the location of the first merged mask file (relative to the Table's URL)\n",
    "merged_mask_table.table_rows[0][\"segmentation_map\"]"
   ]
  },
  {
   "cell_type": "markdown",
   "metadata": {},
   "source": [
    "## Approach 2: Import separate masks"
   ]
  },
  {
   "cell_type": "code",
   "execution_count": null,
   "metadata": {},
   "outputs": [],
   "source": [
    "class LIACIDatasetV2(Dataset):\n",
    "    def __init__(self, root, inverse_value_map):\n",
    "        self.root = root\n",
    "        self.inverse_value_map = inverse_value_map\n",
    "        image_folder = f\"{root}/images\"\n",
    "        self.image_files = os.listdir(image_folder)\n",
    "\n",
    "    def __len__(self):\n",
    "        return len(self.image_files)\n",
    "\n",
    "    def __getitem__(self, idx):\n",
    "        image_file = self.image_files[idx]\n",
    "        image_path = f\"{self.root}/images/{image_file}\"\n",
    "        image = Image.open(image_path)\n",
    "\n",
    "        masks = (\n",
    "            Image.open(f\"{self.root}/masks/{label}/{image_file.replace('.jpg', '.bmp')}\")\n",
    "            for label in self.inverse_value_map\n",
    "        )\n",
    "        return image, *masks\n",
    "\n",
    "\n",
    "dataset = LIACIDatasetV2(DATASET_ROOT, dir_2_category_id)"
   ]
  },
  {
   "cell_type": "code",
   "execution_count": null,
   "metadata": {},
   "outputs": [],
   "source": [
    "dataset[0]"
   ]
  },
  {
   "cell_type": "markdown",
   "metadata": {},
   "source": [
    "### Create the Table\n",
    "\n",
    "This table will contain one \"image\" column for the original image, and 10 \"mask\"\n",
    "columns, containing the binary masks for each class. Since the masks are backed\n",
    "by files on disk, the paths to the existing mask files are stored in the \"mask\"\n",
    "columns."
   ]
  },
  {
   "cell_type": "code",
   "execution_count": null,
   "metadata": {},
   "outputs": [],
   "source": [
    "mask_structures = (\n",
    "    tlc.SegmentationPILImage(\n",
    "        f\"{map_element.internal_name}_mask\",\n",
    "        classes={0.0: tlc.MapElement(\"background\"), 255.0: map_element},\n",
    "    )\n",
    "    for map_element in value_map.values()\n",
    ")\n",
    "structure = (tlc.PILImage(\"image\"), *mask_structures)\n",
    "\n",
    "separate_masks_table = tlc.Table.from_torch_dataset(\n",
    "    dataset,\n",
    "    structure,\n",
    "    project_name=PROJECT_NAME,\n",
    "    dataset_name=DATASET_NAME,\n",
    "    table_name=\"separate-masks\",\n",
    ")"
   ]
  },
  {
   "cell_type": "code",
   "execution_count": null,
   "metadata": {},
   "outputs": [],
   "source": [
    "# Observe that the table data contains direct references to the original masks\n",
    "separate_masks_table.table_rows[0][\"paint_peel_mask\"]"
   ]
  }
 ],
 "metadata": {
  "kernelspec": {
   "display_name": ".venv",
   "language": "python",
   "name": "python3"
  },
  "language_info": {
   "codemirror_mode": {
    "name": "ipython",
    "version": 3
   },
   "file_extension": ".py",
   "mimetype": "text/x-python",
   "name": "python",
   "nbconvert_exporter": "python",
   "pygments_lexer": "ipython3",
   "version": "3.11.3"
  }
 },
 "nbformat": 4,
 "nbformat_minor": 2
}
