{
 "cells": [
  {
   "cell_type": "markdown",
   "metadata": {},
   "source": [
    "# Write a Table of Images and Categorical Labels"
   ]
  },
  {
   "cell_type": "markdown",
   "metadata": {},
   "source": [
    "In this example we will write a small table containing images of cats and dogs.\n",
    "The table will have two visible columns: one for the image and one for the label.\n",
    "In addition, we will add a \"sample-weight\" column, which will not be visible in the table rows.\n",
    "\n",
    "We will be using the `tlc.Table.from_image_folder` method to create the table, which assumes a `torchvision.ImageFolder`-like folder structure,\n",
    "where each subfolder contains images of a class identified by the subfolder name, like illustrated below:\n",
    "\n",
    "```\n",
    "cats-and-dogs/\n",
    "    ├── cats/\n",
    "    │   ├── cat1.jpg\n",
    "    │   ├── cat2.jpg\n",
    "    │   └── ...\n",
    "    └── dogs/\n",
    "        ├── dog1.jpg\n",
    "        ├── dog2.jpg\n",
    "        └── ...\n",
    "```"
   ]
  },
  {
   "cell_type": "code",
   "execution_count": 1,
   "metadata": {},
   "outputs": [],
   "source": [
    "import tlc\n",
    "\n",
    "from tools.common import examples_root"
   ]
  },
  {
   "cell_type": "markdown",
   "metadata": {},
   "source": [
    "## Create a table from a image folder"
   ]
  },
  {
   "cell_type": "code",
   "execution_count": 2,
   "metadata": {},
   "outputs": [
    {
     "name": "stdout",
     "output_type": "stream",
     "text": [
      "Created table with 10 rows.\n",
      "\n",
      "First row (sample view):\n",
      "(<PIL.JpegImagePlugin.JpegImageFile image mode=RGB size=491x500 at 0x1B215FEF950>, 0)\n",
      "\n",
      "First row (table view):\n",
      "ImmutableDict({'image': 'C:/Project/notebook-examples/data/cats-and-dogs/cats/1500.jpg', 'label': 0, 'weight': 1.0})\n"
     ]
    }
   ],
   "source": [
    "data_path = examples_root() / \"data/cats-and-dogs\"\n",
    "\n",
    "dataset_name = \"cats-and-dogs\"\n",
    "project_name = \"3LC Tutorials\"\n",
    "\n",
    "table = tlc.Table.from_image_folder(\n",
    "    data_path,\n",
    "    table_name=\"initial\",\n",
    "    dataset_name=dataset_name,\n",
    "    project_name=project_name,\n",
    ")\n",
    "\n",
    "print(f\"Created table with {len(table)} rows.\")\n",
    "\n",
    "print(\"\\nFirst row (sample view):\")\n",
    "print(table[0])\n",
    "\n",
    "print(\"\\nFirst row (table view):\")\n",
    "print(table.table_rows[0])"
   ]
  }
 ],
 "metadata": {
  "kernelspec": {
   "display_name": ".venv",
   "language": "python",
   "name": "python3"
  },
  "language_info": {
   "codemirror_mode": {
    "name": "ipython",
    "version": 3
   },
   "file_extension": ".py",
   "mimetype": "text/x-python",
   "name": "python",
   "nbconvert_exporter": "python",
   "pygments_lexer": "ipython3",
   "version": "3.11.3"
  }
 },
 "nbformat": 4,
 "nbformat_minor": 2
}
