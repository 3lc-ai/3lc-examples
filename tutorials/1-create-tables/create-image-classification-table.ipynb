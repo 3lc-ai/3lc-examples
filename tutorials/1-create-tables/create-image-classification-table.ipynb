{
 "cells": [
  {
   "cell_type": "markdown",
   "metadata": {},
   "source": [
    "# Write a Table of Images and Categorical Labels"
   ]
  },
  {
   "cell_type": "markdown",
   "metadata": {},
   "source": [
    "In this example we will write a small table containing images of cats and dogs.\n",
    "The table will have two visible columns: one for the image and one for the label.\n",
    "In addition, we will add a \"weight\" column, which will not be visible in the table rows.\n",
    "\n",
    "We will be using the `tlc.Table.from_image_folder` method to create the table, which assumes a `torchvision.ImageFolder`-like folder structure,\n",
    "where each subfolder contains images of a class identified by the subfolder name, illustrated below:\n",
    "\n",
    "```\n",
    "cats-and-dogs/\n",
    "    ├── cats/\n",
    "    │   ├── cat1.jpg\n",
    "    │   ├── cat2.jpg\n",
    "    │   └── ...\n",
    "    └── dogs/\n",
    "        ├── dog1.jpg\n",
    "        ├── dog2.jpg\n",
    "        └── ...\n",
    "```"
   ]
  },
  {
   "cell_type": "markdown",
   "metadata": {},
   "source": [
    "## Imports"
   ]
  },
  {
   "cell_type": "code",
   "execution_count": null,
   "metadata": {},
   "outputs": [],
   "source": [
    "import tlc\n",
    "\n",
    "from pathlib import Path"
   ]
  },
  {
   "cell_type": "markdown",
   "metadata": {},
   "source": [
    "## Project Setup"
   ]
  },
  {
   "cell_type": "code",
   "execution_count": null,
   "metadata": {},
   "outputs": [],
   "source": [
    "DATA_PATH = \"../../data\""
   ]
  },
  {
   "cell_type": "code",
   "execution_count": null,
   "metadata": {},
   "outputs": [],
   "source": [
    "image_folder =  (Path(DATA_PATH) / \"cats-and-dogs\").absolute()\n",
    "\n",
    "assert image_folder.exists()"
   ]
  },
  {
   "cell_type": "markdown",
   "metadata": {},
   "source": [
    "## Create Table"
   ]
  },
  {
   "cell_type": "code",
   "execution_count": null,
   "metadata": {},
   "outputs": [],
   "source": [
    "table = tlc.Table.from_image_folder(\n",
    "    image_folder,\n",
    "    table_name=\"initial\",\n",
    "    dataset_name=\"cats-and-dogs\",\n",
    "    project_name=\"3LC Tutorials\",\n",
    ")\n",
    "\n",
    "print(f\"Created table with {len(table)} rows.\")\n",
    "\n",
    "print(\"\\nFirst row (sample view):\")\n",
    "print(table[0])\n",
    "\n",
    "print(\"\\nFirst row (table view):\")\n",
    "print(table.table_rows[0])"
   ]
  }
 ],
 "metadata": {
  "kernelspec": {
   "display_name": ".venv",
   "language": "python",
   "name": "python3"
  },
  "language_info": {
   "codemirror_mode": {
    "name": "ipython",
    "version": 3
   },
   "file_extension": ".py",
   "mimetype": "text/x-python",
   "name": "python",
   "nbconvert_exporter": "python",
   "pygments_lexer": "ipython3",
   "version": "3.11.3"
  }
 },
 "nbformat": 4,
 "nbformat_minor": 2
}
