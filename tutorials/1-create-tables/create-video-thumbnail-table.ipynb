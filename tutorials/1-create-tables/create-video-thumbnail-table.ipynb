{
 "cells": [
  {
   "cell_type": "markdown",
   "metadata": {},
   "source": [
    "# Video Thumbnails"
   ]
  },
  {
   "cell_type": "markdown",
   "metadata": {},
   "source": [
    "In this example we will create a `Table` with `Url`s to videos, where we create a thumbnail for each video.\n",
    "\n",
    "We use a subset of the [UCF11 YouTube Action dataset](https://www.crcv.ucf.edu/data/UCF_YouTube_Action.php), which consists of short clips, each with an associated category. It is structured as follows:\n",
    "\n",
    "```\n",
    "UCF11/\n",
    "├─ basketball/\n",
    "│  ├─ v_shooting_01\n",
    "|  │  ├─ v_shooting_01_01.mpg\n",
    "|  │  ├─ v_shooting_01_02.mpg\n",
    "|  │  ├─ ...\n",
    "│  ├─ v_shooting_02\n",
    "|  │  ├─ ...\n",
    "├─ biking/\n",
    "│  ├─ ...\n",
    "├─ ...\n",
    "```\n",
    "\n",
    "The following code recurses over the video files, creating a thumbnail image and a row for each. These are written to\n",
    "a 3LC `Table` using a `TableWriter`."
   ]
  },
  {
   "cell_type": "markdown",
   "metadata": {},
   "source": [
    "## Imports"
   ]
  },
  {
   "cell_type": "code",
   "execution_count": null,
   "metadata": {},
   "outputs": [],
   "source": [
    "from pathlib import Path\n",
    "\n",
    "import cv2\n",
    "import tlc"
   ]
  },
  {
   "cell_type": "markdown",
   "metadata": {},
   "source": [
    "## Project setup"
   ]
  },
  {
   "cell_type": "code",
   "execution_count": null,
   "metadata": {},
   "outputs": [],
   "source": [
    "DATASET_LOCATION = Path(\"../../data/ucf11\").absolute()\n",
    "\n",
    "assert DATASET_LOCATION.exists(), f\"Dataset not found at {DATASET_LOCATION}\""
   ]
  },
  {
   "cell_type": "markdown",
   "metadata": {},
   "source": [
    "## Create Table"
   ]
  },
  {
   "cell_type": "markdown",
   "metadata": {},
   "source": [
    "The class names are read from the directory names."
   ]
  },
  {
   "cell_type": "code",
   "execution_count": null,
   "metadata": {},
   "outputs": [],
   "source": [
    "class_directories = [path for path in DATASET_LOCATION.glob(\"*\") if path.is_dir()]"
   ]
  },
  {
   "cell_type": "code",
   "execution_count": null,
   "metadata": {},
   "outputs": [],
   "source": [
    "classes = [c.name for c in class_directories]\n",
    "classes"
   ]
  },
  {
   "cell_type": "markdown",
   "metadata": {},
   "source": [
    "We now define a schema for the `Table`. Each row should consist of a generic `Url` to the video file, the thumbnail image and a categorical label for the video class."
   ]
  },
  {
   "cell_type": "code",
   "execution_count": null,
   "metadata": {},
   "outputs": [],
   "source": [
    "column_schemas = {\n",
    "    \"video_url\": tlc.Path(\"video_url\"),\n",
    "    \"thumbnail\": tlc.ImagePath(\"thumbnail\"),\n",
    "    \"label\": tlc.CategoricalLabel(\"label\", classes=classes),\n",
    "}"
   ]
  },
  {
   "cell_type": "markdown",
   "metadata": {},
   "source": [
    "We then iterate over the videos, write the thumbnails next to the videos, and write the `Table` with a `TableWriter`."
   ]
  },
  {
   "cell_type": "code",
   "execution_count": null,
   "metadata": {},
   "outputs": [],
   "source": [
    "def create_thumbnail(video_path: Path, thumbnail_path: Path) -> None:\n",
    "    \"\"\"Read the first frame of a video and save it to disk.\n",
    "\n",
    "    :param video_path: Path to the video file.\n",
    "    :param thumbnail_path: Path to save the thumbnail image.\n",
    "    \"\"\"\n",
    "    cap = cv2.VideoCapture(str(video_path))\n",
    "    _, frame = cap.read()\n",
    "    cv2.imwrite(str(thumbnail_path), frame)\n",
    "    cap.release()"
   ]
  },
  {
   "cell_type": "code",
   "execution_count": null,
   "metadata": {},
   "outputs": [],
   "source": [
    "table_writer = tlc.TableWriter(\n",
    "    project_name=\"3LC Tutorials\",\n",
    "    dataset_name=\"UCF YouTube Actions\",\n",
    "    table_name=\"initial\",\n",
    "    column_schemas=column_schemas,\n",
    ")\n",
    "\n",
    "for class_idx, class_directory in enumerate(class_directories):\n",
    "    for video_path in class_directory.rglob(\"*mpg\"):\n",
    "        video_path = video_path.absolute()\n",
    "        # Create a thumbnail\n",
    "        thumbnail_path = video_path.with_suffix(\".jpg\")\n",
    "        create_thumbnail(video_path, thumbnail_path)\n",
    "\n",
    "        # Write the row\n",
    "        row = {\n",
    "            \"video_url\": str(video_path),\n",
    "            \"thumbnail\": str(thumbnail_path),\n",
    "            \"label\": class_idx,\n",
    "        }\n",
    "\n",
    "        table_writer.add_row(row)\n",
    "\n",
    "table = table_writer.finalize()"
   ]
  },
  {
   "cell_type": "code",
   "execution_count": null,
   "metadata": {},
   "outputs": [],
   "source": [
    "table"
   ]
  }
 ],
 "metadata": {
  "kernelspec": {
   "display_name": ".venv",
   "language": "python",
   "name": "python3"
  },
  "language_info": {
   "codemirror_mode": {
    "name": "ipython",
    "version": 3
   },
   "file_extension": ".py",
   "mimetype": "text/x-python",
   "name": "python",
   "nbconvert_exporter": "python",
   "pygments_lexer": "ipython3",
   "version": "3.11.3"
  }
 },
 "nbformat": 4,
 "nbformat_minor": 2
}
