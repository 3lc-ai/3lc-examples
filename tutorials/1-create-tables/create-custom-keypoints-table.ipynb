{
 "cells": [
  {
   "cell_type": "markdown",
   "id": "57ddf21e",
   "metadata": {},
   "source": [
    "# Create a custom keypoints table"
   ]
  },
  {
   "cell_type": "markdown",
   "id": "53bd0086",
   "metadata": {},
   "source": [
    "## Project setup"
   ]
  },
  {
   "cell_type": "code",
   "execution_count": 1,
   "id": "9a863c6f",
   "metadata": {},
   "outputs": [],
   "source": [
    "DATASET_NAME = \"AnimalPose\"\n",
    "PROJECT_NAME = \"3LC Tutorials\""
   ]
  },
  {
   "cell_type": "markdown",
   "id": "286f64e5",
   "metadata": {},
   "source": [
    "## Imports"
   ]
  },
  {
   "cell_type": "code",
   "execution_count": 2,
   "id": "a0c53321",
   "metadata": {},
   "outputs": [],
   "source": [
    "import json\n",
    "from pathlib import Path\n",
    "import json\n",
    "import numpy as np\n",
    "from PIL import Image\n",
    "import tlc\n",
    "from tqdm import tqdm\n",
    "from tlc.core.builtins.schemas import Keypoints2DSchema, ImageUrlSchema"
   ]
  },
  {
   "cell_type": "markdown",
   "id": "4050631c",
   "metadata": {},
   "source": [
    "## Prepare data"
   ]
  },
  {
   "cell_type": "code",
   "execution_count": 3,
   "id": "c49ab55a",
   "metadata": {},
   "outputs": [],
   "source": [
    "# import kagglehub\n",
    "\n",
    "# #https://www.kaggle.com/docs/api#authentication\n",
    "# # Download latest version\n",
    "# path = kagglehub.dataset_download(\"bloodaxe/animal-pose-dataset\")\n",
    "\n",
    "# print(\"Path to dataset files:\", path)"
   ]
  },
  {
   "cell_type": "markdown",
   "id": "c729d5bd",
   "metadata": {},
   "source": [
    "## Write table"
   ]
  },
  {
   "cell_type": "code",
   "execution_count": 4,
   "id": "ab92f97f",
   "metadata": {},
   "outputs": [],
   "source": [
    "DATASET_ROOT = Path(\"D:/Data/animalpose\")\n",
    "ANNOTATIONS_FILE = DATASET_ROOT / \"keypoints.json\"\n",
    "IMAGE_ROOT = DATASET_ROOT / \"images\""
   ]
  },
  {
   "cell_type": "code",
   "execution_count": 5,
   "id": "8e0d5a3b",
   "metadata": {},
   "outputs": [],
   "source": [
    "tlc.register_url_alias(\"ANIMAL_POSE_DATA\", DATASET_ROOT)"
   ]
  },
  {
   "cell_type": "code",
   "execution_count": 6,
   "id": "23495e6e",
   "metadata": {},
   "outputs": [],
   "source": [
    "data = json.load(open(ANNOTATIONS_FILE))\n",
    "\n",
    "NUM_KEYPOINTS = 20\n",
    "KEYPOINT_NAMES = data[\"categories\"][0][\"keypoints\"]\n",
    "CLASSES = {cat[\"id\"]: cat[\"name\"] for cat in data[\"categories\"]}\n",
    "SKELETON = np.array(data[\"categories\"][0][\"skeleton\"]).reshape(-1).tolist()"
   ]
  },
  {
   "cell_type": "code",
   "execution_count": 7,
   "id": "0478e350",
   "metadata": {},
   "outputs": [],
   "source": [
    "OKS_SIGMAS = [0.07] * 20\n",
    "FLIP_INDEXES = [1, 0, 2, 4, 3, 6, 5, 8, 7, 10, 9, 12, 11, 14, 13, 16, 15, 17, 18, 19]\n",
    "\n",
    "KEYPOINT_COLORS = [\n",
    "    [148, 0, 211],\n",
    "    [75, 0, 130],\n",
    "    [0, 0, 255],\n",
    "    [0, 255, 0],\n",
    "    [255, 255, 0],\n",
    "    [255, 165, 0],\n",
    "    [255, 69, 0],\n",
    "    [255, 0, 0],\n",
    "    [139, 0, 0],\n",
    "    [128, 0, 128],\n",
    "    [238, 130, 238],\n",
    "    [186, 85, 211],\n",
    "    [148, 0, 211],\n",
    "    [0, 255, 255],\n",
    "    [0, 128, 128],\n",
    "    [0, 0, 139],\n",
    "    [0, 0, 255],\n",
    "    [0, 255, 0],\n",
    "    [255, 69, 0],\n",
    "    [255, 20, 147],\n",
    "]\n",
    "\n",
    "EDGE_COLORS = [\n",
    "    [127, 0, 255],\n",
    "    [91, 56, 253],\n",
    "    [55, 109, 248],\n",
    "    [19, 157, 241],\n",
    "    [18, 199, 229],\n",
    "    [54, 229, 215],\n",
    "    [90, 248, 199],\n",
    "    [128, 254, 179],\n",
    "    [164, 248, 158],\n",
    "    [200, 229, 135],\n",
    "    [236, 199, 110],\n",
    "    [255, 157, 83],\n",
    "    [255, 109, 56],\n",
    "    [255, 56, 28],\n",
    "    [255, 0, 0],\n",
    "]"
   ]
  },
  {
   "cell_type": "code",
   "execution_count": null,
   "id": "d83b2b8e",
   "metadata": {},
   "outputs": [],
   "source": [
    "rgb_tuple_to_hex = lambda rgb: \"#\" + \"\".join(f\"{c:02X}\" for c in rgb)\n",
    "\n",
    "LINE_ATTRIBUTES = [\n",
    "    tlc.MapElement(internal_name=\"edge\", display_color=rgb_tuple_to_hex(color)) \n",
    "    for color in EDGE_COLORS\n",
    "]\n",
    "\n",
    "KEYPOINT_ATTRIBUTES = [\n",
    "    tlc.MapElement(internal_name=kpt_name, display_color=rgb_tuple_to_hex(color))\n",
    "    for kpt_name, color in zip(KEYPOINT_NAMES, KEYPOINT_COLORS)\n",
    "]"
   ]
  },
  {
   "cell_type": "code",
   "execution_count": 8,
   "id": "a25c8b67",
   "metadata": {},
   "outputs": [
    {
     "name": "stderr",
     "output_type": "stream",
     "text": [
      "Loading annotations: 100%|██████████| 4608/4608 [00:11<00:00, 393.22it/s]\n"
     ]
    }
   ],
   "source": [
    "annotations = data[\"annotations\"]\n",
    "images = data[\"images\"]\n",
    "\n",
    "row_data = {\n",
    "    \"image\": [],\n",
    "    \"keypoints_2d\": [],\n",
    "}\n",
    "\n",
    "for image_id, image_path in tqdm(images.items(), total=len(images), desc=\"Loading annotations\"):\n",
    "    image_path = Path(IMAGE_ROOT) / image_path\n",
    "\n",
    "    if not image_path.exists():\n",
    "        print(f\"Image {image_path} does not exist\")\n",
    "        continue\n",
    "\n",
    "    with Image.open(image_path) as img:\n",
    "        width, height = img.size\n",
    "\n",
    "    anns = [a for a in annotations if a[\"image_id\"] == int(image_id)]\n",
    "\n",
    "    keypoints = {\n",
    "        \"x_max\": width,\n",
    "        \"y_max\": height,\n",
    "        \"instances\": [],\n",
    "        \"instances_additional_data\": {\n",
    "            \"label\": [],\n",
    "        },\n",
    "    }\n",
    "\n",
    "    for ann in anns:\n",
    "        kpts = np.array(ann[\"keypoints\"])[:,:2].reshape(-1).tolist()\n",
    "        visibilities = np.array(ann[\"keypoints\"])[:,2].tolist()\n",
    "        bb = {\"x_min\": ann[\"bbox\"][0], \"y_min\": ann[\"bbox\"][1], \"x_max\": ann[\"bbox\"][2], \"y_max\": ann[\"bbox\"][3]}\n",
    "        label = ann[\"category_id\"]\n",
    "\n",
    "        keypoints[\"instances\"].append({\n",
    "            \"vertices_2d\": kpts,\n",
    "            \"vertices_2d_additional_data\": {\n",
    "                \"visibilities\": visibilities,\n",
    "            },\n",
    "            \"bbs_2d\": [bb],\n",
    "        })\n",
    "        keypoints[\"instances_additional_data\"][\"label\"].append(label)\n",
    "\n",
    "    row_data[\"image\"].append(tlc.Url(image_path).to_relative().to_str())\n",
    "    row_data[\"keypoints_2d\"].append(keypoints)\n"
   ]
  },
  {
   "cell_type": "code",
   "execution_count": 19,
   "id": "246ba3c9",
   "metadata": {},
   "outputs": [],
   "source": [
    "keypoints_schema = Keypoints2DSchema(\n",
    "    num_keypoints=NUM_KEYPOINTS,\n",
    "    classes=CLASSES,\n",
    "    lines=SKELETON,\n",
    "    line_attributes=LINE_ATTRIBUTES,\n",
    "    point_attributes=KEYPOINT_ATTRIBUTES,\n",
    "    include_per_point_visibilities=True,\n",
    "    flip_indices=FLIP_INDEXES,\n",
    ")"
   ]
  },
  {
   "cell_type": "code",
   "execution_count": null,
   "id": "731682f5",
   "metadata": {},
   "outputs": [
    {
     "name": "stdout",
     "output_type": "stream",
     "text": [
      "\u001b[90m3lc: \u001b[0mLoaded project alias configuration from C:/Users/gudbrand/AppData/Local/3LC/3LC/projects/3LC Tutorials/default_aliases.3lc.yaml\n"
     ]
    }
   ],
   "source": [
    "# table = tlc.Table.from_dict(\n",
    "#     data=row_data,\n",
    "#     table_name=\"initial\",\n",
    "#     dataset_name=DATASET_NAME,\n",
    "#     project_name=PROJECT_NAME,\n",
    "#     structure={\n",
    "#         \"image\": ImageUrlSchema(),\n",
    "#         \"keypoints_2d\": keypoints_schema\n",
    "#     },\n",
    "#     if_exists=\"rename\",\n",
    "# )"
   ]
  },
  {
   "cell_type": "code",
   "execution_count": null,
   "id": "a04091e7",
   "metadata": {},
   "outputs": [],
   "source": [
    "tw = tlc.TableWriter(\n",
    "    table_name=\"initial\",\n",
    "    dataset_name=DATASET_NAME,\n",
    "    project_name=PROJECT_NAME,\n",
    "    column_schemas={\n",
    "        \"image\": ImageUrlSchema(),\n",
    "        \"keypoints_2d\": keypoints_schema\n",
    "    },\n",
    ")\n",
    "tw.add_batch(row_data)\n",
    "table = tw.finalize()"
   ]
  },
  {
   "cell_type": "code",
   "execution_count": 21,
   "id": "0c0fad2d",
   "metadata": {},
   "outputs": [
    {
     "data": {
      "text/plain": [
       "TableFromParquet(project_name=\"3LC Tutorials\", dataset_name=\"AnimalPose\", name=\"initial_0004\", row_count=4608)"
      ]
     },
     "execution_count": 21,
     "metadata": {},
     "output_type": "execute_result"
    }
   ],
   "source": [
    "table"
   ]
  }
 ],
 "metadata": {
  "kernelspec": {
   "display_name": ".venv",
   "language": "python",
   "name": "python3"
  },
  "language_info": {
   "codemirror_mode": {
    "name": "ipython",
    "version": 3
   },
   "file_extension": ".py",
   "mimetype": "text/x-python",
   "name": "python",
   "nbconvert_exporter": "python",
   "pygments_lexer": "ipython3",
   "version": "3.12.9"
  }
 },
 "nbformat": 4,
 "nbformat_minor": 5
}
