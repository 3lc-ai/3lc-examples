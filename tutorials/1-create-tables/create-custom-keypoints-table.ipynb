{
 "cells": [
  {
   "cell_type": "markdown",
   "id": "57ddf21e",
   "metadata": {},
   "source": [
    "# Create a custom keypoints table"
   ]
  },
  {
   "cell_type": "markdown",
   "id": "53bd0086",
   "metadata": {},
   "source": [
    "animalpose"
   ]
  }
 ],
 "metadata": {
  "language_info": {
   "name": "python"
  }
 },
 "nbformat": 4,
 "nbformat_minor": 5
}
