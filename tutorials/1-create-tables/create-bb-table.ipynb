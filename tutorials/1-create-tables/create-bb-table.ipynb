{
 "cells": [
  {
   "cell_type": "markdown",
   "id": "0",
   "metadata": {},
   "source": [
    "# Write a Table with synthetic bounding boxes"
   ]
  },
  {
   "cell_type": "markdown",
   "id": "1",
   "metadata": {},
   "source": [
    "This notebook demonstrates how to write a `tlc.Table` from scratch using a `tlc.TableWriter`, using hard-coded bounding boxes.\n",
    "\n",
    "We show how to format the data and construct the schema in a way that makes the resulting table compatible with the 3LC Dashboard.\n",
    "\n",
    "If your dataset is already in a common bounding box format, such as COCO or YOLO, it is more convenient to use\n",
    "`tlc.Table.from_coco(...)` or `tlc.Table.from_yolo(...)` to create a `tlc.Table`."
   ]
  },
  {
   "cell_type": "markdown",
   "id": "2",
   "metadata": {},
   "source": [
    "## Imports"
   ]
  },
  {
   "cell_type": "code",
   "execution_count": null,
   "id": "3",
   "metadata": {},
   "outputs": [],
   "source": [
    "from pathlib import Path\n",
    "\n",
    "import tlc\n",
    "from PIL import Image"
   ]
  },
  {
   "cell_type": "markdown",
   "id": "4",
   "metadata": {},
   "source": [
    "## Project setup"
   ]
  },
  {
   "cell_type": "code",
   "execution_count": null,
   "id": "5",
   "metadata": {},
   "outputs": [],
   "source": [
    "DATA_PATH = Path(\"../../data/cats-and-dogs\").absolute()\n",
    "\n",
    "assert DATA_PATH.exists()"
   ]
  },
  {
   "cell_type": "markdown",
   "id": "6",
   "metadata": {},
   "source": [
    "## Setup the TableWriter\n",
    "\n",
    "First, we need to import the `tlc` library and create a `tlc.TableWriter` object.\n",
    "We will provide a `tlc.Schema` to the table writer in a later cell."
   ]
  },
  {
   "cell_type": "markdown",
   "id": "7",
   "metadata": {},
   "source": [
    "A column of bounding boxes in 3LC is represented as a dictionary of the form:\n",
    "\n",
    "```python\n",
    "{\n",
    "    \"image_width\": float,\n",
    "    \"image_height\": float,\n",
    "    \"bb_list\": [\n",
    "        {\n",
    "            \"x0\": float,  # First \"horizontal\" coordinate\n",
    "            \"x1\": float,  # Second \"horizontal\" coordinate\n",
    "            \"y0\": float,  # First \"vertical\" coordinate\n",
    "            \"y1\": float,  # Second \"vertical\" coordinate\n",
    "            \"label\": str  # Label of the bounding box\n",
    "        },\n",
    "        ...\n",
    "    ]\n",
    "}\n",
    "```"
   ]
  },
  {
   "cell_type": "code",
   "execution_count": null,
   "id": "8",
   "metadata": {},
   "outputs": [],
   "source": [
    "bb_schema = tlc.BoundingBoxListSchema(\n",
    "    label_value_map={0.0: tlc.MapElement(\"dog\"), 1.0: tlc.MapElement(\"cat\")},\n",
    "    x0_number_role=tlc.NUMBER_ROLE_BB_CENTER_X,\n",
    "    y0_number_role=tlc.NUMBER_ROLE_BB_CENTER_Y,\n",
    "    x1_number_role=tlc.NUMBER_ROLE_BB_SIZE_X,\n",
    "    y1_number_role=tlc.NUMBER_ROLE_BB_SIZE_Y,\n",
    "    x0_unit=\"relative\",\n",
    "    y0_unit=\"relative\",\n",
    "    x1_unit=\"relative\",\n",
    "    y1_unit=\"relative\",\n",
    "    include_segmentation=False,\n",
    ")\n",
    "\n",
    "schemas = {\n",
    "    \"image\": tlc.ImagePath(\"image\"),\n",
    "    \"bounding_boxes\": bb_schema,\n",
    "}\n",
    "\n",
    "table_writer = tlc.TableWriter(\n",
    "    project_name=\"3LC Tutorials\",\n",
    "    dataset_name=\"cats-and-dogs-bbs\",\n",
    "    table_name=\"initial\",\n",
    "    column_schemas=schemas,\n",
    ")"
   ]
  },
  {
   "cell_type": "markdown",
   "id": "9",
   "metadata": {},
   "source": [
    "## Create Table Data"
   ]
  },
  {
   "cell_type": "markdown",
   "id": "10",
   "metadata": {},
   "source": [
    "Let's load the data to populate the `tlc.Table` with. We have a dictionary with a mapping from image to it's bounding boxes.\n",
    "\n",
    "The labels are all in XcYcWH relative format, the one specified in the schema. This means each bounding box is defined by its:\n",
    "\n",
    "    Xc: The x coordinate of the center of the box,\n",
    "    Yc: The y coordinate of the center of the box,\n",
    "    W: The width of the bounding box,\n",
    "    H: The height of the bounding box,\n",
    "    C: The category index of the bounding box - here 0 means dog and 1 means cat\n",
    "\n",
    "The coordinates are between 0 and 1, i.e. relative to the image width and height."
   ]
  },
  {
   "cell_type": "code",
   "execution_count": null,
   "id": "11",
   "metadata": {},
   "outputs": [],
   "source": [
    "# Each image has a list of bounding boxes\n",
    "data = {\n",
    "    \"cats/1500.jpg\": [[0.527, 0.529, 0.941, 0.938, 1]],\n",
    "    \"cats/1501.jpg\": [[0.470, 0.543, 0.866, 0.829, 1]],\n",
    "    \"cats/1502.jpg\": [[0.520, 0.537, 0.705, 0.708, 1]],\n",
    "    \"cats/1503.jpg\": [[0.591, 0.501, 0.814, 0.992, 1]],\n",
    "    \"cats/1504.jpg\": [[0.487, 0.437, 0.819, 0.790, 1]],\n",
    "    \"dogs/1500.jpg\": [[0.496, 0.495, 0.948, 0.897, 0]],\n",
    "    \"dogs/1501.jpg\": [[0.484, 0.493, 0.308, 0.923, 0]],\n",
    "    \"dogs/1502.jpg\": [[0.531, 0.652, 0.487, 0.688, 0]],\n",
    "    \"dogs/1503.jpg\": [[0.520, 0.504, 0.945, 0.968, 0]],\n",
    "    \"dogs/1504.jpg\": [[0.530, 0.497, 0.929, 0.944, 0]],\n",
    "}"
   ]
  },
  {
   "cell_type": "markdown",
   "id": "12",
   "metadata": {},
   "source": [
    "When populating the `tlc.Table`, we need to convert these boxes to appropriately formatted dictionaries."
   ]
  },
  {
   "cell_type": "code",
   "execution_count": null,
   "id": "13",
   "metadata": {},
   "outputs": [],
   "source": [
    "table_rows = {\"image\": [], \"bounding_boxes\": []}\n",
    "\n",
    "for relative_image_path, bbs in data.items():\n",
    "    # Prepare full image path\n",
    "    image_path = str(Path(DATA_PATH, relative_image_path))\n",
    "\n",
    "    # Prepare bounding boxes\n",
    "    image = Image.open(image_path)\n",
    "    image_width, image_height = image.size\n",
    "    bb_list = [{\"x0\": bb[0], \"y0\": bb[1], \"x1\": bb[2], \"y1\": bb[3], \"label\": bb[4]} for bb in bbs]\n",
    "    boxes = {\"image_height\": image_height, \"image_width\": image_width, \"bb_list\": bb_list}\n",
    "\n",
    "    # Populate table rows\n",
    "    table_rows[\"image\"].append(image_path)\n",
    "    table_rows[\"bounding_boxes\"].append(boxes)"
   ]
  },
  {
   "cell_type": "code",
   "execution_count": null,
   "id": "14",
   "metadata": {},
   "outputs": [],
   "source": [
    "table_writer.add_batch(table_rows)\n",
    "table = table_writer.finalize()"
   ]
  },
  {
   "cell_type": "markdown",
   "id": "15",
   "metadata": {},
   "source": [
    "# Inspect the data"
   ]
  },
  {
   "cell_type": "code",
   "execution_count": null,
   "id": "16",
   "metadata": {},
   "outputs": [],
   "source": [
    "# Inspect the first row\n",
    "table[0]"
   ]
  }
 ],
 "metadata": {
  "kernelspec": {
   "display_name": ".venv",
   "language": "python",
   "name": "python3"
  },
  "language_info": {
   "codemirror_mode": {
    "name": "ipython",
    "version": 3
   },
   "file_extension": ".py",
   "mimetype": "text/x-python",
   "name": "python",
   "nbconvert_exporter": "python",
   "pygments_lexer": "ipython3",
   "version": "3.11.3"
  }
 },
 "nbformat": 4,
 "nbformat_minor": 5
}
