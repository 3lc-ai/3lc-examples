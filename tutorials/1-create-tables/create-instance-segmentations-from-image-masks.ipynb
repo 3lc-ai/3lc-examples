{
 "cells": [
  {
   "cell_type": "markdown",
   "metadata": {},
   "source": [
    "# Convert semantic segmentation dataset to instance segmentation dataset\n",
    "\n",
    "This notebook demonstrates how a semantic segmentation dataset, with annotations\n",
    "stored as PNG images, can be converted to a 3LC instance segmentation Table."
   ]
  },
  {
   "cell_type": "markdown",
   "metadata": {},
   "source": [
    "## Imports"
   ]
  },
  {
   "cell_type": "code",
   "execution_count": null,
   "metadata": {},
   "outputs": [],
   "source": [
    "import json\n",
    "from pathlib import Path\n",
    "\n",
    "import cv2\n",
    "import numpy as np\n",
    "import tlc\n",
    "from huggingface_hub import hf_hub_download\n",
    "\n",
    "from tlc_tools.common import download_and_extract_zipfile"
   ]
  },
  {
   "cell_type": "markdown",
   "metadata": {},
   "source": [
    "## Project Setup"
   ]
  },
  {
   "cell_type": "code",
   "execution_count": null,
   "metadata": {},
   "outputs": [],
   "source": [
    "PROJECT_NAME = \"3LC Tutorials\"\n",
    "DATASET_NAME = \"ADE20k_toy_dataset\"\n",
    "TRANSIENT_DATA_PATH = \"../../transient_data\""
   ]
  },
  {
   "cell_type": "markdown",
   "metadata": {},
   "source": [
    "## Download the dataset"
   ]
  },
  {
   "cell_type": "code",
   "execution_count": null,
   "metadata": {},
   "outputs": [],
   "source": [
    "DATASET_ROOT = (Path(TRANSIENT_DATA_PATH) / \"ADE20k_toy_dataset\").resolve()\n",
    "\n",
    "if not DATASET_ROOT.exists():\n",
    "    print(\"Downloading data...\")\n",
    "    download_and_extract_zipfile(\n",
    "        url=\"https://www.dropbox.com/s/l1e45oht447053f/ADE20k_toy_dataset.zip?dl=1\",\n",
    "        location=TRANSIENT_DATA_PATH,\n",
    "    )"
   ]
  },
  {
   "cell_type": "markdown",
   "metadata": {},
   "source": [
    "## Fetch the label map from the Hugging Face Hub"
   ]
  },
  {
   "cell_type": "code",
   "execution_count": null,
   "metadata": {},
   "outputs": [],
   "source": [
    "# load id2label mapping from a JSON on the hub\n",
    "with open(\n",
    "    hf_hub_download(\n",
    "        repo_id=\"huggingface/label-files\",\n",
    "        filename=\"ade20k-id2label.json\",\n",
    "        repo_type=\"dataset\",\n",
    "    )\n",
    ") as f:\n",
    "    id2label = json.load(f)\n",
    "\n",
    "categories = list(id2label.values())"
   ]
  },
  {
   "cell_type": "code",
   "execution_count": null,
   "metadata": {},
   "outputs": [],
   "source": [
    "tlc.register_url_alias(\"ADE20K_TOY_DATASET_ROOT\", DATASET_ROOT.as_posix())"
   ]
  },
  {
   "cell_type": "markdown",
   "metadata": {},
   "source": [
    "## Load the images and segmentation maps\n",
    "\n",
    "\n",
    "\n"
   ]
  },
  {
   "cell_type": "code",
   "execution_count": null,
   "metadata": {},
   "outputs": [],
   "source": [
    "image_paths = list(DATASET_ROOT.glob(\"**/images/training/*.jpg\"))\n",
    "segmentation_map_paths = list(DATASET_ROOT.glob(\"**/annotations/training/*.png\"))"
   ]
  },
  {
   "cell_type": "code",
   "execution_count": null,
   "metadata": {},
   "outputs": [],
   "source": [
    "# Call .to_relative() to ensure aliases are applied\n",
    "image_paths = [tlc.Url(p).to_relative().to_str() for p in image_paths]\n",
    "print(image_paths[0])"
   ]
  },
  {
   "cell_type": "markdown",
   "metadata": {},
   "source": [
    "## Transform the segmentation maps to instance segmentation masks"
   ]
  },
  {
   "cell_type": "code",
   "execution_count": null,
   "metadata": {},
   "outputs": [],
   "source": [
    "def single_channel_map_to_per_class_masks(map: np.ndarray) -> tuple[np.ndarray, np.ndarray]:\n",
    "    \"\"\"Convert a single channel segmentation map to a stack of per-class masks.\n",
    "\n",
    "    Args:\n",
    "        map: A numpy array of shape (H, W) representing a single channel segmentation map.\n",
    "\n",
    "    Returns:\n",
    "        A tuple of two numpy arrays:\n",
    "        - The first array is a stack of per-class masks of shape (H, W, N), where N is the number of classes in the map.\n",
    "        - The second array is a numpy array of shape (N,) representing the class IDs present in the map.\n",
    "    \"\"\"\n",
    "    masks = []\n",
    "    labels = []\n",
    "    for class_id in np.unique(map):\n",
    "        mask = (map == class_id).astype(np.uint8)\n",
    "        masks.append(mask)\n",
    "        labels.append(class_id)\n",
    "    return np.stack(masks, axis=-1), labels"
   ]
  },
  {
   "cell_type": "code",
   "execution_count": null,
   "metadata": {},
   "outputs": [],
   "source": [
    "# Build the column of instance segmentations in the format required by 3LC\n",
    "mask_dicts = []\n",
    "\n",
    "for mask_path in segmentation_map_paths:\n",
    "    map_np = cv2.imread(mask_path, cv2.IMREAD_GRAYSCALE)\n",
    "    h, w = map_np.shape\n",
    "    masks, labels = single_channel_map_to_per_class_masks(map_np)\n",
    "\n",
    "    mask_dicts.append(\n",
    "        {\n",
    "            \"image_height\": h,\n",
    "            \"image_width\": w,\n",
    "            \"masks\": masks,\n",
    "            \"instance_properties\": {\n",
    "                \"label\": labels,\n",
    "            },\n",
    "        },\n",
    "    )"
   ]
  },
  {
   "cell_type": "markdown",
   "metadata": {},
   "source": [
    "## Write the instance segmentation masks to a table"
   ]
  },
  {
   "cell_type": "code",
   "execution_count": null,
   "metadata": {},
   "outputs": [],
   "source": [
    "table_writer = tlc.TableWriter(\n",
    "    table_name=\"ADE20K-instance-segmentation\",\n",
    "    dataset_name=DATASET_NAME,\n",
    "    project_name=PROJECT_NAME,\n",
    "    column_schemas={\n",
    "        \"image\": tlc.ImagePath(\"image\"),\n",
    "        \"instances\": tlc.InstanceSegmentationMasks(\n",
    "            \"instances\",\n",
    "            instance_properties_structure={\n",
    "                \"label\": tlc.CategoricalLabel(\"label\", categories),\n",
    "            },\n",
    "        ),\n",
    "    },\n",
    "    if_exists=\"rename\",\n",
    ")"
   ]
  },
  {
   "cell_type": "code",
   "execution_count": null,
   "metadata": {},
   "outputs": [],
   "source": [
    "# Add all rows (images and instance segmentations) to the table in one go\n",
    "table_writer.add_batch(\n",
    "    {\n",
    "        \"image\": image_paths,\n",
    "        \"instances\": mask_dicts,\n",
    "    }\n",
    ")"
   ]
  },
  {
   "cell_type": "code",
   "execution_count": null,
   "metadata": {},
   "outputs": [],
   "source": [
    "table = table_writer.finalize()"
   ]
  },
  {
   "cell_type": "markdown",
   "metadata": {},
   "source": [
    "## Visualize a sample instance segmentation mask"
   ]
  },
  {
   "cell_type": "code",
   "execution_count": null,
   "metadata": {},
   "outputs": [],
   "source": [
    "import matplotlib.pyplot as plt\n",
    "\n",
    "example_mask = table[0][\"instances\"][\"masks\"][:, :, 0]\n",
    "\n",
    "plt.imshow(example_mask, cmap=\"gray\")\n",
    "plt.axis(\"off\")\n",
    "plt.show()"
   ]
  }
 ],
 "metadata": {
  "kernelspec": {
   "display_name": ".venv",
   "language": "python",
   "name": "python3"
  },
  "language_info": {
   "codemirror_mode": {
    "name": "ipython",
    "version": 3
   },
   "file_extension": ".py",
   "mimetype": "text/x-python",
   "name": "python",
   "nbconvert_exporter": "python",
   "pygments_lexer": "ipython3",
   "version": "3.12.9"
  }
 },
 "nbformat": 4,
 "nbformat_minor": 2
}
