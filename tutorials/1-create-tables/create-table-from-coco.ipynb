{
 "cells": [
  {
   "cell_type": "markdown",
   "metadata": {},
   "source": [
    "# Create Table from COCO\n",
    "\n",
    "This notebook demonstrates how to create a 3LC Table from a COCO-format dataset.\n",
    "\n",
    "The resulting table will contain a \"image\" column with the image filenames, with\n",
    "corresponding annotations in either the \"bbs\" or \"segmentations\" columns.\n"
   ]
  },
  {
   "cell_type": "markdown",
   "metadata": {},
   "source": [
    "## Imports"
   ]
  },
  {
   "cell_type": "code",
   "execution_count": null,
   "metadata": {},
   "outputs": [],
   "source": [
    "from pathlib import Path\n",
    "\n",
    "import tlc"
   ]
  },
  {
   "cell_type": "markdown",
   "metadata": {},
   "source": [
    "## Project setup"
   ]
  },
  {
   "cell_type": "code",
   "execution_count": null,
   "metadata": {},
   "outputs": [],
   "source": [
    "DATA_PATH = \"../../data/\"\n",
    "\n",
    "annotations_file = (Path(DATA_PATH) / \"coco128\" / \"annotations.json\").absolute()\n",
    "image_folder = (Path(DATA_PATH) / \"coco128\" / \"images\").absolute()\n",
    "\n",
    "assert annotations_file.exists()\n",
    "assert image_folder.exists()"
   ]
  },
  {
   "cell_type": "markdown",
   "metadata": {},
   "source": [
    "## Create Table"
   ]
  },
  {
   "cell_type": "code",
   "execution_count": null,
   "metadata": {},
   "outputs": [],
   "source": [
    "bb_table = tlc.Table.from_coco(\n",
    "    annotations_file=annotations_file,\n",
    "    image_folder=image_folder,\n",
    "    table_name=\"initial\",\n",
    "    dataset_name=\"COCO128\",\n",
    "    project_name=\"3LC Tutorials\",\n",
    ")"
   ]
  },
  {
   "cell_type": "code",
   "execution_count": null,
   "metadata": {},
   "outputs": [],
   "source": [
    "seg_table = tlc.Table.from_coco(\n",
    "    annotations_file=annotations_file,\n",
    "    image_folder=image_folder,\n",
    "    table_name=\"initial-segmentation\",\n",
    "    dataset_name=\"COCO128\",\n",
    "    project_name=\"3LC Tutorials\",\n",
    "    task=\"segment\",\n",
    ")"
   ]
  },
  {
   "cell_type": "code",
   "execution_count": null,
   "metadata": {},
   "outputs": [],
   "source": [
    "seg_table.columns"
   ]
  }
 ],
 "metadata": {
  "kernelspec": {
   "display_name": ".venv",
   "language": "python",
   "name": "python3"
  },
  "language_info": {
   "codemirror_mode": {
    "name": "ipython",
    "version": 3
   },
   "file_extension": ".py",
   "mimetype": "text/x-python",
   "name": "python",
   "nbconvert_exporter": "python",
   "pygments_lexer": "ipython3",
   "version": "3.11.3"
  }
 },
 "nbformat": 4,
 "nbformat_minor": 2
}
