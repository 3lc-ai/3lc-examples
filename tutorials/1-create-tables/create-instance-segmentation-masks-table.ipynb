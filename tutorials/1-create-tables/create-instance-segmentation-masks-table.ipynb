{
 "cells": [
  {
   "cell_type": "markdown",
   "metadata": {},
   "source": [
    "# Create Table from instance segmentation masks\n",
    "\n",
    "This notebook demonstrates how to create a table of instance segmentation masks.\n",
    "\n",
    "\"Instance segmentation\", as opposed to \"semantic segmentation\", refers to situations where each \"object\" in your dataset has some associated segmentation mask which might overlap with other objects. \"Semantic segmentation\", by contrast, refers to situations where each pixel in each image of your dataset is associated with exactly one class label. See [this notebook](https://github.com/3lc-ai/3lc-examples/blob/main/tutorials/1-create-tables/create-semantic-segmentation-dataset.ipynb) for an example of how to create a table from semantic segmentation masks.\n",
    "\n",
    "This notebook will use instance segmentations represented as a 3D tensor of shape `(width, height, num_instances)`. For an example of how to use instance segmentations represented as polygons, see [this notebook](https://github.com/3lc-ai/3lc-examples/blob/main/tutorials/1-create-tables/create-instance-segmentation-polygons-table.ipynb).\n",
    "\n",
    "We will use the COCO128 for this example. Note that while 3LC has built-in functionality to facilitate the loading of COCO-style datasets, this example will more \"manually\" load the dataset to demonstrate how this can be done in general."
   ]
  },
  {
   "cell_type": "markdown",
   "metadata": {},
   "source": [
    "## Project Setup"
   ]
  },
  {
   "cell_type": "code",
   "execution_count": null,
   "metadata": {},
   "outputs": [],
   "source": [
    "PROJECT_NAME = \"3LC Tutorials\"\n",
    "DATASET_NAME = \"COCO128 Segmentation Masks\""
   ]
  },
  {
   "cell_type": "markdown",
   "metadata": {},
   "source": [
    "## Imports"
   ]
  },
  {
   "cell_type": "code",
   "execution_count": null,
   "metadata": {},
   "outputs": [],
   "source": [
    "import json\n",
    "from pathlib import Path\n",
    "\n",
    "import numpy as np\n",
    "from pycocotools import mask as mask_utils\n",
    "\n",
    "import tlc"
   ]
  },
  {
   "cell_type": "markdown",
   "metadata": {},
   "source": [
    "## Get images and masks"
   ]
  },
  {
   "cell_type": "code",
   "execution_count": null,
   "metadata": {},
   "outputs": [],
   "source": [
    "coco128_path = Path(\"../../data/coco128\")\n",
    "\n",
    "# Open COCO128 annotations.json file and load the annotations\n",
    "with open(coco128_path / \"annotations.json\") as f:\n",
    "    annotations = json.load(f)\n",
    "\n",
    "# Get the images, segmentations and classes from the data file\n",
    "images = annotations[\"images\"]\n",
    "instances = annotations[\"annotations\"]\n",
    "classes = [category[\"name\"] for category in annotations[\"categories\"]]"
   ]
  },
  {
   "cell_type": "markdown",
   "metadata": {},
   "source": [
    "We want to create a list of rows with the following structure:\n",
    "\n",
    "```\n",
    "{\n",
    "    \"image\": str,\n",
    "    \"segmentation: {\n",
    "        \"image_width\": int,\n",
    "        \"image_height\": int,\n",
    "        \"instance_properties\": {\n",
    "            \"label\": list[int],\n",
    "        },\n",
    "        \"masks\": np.ndarray\n",
    "    }\n",
    "}\n",
    "```\n",
    "\n",
    "Where `image` is a path to the image file, and `segmentation` is a dict of the format expected by 3LC for polygon-based instance segmentation. Its fields are:\n",
    "\n",
    "- `image_width`: The width of the image\n",
    "- `image_height`: The height of the image\n",
    "- `instance_properties`: A dict of properties for each instance in the segmentation. The keys are the names of the properties, and the values are a list containing the value of that property for each instance in the image. Examples of instance properties include `label` and `confidence`.\n",
    "- `masks`: A numpy array of shape `(width, height, num_instances)` and dtype `uint8`, where each slice along the third dimension is a binary mask for one of the instances in the image. This specific format (order of dimensions and dtype) was chosen to match the format used by pycocotools, which is used for 3LCs handling of all instance segmentation data.\n",
    "\n",
    "We will now create a list of rows with the above structure."
   ]
  },
  {
   "cell_type": "code",
   "execution_count": null,
   "metadata": {},
   "outputs": [],
   "source": [
    "# Create a list of rows, holding information about each image\n",
    "# The instance properties are initially empty, and will be populated later\n",
    "rows = [\n",
    "    {\n",
    "        \"image\": (coco128_path / \"images\" / image[\"file_name\"]).absolute().as_posix(),\n",
    "        \"segmentation\": {\n",
    "            \"image_width\": image[\"width\"],\n",
    "            \"image_height\": image[\"height\"],\n",
    "            \"instance_properties\": {\n",
    "                \"label\": [],\n",
    "            },\n",
    "            \"masks\": np.empty((image[\"width\"], image[\"height\"], 0), dtype=np.uint8),\n",
    "        },\n",
    "    }\n",
    "    for image in images\n",
    "]"
   ]
  },
  {
   "cell_type": "code",
   "execution_count": null,
   "metadata": {},
   "outputs": [],
   "source": [
    "# Create a mapping from image index to list of polygons\n",
    "polygons = {i: [] for i in range(len(images))}\n",
    "\n",
    "for instance in instances:\n",
    "    # Get the row index for the instance\n",
    "    row_id = instance[\"image_id\"]\n",
    "\n",
    "    # Get the label and polygon for the instance\n",
    "    label = instance[\"category_id\"]\n",
    "    polygon = instance[\"segmentation\"][0]\n",
    "\n",
    "    # Add the label to the row\n",
    "    rows[row_id][\"segmentation\"][\"instance_properties\"][\"label\"].append(label)\n",
    "\n",
    "    # Add the polygon to the list of polygons for the image\n",
    "    polygons[row_id].append(polygon)"
   ]
  },
  {
   "cell_type": "markdown",
   "metadata": {},
   "source": [
    "### Convert the polygons to masks\n",
    "\n",
    "Since the instance segmentation data in COCO128 is represented as polygons, we need to convert the polygons to masks for the purposes of this example. If you are creating a Table from your own instance segmentation mask data, the only thing you need to ensure is that the format of the `masks` field matches the format expected by 3LC.\n",
    "\n",
    "Here, we use pycocotools to convert the polygons to masks."
   ]
  },
  {
   "cell_type": "code",
   "execution_count": null,
   "metadata": {},
   "outputs": [],
   "source": [
    "# Iterate over all the images and convert the polygons to masks\n",
    "for row_id, instance_polygons in polygons.items():\n",
    "    # If there are no polygons for this image, create an empty mask\n",
    "    if len(instance_polygons) == 0:\n",
    "        rows[row_id][\"segmentation\"][\"masks\"] = np.empty(\n",
    "            (images[row_id][\"width\"], images[row_id][\"height\"], 0), dtype=np.uint8\n",
    "        )\n",
    "        continue\n",
    "\n",
    "    # Convert the polygons to a mask\n",
    "    rles = mask_utils.frPyObjects(instance_polygons, images[row_id][\"height\"], images[row_id][\"width\"])\n",
    "    masks = mask_utils.decode(rles)\n",
    "    rows[row_id][\"segmentation\"][\"masks\"] = masks"
   ]
  },
  {
   "cell_type": "markdown",
   "metadata": {},
   "source": [
    "## Create a table from the rows\n",
    "\n",
    "We will now use a `TableWriter` to write the rows to a `Table`."
   ]
  },
  {
   "cell_type": "code",
   "execution_count": null,
   "metadata": {},
   "outputs": [],
   "source": [
    "# Define the column schemas of our Table\n",
    "column_schemas = {\n",
    "    \"image\": tlc.ImagePath,\n",
    "    \"segmentation\": tlc.InstanceSegmentationMasks(\n",
    "        name=\"segmentation\", instance_properties_structure={\"label\": tlc.CategoricalLabel(\"label\", classes=classes)}\n",
    "    ),\n",
    "}"
   ]
  },
  {
   "cell_type": "code",
   "execution_count": null,
   "metadata": {},
   "outputs": [],
   "source": [
    "# Create a TableWriter\n",
    "table_writer = tlc.TableWriter(\n",
    "    table_name=\"initial\",\n",
    "    dataset_name=DATASET_NAME,\n",
    "    project_name=PROJECT_NAME,\n",
    "    column_schemas=column_schemas,\n",
    "    if_exists=\"rename\",\n",
    ")"
   ]
  },
  {
   "cell_type": "code",
   "execution_count": null,
   "metadata": {},
   "outputs": [],
   "source": [
    "# Write the rows to the Table\n",
    "for row in rows:\n",
    "    table_writer.add_row(row)\n",
    "\n",
    "# Once we are done, call `finalize()` to create the Table\n",
    "table = table_writer.finalize()"
   ]
  },
  {
   "cell_type": "markdown",
   "metadata": {},
   "source": [
    "The table will now be visible in the 3LC Dashboard and can be used in any of your scripts or notebooks."
   ]
  }
 ],
 "metadata": {
  "kernelspec": {
   "display_name": ".venv",
   "language": "python",
   "name": "python3"
  },
  "language_info": {
   "codemirror_mode": {
    "name": "ipython",
    "version": 3
   },
   "file_extension": ".py",
   "mimetype": "text/x-python",
   "name": "python",
   "nbconvert_exporter": "python",
   "pygments_lexer": "ipython3",
   "version": "3.11.11"
  }
 },
 "nbformat": 4,
 "nbformat_minor": 2
}
