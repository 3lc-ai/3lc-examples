{
 "cells": [
  {
   "cell_type": "markdown",
   "metadata": {},
   "source": [
    "# Register Augmented Samples From a Training Loop\n",
    "\n",
    "In this notebook, we will demonstrate how to register augmented samples from a training loop as 3LC metrics. \n",
    "\n",
    "- Define some image augmentations\n",
    "- Register a torch dataset as a `tlc.Table`\n",
    "- Create a `tlc.Run` to store the augmented samples\n",
    "- Iterate a number of times through the Table using a dataloader, writing batches of augmented images as 3LC metrics"
   ]
  },
  {
   "cell_type": "markdown",
   "id": "cb37a806",
   "metadata": {},
   "source": [
    "<div style=\"display: inline-flex; align-items: center; gap: 10px;\">\n",
    "        <a href=\"https://colab.research.google.com/github/3lc-ai/3lc-examples/blob/main/tutorials/write-augmented-samples.ipynb\"\n",
    "        target=\"_blank\"\n",
    "            style=\"background-color: transparent; text-decoration: none; display: inline-flex; align-items: center;\n",
    "            padding: 5px 10px; font-family: Arial, sans-serif;\"> <img\n",
    "            src=\"https://colab.research.google.com/assets/colab-badge.svg\" alt=\"Open In Colab\" style=\"height: 30px;\n",
    "            vertical-align: middle;box-shadow: none;\"/>\n",
    "        </a> <a href=\"https://github.com/3lc-ai/3lc-examples/blob/main/tutorials/write-augmented-samples.ipynb\"\n",
    "            style=\"text-decoration: none; display: inline-flex; align-items: center; background-color: #ffffff; border:\n",
    "            1px solid #d1d5da; border-radius: 8px; padding: 2px 10px; color: #333; font-family: Arial, sans-serif;\">\n",
    "            <svg aria-hidden=\"true\" focusable=\"false\" role=\"img\" class=\"octicon octicon-mark-github\" viewBox=\"0 0 16 16\"\n",
    "            width=\"20\" height=\"20\" fill=\"#333\"\n",
    "            style=\"display:inline-block;user-select:none;vertical-align:text-bottom;overflow:visible; margin-right:\n",
    "            8px;\">\n",
    "                <path d=\"M8 0c4.42 0 8 3.58 8 8a8.013 8.013 0 0 1-5.45 7.59c-.4.08-.55-.17-.55-.38 0-.27.01-1.13.01-2.2\n",
    "                0-.75-.25-1.23-.54-1.48 1.78-.2 3.65-.88 3.65-3.95 0-.88-.31-1.59-.82-2.15.08-.2.36-1.02-.08-2.12 0\n",
    "                0-.67-.22-2.2.82-.64-.18-1.32-.27-2-.27-.68 0-1.36.09-2 .27-1.53-1.03-2.2-.82-2.2-.82-.44 1.1-.16\n",
    "                1.92-.08 2.12-.51.56-.82 1.28-.82 2.15 0 3.06 1.86 3.75 3.64 3.95-.23.2-.44.55-.51\n",
    "                1.07-.46.21-1.61.55-2.33-.66-.15-.24-.6-.83-1.23-.82-.67.01-.27.38.01.53.34.19.73.9.82 1.13.16.45.68\n",
    "                1.31 2.69.94 0 .67.01 1.3.01 1.49 0 .21-.15.45-.55.38A7.995 7.995 0 0 1 0 8c0-4.42 3.58-8 8-8Z\"></path>\n",
    "            </svg> <span style=\"vertical-align: middle; color: #333;\">Open in GitHub</span>\n",
    "        </a>\n",
    "</div>"
   ]
  },
  {
   "cell_type": "markdown",
   "metadata": {},
   "source": [
    "## Project Setup"
   ]
  },
  {
   "cell_type": "code",
   "execution_count": null,
   "metadata": {},
   "outputs": [],
   "source": [
    "PROJECT_NAME = \"augmentation-explorer\"\n",
    "DATASET_NAME = \"COCO-128\"\n",
    "TABLE_NAME = \"coco-128\"\n",
    "RUN_NAME = \"register-augmented-samples\"\n",
    "RUN_DESCRIPTION = \"Inspecting augmentations on COCO-128\"\n",
    "TEST_DATA_PATH = \"../data\"\n",
    "BATCH_SIZE = 32\n",
    "EPOCHS = 10\n",
    "\n",
    "TLC_PUBLIC_EXAMPLES_DEVELOPER_MODE = True\n",
    "INSTALL_DEPENDENCIES = False"
   ]
  },
  {
   "cell_type": "code",
   "execution_count": null,
   "metadata": {},
   "outputs": [],
   "source": [
    "%%capture\n",
    "if INSTALL_DEPENDENCIES:\n",
    "    %pip --quiet install 3lc"
   ]
  },
  {
   "cell_type": "markdown",
   "metadata": {},
   "source": [
    "## Imports"
   ]
  },
  {
   "cell_type": "code",
   "execution_count": null,
   "metadata": {},
   "outputs": [],
   "source": [
    "import tlc\n",
    "import torch\n",
    "import torchvision.transforms.v2 as T\n"
   ]
  },
  {
   "cell_type": "markdown",
   "metadata": {},
   "source": [
    "## Define Augmentations and Dataset"
   ]
  },
  {
   "cell_type": "code",
   "execution_count": null,
   "metadata": {},
   "outputs": [],
   "source": [
    "from pathlib import Path\n",
    "from torchvision.datasets import ImageFolder\n",
    "\n",
    "augmentations = T.Compose(\n",
    "    [\n",
    "        T.RandomAffine(degrees=20, translate=(0.1, 0.1)),\n",
    "        T.RandomHorizontalFlip(),\n",
    "        T.RandomVerticalFlip(),\n",
    "        T.RandomAdjustSharpness(0.5),\n",
    "        T.RandomAutocontrast(0.5),\n",
    "        T.RandomEqualize(0.5),\n",
    "        T.RandomInvert(0.5),\n",
    "        T.RandomPosterize(4),\n",
    "        T.RandomSolarize(0.5),\n",
    "        T.ToImage(),\n",
    "        T.ToDtype(torch.float32, scale=True),\n",
    "        T.Resize((128, 128), antialias=True),\n",
    "        T.Lambda(lambda x: x.repeat(3, 1, 1) if x.size(0) == 1 else x), # Grayscale to RGB\n",
    "    ]\n",
    ")\n",
    "\n",
    "\n",
    "# TEST_DATA_PATH = Path(TEST_DATA_PATH).absolute().as_posix()\n",
    "coco_128 = ImageFolder(TEST_DATA_PATH + \"/coco128\", transform=augmentations)"
   ]
  },
  {
   "cell_type": "markdown",
   "metadata": {},
   "source": [
    "## Register the Dataset as a Table"
   ]
  },
  {
   "cell_type": "code",
   "execution_count": null,
   "metadata": {},
   "outputs": [],
   "source": [
    "structure = (tlc.PILImage, tlc.Int)\n",
    "\n",
    "table = tlc.Table.from_torch_dataset(\n",
    "    dataset=coco_128,\n",
    "    structure=structure,\n",
    "    table_name=TABLE_NAME,\n",
    "    dataset_name=DATASET_NAME,\n",
    "    project_name=PROJECT_NAME,\n",
    ")\n"
   ]
  },
  {
   "cell_type": "markdown",
   "metadata": {},
   "source": [
    "## Create a Run and Register Augmented Samples"
   ]
  },
  {
   "cell_type": "code",
   "execution_count": null,
   "metadata": {},
   "outputs": [],
   "source": [
    "from torch.utils.data import DataLoader\n",
    "\n",
    "AUGMENTED_IMAGE_COLUMN_NAME = \"augmented_img\"\n",
    "\n",
    "run = tlc.init(\n",
    "    PROJECT_NAME,\n",
    "    RUN_NAME,\n",
    "    description=RUN_DESCRIPTION,\n",
    "    parameters={\"augmentations\": str(augmentations)},\n",
    "    if_exists=\"overwrite\",\n",
    ")\n",
    "\n",
    "# Create a metrics table writer to store the augmented images\n",
    "metrics_writer = tlc.MetricsTableWriter(\n",
    "    run.url,\n",
    "    table.url,\n",
    "    column_schemas={AUGMENTED_IMAGE_COLUMN_NAME: tlc.PILImage},\n",
    ")\n",
    "\n",
    "# Create a data loader. It is important to set shuffle=False to ensure we can match the\n",
    "# augmented images with the input table rows\n",
    "dl = DataLoader(table, batch_size=BATCH_SIZE, shuffle=False)\n",
    "\n",
    "# The bulk data URL context tells 3LC where to store the metrics data\n",
    "with tlc.bulk_data_url_context(run.bulk_data_url):\n",
    "    for epoch in range(EPOCHS):\n",
    "        for batch_idx, batch in enumerate(dl):\n",
    "            # Provide sample indices to identify written metrics-images with rows of the input table\n",
    "            sample_indices = [batch_idx * BATCH_SIZE + i for i in range(BATCH_SIZE)]\n",
    "\n",
    "            # Convert the batch to PIL images\n",
    "            images_batch = [T.ToPILImage()(img) for img in batch[0]]\n",
    "\n",
    "            # Write the batch to the metrics table\n",
    "            metrics_writer.add_batch(\n",
    "                {\n",
    "                    AUGMENTED_IMAGE_COLUMN_NAME: images_batch,\n",
    "                    tlc.EXAMPLE_ID: sample_indices,\n",
    "                    tlc.EPOCH: [epoch] * BATCH_SIZE,  # Add a constant epoch column\n",
    "                }\n",
    "            )\n",
    "\n",
    "# Finalize writes the metrics table to disk\n",
    "metrics_table = metrics_writer.finalize()\n",
    "\n",
    "# Ensure the metrics table is associated with the run\n",
    "run.add_metrics_table(metrics_table)\n",
    "\n",
    "# Mark the run as completed\n",
    "run.set_status_completed()\n"
   ]
  }
 ],
 "metadata": {
  "kernelspec": {
   "display_name": ".venv",
   "language": "python",
   "name": "python3"
  },
  "language_info": {
   "codemirror_mode": {
    "name": "ipython",
    "version": 3
   },
   "file_extension": ".py",
   "mimetype": "text/x-python",
   "name": "python",
   "nbconvert_exporter": "python",
   "pygments_lexer": "ipython3",
   "version": "3.11.7"
  }
 },
 "nbformat": 4,
 "nbformat_minor": 2
}
