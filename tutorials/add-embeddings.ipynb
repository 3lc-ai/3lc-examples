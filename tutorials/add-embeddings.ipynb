{
 "cells": [
  {
   "cell_type": "markdown",
   "metadata": {},
   "source": [
    "# Add Embeddings to an Existing Table\n",
    "\n",
    "In this example we will extend an existing table with embeddings computed from a pre-trained model.\n",
    "\n",
    "- Write an initial table containing a single column of image URLs.\n",
    "- Write a new table containing the input URLs and the embeddings computed from a pre-trained model.\n",
    "- Apply dimensionality reduction to the extended table to get a final table containing the URLs, the embeddings, and the reduced embeddings."
   ]
  },
  {
   "cell_type": "code",
   "execution_count": null,
   "metadata": {},
   "outputs": [],
   "source": [
    "from transformers import ViTImageProcessor, ViTModel\n",
    "import torch\n",
    "from torchvision import transforms\n",
    "from PIL import Image\n",
    "from pathlib import Path\n",
    "import os\n",
    "import tlc\n",
    "import tqdm"
   ]
  },
  {
   "cell_type": "markdown",
   "metadata": {},
   "source": [
    "## Write the initial table\n",
    "\n",
    "We write a simple table containing a single column of image URLs from our COCO-128 dataset."
   ]
  },
  {
   "cell_type": "code",
   "execution_count": null,
   "metadata": {},
   "outputs": [],
   "source": [
    "data_path = Path(\"../data/coco128/images\").absolute().as_posix()\n",
    "project_name = \"add-embeddings\"\n",
    "dataset_name = \"coco128\"\n",
    "\n",
    "table_writer = tlc.TableWriter(\n",
    "    table_name=\"initial\",\n",
    "    dataset_name=dataset_name,\n",
    "    project_name=project_name,\n",
    "    description=\"COCO128 dataset\",\n",
    "    column_schemas={\n",
    "        \"image\": tlc.ImagePath\n",
    "    }\n",
    ")\n",
    "\n",
    "image_paths = []  # Store the list of image paths for later use\n",
    "\n",
    "for image_name in os.listdir(data_path):\n",
    "    image_path = os.path.join(data_path, image_name)\n",
    "    image_paths.append(image_path)\n",
    "    table_writer.add_row({\"image\": image_path})\n",
    "\n",
    "table = table_writer.finalize()"
   ]
  },
  {
   "cell_type": "markdown",
   "metadata": {},
   "source": [
    "## Extend the table with embeddings from a pre-trained model\n",
    "\n",
    "We will use the ViT model pre-trained on ImageNet to compute embeddings for the images in the table.\n",
    "A benefit of using this model is that meaningful embeddings can be extracted easily using the `last_hidden_state` attribute of the model output."
   ]
  },
  {
   "cell_type": "code",
   "execution_count": null,
   "metadata": {},
   "outputs": [],
   "source": [
    "# Load the model and feature extractor\n",
    "\n",
    "model_name = \"google/vit-base-patch16-224\"\n",
    "image_processor = ViTImageProcessor.from_pretrained(model_name)\n",
    "device = torch.device(\"cuda\" if torch.cuda.is_available() else \"cpu\")\n",
    "model = ViTModel.from_pretrained(model_name).to(device)\n",
    "\n",
    "# The warning about 'vit.pooler.dense.bias' and 'vit.pooler.dense.weight' being newly initialized\n",
    "# is not problematic for this use case because we are only extracting embeddings from the last\n",
    "# hidden state and do not rely on the pooler layer."
   ]
  },
  {
   "cell_type": "code",
   "execution_count": null,
   "metadata": {},
   "outputs": [],
   "source": [
    "# The input table returns rows of the form {\"image\": image_path}\n",
    "# Define a map function on the table that returns the images as plain tensors instead\n",
    "\n",
    "preprocess = transforms.Compose([\n",
    "    transforms.Resize((224, 224)),\n",
    "    transforms.ToTensor(),\n",
    "    transforms.Normalize(mean=image_processor.image_mean, std=image_processor.image_std),\n",
    "])\n",
    "\n",
    "table.map(lambda row: preprocess(Image.open(row[\"image\"]).convert(\"RGB\")))"
   ]
  },
  {
   "cell_type": "code",
   "execution_count": null,
   "metadata": {},
   "outputs": [],
   "source": [
    "# Define a TableWriter to write the embeddings-table\n",
    "\n",
    "extended_table_writer = tlc.TableWriter(\n",
    "    table_name=\"added-embeddings\",\n",
    "    dataset_name=dataset_name,\n",
    "    project_name=project_name,\n",
    "    description=\"COCO128 dataset with added embeddings\",\n",
    "    column_schemas={\n",
    "        \"image\": tlc.ImagePath,                                                  # Path to the image (copied from input table)\n",
    "        \"embedding\": tlc.Schema(\n",
    "            value=tlc.Float32Value(number_role=tlc.NUMBER_ROLE_NN_EMBEDDING),    # We assign a special role to the embedding column so that it will be automatically selected for dimensionality reduction\n",
    "            size0=tlc.DimensionNumericValue(768, 768),                           # The embedding size is 768\n",
    "            sample_type=\"hidden\",                                                # We don't want the embedding to be displayed in the \"sample-view\" of the table\n",
    "            writable=False,                                                      # We do not allow editing the embedding values after they have been computed\n",
    "        ),\n",
    "    },\n",
    ")"
   ]
  },
  {
   "cell_type": "code",
   "execution_count": null,
   "metadata": {},
   "outputs": [],
   "source": [
    "# Create a DataLoader to iterate over the images in batches for faster inference\n",
    "\n",
    "batch_size = 4\n",
    "\n",
    "def batched_iterator(list_, batch_size, num_batches):\n",
    "    \"\"\"Helper function to iterate over a list in batches.\"\"\"\n",
    "    return (list_[i * batch_size : (i + 1) * batch_size] for i in range(num_batches))\n",
    "\n",
    "dataloader = torch.utils.data.DataLoader(\n",
    "    table,\n",
    "    batch_size=batch_size,\n",
    "    num_workers=0,\n",
    "    shuffle=False, # We don't shuffle the images in order to associate the tensor images with the image paths\n",
    ")\n",
    "\n",
    "num_batches = len(dataloader)\n"
   ]
  },
  {
   "cell_type": "code",
   "execution_count": null,
   "metadata": {},
   "outputs": [],
   "source": [
    "# Run inference on the images and write the embeddings to the extended table's TableWriter\n",
    "\n",
    "for batch, filenames_batch in tqdm.tqdm(\n",
    "    zip(\n",
    "        dataloader,\n",
    "        batched_iterator(image_paths, batch_size, num_batches),\n",
    "    ),\n",
    "    total=num_batches,\n",
    "    desc=\"Running inference on batches\",\n",
    "):\n",
    "    with torch.no_grad():\n",
    "        outputs = model(batch.to(device))\n",
    "        embeddings = outputs.last_hidden_state[:, 0, :].cpu().squeeze().numpy()\n",
    "\n",
    "    extended_table_writer.add_batch(\n",
    "        {\n",
    "            \"image\": filenames_batch,\n",
    "            \"embedding\": embeddings.tolist(),\n",
    "        }\n",
    "    )\n",
    "\n",
    "extended_table = extended_table_writer.finalize()\n",
    "\n",
    "print(extended_table[0].keys())            # Notice the \"embeddings\" column is not present in the sample-view of the table\n",
    "print(extended_table.table_rows[0].keys()) # Notice the \"embeddings\" column is present in the \"row-view\" of the table"
   ]
  },
  {
   "cell_type": "markdown",
   "metadata": {},
   "source": [
    "## Reduce the embeddings to 2 dimensions\n",
    "\n",
    "Finally we reduce the embedding-column to 2 dimensions using UMAP. The result is a table containing the URLs, the embeddings, and the reduced embeddings."
   ]
  },
  {
   "cell_type": "code",
   "execution_count": null,
   "metadata": {},
   "outputs": [],
   "source": [
    "urls = tlc.reduce_embeddings(\n",
    "    [extended_table],\n",
    "    method=\"umap\",\n",
    "    n_components=2,\n",
    "    metric=\"euclidean\",\n",
    "    retain_source_embedding_column=True,\n",
    ")\n",
    "reduced_table_url = urls[extended_table.url]"
   ]
  },
  {
   "cell_type": "code",
   "execution_count": null,
   "metadata": {},
   "outputs": [],
   "source": [
    "reduced_table = tlc.Table.from_url(reduced_table_url)\n",
    "\n",
    "print(reduced_table.table_rows[0].keys()) # The row-view of the reduced table contains both the embeddings and the reduced embeddings"
   ]
  }
 ],
 "metadata": {
  "kernelspec": {
   "display_name": ".venv",
   "language": "python",
   "name": "python3"
  },
  "language_info": {
   "codemirror_mode": {
    "name": "ipython",
    "version": 3
   },
   "file_extension": ".py",
   "mimetype": "text/x-python",
   "name": "python",
   "nbconvert_exporter": "python",
   "pygments_lexer": "ipython3",
   "version": "3.11.3"
  }
 },
 "nbformat": 4,
 "nbformat_minor": 2
}
