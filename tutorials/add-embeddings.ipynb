{
 "cells": [
  {
   "cell_type": "markdown",
   "metadata": {},
   "source": [
    "# Add Image Metrics to an existing Table"
   ]
  },
  {
   "cell_type": "code",
   "execution_count": null,
   "metadata": {},
   "outputs": [],
   "source": [
    "import umap"
   ]
  },
  {
   "cell_type": "code",
   "execution_count": null,
   "metadata": {},
   "outputs": [],
   "source": [
    "from pathlib import Path\n",
    "\n",
    "DATA_PATH = Path(\"../data/coco128/images\").absolute().as_posix()\n"
   ]
  },
  {
   "cell_type": "markdown",
   "metadata": {},
   "source": [
    "## Write the initial table"
   ]
  },
  {
   "cell_type": "code",
   "execution_count": null,
   "metadata": {},
   "outputs": [],
   "source": [
    "import os\n",
    "import tlc\n",
    "\n",
    "table_writer = tlc.TableWriter(\n",
    "    table_name=\"coco128\",\n",
    "    dataset_name=\"coco128\",\n",
    "    project_name=\"add-image-metrics\",\n",
    "    description=\"COCO128 dataset\",\n",
    "    column_schemas={\n",
    "        \"image\": tlc.ImagePath\n",
    "    }\n",
    ")\n",
    "\n",
    "for image_name in os.listdir(DATA_PATH):\n",
    "    image_path = os.path.join(DATA_PATH, image_name)\n",
    "    table_writer.add_row({\"image\": image_path})\n",
    "\n",
    "table = table_writer.finalize()\n"
   ]
  },
  {
   "cell_type": "markdown",
   "metadata": {},
   "source": [
    "## Extend the table with embeddings from a pre-trained model"
   ]
  },
  {
   "cell_type": "code",
   "execution_count": null,
   "metadata": {},
   "outputs": [],
   "source": [
    "from transformers import ViTFeatureExtractor, ViTModel\n",
    "from PIL import Image\n",
    "import torch\n",
    "import requests\n",
    "from torchvision import transforms\n",
    "\n",
    "# Load the model and feature extractor\n",
    "model_name = \"google/vit-base-patch16-224\"\n",
    "feature_extractor = ViTFeatureExtractor.from_pretrained(model_name)\n",
    "model = ViTModel.from_pretrained(model_name)\n",
    "\n",
    "# Define the transformation pipeline\n",
    "preprocess = transforms.Compose([\n",
    "    transforms.Resize((224, 224)),\n",
    "    transforms.ToTensor(),\n",
    "    transforms.Normalize(mean=feature_extractor.image_mean, std=feature_extractor.image_std),\n",
    "])\n",
    "\n",
    "# Load a batch of images (example with three images)\n",
    "image_urls = [\n",
    "    table[0][\"image\"],\n",
    "    table[1][\"image\"],\n",
    "]\n",
    "\n",
    "# Preprocess the images\n",
    "images = []\n",
    "for url in image_urls:\n",
    "    image = Image.open(url).convert(\"RGB\")\n",
    "    image = preprocess(image)\n",
    "    images.append(image)\n",
    "\n",
    "# Create a batch tensor\n",
    "batch = torch.stack(images)\n",
    "\n",
    "# Pass the batch through the model to get embeddings\n",
    "with torch.no_grad():\n",
    "    outputs = model(batch)\n",
    "    embeddings = outputs.last_hidden_state[:, 0, :]  # Extract embeddings for [CLS] token\n",
    "\n",
    "print(\"Embeddings shape:\", embeddings.shape)  # (batch_size, hidden_size)\n",
    "print(\"Embeddings:\", embeddings)\n"
   ]
  },
  {
   "cell_type": "code",
   "execution_count": null,
   "metadata": {},
   "outputs": [],
   "source": [
    "import tqdm\n",
    "\n",
    "extended_table_writer = tlc.TableWriter(\n",
    "    table_name=\"added-embeddings\",\n",
    "    dataset_name=\"coco128\",\n",
    "    project_name=\"add-embeddings\",\n",
    "    description=\"COCO128 dataset with added embeddings\",\n",
    "    column_schemas={\n",
    "        \"image\": tlc.ImagePath,\n",
    "        \"embedding\": tlc.Schema(\n",
    "            value=tlc.Float32Value(number_role=tlc.NUMBER_ROLE_NN_EMBEDDING),\n",
    "            writable=False,\n",
    "            size0=tlc.DimensionNumericValue(768),\n",
    "            sample_type=\"hidden\",\n",
    "        ),\n",
    "    },\n",
    ")\n",
    "\n",
    "for row in tqdm.tqdm(table):\n",
    "    image_path = row[\"image\"]\n",
    "    image = Image.open(image_path).convert(\"RGB\")\n",
    "    image = preprocess(image)\n",
    "    image = image.unsqueeze(0)\n",
    "    with torch.no_grad():\n",
    "        outputs = model(image)\n",
    "        embedding = outputs.last_hidden_state[:, 0, :].squeeze().numpy()\n",
    "    new_row = {**row, \"embedding\": embedding.tolist()}\n",
    "    extended_table_writer.add_row(new_row)\n",
    "\n",
    "extended_table = extended_table_writer.finalize()\n",
    "\n",
    "print(extended_table[0])"
   ]
  },
  {
   "cell_type": "code",
   "execution_count": null,
   "metadata": {},
   "outputs": [],
   "source": [
    "reducer = tlc.create_reducer(\"umap\", {\"n_components\": 2, \"metric\": \"euclidean\"})\n",
    "reduced_table_url = reducer.fit_reduction_method(extended_table, \"embedding\")"
   ]
  },
  {
   "cell_type": "code",
   "execution_count": null,
   "metadata": {},
   "outputs": [],
   "source": [
    "reduced_table = tlc.Table.from_url(reduced_table_url)\n",
    "print(reduced_table[0])"
   ]
  }
 ],
 "metadata": {
  "kernelspec": {
   "display_name": ".venv",
   "language": "python",
   "name": "python3"
  },
  "language_info": {
   "codemirror_mode": {
    "name": "ipython",
    "version": 3
   },
   "file_extension": ".py",
   "mimetype": "text/x-python",
   "name": "python",
   "nbconvert_exporter": "python",
   "pygments_lexer": "ipython3",
   "version": "3.11.3"
  }
 },
 "nbformat": 4,
 "nbformat_minor": 2
}
