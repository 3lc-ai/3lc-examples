{
 "cells": [
  {
   "cell_type": "markdown",
   "metadata": {},
   "source": [
    "# Add Embeddings to an Existing Table\n",
    "\n",
    "In this example we will extend an existing table with embeddings computed from a pre-trained model.\n",
    "\n",
    "- Write an initial table containing a single column of image URLs.\n",
    "- Write a new table containing the input URLs and the embeddings computed from a pre-trained model.\n",
    "- Apply dimensionality reduction to the extended table to get a final table containing the URLs, the embeddings, and the reduced embeddings."
   ]
  },
  {
   "cell_type": "code",
   "execution_count": 1,
   "metadata": {},
   "outputs": [],
   "source": [
    "from transformers import ViTImageProcessor, ViTModel\n",
    "import torch\n",
    "from torchvision import transforms\n",
    "from PIL import Image\n",
    "from pathlib import Path\n",
    "import os\n",
    "import tlc\n",
    "import tqdm"
   ]
  },
  {
   "cell_type": "code",
   "execution_count": 2,
   "metadata": {},
   "outputs": [],
   "source": [
    "batch_size = 4"
   ]
  },
  {
   "cell_type": "markdown",
   "metadata": {},
   "source": [
    "## Write the initial table\n",
    "\n",
    "We write a simple table containing a single column of image URLs from our COCO-128 dataset."
   ]
  },
  {
   "cell_type": "code",
   "execution_count": 3,
   "metadata": {},
   "outputs": [],
   "source": [
    "data_path = Path(\"../data/coco128/images\").absolute().as_posix()\n",
    "project_name = \"add-image-metrics\"\n",
    "\n",
    "table_writer = tlc.TableWriter(\n",
    "    table_name=\"coco128\",\n",
    "    dataset_name=\"coco128\",\n",
    "    project_name=project_name,\n",
    "    description=\"COCO128 dataset\",\n",
    "    column_schemas={\n",
    "        \"image\": tlc.ImagePath\n",
    "    }\n",
    ")\n",
    "\n",
    "image_paths = []\n",
    "\n",
    "for image_name in os.listdir(data_path):\n",
    "    image_path = os.path.join(data_path, image_name)\n",
    "    image_paths.append(image_path)\n",
    "    table_writer.add_row({\"image\": image_path})\n",
    "\n",
    "table = table_writer.finalize()"
   ]
  },
  {
   "cell_type": "markdown",
   "metadata": {},
   "source": [
    "## Extend the table with embeddings from a pre-trained model"
   ]
  },
  {
   "cell_type": "code",
   "execution_count": 4,
   "metadata": {},
   "outputs": [
    {
     "name": "stderr",
     "output_type": "stream",
     "text": [
      "Some weights of ViTModel were not initialized from the model checkpoint at google/vit-base-patch16-224 and are newly initialized: ['vit.pooler.dense.bias', 'vit.pooler.dense.weight']\n",
      "You should probably TRAIN this model on a down-stream task to be able to use it for predictions and inference.\n"
     ]
    }
   ],
   "source": [
    "# Load the model and feature extractor\n",
    "device = torch.device(\"cuda\" if torch.cuda.is_available() else \"cpu\")\n",
    "\n",
    "model_name = \"google/vit-base-patch16-224\"\n",
    "image_processor = ViTImageProcessor.from_pretrained(model_name)\n",
    "model = ViTModel.from_pretrained(model_name).to(device)\n",
    "\n",
    "# Define the transformation pipeline\n",
    "preprocess = transforms.Compose([\n",
    "    transforms.Resize((224, 224)),\n",
    "    transforms.ToTensor(),\n",
    "    transforms.Normalize(mean=image_processor.image_mean, std=image_processor.image_std),\n",
    "])\n",
    "\n",
    "# The warning about 'vit.pooler.dense.bias' and 'vit.pooler.dense.weight' being newly initialized\n",
    "# is not problematic for this use case because we are only extracting embeddings from the last\n",
    "# hidden state and do not rely on the pooler layer."
   ]
  },
  {
   "cell_type": "code",
   "execution_count": 5,
   "metadata": {},
   "outputs": [
    {
     "name": "stderr",
     "output_type": "stream",
     "text": [
      "Running inference on batches: 100%|██████████| 32/32 [00:30<00:00,  1.04it/s]"
     ]
    },
    {
     "name": "stdout",
     "output_type": "stream",
     "text": [
      "{'image': 'C:/Project/notebook-examples/data/coco128/images/000000000009.jpg'}\n"
     ]
    },
    {
     "name": "stderr",
     "output_type": "stream",
     "text": [
      "\n"
     ]
    }
   ],
   "source": [
    "extended_table_writer = tlc.TableWriter(\n",
    "    table_name=\"added-embeddings\",\n",
    "    dataset_name=\"coco128\",\n",
    "    project_name=\"add-embeddings\",\n",
    "    description=\"COCO128 dataset with added embeddings\",\n",
    "    column_schemas={\n",
    "        \"image\": tlc.ImagePath,\n",
    "        \"embedding\": tlc.Schema(\n",
    "            value=tlc.Float32Value(number_role=tlc.NUMBER_ROLE_NN_EMBEDDING),\n",
    "            size0=tlc.DimensionNumericValue(768),\n",
    "            sample_type=\"hidden\",\n",
    "            writable=False,\n",
    "        ),\n",
    "    },\n",
    ")\n",
    "\n",
    "table.map(lambda row: preprocess(Image.open(row[\"image\"]).convert(\"RGB\")))\n",
    "\n",
    "dataloader = torch.utils.data.DataLoader(\n",
    "    table,\n",
    "    batch_size=batch_size,\n",
    "    num_workers=0,\n",
    "    shuffle=False,\n",
    ")\n",
    "\n",
    "num_batches = len(dataloader)\n",
    "\n",
    "\n",
    "def batched_iterator(list_, batch_size, num_batches):\n",
    "    return (list_[i * batch_size : (i + 1) * batch_size] for i in range(num_batches))\n",
    "\n",
    "\n",
    "for batch, filenames_batch in tqdm.tqdm(\n",
    "    zip(\n",
    "        dataloader,\n",
    "        batched_iterator(image_paths, batch_size, num_batches),\n",
    "    ),\n",
    "    total=num_batches,\n",
    "    desc=\"Running inference on batches\",\n",
    "):\n",
    "    with torch.no_grad():\n",
    "        outputs = model(batch.to(device))\n",
    "        embeddings = outputs.last_hidden_state[:, 0, :].squeeze().numpy()\n",
    "\n",
    "    extended_table_writer.add_batch(\n",
    "        {\n",
    "            \"image\": filenames_batch,\n",
    "            \"embedding\": embeddings.tolist(),\n",
    "        }\n",
    "    )\n",
    "\n",
    "extended_table = extended_table_writer.finalize()\n",
    "\n",
    "print(extended_table[0])"
   ]
  },
  {
   "cell_type": "code",
   "execution_count": 6,
   "metadata": {},
   "outputs": [
    {
     "name": "stdout",
     "output_type": "stream",
     "text": [
      "\u001b[90m3lc: \u001b[0mFitting UMAP model on column 'embedding' for table ../added-embeddings\n"
     ]
    },
    {
     "data": {
      "application/vnd.jupyter.widget-view+json": {
       "model_id": "3326dea92b00459ea98a777ec1727e05",
       "version_major": 2,
       "version_minor": 0
      },
      "text/plain": [
       "Epochs completed:   0%|            0/500 [00:00]"
      ]
     },
     "metadata": {},
     "output_type": "display_data"
    },
    {
     "name": "stdout",
     "output_type": "stream",
     "text": [
      "\u001b[90m3lc: \u001b[0mTransforming column 'embedding' in table ../added-embeddings with UMAP model ./added-embeddings_reduced_embedding_00.pkl\n"
     ]
    }
   ],
   "source": [
    "urls = tlc.reduce_embeddings(\n",
    "    [extended_table],\n",
    "    method=\"umap\",\n",
    "    n_components=2,\n",
    "    metric=\"euclidean\",\n",
    "    retain_source_embedding_column=True,\n",
    ")\n",
    "reduced_table_url = urls[extended_table.url]"
   ]
  },
  {
   "cell_type": "code",
   "execution_count": 7,
   "metadata": {},
   "outputs": [
    {
     "name": "stdout",
     "output_type": "stream",
     "text": [
      "{'image': 'C:/Project/notebook-examples/data/coco128/images/000000000009.jpg', 'embedding_umap': [3.49639892578125, 11.783905982971191]}\n"
     ]
    }
   ],
   "source": [
    "reduced_table = tlc.Table.from_url(reduced_table_url)\n",
    "print(reduced_table[0])"
   ]
  },
  {
   "cell_type": "code",
   "execution_count": 8,
   "metadata": {},
   "outputs": [
    {
     "name": "stdout",
     "output_type": "stream",
     "text": [
      "{'embeddings_223': tensor([[ 0.6929, -0.1778,  1.4126,  ..., -0.2675, -0.2489,  0.6796],\n",
      "        [-0.0734, -0.2110,  0.3797,  ...,  0.5803,  0.7378,  0.1924],\n",
      "        [-1.5251, -1.0982,  0.9778,  ...,  1.3487, -0.2712, -0.5566],\n",
      "        [-0.3959, -0.5170,  0.3551,  ..., -0.4861, -0.4202, -0.7321]])}\n"
     ]
    }
   ],
   "source": [
    "# DELETE ME!\n",
    "\n",
    "def flatten_function(layer_output):\n",
    "    return layer_output[:, 0, :]\n",
    "\n",
    "collector = tlc.EmbeddingsMetricsCollector(layers=[223], reshape_strategy={223: flatten_function})\n",
    "predictor = tlc.Predictor(model, layers=[223])\n",
    "\n",
    "for batch in dataloader:\n",
    "    model_output = predictor(batch)\n",
    "    metrics = collector(batch, model_output)\n",
    "\n",
    "    # table_writer.add_batch(metrics, ...)\n",
    "    break\n",
    "\n",
    "print(metrics)\n"
   ]
  }
 ],
 "metadata": {
  "kernelspec": {
   "display_name": ".venv",
   "language": "python",
   "name": "python3"
  },
  "language_info": {
   "codemirror_mode": {
    "name": "ipython",
    "version": 3
   },
   "file_extension": ".py",
   "mimetype": "text/x-python",
   "name": "python",
   "nbconvert_exporter": "python",
   "pygments_lexer": "ipython3",
   "version": "3.11.3"
  }
 },
 "nbformat": 4,
 "nbformat_minor": 2
}
