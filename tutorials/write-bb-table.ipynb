{
 "cells": [
  {
   "cell_type": "markdown",
   "id": "bbc33073",
   "metadata": {},
   "source": [
    "# Write a Table with synthetic bounding boxes"
   ]
  },
  {
   "cell_type": "markdown",
   "id": "e50e420a",
   "metadata": {},
   "source": [
    "<div style=\"display: inline-flex; align-items: center; gap: 10px;\">\n",
    "        <a href=\"https://colab.research.google.com/github/3lc-ai/notebook-examples/blob/main/write-bb-table.ipynb\"\n",
    "        target=\"_blank\"\n",
    "            style=\"background-color: transparent; text-decoration: none; display: inline-flex; align-items: center;\n",
    "            padding: 5px 10px; font-family: Arial, sans-serif;\"> <img\n",
    "            src=\"https://colab.research.google.com/assets/colab-badge.svg\" alt=\"Open In Colab\" style=\"height: 30px;\n",
    "            vertical-align: middle;box-shadow: none;\"/>\n",
    "        </a> <a href=\"https://github.com/3lc-ai/notebook-examples/blob/main/write-bb-table.ipynb\"\n",
    "            style=\"text-decoration: none; display: inline-flex; align-items: center; background-color: #ffffff; border:\n",
    "            1px solid #d1d5da; border-radius: 8px; padding: 2px 10px; color: #333; font-family: Arial, sans-serif;\">\n",
    "            <svg aria-hidden=\"true\" focusable=\"false\" role=\"img\" class=\"octicon octicon-mark-github\" viewBox=\"0 0 16 16\"\n",
    "            width=\"20\" height=\"20\" fill=\"#333\"\n",
    "            style=\"display:inline-block;user-select:none;vertical-align:text-bottom;overflow:visible; margin-right:\n",
    "            8px;\">\n",
    "                <path d=\"M8 0c4.42 0 8 3.58 8 8a8.013 8.013 0 0 1-5.45 7.59c-.4.08-.55-.17-.55-.38 0-.27.01-1.13.01-2.2\n",
    "                0-.75-.25-1.23-.54-1.48 1.78-.2 3.65-.88 3.65-3.95 0-.88-.31-1.59-.82-2.15.08-.2.36-1.02-.08-2.12 0\n",
    "                0-.67-.22-2.2.82-.64-.18-1.32-.27-2-.27-.68 0-1.36.09-2 .27-1.53-1.03-2.2-.82-2.2-.82-.44 1.1-.16\n",
    "                1.92-.08 2.12-.51.56-.82 1.28-.82 2.15 0 3.06 1.86 3.75 3.64 3.95-.23.2-.44.55-.51\n",
    "                1.07-.46.21-1.61.55-2.33-.66-.15-.24-.6-.83-1.23-.82-.67.01-.27.38.01.53.34.19.73.9.82 1.13.16.45.68\n",
    "                1.31 2.69.94 0 .67.01 1.3.01 1.49 0 .21-.15.45-.55.38A7.995 7.995 0 0 1 0 8c0-4.42 3.58-8 8-8Z\"></path>\n",
    "            </svg> <span style=\"vertical-align: middle; color: #333;\">Open in GitHub</span>\n",
    "        </a>\n",
    "</div>"
   ]
  },
  {
   "cell_type": "markdown",
   "id": "6843015c",
   "metadata": {},
   "source": [
    "This notebook demonstrates how to write a `tlc.Table` from scratch using a `tlc.TableWriter`.\n",
    "\n",
    "Using randomly generated bounding boxes as an example, we show how to format the data and construct the schema in a way\n",
    "that makes the resulting table viewable in the 3LC Dashboard."
   ]
  },
  {
   "cell_type": "code",
   "execution_count": null,
   "id": "fc782611",
   "metadata": {
    "tags": [
     "parameters"
    ]
   },
   "outputs": [],
   "source": [
    "PROJECT_NAME = \"Table Writer Examples\"\n",
    "DATASET_NAME = \"Synthetic Bounding Boxes\"\n",
    "TABLE_NAME = \"bb-table\"\n",
    "TLC_PUBLIC_EXAMPLES_DEVELOPER_MODE = True\n",
    "INSTALL_DEPENDENCIES = False\n",
    "MAX_LABEL = 10  # Define the maximum label value"
   ]
  },
  {
   "cell_type": "code",
   "execution_count": null,
   "id": "7b8be68e",
   "metadata": {},
   "outputs": [],
   "source": [
    "%%capture\n",
    "if INSTALL_DEPENDENCIES:\n",
    "    %pip --quiet install 3lc"
   ]
  },
  {
   "cell_type": "code",
   "execution_count": null,
   "id": "2acdca0f",
   "metadata": {},
   "outputs": [],
   "source": [
    "### HIDDEN CELL ###\n",
    "\n",
    "# Reloads all modules every time before executing the Python code.\n",
    "%load_ext autoreload\n",
    "%autoreload 2\n",
    "\n",
    "# Ensure notebook_tests on PATH\n",
    "import os\n",
    "import sys\n",
    "\n",
    "sys.path.append('..')\n",
    "import notebook_tests\n",
    "\n",
    "# Optionally override the default test data path\n",
    "if path := os.getenv(\"TLC_PUBLIC_EXAMPLES_TEST_DATA_PATH\"):\n",
    "    print(f\"Using test data path: {path}\")\n",
    "    TEST_DATA_PATH = path\n",
    "\n",
    "# Prints the current 3lc configuration\n",
    "!3lc config --list"
   ]
  },
  {
   "cell_type": "markdown",
   "id": "bc2c81e9",
   "metadata": {},
   "source": [
    "## Setup the TableWriter\n",
    "\n",
    "First, we need to import the `tlc` library and create a `tlc.TableWriter` object.\n",
    "We will provide a `tlc.Schema` to the table writer in a later cell."
   ]
  },
  {
   "cell_type": "code",
   "execution_count": null,
   "id": "5f945916",
   "metadata": {},
   "outputs": [],
   "source": [
    "import tlc\n",
    "\n",
    "bb_schema = tlc.BoundingBoxListSchema(\n",
    "    label_value_map={float(i): tlc.MapElement(f\"label_{i}\") for i in range(MAX_LABEL + 1)},\n",
    "    x0_number_role=tlc.NUMBER_ROLE_BB_CENTER_X,\n",
    "    y0_number_role=tlc.NUMBER_ROLE_BB_CENTER_Y,\n",
    "    x1_number_role=tlc.NUMBER_ROLE_BB_SIZE_X,\n",
    "    y1_number_role=tlc.NUMBER_ROLE_BB_SIZE_Y,\n",
    "    x0_unit=\"relative\",\n",
    "    y0_unit=\"relative\",\n",
    "    x1_unit=\"relative\",\n",
    "    y1_unit=\"relative\",\n",
    "    include_segmentation=False,\n",
    ")\n",
    "\n",
    "schemas = {\n",
    "    \"image\": tlc.Schema(value=tlc.ImageUrlStringValue()),\n",
    "    \"bounding_boxes\": bb_schema\n",
    "}\n",
    "\n",
    "table_writer = tlc.TableWriter(\n",
    "    project_name=PROJECT_NAME,\n",
    "    dataset_name=DATASET_NAME,\n",
    "    table_name=TABLE_NAME,\n",
    "    column_schemas=schemas,\n",
    "    if_exists=\"overwrite\",\n",
    ")"
   ]
  },
  {
   "cell_type": "code",
   "execution_count": null,
   "id": "f9c1cd85",
   "metadata": {},
   "outputs": [],
   "source": [
    "# Helper function for creating bounding boxes\n",
    "import random\n",
    "\n",
    "\n",
    "def create_dummy_bounding_box():\n",
    "    # Generate random center (x0, y0) and size (x1, y1) for the bounding box\n",
    "    # This is yolo format: [label, x0, y0, x1, y1]\n",
    "    x0, y0 = random.uniform(0.1, 0.9), random.uniform(0.1, 0.9)\n",
    "    x1, y1 = random.uniform(0.05, 0.2), random.uniform(0.05, 0.2)\n",
    "\n",
    "    # Generate a random label\n",
    "    label = random.randint(0, MAX_LABEL)\n",
    "\n",
    "    return {\"x0\": x0, \"y0\": y0, \"x1\": x1, \"y1\": y1, \"label\": label}\n",
    "\n",
    "def create_dummy_bounding_boxes():\n",
    "    # Generate a random number of bounding boxes between 3 and 5\n",
    "    num_boxes = random.randint(3, 5)\n",
    "    bounding_boxes = [create_dummy_bounding_box() for _ in range(num_boxes)]\n",
    "\n",
    "    # Update image dimensions\n",
    "    image_height = random.randint(100, 500)\n",
    "    image_width = random.randint(100, 500)\n",
    "\n",
    "    return {\"image_height\": image_height, \"image_width\": image_width, \"bb_list\": bounding_boxes}\n"
   ]
  },
  {
   "cell_type": "markdown",
   "id": "4f75353d",
   "metadata": {},
   "source": [
    "## Create Table Data"
   ]
  },
  {
   "cell_type": "code",
   "execution_count": null,
   "id": "0e154ad6",
   "metadata": {},
   "outputs": [],
   "source": [
    "# Our table will contain four rows. Each row will have two columns: a image column, and a bounding boxes column.\n",
    "table_rows = {\n",
    "    \"image\": [],\n",
    "    \"bounding_boxes\": []\n",
    "}\n",
    "\n",
    "for i in range(4):\n",
    "    table_rows[\"image\"].append(f\"image_{i}.jpg\") # A nonexistent image file, for demonstration purposes\n",
    "    table_rows[\"bounding_boxes\"].append(create_dummy_bounding_boxes())"
   ]
  },
  {
   "cell_type": "markdown",
   "id": "741f87b6",
   "metadata": {},
   "source": [
    "## Construct a Schema for the Table\n",
    "\n",
    "A column of bounding boxes in 3LC is represented as a dictionary of the form:\n",
    "\n",
    "```python\n",
    "{\n",
    "    \"image_width\": float,\n",
    "    \"image_height\": float,\n",
    "    \"bb_list\": [\n",
    "        {\n",
    "            \"x0\": float,  # First \"horizontal\" coordinate\n",
    "            \"x1\": float,  # Second \"horizontal\" coordinate\n",
    "            \"y0\": float,  # First \"vertical\" coordinate\n",
    "            \"y1\": float,  # Second \"vertical\" coordinate\n",
    "            \"label\": str  # Label of the bounding box\n",
    "        },\n",
    "        ...\n",
    "    ]\n",
    "}\n",
    "```"
   ]
  },
  {
   "cell_type": "markdown",
   "id": "772eed80",
   "metadata": {},
   "source": [
    "## Write the table"
   ]
  },
  {
   "cell_type": "markdown",
   "id": "3d590e57",
   "metadata": {},
   "source": [
    "## Write the table"
   ]
  },
  {
   "cell_type": "code",
   "execution_count": null,
   "id": "df57dc72",
   "metadata": {},
   "outputs": [],
   "source": [
    "table_writer.add_batch(table_rows)\n",
    "table = table_writer.finalize()"
   ]
  },
  {
   "cell_type": "code",
   "execution_count": null,
   "id": "63b2cc7c",
   "metadata": {},
   "outputs": [],
   "source": [
    "# Inspect the first row\n",
    "table[0]"
   ]
  }
 ],
 "metadata": {
  "kernelspec": {
   "display_name": ".venv",
   "language": "python",
   "name": "python3"
  },
  "language_info": {
   "codemirror_mode": {
    "name": "ipython",
    "version": 3
   },
   "file_extension": ".py",
   "mimetype": "text/x-python",
   "name": "python",
   "nbconvert_exporter": "python",
   "pygments_lexer": "ipython3",
   "version": "3.8.10"
  }
 },
 "nbformat": 4,
 "nbformat_minor": 5
}
