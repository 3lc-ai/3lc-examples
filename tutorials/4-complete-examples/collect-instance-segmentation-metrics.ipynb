{
 "cells": [
  {
   "cell_type": "code",
   "execution_count": null,
   "metadata": {},
   "outputs": [],
   "source": [
    "%load_ext autoreload\n",
    "%autoreload 2"
   ]
  },
  {
   "cell_type": "markdown",
   "metadata": {},
   "source": [
    "https://huggingface.co/docs/transformers/en/model_doc/mask2former#transformers.Mask2FormerImageProcessor.post_process_instance_segmentation.return_binary_maps"
   ]
  },
  {
   "cell_type": "code",
   "execution_count": null,
   "metadata": {},
   "outputs": [],
   "source": [
    "from pathlib import Path\n",
    "\n",
    "import numpy as np\n",
    "import tlc\n",
    "import torch\n",
    "import torchvision.transforms as T\n",
    "from transformers import AutoImageProcessor, Mask2FormerForUniversalSegmentation, Mask2FormerImageProcessor\n",
    "\n",
    "from tlc_tools.common import infer_torch_device"
   ]
  },
  {
   "cell_type": "code",
   "execution_count": null,
   "metadata": {},
   "outputs": [],
   "source": [
    "PROJECT_NAME = \"3LC Tutorials\"\n",
    "DATASET_NAME = \"Mask2Former Example\"\n",
    "TABLE_NAME = \"Horses\"\n",
    "HF_MODEL_ID = \"facebook/mask2former-swin-tiny-coco-instance\""
   ]
  },
  {
   "cell_type": "code",
   "execution_count": null,
   "metadata": {},
   "outputs": [],
   "source": [
    "# load Mask2Former fine-tuned on COCO instance segmentation\n",
    "image_processor: Mask2FormerImageProcessor = AutoImageProcessor.from_pretrained(\n",
    "    HF_MODEL_ID,\n",
    "    use_fast=False,\n",
    "    do_rescale=False,\n",
    ")\n",
    "model = Mask2FormerForUniversalSegmentation.from_pretrained(HF_MODEL_ID)\n",
    "\n",
    "device = infer_torch_device()\n",
    "model.to(device)"
   ]
  },
  {
   "cell_type": "code",
   "execution_count": null,
   "metadata": {},
   "outputs": [],
   "source": [
    "image_folder = Path(\"C:/Data/Caltech256/256_ObjectCategories/105.horse\")"
   ]
  },
  {
   "cell_type": "code",
   "execution_count": null,
   "metadata": {},
   "outputs": [],
   "source": [
    "value_map = {k: tlc.MapElement(v) for k, v in model.config.id2label.items()}"
   ]
  },
  {
   "cell_type": "code",
   "execution_count": null,
   "metadata": {},
   "outputs": [],
   "source": [
    "table = tlc.Table.from_image_folder(\n",
    "    image_folder,\n",
    "    include_label_column=False,\n",
    "    table_name=TABLE_NAME,\n",
    "    dataset_name=DATASET_NAME,\n",
    "    project_name=PROJECT_NAME,\n",
    "    if_exists=\"rename\",\n",
    ")"
   ]
  },
  {
   "cell_type": "code",
   "execution_count": null,
   "metadata": {},
   "outputs": [],
   "source": [
    "def table_map(sample):\n",
    "    img_tensor = T.ToTensor()(sample.convert(\"RGB\"))\n",
    "\n",
    "    inputs = image_processor(images=img_tensor, return_tensors=\"pt\")\n",
    "    inputs[\"pixel_values\"] = inputs[\"pixel_values\"].squeeze(0)\n",
    "    inputs[\"original_size\"] = torch.tensor([sample.height, sample.width])\n",
    "    return dict(inputs)\n",
    "\n",
    "\n",
    "table.map(table_map)"
   ]
  },
  {
   "cell_type": "code",
   "execution_count": null,
   "metadata": {},
   "outputs": [],
   "source": [
    "def collect_fn(batch, predictor_output):\n",
    "    original_sizes = [(int(h), int(w)) for h, w in batch[\"original_size\"]]\n",
    "\n",
    "    results = image_processor.post_process_instance_segmentation(\n",
    "        predictor_output.forward,\n",
    "        target_sizes=original_sizes,\n",
    "        return_binary_maps=True,\n",
    "    )\n",
    "\n",
    "    predicted_instances = []\n",
    "\n",
    "    for result, (height, width) in zip(results, original_sizes):\n",
    "        masks = result[\"segmentation\"]\n",
    "        labels = [i[\"label_id\"] for i in result[\"segments_info\"]]\n",
    "        scores = [i[\"score\"] for i in result[\"segments_info\"]]\n",
    "\n",
    "        masks = (\n",
    "            np.expand_dims(masks.cpu().numpy(), axis=2)\n",
    "            if len(masks.shape) == 2\n",
    "            else masks.cpu().numpy().transpose(1, 2, 0)\n",
    "        )\n",
    "\n",
    "        masks = masks.astype(np.uint8)\n",
    "\n",
    "        instances = {\n",
    "            \"image_height\": height,\n",
    "            \"image_width\": width,\n",
    "            \"masks\": masks,\n",
    "            \"instance_properties\": {\"label\": labels, \"scores\": scores},\n",
    "        }\n",
    "        predicted_instances.append(instances)\n",
    "\n",
    "    return {\"predicted_masks\": predicted_instances}\n",
    "\n",
    "\n",
    "metrics_collector = tlc.FunctionalMetricsCollector(\n",
    "    collect_fn,\n",
    "    column_schemas={\n",
    "        \"predicted_masks\": tlc.InstanceSegmentationMasks(\n",
    "            \"predicted_masks\",\n",
    "            instance_properties_structure={\n",
    "                \"label\": tlc.CategoricalLabel(\"label\", value_map),\n",
    "                \"scores\": tlc.IoU(\"scores\"),\n",
    "            },\n",
    "            is_prediction=True,\n",
    "        ),\n",
    "    },\n",
    "    compute_aggregates=False,\n",
    ")"
   ]
  },
  {
   "cell_type": "code",
   "execution_count": null,
   "metadata": {},
   "outputs": [],
   "source": [
    "run = tlc.init(project_name=PROJECT_NAME, run_name=\"Collect Segmentation Metrics\")\n",
    "\n",
    "tlc.collect_metrics(\n",
    "    table,\n",
    "    metrics_collector,\n",
    "    predictor=model,\n",
    "    collect_aggregates=False,\n",
    "    dataloader_args={\"batch_size\": 4},\n",
    ")\n",
    "\n",
    "run.set_status_completed()"
   ]
  }
 ],
 "metadata": {
  "kernelspec": {
   "display_name": ".venv",
   "language": "python",
   "name": "python3"
  },
  "language_info": {
   "codemirror_mode": {
    "name": "ipython",
    "version": 3
   },
   "file_extension": ".py",
   "mimetype": "text/x-python",
   "name": "python",
   "nbconvert_exporter": "python",
   "pygments_lexer": "ipython3",
   "version": "3.12.9"
  }
 },
 "nbformat": 4,
 "nbformat_minor": 2
}
