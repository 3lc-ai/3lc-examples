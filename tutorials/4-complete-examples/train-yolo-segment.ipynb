{
 "cells": [
  {
   "cell_type": "markdown",
   "metadata": {},
   "source": [
    "# Train a YOLO segmentation model with 3LC metrics collection"
   ]
  },
  {
   "cell_type": "markdown",
   "metadata": {},
   "source": [
    "## Imports"
   ]
  },
  {
   "cell_type": "code",
   "execution_count": null,
   "metadata": {},
   "outputs": [],
   "source": [
    "import tlc\n",
    "from ultralytics.utils.tlc import TLCYOLO, Settings"
   ]
  },
  {
   "cell_type": "markdown",
   "metadata": {},
   "source": [
    "## Project setup"
   ]
  },
  {
   "cell_type": "code",
   "execution_count": null,
   "metadata": {},
   "outputs": [],
   "source": [
    "PROJECT_NAME = \"3LC Tutorials\"\n",
    "DATASET_NAME = \"Sartorius Cell Segmentation\"\n",
    "\n",
    "MODEL_NAME = \"yolo11m-seg.pt\"\n",
    "EPOCHS = 1\n",
    "BATCH_SIZE = 1"
   ]
  },
  {
   "cell_type": "code",
   "execution_count": null,
   "metadata": {},
   "outputs": [],
   "source": [
    "train_table = tlc.Table.from_names(\"train\", DATASET_NAME, PROJECT_NAME)\n",
    "val_table = tlc.Table.from_names(\"val\", DATASET_NAME, PROJECT_NAME)"
   ]
  },
  {
   "cell_type": "code",
   "execution_count": null,
   "metadata": {},
   "outputs": [],
   "source": [
    "model = TLCYOLO(MODEL_NAME)\n",
    "\n",
    "settings = Settings(\n",
    "    project_name=PROJECT_NAME,\n",
    "    run_name=\"Train YOLO Segmentation Model\",\n",
    "    conf_thres=0.2,\n",
    "    sampling_weights=True,\n",
    "    exclude_zero_weight_training=True,\n",
    "    exclude_zero_weight_collection=False,\n",
    ")\n",
    "\n",
    "results = model.train(\n",
    "    task=\"segment\",\n",
    "    tables={\n",
    "        \"train\": train_table,\n",
    "        \"val\": val_table,\n",
    "    },\n",
    "    settings=settings,\n",
    "    batch=BATCH_SIZE,\n",
    "    epochs=EPOCHS,\n",
    "    workers=0,  # Multiple workers in notebook environment is not supported on Windows\n",
    "    project=\"../../transient_data\",\n",
    ")"
   ]
  },
  {
   "cell_type": "code",
   "execution_count": null,
   "metadata": {},
   "outputs": [],
   "source": [
    "results.run_url"
   ]
  }
 ],
 "metadata": {
  "kernelspec": {
   "display_name": ".venv",
   "language": "python",
   "name": "python3"
  },
  "language_info": {
   "codemirror_mode": {
    "name": "ipython",
    "version": 3
   },
   "file_extension": ".py",
   "mimetype": "text/x-python",
   "name": "python",
   "nbconvert_exporter": "python",
   "pygments_lexer": "ipython3",
   "version": "3.12.9"
  },
  "test_marks": [
   "slow"
  ]
 },
 "nbformat": 4,
 "nbformat_minor": 2
}
