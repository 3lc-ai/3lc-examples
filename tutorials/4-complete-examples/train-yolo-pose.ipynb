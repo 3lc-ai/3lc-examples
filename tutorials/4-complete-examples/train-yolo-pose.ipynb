{
 "cells": [
  {
   "cell_type": "markdown",
   "id": "e80e2b76",
   "metadata": {},
   "source": [
    "# Train a YOLO model for pose estimation on a custom keypoints dataset\n",
    "\n",
    "This notebook uses the table loaded in [create-custom-keypoints-table.ipynb](../1-create-tables/create-custom-keypoints-table.ipynb), and trains a YOLO model for pose estimation on it."
   ]
  },
  {
   "cell_type": "markdown",
   "id": "23497da2",
   "metadata": {},
   "source": [
    "## Project setup"
   ]
  },
  {
   "cell_type": "code",
   "execution_count": 2,
   "id": "b15e33e7",
   "metadata": {},
   "outputs": [],
   "source": [
    "PROJECT_NAME = \"3LC Tutorials\"\n",
    "DATASET_NAME = \"AnimalPose\"\n",
    "TABLE_NAME = \"initial\""
   ]
  },
  {
   "cell_type": "markdown",
   "id": "36468c54",
   "metadata": {},
   "source": [
    "## Imports"
   ]
  },
  {
   "cell_type": "code",
   "execution_count": 3,
   "id": "02437b4f",
   "metadata": {},
   "outputs": [],
   "source": [
    "from tlc_ultralytics import YOLO, Settings\n",
    "from tlc_tools.split import split_table\n",
    "import tlc"
   ]
  },
  {
   "cell_type": "markdown",
   "id": "9339fa4c",
   "metadata": {},
   "source": [
    "## Load and split table\n"
   ]
  },
  {
   "cell_type": "code",
   "execution_count": 4,
   "id": "e1704a16",
   "metadata": {},
   "outputs": [
    {
     "name": "stdout",
     "output_type": "stream",
     "text": [
      "\u001b[90m3lc: \u001b[0mLoaded project alias configuration from C:/Users/gudbrand/AppData/Local/3LC/3LC/projects/3LC Tutorials/default_aliases.3lc.yaml\n"
     ]
    }
   ],
   "source": [
    "initial_table = tlc.Table.from_names(TABLE_NAME, DATASET_NAME, PROJECT_NAME)\n",
    "tables = split_table(initial_table, splits={\"train\": 0.8, \"val\": 0.2})"
   ]
  },
  {
   "cell_type": "markdown",
   "id": "c3d15496",
   "metadata": {},
   "source": [
    "## Train model"
   ]
  },
  {
   "cell_type": "code",
   "execution_count": 5,
   "id": "a665d2f9",
   "metadata": {},
   "outputs": [
    {
     "name": "stdout",
     "output_type": "stream",
     "text": [
      "Using 3LC Trainer \n",
      "Ultralytics 8.3.184  Python-3.12.9 torch-2.7.1+cu118 CUDA:0 (NVIDIA GeForce RTX 4080 Laptop GPU, 12282MiB)\n",
      "\u001b[34m\u001b[1mengine\\trainer: \u001b[0magnostic_nms=False, amp=True, augment=False, auto_augment=randaugment, batch=16, bgr=0.0, box=7.5, cache=False, cfg=None, classes=None, close_mosaic=10, cls=0.5, conf=None, copy_paste=0.0, copy_paste_mode=flip, cos_lr=False, cutmix=0.0, data=/ultralytics/ultralytics/cfg/datasets/coco-pose.yaml, degrees=0.0, deterministic=True, device=None, dfl=1.5, dnn=False, dropout=0.0, dynamic=False, embed=None, epochs=10, erasing=0.4, exist_ok=False, fliplr=0.5, flipud=0.0, format=torchscript, fraction=1.0, freeze=None, half=False, hsv_h=0.015, hsv_s=0.7, hsv_v=0.4, imgsz=640, int8=False, iou=0.7, keras=False, kobj=1.0, line_width=None, lr0=0.01, lrf=0.01, mask_ratio=4, max_det=300, mixup=0.0, mode=train, model=yolo11n-pose.pt, momentum=0.937, mosaic=1.0, multi_scale=False, name=train28, nbs=64, nms=False, opset=None, optimize=False, optimizer=auto, overlap_mask=True, patience=100, perspective=0.0, plots=True, pose=12.0, pretrained=True, profile=False, project=None, rect=False, resume=False, retina_masks=False, save=True, save_conf=False, save_crop=False, save_dir=c:\\Project\\3lc-ultralytics\\runs\\pose\\train28, save_frames=False, save_json=False, save_period=-1, save_txt=False, scale=0.5, seed=0, shear=0.0, show=False, show_boxes=True, show_conf=True, show_labels=True, simplify=True, single_cls=False, source=None, split=val, stream_buffer=False, task=pose, time=None, tracker=botsort.yaml, translate=0.1, val=True, verbose=True, vid_stride=1, visualize=False, warmup_bias_lr=0.1, warmup_epochs=3.0, warmup_momentum=0.8, weight_decay=0.0005, workers=0, workspace=None\n",
      "\u001b[34m\u001b[1mtrain\u001b[0m: Using table C:/Users/gudbrand/AppData/Local/3LC/3LC/projects/3LC Tutorials/datasets/AnimalPose/tables/train_0000 from provided tables\n",
      "\u001b[34m\u001b[1mval\u001b[0m: Using table C:/Users/gudbrand/AppData/Local/3LC/3LC/projects/3LC Tutorials/datasets/AnimalPose/tables/val_0000 from provided tables\n",
      "\u001b[90m3lc: \u001b[0mCreated new run at C:/Users/gudbrand/AppData/Local/3LC/3LC/projects/3LC Tutorials/runs/weighted-search\n",
      "\u001b[34m\u001b[1m3lc: \u001b[0mCreated run named 'weighted-search' in project 3LC Tutorials.\n",
      "\u001b[34m\u001b[1m3lc: \u001b[0mMetrics will be collected after training only.\n",
      "Overriding model.yaml kpt_shape=[17, 3] with kpt_shape=(20, 3)\n",
      "Overriding model.yaml nc=80 with nc=5\n",
      "\n",
      "                   from  n    params  module                                       arguments                     \n",
      "  0                  -1  1       464  ultralytics.nn.modules.conv.Conv             [3, 16, 3, 2]                 \n",
      "  1                  -1  1      4672  ultralytics.nn.modules.conv.Conv             [16, 32, 3, 2]                \n",
      "  2                  -1  1      6640  ultralytics.nn.modules.block.C3k2            [32, 64, 1, False, 0.25]      \n",
      "  3                  -1  1     36992  ultralytics.nn.modules.conv.Conv             [64, 64, 3, 2]                \n",
      "  4                  -1  1     26080  ultralytics.nn.modules.block.C3k2            [64, 128, 1, False, 0.25]     \n",
      "  5                  -1  1    147712  ultralytics.nn.modules.conv.Conv             [128, 128, 3, 2]              \n",
      "  6                  -1  1     87040  ultralytics.nn.modules.block.C3k2            [128, 128, 1, True]           \n",
      "  7                  -1  1    295424  ultralytics.nn.modules.conv.Conv             [128, 256, 3, 2]              \n",
      "  8                  -1  1    346112  ultralytics.nn.modules.block.C3k2            [256, 256, 1, True]           \n",
      "  9                  -1  1    164608  ultralytics.nn.modules.block.SPPF            [256, 256, 5]                 \n",
      " 10                  -1  1    249728  ultralytics.nn.modules.block.C2PSA           [256, 256, 1]                 \n",
      " 11                  -1  1         0  torch.nn.modules.upsampling.Upsample         [None, 2, 'nearest']          \n",
      " 12             [-1, 6]  1         0  ultralytics.nn.modules.conv.Concat           [1]                           \n",
      " 13                  -1  1    111296  ultralytics.nn.modules.block.C3k2            [384, 128, 1, False]          \n",
      " 14                  -1  1         0  torch.nn.modules.upsampling.Upsample         [None, 2, 'nearest']          \n",
      " 15             [-1, 4]  1         0  ultralytics.nn.modules.conv.Concat           [1]                           \n",
      " 16                  -1  1     32096  ultralytics.nn.modules.block.C3k2            [256, 64, 1, False]           \n",
      " 17                  -1  1     36992  ultralytics.nn.modules.conv.Conv             [64, 64, 3, 2]                \n",
      " 18            [-1, 13]  1         0  ultralytics.nn.modules.conv.Concat           [1]                           \n",
      " 19                  -1  1     86720  ultralytics.nn.modules.block.C3k2            [192, 128, 1, False]          \n",
      " 20                  -1  1    147712  ultralytics.nn.modules.conv.Conv             [128, 128, 3, 2]              \n",
      " 21            [-1, 10]  1         0  ultralytics.nn.modules.conv.Concat           [1]                           \n",
      " 22                  -1  1    378880  ultralytics.nn.modules.block.C3k2            [384, 256, 1, True]           \n",
      " 23        [16, 19, 22]  1    782467  ultralytics.nn.modules.head.Pose             [5, (20, 3), [64, 128, 256]]  \n",
      "YOLO11n-pose summary: 196 layers, 2,941,635 parameters, 2,941,619 gradients, 7.8 GFLOPs\n",
      "\n",
      "Transferred 499/541 items from pretrained weights\n",
      "Freezing layer 'model.23.dfl.conv.weight'\n",
      "\u001b[34m\u001b[1mAMP: \u001b[0mrunning Automatic Mixed Precision (AMP) checks...\n",
      "\u001b[34m\u001b[1mAMP: \u001b[0mchecks passed \n"
     ]
    },
    {
     "name": "stderr",
     "output_type": "stream",
     "text": [
      "\u001b[34m\u001b[1mtrain:\u001b[0m Preparing data from C:/Users/gudbrand/AppData/Local/3LC/3LC/projects/3LC Tutorials/datasets/AnimalPose/tables/train_0000 3687 images, 0 corrupt: 100%|██████████| 3687/3687 [00:01<00:00, 2371.71it/s]\n"
     ]
    },
    {
     "name": "stdout",
     "output_type": "stream",
     "text": [
      "\u001b[34m\u001b[1mtrain:\u001b[0m Fast image access  (ping: 0.10.1 ms, read: 146.7179.3 MB/s, size: 65.1 KB)\n",
      "WARNING No 'flip_idx' array defined in data.yaml, disabling 'fliplr' and 'flipud' augmentations.\n"
     ]
    },
    {
     "name": "stderr",
     "output_type": "stream",
     "text": [
      "\u001b[34m\u001b[1mval:\u001b[0m Preparing data from C:/Users/gudbrand/AppData/Local/3LC/3LC/projects/3LC Tutorials/datasets/AnimalPose/tables/val_0000 921 images, 0 corrupt: 100%|██████████| 921/921 [00:00<00:00, 2846.00it/s]\n"
     ]
    },
    {
     "name": "stdout",
     "output_type": "stream",
     "text": [
      "\u001b[34m\u001b[1mval:\u001b[0m Fast image access  (ping: 0.00.0 ms, read: 528.1424.3 MB/s, size: 81.8 KB)\n",
      "Plotting labels to c:\\Project\\3lc-ultralytics\\runs\\pose\\train28\\labels.jpg... \n",
      "\u001b[34m\u001b[1moptimizer:\u001b[0m 'optimizer=auto' found, ignoring 'lr0=0.01' and 'momentum=0.937' and determining best 'optimizer', 'lr0' and 'momentum' automatically... \n",
      "\u001b[34m\u001b[1moptimizer:\u001b[0m AdamW(lr=0.001111, momentum=0.9) with parameter groups 87 weight(decay=0.0), 97 weight(decay=0.0005), 96 bias(decay=0.0)\n",
      "Image sizes 640 train, 640 val\n",
      "Using 0 dataloader workers\n",
      "Logging results to \u001b[1mc:\\Project\\3lc-ultralytics\\runs\\pose\\train28\u001b[0m\n",
      "Starting training for 10 epochs...\n",
      "Closing dataloader mosaic\n",
      "\n",
      "      Epoch    GPU_mem   box_loss  pose_loss  kobj_loss   cls_loss   dfl_loss  Instances       Size\n"
     ]
    },
    {
     "name": "stderr",
     "output_type": "stream",
     "text": [
      "       1/10      2.44G      1.143      10.07     0.6751       2.56      1.601          7        640: 100%|██████████| 231/231 [01:40<00:00,  2.30it/s]\n",
      "\u001b[34m\u001b[1m    AnimalPose   \u001b[0mClass     Images  Instances      Box(P          R      mAP50  mAP50-95)     Pose(P          R      mAP50  mAP50-95): 100%|██████████| 29/29 [00:12<00:00,  2.25it/s]"
     ]
    },
    {
     "name": "stdout",
     "output_type": "stream",
     "text": [
      "                   all        921       1189        0.8      0.711      0.803      0.511     0.0392     0.0311    0.00331   0.000548\n"
     ]
    },
    {
     "name": "stderr",
     "output_type": "stream",
     "text": [
      "\n"
     ]
    },
    {
     "name": "stdout",
     "output_type": "stream",
     "text": [
      "\n",
      "      Epoch    GPU_mem   box_loss  pose_loss  kobj_loss   cls_loss   dfl_loss  Instances       Size\n"
     ]
    },
    {
     "name": "stderr",
     "output_type": "stream",
     "text": [
      "       2/10      2.68G      1.165      8.518     0.5936      1.409      1.616          9        640: 100%|██████████| 231/231 [01:30<00:00,  2.55it/s]\n",
      "\u001b[34m\u001b[1m    AnimalPose   \u001b[0mClass     Images  Instances      Box(P          R      mAP50  mAP50-95)     Pose(P          R      mAP50  mAP50-95): 100%|██████████| 29/29 [00:11<00:00,  2.45it/s]"
     ]
    },
    {
     "name": "stdout",
     "output_type": "stream",
     "text": [
      "                   all        921       1189      0.745      0.699      0.767      0.459      0.298      0.222      0.116     0.0245\n"
     ]
    },
    {
     "name": "stderr",
     "output_type": "stream",
     "text": [
      "\n"
     ]
    },
    {
     "name": "stdout",
     "output_type": "stream",
     "text": [
      "\n",
      "      Epoch    GPU_mem   box_loss  pose_loss  kobj_loss   cls_loss   dfl_loss  Instances       Size\n"
     ]
    },
    {
     "name": "stderr",
     "output_type": "stream",
     "text": [
      "       3/10      2.69G      1.199      7.972     0.5711      1.218      1.639         14        640: 100%|██████████| 231/231 [01:28<00:00,  2.62it/s]\n",
      "\u001b[34m\u001b[1m    AnimalPose   \u001b[0mClass     Images  Instances      Box(P          R      mAP50  mAP50-95)     Pose(P          R      mAP50  mAP50-95): 100%|██████████| 29/29 [00:11<00:00,  2.44it/s]"
     ]
    },
    {
     "name": "stdout",
     "output_type": "stream",
     "text": [
      "                   all        921       1189      0.794      0.718      0.809      0.513      0.378       0.25       0.18     0.0426\n"
     ]
    },
    {
     "name": "stderr",
     "output_type": "stream",
     "text": [
      "\n"
     ]
    },
    {
     "name": "stdout",
     "output_type": "stream",
     "text": [
      "\n",
      "      Epoch    GPU_mem   box_loss  pose_loss  kobj_loss   cls_loss   dfl_loss  Instances       Size\n"
     ]
    },
    {
     "name": "stderr",
     "output_type": "stream",
     "text": [
      "       4/10      2.71G      1.125      7.629     0.5626       1.08      1.578          8        640: 100%|██████████| 231/231 [01:53<00:00,  2.04it/s]\n",
      "\u001b[34m\u001b[1m    AnimalPose   \u001b[0mClass     Images  Instances      Box(P          R      mAP50  mAP50-95)     Pose(P          R      mAP50  mAP50-95): 100%|██████████| 29/29 [00:18<00:00,  1.61it/s]"
     ]
    },
    {
     "name": "stdout",
     "output_type": "stream",
     "text": [
      "                   all        921       1189      0.805      0.739       0.82      0.522      0.521      0.331      0.252     0.0657\n"
     ]
    },
    {
     "name": "stderr",
     "output_type": "stream",
     "text": [
      "\n"
     ]
    },
    {
     "name": "stdout",
     "output_type": "stream",
     "text": [
      "\n",
      "      Epoch    GPU_mem   box_loss  pose_loss  kobj_loss   cls_loss   dfl_loss  Instances       Size\n"
     ]
    },
    {
     "name": "stderr",
     "output_type": "stream",
     "text": [
      "       5/10      2.73G      1.064      7.233     0.5558     0.9635      1.498         13        640: 100%|██████████| 231/231 [02:11<00:00,  1.76it/s]\n",
      "\u001b[34m\u001b[1m    AnimalPose   \u001b[0mClass     Images  Instances      Box(P          R      mAP50  mAP50-95)     Pose(P          R      mAP50  mAP50-95): 100%|██████████| 29/29 [00:12<00:00,  2.28it/s]"
     ]
    },
    {
     "name": "stdout",
     "output_type": "stream",
     "text": [
      "                   all        921       1189      0.838      0.763      0.851      0.581       0.49      0.368      0.283     0.0805\n"
     ]
    },
    {
     "name": "stderr",
     "output_type": "stream",
     "text": [
      "\n"
     ]
    },
    {
     "name": "stdout",
     "output_type": "stream",
     "text": [
      "\n",
      "      Epoch    GPU_mem   box_loss  pose_loss  kobj_loss   cls_loss   dfl_loss  Instances       Size\n"
     ]
    },
    {
     "name": "stderr",
     "output_type": "stream",
     "text": [
      "       6/10      2.73G      1.005      6.957     0.5484     0.9122      1.451         14        640: 100%|██████████| 231/231 [01:31<00:00,  2.52it/s]\n",
      "\u001b[34m\u001b[1m    AnimalPose   \u001b[0mClass     Images  Instances      Box(P          R      mAP50  mAP50-95)     Pose(P          R      mAP50  mAP50-95): 100%|██████████| 29/29 [00:12<00:00,  2.40it/s]"
     ]
    },
    {
     "name": "stdout",
     "output_type": "stream",
     "text": [
      "                   all        921       1189      0.841      0.779      0.862      0.589      0.568      0.448      0.355      0.104\n"
     ]
    },
    {
     "name": "stderr",
     "output_type": "stream",
     "text": [
      "\n"
     ]
    },
    {
     "name": "stdout",
     "output_type": "stream",
     "text": [
      "\n",
      "      Epoch    GPU_mem   box_loss  pose_loss  kobj_loss   cls_loss   dfl_loss  Instances       Size\n"
     ]
    },
    {
     "name": "stderr",
     "output_type": "stream",
     "text": [
      "       7/10      2.73G     0.9223      6.567     0.5375     0.8143      1.382          7        640: 100%|██████████| 231/231 [01:30<00:00,  2.56it/s]\n",
      "\u001b[34m\u001b[1m    AnimalPose   \u001b[0mClass     Images  Instances      Box(P          R      mAP50  mAP50-95)     Pose(P          R      mAP50  mAP50-95): 100%|██████████| 29/29 [00:12<00:00,  2.36it/s]"
     ]
    },
    {
     "name": "stdout",
     "output_type": "stream",
     "text": [
      "                   all        921       1189      0.846      0.769      0.858      0.589       0.55      0.445      0.385      0.118\n"
     ]
    },
    {
     "name": "stderr",
     "output_type": "stream",
     "text": [
      "\n"
     ]
    },
    {
     "name": "stdout",
     "output_type": "stream",
     "text": [
      "\n",
      "      Epoch    GPU_mem   box_loss  pose_loss  kobj_loss   cls_loss   dfl_loss  Instances       Size\n"
     ]
    },
    {
     "name": "stderr",
     "output_type": "stream",
     "text": [
      "       8/10      2.74G     0.8742       6.31     0.5368     0.7647      1.344          9        640: 100%|██████████| 231/231 [01:33<00:00,  2.48it/s]\n",
      "\u001b[34m\u001b[1m    AnimalPose   \u001b[0mClass     Images  Instances      Box(P          R      mAP50  mAP50-95)     Pose(P          R      mAP50  mAP50-95): 100%|██████████| 29/29 [00:12<00:00,  2.29it/s]"
     ]
    },
    {
     "name": "stdout",
     "output_type": "stream",
     "text": [
      "                   all        921       1189       0.91      0.832      0.917      0.668      0.614      0.489      0.451      0.151\n"
     ]
    },
    {
     "name": "stderr",
     "output_type": "stream",
     "text": [
      "\n"
     ]
    },
    {
     "name": "stdout",
     "output_type": "stream",
     "text": [
      "\n",
      "      Epoch    GPU_mem   box_loss  pose_loss  kobj_loss   cls_loss   dfl_loss  Instances       Size\n"
     ]
    },
    {
     "name": "stderr",
     "output_type": "stream",
     "text": [
      "       9/10      2.76G     0.8096      6.055     0.5301     0.6837      1.285          8        640: 100%|██████████| 231/231 [01:33<00:00,  2.48it/s]\n",
      "\u001b[34m\u001b[1m    AnimalPose   \u001b[0mClass     Images  Instances      Box(P          R      mAP50  mAP50-95)     Pose(P          R      mAP50  mAP50-95): 100%|██████████| 29/29 [00:11<00:00,  2.47it/s]"
     ]
    },
    {
     "name": "stdout",
     "output_type": "stream",
     "text": [
      "                   all        921       1189       0.92      0.836      0.928      0.703      0.658      0.519      0.492      0.183\n"
     ]
    },
    {
     "name": "stderr",
     "output_type": "stream",
     "text": [
      "\n"
     ]
    },
    {
     "name": "stdout",
     "output_type": "stream",
     "text": [
      "\n",
      "      Epoch    GPU_mem   box_loss  pose_loss  kobj_loss   cls_loss   dfl_loss  Instances       Size\n"
     ]
    },
    {
     "name": "stderr",
     "output_type": "stream",
     "text": [
      "      10/10      2.78G     0.7541      5.791     0.5257     0.6324      1.237          7        640: 100%|██████████| 231/231 [01:28<00:00,  2.61it/s]\n",
      "\u001b[34m\u001b[1m    AnimalPose   \u001b[0mClass     Images  Instances      Box(P          R      mAP50  mAP50-95)     Pose(P          R      mAP50  mAP50-95): 100%|██████████| 29/29 [00:11<00:00,  2.44it/s]"
     ]
    },
    {
     "name": "stdout",
     "output_type": "stream",
     "text": [
      "                   all        921       1189       0.92      0.863      0.939      0.723      0.666      0.571      0.543      0.203\n"
     ]
    },
    {
     "name": "stderr",
     "output_type": "stream",
     "text": [
      "\n"
     ]
    },
    {
     "name": "stdout",
     "output_type": "stream",
     "text": [
      "\n",
      "10 epochs completed in 0.310 hours.\n",
      "\u001b[34m\u001b[1mval\u001b[0m: Loaded cached images.\n",
      "\u001b[34m\u001b[1mval:\u001b[0m Fast image access  (ping: 0.10.0 ms, read: 170.263.6 MB/s, size: 93.4 KB)\n",
      "Ultralytics 8.3.184  Python-3.12.9 torch-2.7.1+cu118 CUDA:0 (NVIDIA GeForce RTX 4080 Laptop GPU, 12282MiB)\n",
      "YOLO11n-pose summary (fused): 109 layers, 2,933,587 parameters, 0 gradients, 7.7 GFLOPs\n"
     ]
    },
    {
     "name": "stderr",
     "output_type": "stream",
     "text": [
      "\u001b[34m\u001b[1m    AnimalPose   \u001b[0mClass     Images  Instances      Box(P          R      mAP50  mAP50-95)     Pose(P          R      mAP50  mAP50-95): 100%|██████████| 116/116 [00:54<00:00,  2.14it/s]\n"
     ]
    },
    {
     "name": "stdout",
     "output_type": "stream",
     "text": [
      "                   all       3687       4928      0.927      0.886      0.953      0.774      0.711      0.608      0.575       0.21\n",
      "                   dog       3687       4928      0.927      0.886      0.953      0.774      0.711      0.608      0.575       0.21\n",
      "Speed: 0.2ms preprocess, 2.7ms inference, 0.0ms loss, 1.8ms postprocess per image\n",
      "Results saved to \u001b[1mc:\\Project\\3lc-ultralytics\\runs\\pose\\train28\u001b[0m\n",
      "Optimizer stripped from c:\\Project\\3lc-ultralytics\\runs\\pose\\train28\\weights\\last.pt, 6.2MB\n",
      "Optimizer stripped from c:\\Project\\3lc-ultralytics\\runs\\pose\\train28\\weights\\best.pt, 6.2MB\n",
      "\n",
      "Validating c:\\Project\\3lc-ultralytics\\runs\\pose\\train28\\weights\\best.pt...\n",
      "Ultralytics 8.3.184  Python-3.12.9 torch-2.7.1+cu118 CUDA:0 (NVIDIA GeForce RTX 4080 Laptop GPU, 12282MiB)\n",
      "YOLO11n-pose summary (fused): 109 layers, 2,933,587 parameters, 0 gradients, 7.7 GFLOPs\n"
     ]
    },
    {
     "name": "stderr",
     "output_type": "stream",
     "text": [
      "\u001b[34m\u001b[1m    AnimalPose   \u001b[0mClass     Images  Instances      Box(P          R      mAP50  mAP50-95)     Pose(P          R      mAP50  mAP50-95): 100%|██████████| 29/29 [00:14<00:00,  2.00it/s]\n"
     ]
    },
    {
     "name": "stdout",
     "output_type": "stream",
     "text": [
      "                   all        921       1189      0.918      0.864       0.94      0.723      0.665      0.571      0.543      0.202\n",
      "                   dog        921       1189      0.918      0.864       0.94      0.723      0.665      0.571      0.543      0.202\n",
      "Speed: 0.3ms preprocess, 2.4ms inference, 0.0ms loss, 2.1ms postprocess per image\n",
      "Results saved to \u001b[1mc:\\Project\\3lc-ultralytics\\runs\\pose\\train28\u001b[0m\n"
     ]
    },
    {
     "data": {
      "text/plain": [
       "ultralytics.utils.metrics.PoseMetrics object with attributes:\n",
       "\n",
       "ap_class_index: array([0])\n",
       "box: ultralytics.utils.metrics.Metric object\n",
       "confusion_matrix: <ultralytics.utils.metrics.ConfusionMatrix object at 0x00000213B224D8E0>\n",
       "curves: ['Precision-Recall(B)', 'F1-Confidence(B)', 'Precision-Confidence(B)', 'Recall-Confidence(B)', 'Precision-Recall(B)', 'F1-Confidence(B)', 'Precision-Confidence(B)', 'Recall-Confidence(B)', 'Precision-Recall(P)', 'F1-Confidence(P)', 'Precision-Confidence(P)', 'Recall-Confidence(P)']\n",
       "curves_results: [[array([          0,    0.001001,    0.002002,    0.003003,    0.004004,    0.005005,    0.006006,    0.007007,    0.008008,    0.009009,     0.01001,    0.011011,    0.012012,    0.013013,    0.014014,    0.015015,    0.016016,    0.017017,    0.018018,    0.019019,     0.02002,    0.021021,    0.022022,    0.023023,\n",
       "          0.024024,    0.025025,    0.026026,    0.027027,    0.028028,    0.029029,     0.03003,    0.031031,    0.032032,    0.033033,    0.034034,    0.035035,    0.036036,    0.037037,    0.038038,    0.039039,     0.04004,    0.041041,    0.042042,    0.043043,    0.044044,    0.045045,    0.046046,    0.047047,\n",
       "          0.048048,    0.049049,     0.05005,    0.051051,    0.052052,    0.053053,    0.054054,    0.055055,    0.056056,    0.057057,    0.058058,    0.059059,     0.06006,    0.061061,    0.062062,    0.063063,    0.064064,    0.065065,    0.066066,    0.067067,    0.068068,    0.069069,     0.07007,    0.071071,\n",
       "          0.072072,    0.073073,    0.074074,    0.075075,    0.076076,    0.077077,    0.078078,    0.079079,     0.08008,    0.081081,    0.082082,    0.083083,    0.084084,    0.085085,    0.086086,    0.087087,    0.088088,    0.089089,     0.09009,    0.091091,    0.092092,    0.093093,    0.094094,    0.095095,\n",
       "          0.096096,    0.097097,    0.098098,    0.099099,      0.1001,      0.1011,      0.1021,      0.1031,      0.1041,     0.10511,     0.10611,     0.10711,     0.10811,     0.10911,     0.11011,     0.11111,     0.11211,     0.11311,     0.11411,     0.11512,     0.11612,     0.11712,     0.11812,     0.11912,\n",
       "           0.12012,     0.12112,     0.12212,     0.12312,     0.12412,     0.12513,     0.12613,     0.12713,     0.12813,     0.12913,     0.13013,     0.13113,     0.13213,     0.13313,     0.13413,     0.13514,     0.13614,     0.13714,     0.13814,     0.13914,     0.14014,     0.14114,     0.14214,     0.14314,\n",
       "           0.14414,     0.14515,     0.14615,     0.14715,     0.14815,     0.14915,     0.15015,     0.15115,     0.15215,     0.15315,     0.15415,     0.15516,     0.15616,     0.15716,     0.15816,     0.15916,     0.16016,     0.16116,     0.16216,     0.16316,     0.16416,     0.16517,     0.16617,     0.16717,\n",
       "           0.16817,     0.16917,     0.17017,     0.17117,     0.17217,     0.17317,     0.17417,     0.17518,     0.17618,     0.17718,     0.17818,     0.17918,     0.18018,     0.18118,     0.18218,     0.18318,     0.18418,     0.18519,     0.18619,     0.18719,     0.18819,     0.18919,     0.19019,     0.19119,\n",
       "           0.19219,     0.19319,     0.19419,      0.1952,      0.1962,      0.1972,      0.1982,      0.1992,      0.2002,      0.2012,      0.2022,      0.2032,      0.2042,     0.20521,     0.20621,     0.20721,     0.20821,     0.20921,     0.21021,     0.21121,     0.21221,     0.21321,     0.21421,     0.21522,\n",
       "           0.21622,     0.21722,     0.21822,     0.21922,     0.22022,     0.22122,     0.22222,     0.22322,     0.22422,     0.22523,     0.22623,     0.22723,     0.22823,     0.22923,     0.23023,     0.23123,     0.23223,     0.23323,     0.23423,     0.23524,     0.23624,     0.23724,     0.23824,     0.23924,\n",
       "           0.24024,     0.24124,     0.24224,     0.24324,     0.24424,     0.24525,     0.24625,     0.24725,     0.24825,     0.24925,     0.25025,     0.25125,     0.25225,     0.25325,     0.25425,     0.25526,     0.25626,     0.25726,     0.25826,     0.25926,     0.26026,     0.26126,     0.26226,     0.26326,\n",
       "           0.26426,     0.26527,     0.26627,     0.26727,     0.26827,     0.26927,     0.27027,     0.27127,     0.27227,     0.27327,     0.27427,     0.27528,     0.27628,     0.27728,     0.27828,     0.27928,     0.28028,     0.28128,     0.28228,     0.28328,     0.28428,     0.28529,     0.28629,     0.28729,\n",
       "           0.28829,     0.28929,     0.29029,     0.29129,     0.29229,     0.29329,     0.29429,      0.2953,      0.2963,      0.2973,      0.2983,      0.2993,      0.3003,      0.3013,      0.3023,      0.3033,      0.3043,     0.30531,     0.30631,     0.30731,     0.30831,     0.30931,     0.31031,     0.31131,\n",
       "           0.31231,     0.31331,     0.31431,     0.31532,     0.31632,     0.31732,     0.31832,     0.31932,     0.32032,     0.32132,     0.32232,     0.32332,     0.32432,     0.32533,     0.32633,     0.32733,     0.32833,     0.32933,     0.33033,     0.33133,     0.33233,     0.33333,     0.33433,     0.33534,\n",
       "           0.33634,     0.33734,     0.33834,     0.33934,     0.34034,     0.34134,     0.34234,     0.34334,     0.34434,     0.34535,     0.34635,     0.34735,     0.34835,     0.34935,     0.35035,     0.35135,     0.35235,     0.35335,     0.35435,     0.35536,     0.35636,     0.35736,     0.35836,     0.35936,\n",
       "           0.36036,     0.36136,     0.36236,     0.36336,     0.36436,     0.36537,     0.36637,     0.36737,     0.36837,     0.36937,     0.37037,     0.37137,     0.37237,     0.37337,     0.37437,     0.37538,     0.37638,     0.37738,     0.37838,     0.37938,     0.38038,     0.38138,     0.38238,     0.38338,\n",
       "           0.38438,     0.38539,     0.38639,     0.38739,     0.38839,     0.38939,     0.39039,     0.39139,     0.39239,     0.39339,     0.39439,      0.3954,      0.3964,      0.3974,      0.3984,      0.3994,      0.4004,      0.4014,      0.4024,      0.4034,      0.4044,     0.40541,     0.40641,     0.40741,\n",
       "           0.40841,     0.40941,     0.41041,     0.41141,     0.41241,     0.41341,     0.41441,     0.41542,     0.41642,     0.41742,     0.41842,     0.41942,     0.42042,     0.42142,     0.42242,     0.42342,     0.42442,     0.42543,     0.42643,     0.42743,     0.42843,     0.42943,     0.43043,     0.43143,\n",
       "           0.43243,     0.43343,     0.43443,     0.43544,     0.43644,     0.43744,     0.43844,     0.43944,     0.44044,     0.44144,     0.44244,     0.44344,     0.44444,     0.44545,     0.44645,     0.44745,     0.44845,     0.44945,     0.45045,     0.45145,     0.45245,     0.45345,     0.45445,     0.45546,\n",
       "           0.45646,     0.45746,     0.45846,     0.45946,     0.46046,     0.46146,     0.46246,     0.46346,     0.46446,     0.46547,     0.46647,     0.46747,     0.46847,     0.46947,     0.47047,     0.47147,     0.47247,     0.47347,     0.47447,     0.47548,     0.47648,     0.47748,     0.47848,     0.47948,\n",
       "           0.48048,     0.48148,     0.48248,     0.48348,     0.48448,     0.48549,     0.48649,     0.48749,     0.48849,     0.48949,     0.49049,     0.49149,     0.49249,     0.49349,     0.49449,      0.4955,      0.4965,      0.4975,      0.4985,      0.4995,      0.5005,      0.5015,      0.5025,      0.5035,\n",
       "            0.5045,     0.50551,     0.50651,     0.50751,     0.50851,     0.50951,     0.51051,     0.51151,     0.51251,     0.51351,     0.51451,     0.51552,     0.51652,     0.51752,     0.51852,     0.51952,     0.52052,     0.52152,     0.52252,     0.52352,     0.52452,     0.52553,     0.52653,     0.52753,\n",
       "           0.52853,     0.52953,     0.53053,     0.53153,     0.53253,     0.53353,     0.53453,     0.53554,     0.53654,     0.53754,     0.53854,     0.53954,     0.54054,     0.54154,     0.54254,     0.54354,     0.54454,     0.54555,     0.54655,     0.54755,     0.54855,     0.54955,     0.55055,     0.55155,\n",
       "           0.55255,     0.55355,     0.55455,     0.55556,     0.55656,     0.55756,     0.55856,     0.55956,     0.56056,     0.56156,     0.56256,     0.56356,     0.56456,     0.56557,     0.56657,     0.56757,     0.56857,     0.56957,     0.57057,     0.57157,     0.57257,     0.57357,     0.57457,     0.57558,\n",
       "           0.57658,     0.57758,     0.57858,     0.57958,     0.58058,     0.58158,     0.58258,     0.58358,     0.58458,     0.58559,     0.58659,     0.58759,     0.58859,     0.58959,     0.59059,     0.59159,     0.59259,     0.59359,     0.59459,      0.5956,      0.5966,      0.5976,      0.5986,      0.5996,\n",
       "            0.6006,      0.6016,      0.6026,      0.6036,      0.6046,     0.60561,     0.60661,     0.60761,     0.60861,     0.60961,     0.61061,     0.61161,     0.61261,     0.61361,     0.61461,     0.61562,     0.61662,     0.61762,     0.61862,     0.61962,     0.62062,     0.62162,     0.62262,     0.62362,\n",
       "           0.62462,     0.62563,     0.62663,     0.62763,     0.62863,     0.62963,     0.63063,     0.63163,     0.63263,     0.63363,     0.63463,     0.63564,     0.63664,     0.63764,     0.63864,     0.63964,     0.64064,     0.64164,     0.64264,     0.64364,     0.64464,     0.64565,     0.64665,     0.64765,\n",
       "           0.64865,     0.64965,     0.65065,     0.65165,     0.65265,     0.65365,     0.65465,     0.65566,     0.65666,     0.65766,     0.65866,     0.65966,     0.66066,     0.66166,     0.66266,     0.66366,     0.66466,     0.66567,     0.66667,     0.66767,     0.66867,     0.66967,     0.67067,     0.67167,\n",
       "           0.67267,     0.67367,     0.67467,     0.67568,     0.67668,     0.67768,     0.67868,     0.67968,     0.68068,     0.68168,     0.68268,     0.68368,     0.68468,     0.68569,     0.68669,     0.68769,     0.68869,     0.68969,     0.69069,     0.69169,     0.69269,     0.69369,     0.69469,      0.6957,\n",
       "            0.6967,      0.6977,      0.6987,      0.6997,      0.7007,      0.7017,      0.7027,      0.7037,      0.7047,     0.70571,     0.70671,     0.70771,     0.70871,     0.70971,     0.71071,     0.71171,     0.71271,     0.71371,     0.71471,     0.71572,     0.71672,     0.71772,     0.71872,     0.71972,\n",
       "           0.72072,     0.72172,     0.72272,     0.72372,     0.72472,     0.72573,     0.72673,     0.72773,     0.72873,     0.72973,     0.73073,     0.73173,     0.73273,     0.73373,     0.73473,     0.73574,     0.73674,     0.73774,     0.73874,     0.73974,     0.74074,     0.74174,     0.74274,     0.74374,\n",
       "           0.74474,     0.74575,     0.74675,     0.74775,     0.74875,     0.74975,     0.75075,     0.75175,     0.75275,     0.75375,     0.75475,     0.75576,     0.75676,     0.75776,     0.75876,     0.75976,     0.76076,     0.76176,     0.76276,     0.76376,     0.76476,     0.76577,     0.76677,     0.76777,\n",
       "           0.76877,     0.76977,     0.77077,     0.77177,     0.77277,     0.77377,     0.77477,     0.77578,     0.77678,     0.77778,     0.77878,     0.77978,     0.78078,     0.78178,     0.78278,     0.78378,     0.78478,     0.78579,     0.78679,     0.78779,     0.78879,     0.78979,     0.79079,     0.79179,\n",
       "           0.79279,     0.79379,     0.79479,      0.7958,      0.7968,      0.7978,      0.7988,      0.7998,      0.8008,      0.8018,      0.8028,      0.8038,      0.8048,     0.80581,     0.80681,     0.80781,     0.80881,     0.80981,     0.81081,     0.81181,     0.81281,     0.81381,     0.81481,     0.81582,\n",
       "           0.81682,     0.81782,     0.81882,     0.81982,     0.82082,     0.82182,     0.82282,     0.82382,     0.82482,     0.82583,     0.82683,     0.82783,     0.82883,     0.82983,     0.83083,     0.83183,     0.83283,     0.83383,     0.83483,     0.83584,     0.83684,     0.83784,     0.83884,     0.83984,\n",
       "           0.84084,     0.84184,     0.84284,     0.84384,     0.84484,     0.84585,     0.84685,     0.84785,     0.84885,     0.84985,     0.85085,     0.85185,     0.85285,     0.85385,     0.85485,     0.85586,     0.85686,     0.85786,     0.85886,     0.85986,     0.86086,     0.86186,     0.86286,     0.86386,\n",
       "           0.86486,     0.86587,     0.86687,     0.86787,     0.86887,     0.86987,     0.87087,     0.87187,     0.87287,     0.87387,     0.87487,     0.87588,     0.87688,     0.87788,     0.87888,     0.87988,     0.88088,     0.88188,     0.88288,     0.88388,     0.88488,     0.88589,     0.88689,     0.88789,\n",
       "           0.88889,     0.88989,     0.89089,     0.89189,     0.89289,     0.89389,     0.89489,      0.8959,      0.8969,      0.8979,      0.8989,      0.8999,      0.9009,      0.9019,      0.9029,      0.9039,      0.9049,     0.90591,     0.90691,     0.90791,     0.90891,     0.90991,     0.91091,     0.91191,\n",
       "           0.91291,     0.91391,     0.91491,     0.91592,     0.91692,     0.91792,     0.91892,     0.91992,     0.92092,     0.92192,     0.92292,     0.92392,     0.92492,     0.92593,     0.92693,     0.92793,     0.92893,     0.92993,     0.93093,     0.93193,     0.93293,     0.93393,     0.93493,     0.93594,\n",
       "           0.93694,     0.93794,     0.93894,     0.93994,     0.94094,     0.94194,     0.94294,     0.94394,     0.94494,     0.94595,     0.94695,     0.94795,     0.94895,     0.94995,     0.95095,     0.95195,     0.95295,     0.95395,     0.95495,     0.95596,     0.95696,     0.95796,     0.95896,     0.95996,\n",
       "           0.96096,     0.96196,     0.96296,     0.96396,     0.96496,     0.96597,     0.96697,     0.96797,     0.96897,     0.96997,     0.97097,     0.97197,     0.97297,     0.97397,     0.97497,     0.97598,     0.97698,     0.97798,     0.97898,     0.97998,     0.98098,     0.98198,     0.98298,     0.98398,\n",
       "           0.98498,     0.98599,     0.98699,     0.98799,     0.98899,     0.98999,     0.99099,     0.99199,     0.99299,     0.99399,     0.99499,       0.996,       0.997,       0.998,       0.999,           1]), array([[          1,           1,           1,           1,           1,           1,           1,           1,           1,           1,           1,           1,           1,           1,           1,           1,           1,           1,           1,           1,           1,           1,           1,\n",
       "                  1,           1,           1,           1,           1,           1,           1,           1,           1,           1,           1,           1,           1,           1,           1,           1,           1,           1,           1,           1,           1,           1,           1,\n",
       "                  1,           1,           1,           1,           1,           1,           1,           1,           1,           1,           1,           1,           1,           1,           1,           1,           1,           1,           1,           1,           1,           1,           1,\n",
       "                  1,           1,           1,           1,           1,           1,           1,           1,           1,           1,           1,           1,           1,           1,           1,           1,           1,           1,           1,           1,           1,           1,           1,\n",
       "                  1,           1,           1,           1,           1,           1,           1,           1,           1,           1,           1,           1,           1,           1,           1,           1,           1,           1,           1,           1,           1,           1,           1,\n",
       "            0.99806,     0.99806,     0.99806,     0.99806,     0.99806,     0.99806,     0.99806,     0.99806,     0.99806,     0.99806,     0.99806,     0.99806,     0.99806,     0.99806,     0.99806,     0.99806,     0.99806,     0.99806,     0.99806,     0.99806,     0.99806,     0.99806,     0.99806,\n",
       "            0.99806,     0.99806,     0.99806,     0.99806,     0.99806,     0.99806,     0.99806,     0.99806,     0.99806,     0.99806,     0.99806,     0.99806,     0.99806,     0.99806,     0.99806,     0.99806,     0.99806,     0.99806,     0.99806,     0.99806,     0.99806,     0.99806,     0.99806,\n",
       "            0.99806,     0.99806,     0.99806,     0.99806,     0.99806,     0.99806,     0.99806,     0.99806,     0.99806,     0.99806,     0.99806,     0.99806,     0.99806,     0.99806,     0.99806,     0.99806,     0.99806,     0.99806,     0.99806,     0.99806,     0.99806,     0.99806,     0.99806,\n",
       "            0.99806,     0.99806,     0.99806,     0.99806,     0.99806,     0.99806,     0.99806,     0.99806,     0.99806,     0.99806,     0.99806,     0.99806,     0.99806,     0.99806,     0.99806,     0.99806,     0.99806,     0.99806,     0.99806,     0.99806,     0.99806,     0.99806,     0.99806,\n",
       "            0.99806,     0.99806,     0.99806,     0.99806,     0.99806,     0.99806,     0.99806,     0.99806,     0.99806,     0.99806,     0.99806,     0.99806,     0.99806,     0.99806,     0.99806,     0.99806,     0.99806,     0.99806,     0.99806,     0.99806,     0.99806,     0.99806,     0.99806,\n",
       "            0.99806,     0.99806,     0.99806,     0.99806,     0.99806,     0.99806,     0.99806,     0.99806,     0.99806,     0.99806,     0.99806,     0.99806,     0.99806,     0.99806,     0.99806,     0.99806,     0.99806,     0.99806,     0.99806,     0.99806,     0.99806,     0.99806,     0.99806,\n",
       "            0.99806,     0.99806,     0.99806,     0.99806,     0.99806,     0.99806,     0.99806,     0.99806,     0.99806,     0.99806,     0.99806,     0.99806,     0.99806,     0.99806,     0.99806,     0.99806,     0.99806,     0.99806,     0.99806,     0.99806,     0.99806,     0.99806,     0.99806,\n",
       "            0.99806,     0.99806,     0.99806,     0.99806,     0.99806,     0.99806,     0.99806,     0.99806,     0.99806,     0.99806,     0.99806,     0.99806,     0.99806,     0.99806,     0.99806,     0.99806,     0.99806,     0.99806,     0.99806,     0.99806,     0.99806,     0.99806,     0.99806,\n",
       "            0.99806,     0.99806,     0.99806,     0.99806,     0.99806,     0.99806,     0.99806,     0.99806,     0.99806,     0.99806,     0.99806,     0.99806,     0.99806,     0.99806,     0.99806,     0.99806,     0.99806,     0.99806,     0.99806,     0.99806,     0.99806,     0.99806,     0.99806,\n",
       "            0.99806,     0.99806,     0.99806,     0.99806,     0.99806,     0.99806,     0.99806,     0.99806,     0.99806,     0.99806,     0.99806,     0.99806,     0.99806,     0.99806,     0.99806,     0.99806,     0.99806,     0.99806,     0.99806,     0.99806,     0.99806,     0.99806,     0.99806,\n",
       "            0.99806,     0.99806,     0.99806,     0.99806,     0.99806,     0.99806,     0.99806,     0.99806,     0.99806,     0.99806,     0.99806,     0.99806,     0.99806,     0.99806,     0.99806,     0.99806,     0.99806,     0.99806,     0.99806,     0.99806,     0.99806,     0.99806,     0.99806,\n",
       "            0.99806,     0.99806,     0.99806,     0.99806,     0.99806,     0.99806,     0.99806,     0.99806,     0.99806,     0.99806,     0.99806,     0.99806,     0.99806,     0.99806,     0.99806,     0.99806,     0.99806,     0.99806,     0.99806,     0.99806,     0.99806,     0.99806,     0.99806,\n",
       "            0.99806,     0.99806,     0.99806,     0.99806,     0.99806,     0.99806,     0.99806,     0.99806,     0.99806,     0.99806,     0.99806,     0.99806,     0.99806,     0.99806,     0.99806,     0.99806,     0.99806,     0.99806,     0.99806,     0.99806,     0.99806,     0.99806,     0.99806,\n",
       "            0.99806,     0.99806,     0.99806,     0.99806,     0.99806,     0.99806,     0.99806,     0.99806,     0.99806,     0.99806,     0.99806,     0.99806,     0.99806,     0.99806,     0.99806,     0.99806,     0.99806,     0.99806,     0.99806,     0.99656,     0.99656,     0.99656,     0.99656,\n",
       "            0.99656,     0.99656,     0.99656,     0.99656,     0.99656,     0.99656,     0.99656,     0.99656,     0.99656,     0.99656,     0.99656,     0.99656,     0.99656,     0.99656,     0.99656,     0.99656,     0.99656,     0.99656,     0.99656,     0.99656,     0.99656,     0.99656,     0.99656,\n",
       "            0.99656,     0.99656,     0.99656,     0.99656,     0.99656,     0.99656,     0.99656,     0.99656,     0.99656,     0.99656,     0.99656,     0.99656,     0.99656,     0.99656,     0.99656,     0.99656,     0.99656,     0.99656,     0.99656,     0.99656,     0.99656,     0.99656,     0.99656,\n",
       "            0.99656,     0.99656,     0.99656,     0.99656,     0.99656,     0.99497,     0.99497,     0.99497,     0.99497,     0.99497,     0.99497,     0.99497,     0.99497,     0.99497,     0.99497,     0.99497,     0.99373,     0.99373,     0.99373,     0.99373,     0.99373,     0.99373,     0.99373,\n",
       "            0.99373,     0.99373,     0.99373,     0.99373,     0.99373,     0.99373,     0.99373,     0.99373,     0.99373,     0.99373,     0.99373,     0.99373,     0.99373,     0.99373,     0.99373,     0.99373,     0.99373,     0.99373,     0.99373,     0.99373,     0.99373,     0.99373,     0.99373,\n",
       "            0.99373,     0.99373,     0.99373,     0.99373,     0.99221,     0.99221,     0.99221,     0.99128,     0.99128,     0.99128,     0.99128,     0.99128,     0.99128,     0.99128,     0.99128,     0.99128,     0.99128,     0.99128,     0.99128,     0.99128,     0.99128,     0.99128,     0.99128,\n",
       "            0.99128,     0.99128,     0.99128,     0.99128,     0.99128,     0.99128,     0.99128,     0.99128,     0.99128,     0.99128,     0.99128,     0.99128,     0.99128,     0.99128,     0.99128,     0.99128,     0.99128,     0.99128,     0.99128,     0.99128,     0.99128,     0.99128,     0.99003,\n",
       "            0.99003,     0.99003,     0.99003,     0.99003,     0.99003,     0.99003,     0.99003,     0.99003,     0.99003,     0.98907,     0.98907,     0.98907,     0.98907,     0.98907,     0.98907,     0.98907,     0.98907,     0.98907,     0.98907,     0.98907,     0.98907,     0.98907,     0.98907,\n",
       "            0.98907,     0.98907,     0.98907,     0.98907,     0.98907,     0.98907,     0.98907,     0.98907,     0.98907,     0.98907,     0.98907,      0.9879,      0.9879,      0.9879,      0.9879,      0.9879,      0.9879,      0.9879,      0.9879,      0.9879,     0.98663,     0.98663,     0.98663,\n",
       "            0.98535,     0.98464,     0.98464,     0.98464,     0.98464,     0.98464,     0.98464,     0.98464,     0.98464,     0.98464,     0.98464,     0.98464,     0.98464,     0.98464,     0.98464,     0.98464,     0.98464,     0.98464,     0.98464,     0.98464,     0.98464,     0.98464,     0.98464,\n",
       "            0.98464,     0.98464,     0.98464,     0.98418,     0.98418,     0.98418,     0.98418,     0.98418,     0.98418,     0.98418,     0.98418,     0.98418,     0.98418,     0.98418,     0.98418,     0.98418,     0.98418,     0.98418,     0.98418,     0.98418,     0.98418,     0.98418,     0.98418,\n",
       "            0.98418,     0.98418,     0.98418,     0.98418,     0.98418,     0.98418,     0.98418,     0.98418,     0.98418,     0.98418,     0.98418,     0.98418,     0.98418,     0.98333,     0.98333,     0.98333,     0.98333,     0.98333,     0.98333,     0.98333,     0.98333,     0.98333,     0.98333,\n",
       "            0.98333,     0.98333,     0.98333,     0.98333,     0.98333,     0.98115,     0.98115,     0.98115,     0.98115,     0.98115,     0.98002,     0.97892,     0.97892,      0.9778,     0.97669,     0.97564,     0.97564,     0.97489,     0.97489,     0.97489,     0.97489,     0.97489,     0.97489,\n",
       "            0.97489,     0.97489,     0.97489,     0.97489,     0.97489,     0.97404,     0.97404,     0.97404,     0.97404,     0.97404,     0.97404,     0.97404,     0.97404,     0.97315,     0.97315,     0.97315,     0.97315,     0.97315,      0.9714,      0.9714,      0.9714,      0.9714,      0.9714,\n",
       "             0.9714,      0.9714,      0.9714,      0.9714,      0.9714,      0.9714,     0.97059,     0.97059,     0.97059,     0.97059,     0.97059,     0.97059,     0.97059,     0.96934,     0.96934,     0.96934,     0.96934,     0.96934,     0.96934,     0.96934,     0.96934,     0.96934,     0.96934,\n",
       "            0.96934,     0.96934,     0.96934,     0.96934,     0.96934,     0.96934,     0.96934,     0.96934,     0.96934,     0.96934,     0.96934,     0.96934,     0.96835,     0.96639,     0.96552,     0.96552,     0.96552,     0.96552,     0.96388,     0.96388,     0.96388,     0.96388,     0.96388,\n",
       "            0.96388,     0.96388,     0.96388,     0.96315,     0.96315,     0.96315,     0.96315,     0.96315,     0.96315,     0.96138,     0.96138,     0.96138,     0.96138,     0.96084,     0.96084,     0.96084,     0.96084,     0.96084,     0.96084,     0.96084,     0.96084,     0.96084,     0.96084,\n",
       "            0.95924,     0.95924,     0.95924,     0.95924,     0.95924,     0.95924,     0.95833,     0.95755,     0.95755,     0.95755,     0.95669,     0.95669,     0.95499,     0.95499,     0.95499,     0.95499,     0.95415,     0.95326,     0.95238,     0.95164,     0.95164,     0.95164,     0.95082,\n",
       "            0.95082,     0.94904,     0.94818,     0.94757,     0.94757,     0.94757,     0.94757,     0.94757,     0.94492,     0.93885,     0.93885,     0.93738,     0.93738,     0.93738,     0.93738,     0.93663,     0.93663,     0.93494,      0.9342,     0.93259,     0.93259,     0.92701,     0.92701,\n",
       "            0.92701,     0.92701,     0.92701,     0.92545,     0.92545,     0.92391,     0.92391,     0.92245,     0.92245,     0.92093,     0.92093,     0.92018,     0.91385,     0.91385,      0.9115,     0.90917,     0.90845,      0.9063,      0.9063,     0.90559,     0.90497,     0.90497,     0.90286,\n",
       "            0.90286,     0.90138,     0.89914,     0.89384,      0.8924,     0.88579,     0.87993,      0.8795,      0.8795,      0.8795,     0.87677,     0.87407,     0.87407,     0.87345,     0.86782,     0.86743,     0.86743,     0.86471,     0.85784,     0.85588,     0.85474,     0.85292,     0.85292,\n",
       "            0.85235,     0.85044,     0.84853,     0.84343,     0.84157,     0.83906,     0.83593,      0.8354,     0.83372,     0.83256,     0.82949,     0.81784,     0.81784,     0.80475,     0.80192,     0.79502,     0.79227,     0.79127,     0.78361,     0.77944,     0.77944,     0.77904,     0.77809,\n",
       "            0.77347,     0.77254,     0.77177,     0.77177,     0.76762,      0.7567,     0.75187,     0.74847,     0.73913,     0.73342,     0.73263,     0.71826,     0.71659,     0.71419,     0.71419,     0.71392,     0.69818,     0.69794,     0.69552,     0.69441,     0.68482,     0.67429,     0.66509,\n",
       "            0.65942,     0.65925,     0.65925,     0.65925,     0.64605,      0.6393,     0.63555,     0.63184,     0.62819,     0.59341,     0.59053,     0.58952,     0.58548,     0.57157,      0.5561,     0.55415,     0.54175,     0.49717,     0.47234,     0.47023,     0.45788,     0.43534,     0.43457,\n",
       "            0.42672,     0.42007,     0.41282,     0.40677,     0.38863,     0.32408,     0.30812,     0.28709,     0.27573,     0.26813,     0.25788,     0.25488,      0.2411,     0.23325,     0.22784,      0.2226,     0.21513,     0.21058,     0.18695,      0.1688,     0.16803,     0.15613,     0.12306,\n",
       "            0.10626,    0.092922,    0.079758,    0.069788,    0.059818,    0.049848,    0.039879,    0.029909,    0.019939,   0.0099697,           0]]), 'Recall', 'Precision'], [array([          0,    0.001001,    0.002002,    0.003003,    0.004004,    0.005005,    0.006006,    0.007007,    0.008008,    0.009009,     0.01001,    0.011011,    0.012012,    0.013013,    0.014014,    0.015015,    0.016016,    0.017017,    0.018018,    0.019019,     0.02002,    0.021021,    0.022022,    0.023023,\n",
       "          0.024024,    0.025025,    0.026026,    0.027027,    0.028028,    0.029029,     0.03003,    0.031031,    0.032032,    0.033033,    0.034034,    0.035035,    0.036036,    0.037037,    0.038038,    0.039039,     0.04004,    0.041041,    0.042042,    0.043043,    0.044044,    0.045045,    0.046046,    0.047047,\n",
       "          0.048048,    0.049049,     0.05005,    0.051051,    0.052052,    0.053053,    0.054054,    0.055055,    0.056056,    0.057057,    0.058058,    0.059059,     0.06006,    0.061061,    0.062062,    0.063063,    0.064064,    0.065065,    0.066066,    0.067067,    0.068068,    0.069069,     0.07007,    0.071071,\n",
       "          0.072072,    0.073073,    0.074074,    0.075075,    0.076076,    0.077077,    0.078078,    0.079079,     0.08008,    0.081081,    0.082082,    0.083083,    0.084084,    0.085085,    0.086086,    0.087087,    0.088088,    0.089089,     0.09009,    0.091091,    0.092092,    0.093093,    0.094094,    0.095095,\n",
       "          0.096096,    0.097097,    0.098098,    0.099099,      0.1001,      0.1011,      0.1021,      0.1031,      0.1041,     0.10511,     0.10611,     0.10711,     0.10811,     0.10911,     0.11011,     0.11111,     0.11211,     0.11311,     0.11411,     0.11512,     0.11612,     0.11712,     0.11812,     0.11912,\n",
       "           0.12012,     0.12112,     0.12212,     0.12312,     0.12412,     0.12513,     0.12613,     0.12713,     0.12813,     0.12913,     0.13013,     0.13113,     0.13213,     0.13313,     0.13413,     0.13514,     0.13614,     0.13714,     0.13814,     0.13914,     0.14014,     0.14114,     0.14214,     0.14314,\n",
       "           0.14414,     0.14515,     0.14615,     0.14715,     0.14815,     0.14915,     0.15015,     0.15115,     0.15215,     0.15315,     0.15415,     0.15516,     0.15616,     0.15716,     0.15816,     0.15916,     0.16016,     0.16116,     0.16216,     0.16316,     0.16416,     0.16517,     0.16617,     0.16717,\n",
       "           0.16817,     0.16917,     0.17017,     0.17117,     0.17217,     0.17317,     0.17417,     0.17518,     0.17618,     0.17718,     0.17818,     0.17918,     0.18018,     0.18118,     0.18218,     0.18318,     0.18418,     0.18519,     0.18619,     0.18719,     0.18819,     0.18919,     0.19019,     0.19119,\n",
       "           0.19219,     0.19319,     0.19419,      0.1952,      0.1962,      0.1972,      0.1982,      0.1992,      0.2002,      0.2012,      0.2022,      0.2032,      0.2042,     0.20521,     0.20621,     0.20721,     0.20821,     0.20921,     0.21021,     0.21121,     0.21221,     0.21321,     0.21421,     0.21522,\n",
       "           0.21622,     0.21722,     0.21822,     0.21922,     0.22022,     0.22122,     0.22222,     0.22322,     0.22422,     0.22523,     0.22623,     0.22723,     0.22823,     0.22923,     0.23023,     0.23123,     0.23223,     0.23323,     0.23423,     0.23524,     0.23624,     0.23724,     0.23824,     0.23924,\n",
       "           0.24024,     0.24124,     0.24224,     0.24324,     0.24424,     0.24525,     0.24625,     0.24725,     0.24825,     0.24925,     0.25025,     0.25125,     0.25225,     0.25325,     0.25425,     0.25526,     0.25626,     0.25726,     0.25826,     0.25926,     0.26026,     0.26126,     0.26226,     0.26326,\n",
       "           0.26426,     0.26527,     0.26627,     0.26727,     0.26827,     0.26927,     0.27027,     0.27127,     0.27227,     0.27327,     0.27427,     0.27528,     0.27628,     0.27728,     0.27828,     0.27928,     0.28028,     0.28128,     0.28228,     0.28328,     0.28428,     0.28529,     0.28629,     0.28729,\n",
       "           0.28829,     0.28929,     0.29029,     0.29129,     0.29229,     0.29329,     0.29429,      0.2953,      0.2963,      0.2973,      0.2983,      0.2993,      0.3003,      0.3013,      0.3023,      0.3033,      0.3043,     0.30531,     0.30631,     0.30731,     0.30831,     0.30931,     0.31031,     0.31131,\n",
       "           0.31231,     0.31331,     0.31431,     0.31532,     0.31632,     0.31732,     0.31832,     0.31932,     0.32032,     0.32132,     0.32232,     0.32332,     0.32432,     0.32533,     0.32633,     0.32733,     0.32833,     0.32933,     0.33033,     0.33133,     0.33233,     0.33333,     0.33433,     0.33534,\n",
       "           0.33634,     0.33734,     0.33834,     0.33934,     0.34034,     0.34134,     0.34234,     0.34334,     0.34434,     0.34535,     0.34635,     0.34735,     0.34835,     0.34935,     0.35035,     0.35135,     0.35235,     0.35335,     0.35435,     0.35536,     0.35636,     0.35736,     0.35836,     0.35936,\n",
       "           0.36036,     0.36136,     0.36236,     0.36336,     0.36436,     0.36537,     0.36637,     0.36737,     0.36837,     0.36937,     0.37037,     0.37137,     0.37237,     0.37337,     0.37437,     0.37538,     0.37638,     0.37738,     0.37838,     0.37938,     0.38038,     0.38138,     0.38238,     0.38338,\n",
       "           0.38438,     0.38539,     0.38639,     0.38739,     0.38839,     0.38939,     0.39039,     0.39139,     0.39239,     0.39339,     0.39439,      0.3954,      0.3964,      0.3974,      0.3984,      0.3994,      0.4004,      0.4014,      0.4024,      0.4034,      0.4044,     0.40541,     0.40641,     0.40741,\n",
       "           0.40841,     0.40941,     0.41041,     0.41141,     0.41241,     0.41341,     0.41441,     0.41542,     0.41642,     0.41742,     0.41842,     0.41942,     0.42042,     0.42142,     0.42242,     0.42342,     0.42442,     0.42543,     0.42643,     0.42743,     0.42843,     0.42943,     0.43043,     0.43143,\n",
       "           0.43243,     0.43343,     0.43443,     0.43544,     0.43644,     0.43744,     0.43844,     0.43944,     0.44044,     0.44144,     0.44244,     0.44344,     0.44444,     0.44545,     0.44645,     0.44745,     0.44845,     0.44945,     0.45045,     0.45145,     0.45245,     0.45345,     0.45445,     0.45546,\n",
       "           0.45646,     0.45746,     0.45846,     0.45946,     0.46046,     0.46146,     0.46246,     0.46346,     0.46446,     0.46547,     0.46647,     0.46747,     0.46847,     0.46947,     0.47047,     0.47147,     0.47247,     0.47347,     0.47447,     0.47548,     0.47648,     0.47748,     0.47848,     0.47948,\n",
       "           0.48048,     0.48148,     0.48248,     0.48348,     0.48448,     0.48549,     0.48649,     0.48749,     0.48849,     0.48949,     0.49049,     0.49149,     0.49249,     0.49349,     0.49449,      0.4955,      0.4965,      0.4975,      0.4985,      0.4995,      0.5005,      0.5015,      0.5025,      0.5035,\n",
       "            0.5045,     0.50551,     0.50651,     0.50751,     0.50851,     0.50951,     0.51051,     0.51151,     0.51251,     0.51351,     0.51451,     0.51552,     0.51652,     0.51752,     0.51852,     0.51952,     0.52052,     0.52152,     0.52252,     0.52352,     0.52452,     0.52553,     0.52653,     0.52753,\n",
       "           0.52853,     0.52953,     0.53053,     0.53153,     0.53253,     0.53353,     0.53453,     0.53554,     0.53654,     0.53754,     0.53854,     0.53954,     0.54054,     0.54154,     0.54254,     0.54354,     0.54454,     0.54555,     0.54655,     0.54755,     0.54855,     0.54955,     0.55055,     0.55155,\n",
       "           0.55255,     0.55355,     0.55455,     0.55556,     0.55656,     0.55756,     0.55856,     0.55956,     0.56056,     0.56156,     0.56256,     0.56356,     0.56456,     0.56557,     0.56657,     0.56757,     0.56857,     0.56957,     0.57057,     0.57157,     0.57257,     0.57357,     0.57457,     0.57558,\n",
       "           0.57658,     0.57758,     0.57858,     0.57958,     0.58058,     0.58158,     0.58258,     0.58358,     0.58458,     0.58559,     0.58659,     0.58759,     0.58859,     0.58959,     0.59059,     0.59159,     0.59259,     0.59359,     0.59459,      0.5956,      0.5966,      0.5976,      0.5986,      0.5996,\n",
       "            0.6006,      0.6016,      0.6026,      0.6036,      0.6046,     0.60561,     0.60661,     0.60761,     0.60861,     0.60961,     0.61061,     0.61161,     0.61261,     0.61361,     0.61461,     0.61562,     0.61662,     0.61762,     0.61862,     0.61962,     0.62062,     0.62162,     0.62262,     0.62362,\n",
       "           0.62462,     0.62563,     0.62663,     0.62763,     0.62863,     0.62963,     0.63063,     0.63163,     0.63263,     0.63363,     0.63463,     0.63564,     0.63664,     0.63764,     0.63864,     0.63964,     0.64064,     0.64164,     0.64264,     0.64364,     0.64464,     0.64565,     0.64665,     0.64765,\n",
       "           0.64865,     0.64965,     0.65065,     0.65165,     0.65265,     0.65365,     0.65465,     0.65566,     0.65666,     0.65766,     0.65866,     0.65966,     0.66066,     0.66166,     0.66266,     0.66366,     0.66466,     0.66567,     0.66667,     0.66767,     0.66867,     0.66967,     0.67067,     0.67167,\n",
       "           0.67267,     0.67367,     0.67467,     0.67568,     0.67668,     0.67768,     0.67868,     0.67968,     0.68068,     0.68168,     0.68268,     0.68368,     0.68468,     0.68569,     0.68669,     0.68769,     0.68869,     0.68969,     0.69069,     0.69169,     0.69269,     0.69369,     0.69469,      0.6957,\n",
       "            0.6967,      0.6977,      0.6987,      0.6997,      0.7007,      0.7017,      0.7027,      0.7037,      0.7047,     0.70571,     0.70671,     0.70771,     0.70871,     0.70971,     0.71071,     0.71171,     0.71271,     0.71371,     0.71471,     0.71572,     0.71672,     0.71772,     0.71872,     0.71972,\n",
       "           0.72072,     0.72172,     0.72272,     0.72372,     0.72472,     0.72573,     0.72673,     0.72773,     0.72873,     0.72973,     0.73073,     0.73173,     0.73273,     0.73373,     0.73473,     0.73574,     0.73674,     0.73774,     0.73874,     0.73974,     0.74074,     0.74174,     0.74274,     0.74374,\n",
       "           0.74474,     0.74575,     0.74675,     0.74775,     0.74875,     0.74975,     0.75075,     0.75175,     0.75275,     0.75375,     0.75475,     0.75576,     0.75676,     0.75776,     0.75876,     0.75976,     0.76076,     0.76176,     0.76276,     0.76376,     0.76476,     0.76577,     0.76677,     0.76777,\n",
       "           0.76877,     0.76977,     0.77077,     0.77177,     0.77277,     0.77377,     0.77477,     0.77578,     0.77678,     0.77778,     0.77878,     0.77978,     0.78078,     0.78178,     0.78278,     0.78378,     0.78478,     0.78579,     0.78679,     0.78779,     0.78879,     0.78979,     0.79079,     0.79179,\n",
       "           0.79279,     0.79379,     0.79479,      0.7958,      0.7968,      0.7978,      0.7988,      0.7998,      0.8008,      0.8018,      0.8028,      0.8038,      0.8048,     0.80581,     0.80681,     0.80781,     0.80881,     0.80981,     0.81081,     0.81181,     0.81281,     0.81381,     0.81481,     0.81582,\n",
       "           0.81682,     0.81782,     0.81882,     0.81982,     0.82082,     0.82182,     0.82282,     0.82382,     0.82482,     0.82583,     0.82683,     0.82783,     0.82883,     0.82983,     0.83083,     0.83183,     0.83283,     0.83383,     0.83483,     0.83584,     0.83684,     0.83784,     0.83884,     0.83984,\n",
       "           0.84084,     0.84184,     0.84284,     0.84384,     0.84484,     0.84585,     0.84685,     0.84785,     0.84885,     0.84985,     0.85085,     0.85185,     0.85285,     0.85385,     0.85485,     0.85586,     0.85686,     0.85786,     0.85886,     0.85986,     0.86086,     0.86186,     0.86286,     0.86386,\n",
       "           0.86486,     0.86587,     0.86687,     0.86787,     0.86887,     0.86987,     0.87087,     0.87187,     0.87287,     0.87387,     0.87487,     0.87588,     0.87688,     0.87788,     0.87888,     0.87988,     0.88088,     0.88188,     0.88288,     0.88388,     0.88488,     0.88589,     0.88689,     0.88789,\n",
       "           0.88889,     0.88989,     0.89089,     0.89189,     0.89289,     0.89389,     0.89489,      0.8959,      0.8969,      0.8979,      0.8989,      0.8999,      0.9009,      0.9019,      0.9029,      0.9039,      0.9049,     0.90591,     0.90691,     0.90791,     0.90891,     0.90991,     0.91091,     0.91191,\n",
       "           0.91291,     0.91391,     0.91491,     0.91592,     0.91692,     0.91792,     0.91892,     0.91992,     0.92092,     0.92192,     0.92292,     0.92392,     0.92492,     0.92593,     0.92693,     0.92793,     0.92893,     0.92993,     0.93093,     0.93193,     0.93293,     0.93393,     0.93493,     0.93594,\n",
       "           0.93694,     0.93794,     0.93894,     0.93994,     0.94094,     0.94194,     0.94294,     0.94394,     0.94494,     0.94595,     0.94695,     0.94795,     0.94895,     0.94995,     0.95095,     0.95195,     0.95295,     0.95395,     0.95495,     0.95596,     0.95696,     0.95796,     0.95896,     0.95996,\n",
       "           0.96096,     0.96196,     0.96296,     0.96396,     0.96496,     0.96597,     0.96697,     0.96797,     0.96897,     0.96997,     0.97097,     0.97197,     0.97297,     0.97397,     0.97497,     0.97598,     0.97698,     0.97798,     0.97898,     0.97998,     0.98098,     0.98198,     0.98298,     0.98398,\n",
       "           0.98498,     0.98599,     0.98699,     0.98799,     0.98899,     0.98999,     0.99099,     0.99199,     0.99299,     0.99399,     0.99499,       0.996,       0.997,       0.998,       0.999,           1]), array([[    0.15448,     0.15448,     0.23121,     0.28641,     0.32805,     0.36493,     0.39525,     0.42073,     0.44471,     0.46585,     0.48561,     0.50256,     0.51586,     0.52786,     0.54214,     0.55515,     0.56609,     0.57875,     0.58792,      0.5966,     0.60464,     0.61326,     0.62194,\n",
       "             0.6298,     0.63828,     0.64479,     0.65025,     0.65638,     0.66302,     0.66703,     0.67164,     0.67616,     0.68074,     0.68675,     0.68985,     0.69256,      0.6954,     0.69996,     0.70287,      0.7063,     0.71005,     0.71513,     0.71742,     0.72194,     0.72528,     0.72731,\n",
       "            0.72927,     0.73341,     0.73652,     0.73908,     0.74259,     0.74461,     0.74668,     0.74904,     0.75324,     0.75429,       0.756,     0.75828,     0.75962,     0.76148,     0.76381,     0.76615,      0.7683,     0.76814,     0.76923,     0.77137,     0.77331,     0.77512,     0.77658,\n",
       "            0.77657,     0.77728,     0.77891,     0.78023,     0.78284,      0.7836,     0.78646,     0.79017,     0.79262,     0.79574,     0.79692,     0.79872,     0.80007,     0.80036,     0.80139,     0.80297,     0.80521,     0.80645,     0.80768,     0.80851,     0.80923,     0.81004,     0.81054,\n",
       "            0.81132,     0.81176,      0.8122,     0.81366,     0.81551,     0.81595,      0.8168,     0.81676,      0.8174,     0.81866,       0.819,     0.81964,     0.82015,     0.82024,     0.82322,     0.82318,     0.82353,     0.82413,     0.82466,     0.82491,     0.82561,     0.82641,      0.8266,\n",
       "            0.82754,     0.82841,      0.8296,      0.8305,     0.82978,      0.8301,     0.83073,     0.83188,     0.83259,     0.83247,     0.83365,     0.83441,     0.83584,     0.83717,      0.8376,     0.83895,      0.8394,     0.83991,     0.84058,     0.84082,     0.84041,     0.84067,      0.8406,\n",
       "            0.84111,     0.84201,     0.84235,     0.84283,     0.84298,     0.84282,     0.84331,     0.84398,     0.84494,     0.84469,     0.84588,     0.84668,     0.84735,     0.84757,     0.84773,     0.84806,     0.84869,     0.84851,     0.84912,      0.8496,     0.85007,     0.85041,     0.85062,\n",
       "             0.8512,     0.85203,     0.85219,     0.85278,     0.85336,     0.85323,     0.85371,     0.85412,     0.85522,     0.85559,     0.85621,     0.85638,     0.85694,     0.85763,     0.85819,     0.85977,     0.86025,     0.86101,      0.8613,     0.86127,     0.86146,     0.86214,     0.86285,\n",
       "             0.8633,     0.86362,      0.8639,     0.86453,      0.8651,     0.86525,     0.86541,      0.8656,      0.8659,     0.86621,      0.8664,     0.86703,     0.86703,     0.86795,     0.86817,     0.86857,     0.86836,     0.86877,     0.86861,     0.86843,     0.86825,     0.86908,     0.86959,\n",
       "            0.87005,     0.87063,     0.87086,     0.87063,     0.87107,      0.8714,     0.87121,     0.87165,     0.87162,      0.8732,     0.87333,     0.87374,     0.87413,     0.87446,     0.87452,     0.87446,     0.87393,     0.87408,     0.87433,     0.87448,     0.87453,     0.87427,     0.87449,\n",
       "            0.87467,     0.87485,     0.87558,     0.87581,     0.87598,     0.87656,     0.87697,     0.87724,     0.87748,     0.87788,     0.87818,     0.87815,     0.87787,     0.87837,     0.87887,     0.87926,     0.87894,     0.87822,       0.878,     0.87789,     0.87817,     0.87842,     0.87899,\n",
       "            0.87916,     0.87944,     0.88031,     0.88064,     0.88037,     0.88062,     0.87981,     0.88032,     0.88116,     0.88089,     0.88076,     0.88093,     0.88103,     0.88071,     0.88094,     0.88137,     0.88148,      0.8816,     0.88169,     0.88105,     0.88052,     0.88029,     0.88067,\n",
       "            0.88079,     0.88091,     0.88106,     0.88123,     0.88136,     0.88146,     0.88155,     0.88165,     0.88181,     0.88203,     0.88228,     0.88249,     0.88264,      0.8828,      0.8829,      0.8829,     0.88267,     0.88278,      0.8829,     0.88306,     0.88327,     0.88369,     0.88445,\n",
       "            0.88509,     0.88535,     0.88524,     0.88545,     0.88544,     0.88582,     0.88596,      0.8861,     0.88687,     0.88764,     0.88798,     0.88813,     0.88829,      0.8885,     0.88865,     0.88881,     0.88827,     0.88813,     0.88827,     0.88841,     0.88834,     0.88841,     0.88848,\n",
       "            0.88856,     0.88863,     0.88865,      0.8882,       0.888,     0.88781,     0.88802,     0.88773,     0.88784,     0.88795,     0.88797,     0.88778,     0.88758,     0.88665,     0.88694,     0.88756,     0.88761,     0.88745,      0.8874,     0.88744,     0.88773,     0.88794,     0.88809,\n",
       "            0.88823,      0.8882,     0.88792,     0.88791,     0.88801,     0.88812,      0.8886,     0.88871,     0.88881,     0.88892,     0.88874,     0.88819,     0.88829,     0.88877,     0.88917,     0.88995,     0.89009,     0.89024,     0.89063,     0.89035,     0.89027,     0.89032,     0.89038,\n",
       "            0.89043,     0.89048,     0.89054,     0.89059,     0.89054,     0.89026,     0.89038,     0.89038,     0.89013,     0.88966,     0.88981,     0.88995,     0.89006,     0.88939,     0.88946,     0.88953,      0.8896,     0.88967,     0.88974,     0.88943,     0.88932,     0.88882,     0.88925,\n",
       "            0.88897,     0.88927,     0.88914,       0.889,     0.88887,     0.88869,     0.88844,     0.88771,     0.88746,     0.88651,     0.88666,     0.88784,     0.88808,     0.88828,     0.88865,     0.88883,     0.88855,      0.8883,     0.88815,     0.88835,     0.88875,     0.88797,     0.88817,\n",
       "            0.88789,     0.88812,     0.88843,     0.88818,     0.88799,     0.88782,     0.88765,     0.88792,     0.88778,     0.88747,     0.88696,     0.88646,     0.88595,       0.886,     0.88572,     0.88543,     0.88575,     0.88585,     0.88595,     0.88606,     0.88626,     0.88641,     0.88612,\n",
       "            0.88615,     0.88636,     0.88691,     0.88704,     0.88718,      0.8872,     0.88727,     0.88747,     0.88785,     0.88808,     0.88828,     0.88813,     0.88796,     0.88779,     0.88679,     0.88654,     0.88576,     0.88567,     0.88538,     0.88537,     0.88558,     0.88579,     0.88527,\n",
       "            0.88501,     0.88511,     0.88465,     0.88439,     0.88421,     0.88408,     0.88395,     0.88382,     0.88356,     0.88331,     0.88324,     0.88332,      0.8834,     0.88348,     0.88356,     0.88313,     0.88343,     0.88249,     0.88284,     0.88261,     0.88235,     0.88231,     0.88226,\n",
       "            0.88221,     0.88216,     0.88212,     0.88207,     0.88202,     0.88198,     0.88193,     0.88188,     0.88086,     0.88094,     0.88102,      0.8811,     0.88118,     0.88132,     0.88152,     0.88101,     0.88075,     0.88082,     0.88074,     0.88022,     0.87985,     0.87959,     0.87904,\n",
       "            0.87915,     0.87925,     0.87935,       0.879,     0.87902,     0.87923,     0.87834,     0.87731,     0.87627,     0.87563,     0.87594,     0.87549,     0.87533,      0.8752,     0.87507,     0.87442,     0.87415,     0.87335,     0.87282,     0.87177,     0.87124,     0.87036,     0.87057,\n",
       "            0.87012,     0.86995,     0.86977,     0.86896,     0.86843,     0.86823,     0.86864,     0.86832,     0.86821,      0.8681,       0.868,     0.86789,     0.86756,     0.86664,     0.86637,      0.8661,     0.86584,     0.86528,     0.86538,     0.86549,     0.86559,     0.86503,     0.86496,\n",
       "            0.86488,      0.8648,     0.86472,     0.86465,     0.86457,     0.86318,     0.86274,     0.86167,     0.86133,     0.86119,     0.86106,     0.86092,     0.86079,     0.86087,     0.86095,     0.86103,     0.86111,     0.86107,     0.86098,     0.86089,      0.8608,     0.86071,     0.86062,\n",
       "            0.86037,      0.8601,     0.85995,     0.85981,     0.85968,     0.85901,     0.85918,     0.85934,     0.85925,     0.85898,      0.8586,     0.85901,     0.85878,      0.8589,     0.85882,     0.85854,     0.85806,     0.85773,     0.85745,     0.85731,     0.85719,     0.85706,     0.85694,\n",
       "            0.85555,      0.8552,     0.85506,     0.85492,     0.85478,     0.85441,     0.85385,      0.8533,     0.85221,     0.85124,     0.84974,     0.84925,     0.84897,     0.84861,     0.84814,     0.84786,      0.8476,     0.84738,     0.84716,     0.84697,     0.84678,     0.84659,     0.84496,\n",
       "            0.84537,     0.84572,     0.84515,     0.84351,     0.84314,     0.84236,     0.84222,     0.84208,     0.84194,     0.84169,     0.84141,     0.84167,     0.84138,     0.84003,     0.83984,     0.83965,      0.8385,     0.83734,     0.83593,     0.83454,     0.83495,     0.83474,     0.83411,\n",
       "            0.83275,     0.83235,     0.83206,     0.83158,     0.83169,     0.83164,     0.83141,     0.83108,     0.82994,     0.82886,     0.82847,     0.82771,     0.82754,     0.82738,     0.82702,     0.82684,      0.8264,     0.82611,     0.82426,     0.82406,     0.82387,     0.82305,     0.82237,\n",
       "            0.81983,     0.82003,     0.81966,     0.81847,     0.81824,     0.81845,     0.81819,     0.81835,     0.81815,     0.81785,     0.81721,     0.81662,     0.81619,     0.81595,     0.81572,     0.81559,     0.81545,     0.81532,     0.81519,     0.81475,     0.81401,     0.81422,     0.81391,\n",
       "            0.81316,     0.81221,     0.81191,     0.81058,     0.81028,     0.80963,     0.80837,     0.80658,     0.80557,     0.80457,     0.80418,     0.80455,     0.80157,     0.80116,     0.80015,     0.79971,     0.79793,     0.79752,     0.79697,     0.79635,     0.79543,     0.79431,     0.79406,\n",
       "            0.79382,     0.79222,      0.7918,     0.79139,     0.79046,     0.79015,     0.78973,      0.7886,     0.78747,       0.787,     0.78549,     0.78364,     0.78208,     0.78148,     0.78106,     0.78064,     0.78038,     0.78065,     0.78038,     0.77865,     0.77593,     0.77484,     0.77452,\n",
       "            0.77411,     0.77331,      0.7712,     0.77104,     0.77088,     0.76878,     0.76785,     0.76593,     0.76435,     0.76392,     0.76334,     0.76276,     0.76178,     0.76032,      0.7601,     0.75988,     0.75931,     0.75639,     0.75549,     0.75475,     0.75349,     0.75375,     0.75217,\n",
       "            0.75118,     0.74986,     0.74941,     0.74852,     0.74778,     0.74325,      0.7428,     0.74235,     0.74186,     0.74103,     0.73917,     0.73894,     0.73872,     0.73631,     0.73511,     0.73347,      0.7322,     0.73174,     0.72909,     0.72768,     0.72669,     0.72599,     0.72496,\n",
       "            0.72251,     0.72152,     0.71971,     0.71806,      0.7162,     0.71526,     0.71129,     0.70898,     0.70633,     0.70545,     0.70205,     0.70049,     0.69773,      0.6962,     0.69576,     0.69382,      0.6937,     0.69009,     0.68682,     0.68514,     0.68462,     0.68308,      0.6822,\n",
       "             0.6802,     0.67799,     0.67655,     0.67605,     0.67537,     0.67203,     0.66979,     0.66805,     0.66578,     0.66415,     0.66158,     0.65929,     0.65808,     0.65619,     0.65424,     0.64888,     0.64836,     0.64648,     0.64336,     0.64071,     0.63785,     0.63547,     0.63167,\n",
       "            0.63069,     0.62749,     0.62269,     0.61946,     0.61687,     0.61604,     0.61291,     0.61044,     0.60342,     0.60195,     0.59922,     0.59422,     0.59001,     0.58157,     0.57728,     0.57135,     0.56864,     0.56441,      0.5625,     0.55985,     0.55719,     0.55276,     0.54677,\n",
       "            0.54471,     0.54272,     0.53836,       0.532,     0.52924,     0.52555,     0.52092,     0.51534,     0.50878,     0.49363,      0.4888,     0.47715,     0.47123,     0.46921,     0.46522,     0.45738,     0.45616,     0.45007,     0.44088,     0.43674,     0.42531,     0.41582,     0.40622,\n",
       "            0.39866,     0.38885,     0.37892,     0.37221,     0.36545,     0.35806,      0.3512,     0.34256,     0.33325,     0.32842,     0.32321,     0.31725,     0.31065,     0.30557,     0.29425,     0.29299,     0.28249,     0.27337,     0.27057,     0.25212,     0.24258,     0.23456,     0.22066,\n",
       "            0.21335,     0.20517,     0.19507,     0.17632,     0.16859,     0.15362,     0.14625,     0.13326,     0.13007,     0.12804,      0.1151,     0.10861,     0.10292,    0.094135,    0.089046,      0.0845,    0.081182,     0.07489,    0.070125,    0.063761,    0.052582,    0.049264,    0.044414,\n",
       "            0.03306,    0.031948,    0.029202,    0.027872,    0.025535,    0.022565,    0.019412,    0.016025,    0.012626,   0.0064984,   0.0056415,   0.0040346,   0.0019773,           0,           0,           0,           0,           0,           0,           0,           0,           0,           0,\n",
       "                  0,           0,           0,           0,           0,           0,           0,           0,           0,           0,           0,           0,           0,           0,           0,           0,           0,           0,           0,           0,           0,           0,           0,\n",
       "                  0,           0,           0,           0,           0,           0,           0,           0,           0,           0,           0,           0,           0,           0,           0,           0,           0,           0,           0,           0,           0,           0,           0,\n",
       "                  0,           0,           0,           0,           0,           0,           0,           0,           0,           0,           0]]), 'Confidence', 'F1'], [array([          0,    0.001001,    0.002002,    0.003003,    0.004004,    0.005005,    0.006006,    0.007007,    0.008008,    0.009009,     0.01001,    0.011011,    0.012012,    0.013013,    0.014014,    0.015015,    0.016016,    0.017017,    0.018018,    0.019019,     0.02002,    0.021021,    0.022022,    0.023023,\n",
       "          0.024024,    0.025025,    0.026026,    0.027027,    0.028028,    0.029029,     0.03003,    0.031031,    0.032032,    0.033033,    0.034034,    0.035035,    0.036036,    0.037037,    0.038038,    0.039039,     0.04004,    0.041041,    0.042042,    0.043043,    0.044044,    0.045045,    0.046046,    0.047047,\n",
       "          0.048048,    0.049049,     0.05005,    0.051051,    0.052052,    0.053053,    0.054054,    0.055055,    0.056056,    0.057057,    0.058058,    0.059059,     0.06006,    0.061061,    0.062062,    0.063063,    0.064064,    0.065065,    0.066066,    0.067067,    0.068068,    0.069069,     0.07007,    0.071071,\n",
       "          0.072072,    0.073073,    0.074074,    0.075075,    0.076076,    0.077077,    0.078078,    0.079079,     0.08008,    0.081081,    0.082082,    0.083083,    0.084084,    0.085085,    0.086086,    0.087087,    0.088088,    0.089089,     0.09009,    0.091091,    0.092092,    0.093093,    0.094094,    0.095095,\n",
       "          0.096096,    0.097097,    0.098098,    0.099099,      0.1001,      0.1011,      0.1021,      0.1031,      0.1041,     0.10511,     0.10611,     0.10711,     0.10811,     0.10911,     0.11011,     0.11111,     0.11211,     0.11311,     0.11411,     0.11512,     0.11612,     0.11712,     0.11812,     0.11912,\n",
       "           0.12012,     0.12112,     0.12212,     0.12312,     0.12412,     0.12513,     0.12613,     0.12713,     0.12813,     0.12913,     0.13013,     0.13113,     0.13213,     0.13313,     0.13413,     0.13514,     0.13614,     0.13714,     0.13814,     0.13914,     0.14014,     0.14114,     0.14214,     0.14314,\n",
       "           0.14414,     0.14515,     0.14615,     0.14715,     0.14815,     0.14915,     0.15015,     0.15115,     0.15215,     0.15315,     0.15415,     0.15516,     0.15616,     0.15716,     0.15816,     0.15916,     0.16016,     0.16116,     0.16216,     0.16316,     0.16416,     0.16517,     0.16617,     0.16717,\n",
       "           0.16817,     0.16917,     0.17017,     0.17117,     0.17217,     0.17317,     0.17417,     0.17518,     0.17618,     0.17718,     0.17818,     0.17918,     0.18018,     0.18118,     0.18218,     0.18318,     0.18418,     0.18519,     0.18619,     0.18719,     0.18819,     0.18919,     0.19019,     0.19119,\n",
       "           0.19219,     0.19319,     0.19419,      0.1952,      0.1962,      0.1972,      0.1982,      0.1992,      0.2002,      0.2012,      0.2022,      0.2032,      0.2042,     0.20521,     0.20621,     0.20721,     0.20821,     0.20921,     0.21021,     0.21121,     0.21221,     0.21321,     0.21421,     0.21522,\n",
       "           0.21622,     0.21722,     0.21822,     0.21922,     0.22022,     0.22122,     0.22222,     0.22322,     0.22422,     0.22523,     0.22623,     0.22723,     0.22823,     0.22923,     0.23023,     0.23123,     0.23223,     0.23323,     0.23423,     0.23524,     0.23624,     0.23724,     0.23824,     0.23924,\n",
       "           0.24024,     0.24124,     0.24224,     0.24324,     0.24424,     0.24525,     0.24625,     0.24725,     0.24825,     0.24925,     0.25025,     0.25125,     0.25225,     0.25325,     0.25425,     0.25526,     0.25626,     0.25726,     0.25826,     0.25926,     0.26026,     0.26126,     0.26226,     0.26326,\n",
       "           0.26426,     0.26527,     0.26627,     0.26727,     0.26827,     0.26927,     0.27027,     0.27127,     0.27227,     0.27327,     0.27427,     0.27528,     0.27628,     0.27728,     0.27828,     0.27928,     0.28028,     0.28128,     0.28228,     0.28328,     0.28428,     0.28529,     0.28629,     0.28729,\n",
       "           0.28829,     0.28929,     0.29029,     0.29129,     0.29229,     0.29329,     0.29429,      0.2953,      0.2963,      0.2973,      0.2983,      0.2993,      0.3003,      0.3013,      0.3023,      0.3033,      0.3043,     0.30531,     0.30631,     0.30731,     0.30831,     0.30931,     0.31031,     0.31131,\n",
       "           0.31231,     0.31331,     0.31431,     0.31532,     0.31632,     0.31732,     0.31832,     0.31932,     0.32032,     0.32132,     0.32232,     0.32332,     0.32432,     0.32533,     0.32633,     0.32733,     0.32833,     0.32933,     0.33033,     0.33133,     0.33233,     0.33333,     0.33433,     0.33534,\n",
       "           0.33634,     0.33734,     0.33834,     0.33934,     0.34034,     0.34134,     0.34234,     0.34334,     0.34434,     0.34535,     0.34635,     0.34735,     0.34835,     0.34935,     0.35035,     0.35135,     0.35235,     0.35335,     0.35435,     0.35536,     0.35636,     0.35736,     0.35836,     0.35936,\n",
       "           0.36036,     0.36136,     0.36236,     0.36336,     0.36436,     0.36537,     0.36637,     0.36737,     0.36837,     0.36937,     0.37037,     0.37137,     0.37237,     0.37337,     0.37437,     0.37538,     0.37638,     0.37738,     0.37838,     0.37938,     0.38038,     0.38138,     0.38238,     0.38338,\n",
       "           0.38438,     0.38539,     0.38639,     0.38739,     0.38839,     0.38939,     0.39039,     0.39139,     0.39239,     0.39339,     0.39439,      0.3954,      0.3964,      0.3974,      0.3984,      0.3994,      0.4004,      0.4014,      0.4024,      0.4034,      0.4044,     0.40541,     0.40641,     0.40741,\n",
       "           0.40841,     0.40941,     0.41041,     0.41141,     0.41241,     0.41341,     0.41441,     0.41542,     0.41642,     0.41742,     0.41842,     0.41942,     0.42042,     0.42142,     0.42242,     0.42342,     0.42442,     0.42543,     0.42643,     0.42743,     0.42843,     0.42943,     0.43043,     0.43143,\n",
       "           0.43243,     0.43343,     0.43443,     0.43544,     0.43644,     0.43744,     0.43844,     0.43944,     0.44044,     0.44144,     0.44244,     0.44344,     0.44444,     0.44545,     0.44645,     0.44745,     0.44845,     0.44945,     0.45045,     0.45145,     0.45245,     0.45345,     0.45445,     0.45546,\n",
       "           0.45646,     0.45746,     0.45846,     0.45946,     0.46046,     0.46146,     0.46246,     0.46346,     0.46446,     0.46547,     0.46647,     0.46747,     0.46847,     0.46947,     0.47047,     0.47147,     0.47247,     0.47347,     0.47447,     0.47548,     0.47648,     0.47748,     0.47848,     0.47948,\n",
       "           0.48048,     0.48148,     0.48248,     0.48348,     0.48448,     0.48549,     0.48649,     0.48749,     0.48849,     0.48949,     0.49049,     0.49149,     0.49249,     0.49349,     0.49449,      0.4955,      0.4965,      0.4975,      0.4985,      0.4995,      0.5005,      0.5015,      0.5025,      0.5035,\n",
       "            0.5045,     0.50551,     0.50651,     0.50751,     0.50851,     0.50951,     0.51051,     0.51151,     0.51251,     0.51351,     0.51451,     0.51552,     0.51652,     0.51752,     0.51852,     0.51952,     0.52052,     0.52152,     0.52252,     0.52352,     0.52452,     0.52553,     0.52653,     0.52753,\n",
       "           0.52853,     0.52953,     0.53053,     0.53153,     0.53253,     0.53353,     0.53453,     0.53554,     0.53654,     0.53754,     0.53854,     0.53954,     0.54054,     0.54154,     0.54254,     0.54354,     0.54454,     0.54555,     0.54655,     0.54755,     0.54855,     0.54955,     0.55055,     0.55155,\n",
       "           0.55255,     0.55355,     0.55455,     0.55556,     0.55656,     0.55756,     0.55856,     0.55956,     0.56056,     0.56156,     0.56256,     0.56356,     0.56456,     0.56557,     0.56657,     0.56757,     0.56857,     0.56957,     0.57057,     0.57157,     0.57257,     0.57357,     0.57457,     0.57558,\n",
       "           0.57658,     0.57758,     0.57858,     0.57958,     0.58058,     0.58158,     0.58258,     0.58358,     0.58458,     0.58559,     0.58659,     0.58759,     0.58859,     0.58959,     0.59059,     0.59159,     0.59259,     0.59359,     0.59459,      0.5956,      0.5966,      0.5976,      0.5986,      0.5996,\n",
       "            0.6006,      0.6016,      0.6026,      0.6036,      0.6046,     0.60561,     0.60661,     0.60761,     0.60861,     0.60961,     0.61061,     0.61161,     0.61261,     0.61361,     0.61461,     0.61562,     0.61662,     0.61762,     0.61862,     0.61962,     0.62062,     0.62162,     0.62262,     0.62362,\n",
       "           0.62462,     0.62563,     0.62663,     0.62763,     0.62863,     0.62963,     0.63063,     0.63163,     0.63263,     0.63363,     0.63463,     0.63564,     0.63664,     0.63764,     0.63864,     0.63964,     0.64064,     0.64164,     0.64264,     0.64364,     0.64464,     0.64565,     0.64665,     0.64765,\n",
       "           0.64865,     0.64965,     0.65065,     0.65165,     0.65265,     0.65365,     0.65465,     0.65566,     0.65666,     0.65766,     0.65866,     0.65966,     0.66066,     0.66166,     0.66266,     0.66366,     0.66466,     0.66567,     0.66667,     0.66767,     0.66867,     0.66967,     0.67067,     0.67167,\n",
       "           0.67267,     0.67367,     0.67467,     0.67568,     0.67668,     0.67768,     0.67868,     0.67968,     0.68068,     0.68168,     0.68268,     0.68368,     0.68468,     0.68569,     0.68669,     0.68769,     0.68869,     0.68969,     0.69069,     0.69169,     0.69269,     0.69369,     0.69469,      0.6957,\n",
       "            0.6967,      0.6977,      0.6987,      0.6997,      0.7007,      0.7017,      0.7027,      0.7037,      0.7047,     0.70571,     0.70671,     0.70771,     0.70871,     0.70971,     0.71071,     0.71171,     0.71271,     0.71371,     0.71471,     0.71572,     0.71672,     0.71772,     0.71872,     0.71972,\n",
       "           0.72072,     0.72172,     0.72272,     0.72372,     0.72472,     0.72573,     0.72673,     0.72773,     0.72873,     0.72973,     0.73073,     0.73173,     0.73273,     0.73373,     0.73473,     0.73574,     0.73674,     0.73774,     0.73874,     0.73974,     0.74074,     0.74174,     0.74274,     0.74374,\n",
       "           0.74474,     0.74575,     0.74675,     0.74775,     0.74875,     0.74975,     0.75075,     0.75175,     0.75275,     0.75375,     0.75475,     0.75576,     0.75676,     0.75776,     0.75876,     0.75976,     0.76076,     0.76176,     0.76276,     0.76376,     0.76476,     0.76577,     0.76677,     0.76777,\n",
       "           0.76877,     0.76977,     0.77077,     0.77177,     0.77277,     0.77377,     0.77477,     0.77578,     0.77678,     0.77778,     0.77878,     0.77978,     0.78078,     0.78178,     0.78278,     0.78378,     0.78478,     0.78579,     0.78679,     0.78779,     0.78879,     0.78979,     0.79079,     0.79179,\n",
       "           0.79279,     0.79379,     0.79479,      0.7958,      0.7968,      0.7978,      0.7988,      0.7998,      0.8008,      0.8018,      0.8028,      0.8038,      0.8048,     0.80581,     0.80681,     0.80781,     0.80881,     0.80981,     0.81081,     0.81181,     0.81281,     0.81381,     0.81481,     0.81582,\n",
       "           0.81682,     0.81782,     0.81882,     0.81982,     0.82082,     0.82182,     0.82282,     0.82382,     0.82482,     0.82583,     0.82683,     0.82783,     0.82883,     0.82983,     0.83083,     0.83183,     0.83283,     0.83383,     0.83483,     0.83584,     0.83684,     0.83784,     0.83884,     0.83984,\n",
       "           0.84084,     0.84184,     0.84284,     0.84384,     0.84484,     0.84585,     0.84685,     0.84785,     0.84885,     0.84985,     0.85085,     0.85185,     0.85285,     0.85385,     0.85485,     0.85586,     0.85686,     0.85786,     0.85886,     0.85986,     0.86086,     0.86186,     0.86286,     0.86386,\n",
       "           0.86486,     0.86587,     0.86687,     0.86787,     0.86887,     0.86987,     0.87087,     0.87187,     0.87287,     0.87387,     0.87487,     0.87588,     0.87688,     0.87788,     0.87888,     0.87988,     0.88088,     0.88188,     0.88288,     0.88388,     0.88488,     0.88589,     0.88689,     0.88789,\n",
       "           0.88889,     0.88989,     0.89089,     0.89189,     0.89289,     0.89389,     0.89489,      0.8959,      0.8969,      0.8979,      0.8989,      0.8999,      0.9009,      0.9019,      0.9029,      0.9039,      0.9049,     0.90591,     0.90691,     0.90791,     0.90891,     0.90991,     0.91091,     0.91191,\n",
       "           0.91291,     0.91391,     0.91491,     0.91592,     0.91692,     0.91792,     0.91892,     0.91992,     0.92092,     0.92192,     0.92292,     0.92392,     0.92492,     0.92593,     0.92693,     0.92793,     0.92893,     0.92993,     0.93093,     0.93193,     0.93293,     0.93393,     0.93493,     0.93594,\n",
       "           0.93694,     0.93794,     0.93894,     0.93994,     0.94094,     0.94194,     0.94294,     0.94394,     0.94494,     0.94595,     0.94695,     0.94795,     0.94895,     0.94995,     0.95095,     0.95195,     0.95295,     0.95395,     0.95495,     0.95596,     0.95696,     0.95796,     0.95896,     0.95996,\n",
       "           0.96096,     0.96196,     0.96296,     0.96396,     0.96496,     0.96597,     0.96697,     0.96797,     0.96897,     0.96997,     0.97097,     0.97197,     0.97297,     0.97397,     0.97497,     0.97598,     0.97698,     0.97798,     0.97898,     0.97998,     0.98098,     0.98198,     0.98298,     0.98398,\n",
       "           0.98498,     0.98599,     0.98699,     0.98799,     0.98899,     0.98999,     0.99099,     0.99199,     0.99299,     0.99399,     0.99499,       0.996,       0.997,       0.998,       0.999,           1]), array([[   0.083766,    0.083766,     0.13092,      0.1675,     0.19683,     0.22413,     0.24761,      0.2682,     0.28814,     0.30622,     0.32363,     0.33896,     0.35118,     0.36239,     0.37599,     0.38863,     0.39957,     0.41246,     0.42232,     0.43149,     0.44031,     0.44951,     0.45909,\n",
       "            0.46791,     0.47774,     0.48508,     0.49128,     0.49854,     0.50624,     0.51093,     0.51636,     0.52172,     0.52719,     0.53445,      0.5382,     0.54152,     0.54526,     0.55089,     0.55478,     0.55936,     0.56437,     0.57082,     0.57404,     0.57985,     0.58417,     0.58713,\n",
       "               0.59,      0.5961,     0.60023,     0.60363,     0.60832,     0.61105,     0.61383,     0.61739,     0.62311,     0.62455,      0.6269,     0.63042,     0.63263,     0.63543,     0.63885,     0.64252,     0.64555,     0.64604,     0.64765,     0.65068,     0.65346,     0.65604,     0.65814,\n",
       "            0.65888,     0.66078,     0.66314,     0.66505,     0.66928,     0.67082,     0.67546,     0.68095,      0.6846,     0.68972,     0.69149,     0.69466,     0.69717,     0.69855,     0.70012,     0.70254,     0.70596,     0.70788,     0.71026,     0.71154,     0.71265,     0.71392,     0.71617,\n",
       "            0.71788,     0.71907,     0.71976,     0.72207,     0.72498,     0.72567,     0.72703,     0.72747,     0.72849,     0.73049,     0.73103,     0.73205,     0.73339,     0.73406,     0.73884,     0.73931,     0.73988,     0.74085,      0.7417,     0.74211,     0.74324,     0.74454,     0.74486,\n",
       "            0.74638,     0.74831,     0.75028,     0.75185,     0.75168,      0.7522,     0.75324,     0.75513,      0.7563,     0.75657,     0.75863,     0.75988,     0.76226,     0.76447,     0.76519,     0.76745,     0.76878,     0.76964,     0.77077,     0.77117,     0.77165,      0.7733,     0.77375,\n",
       "             0.7746,     0.77614,     0.77671,     0.77798,     0.77891,     0.77994,     0.78078,     0.78193,      0.7836,     0.78377,      0.7858,     0.78719,     0.78835,     0.78873,     0.78901,     0.79021,     0.79193,     0.79224,     0.79331,     0.79415,     0.79497,     0.79621,     0.79658,\n",
       "            0.79759,     0.79905,     0.79934,     0.80036,      0.8014,     0.80181,     0.80266,      0.8034,     0.80599,     0.80665,     0.80776,     0.80872,     0.80971,     0.81095,     0.81195,      0.8148,     0.81565,     0.81701,     0.81779,     0.81885,     0.81918,     0.82043,     0.82171,\n",
       "            0.82252,      0.8231,     0.82363,     0.82477,     0.82581,     0.82608,     0.82636,     0.82671,     0.82726,     0.82782,     0.82817,     0.82947,     0.83003,     0.83172,     0.83282,     0.83357,     0.83418,      0.8354,      0.8359,     0.83585,      0.8358,     0.83737,     0.83832,\n",
       "            0.83991,     0.84098,     0.84155,     0.84148,     0.84253,     0.84316,     0.84334,      0.8446,     0.84505,     0.84803,     0.84901,     0.85054,     0.85129,     0.85191,     0.85231,     0.85288,     0.85275,     0.85347,     0.85394,     0.85467,     0.85509,     0.85614,     0.85657,\n",
       "             0.8569,     0.85803,     0.85943,     0.85987,     0.86021,     0.86132,     0.86211,     0.86263,     0.86311,     0.86387,     0.86446,     0.86467,     0.86465,     0.86562,     0.86659,     0.86742,     0.86735,     0.86718,     0.86713,     0.86773,     0.86842,     0.86891,     0.87003,\n",
       "            0.87036,     0.87091,     0.87261,     0.87343,     0.87355,     0.87405,     0.87408,     0.87508,     0.87677,     0.87671,     0.87677,     0.87711,     0.87739,     0.87732,     0.87796,     0.87881,     0.87904,     0.87927,     0.87949,     0.87936,     0.87962,     0.87985,     0.88077,\n",
       "            0.88101,     0.88124,     0.88155,     0.88188,     0.88215,     0.88234,     0.88253,     0.88272,     0.88306,     0.88349,       0.884,     0.88442,     0.88473,     0.88503,     0.88573,      0.8864,     0.88647,     0.88671,     0.88695,     0.88726,      0.8877,     0.88854,     0.89009,\n",
       "            0.89138,     0.89235,     0.89254,     0.89299,     0.89383,     0.89461,      0.8949,     0.89518,     0.89675,     0.89921,      0.8999,     0.90022,     0.90054,     0.90096,     0.90137,     0.90283,     0.90273,     0.90288,     0.90317,     0.90347,     0.90422,     0.90437,     0.90452,\n",
       "            0.90468,     0.90483,     0.90496,     0.90488,     0.90485,     0.90481,     0.90536,     0.90568,     0.90591,     0.90614,     0.90629,     0.90626,     0.90623,     0.90607,     0.90678,     0.90808,     0.90843,     0.90876,     0.90913,     0.90966,     0.91027,     0.91072,     0.91102,\n",
       "            0.91132,     0.91149,     0.91144,     0.91158,      0.9118,     0.91202,     0.91305,     0.91327,     0.91349,     0.91372,     0.91382,     0.91373,     0.91426,     0.91529,     0.91613,     0.91779,     0.91809,      0.9184,     0.91941,     0.91937,     0.91942,     0.91954,     0.91965,\n",
       "            0.91976,     0.91988,     0.91999,      0.9201,     0.92017,     0.92012,     0.92061,     0.92091,     0.92088,       0.921,     0.92131,     0.92162,     0.92241,     0.92235,      0.9225,     0.92265,      0.9228,     0.92295,      0.9231,      0.9231,     0.92386,     0.92379,     0.92498,\n",
       "            0.92538,     0.92701,     0.92699,     0.92697,     0.92695,     0.92693,     0.92689,     0.92679,     0.92676,     0.92663,     0.92727,     0.92986,     0.93038,     0.93082,     0.93164,     0.93256,     0.93253,     0.93249,     0.93257,     0.93301,     0.93418,     0.93421,     0.93466,\n",
       "            0.93506,     0.93557,     0.93661,     0.93658,     0.93655,     0.93653,     0.93651,      0.9372,     0.93736,     0.93732,     0.93726,      0.9372,     0.93714,     0.93813,     0.93878,     0.93895,     0.93968,     0.93991,     0.94014,     0.94036,     0.94083,     0.94139,     0.94135,\n",
       "            0.94165,     0.94211,     0.94335,     0.94365,     0.94396,     0.94488,     0.94524,      0.9457,     0.94656,     0.94708,     0.94754,     0.94755,     0.94754,     0.94752,     0.94742,     0.94739,     0.94731,     0.94817,     0.94814,      0.9485,      0.9501,     0.95057,     0.95076,\n",
       "            0.95074,     0.95122,     0.95158,     0.95156,     0.95154,     0.95153,     0.95152,     0.95151,     0.95211,     0.95235,     0.95248,     0.95267,     0.95286,     0.95305,     0.95324,     0.95322,     0.95406,     0.95406,     0.95495,     0.95497,     0.95495,     0.95494,     0.95494,\n",
       "            0.95493,     0.95493,     0.95493,     0.95492,     0.95492,     0.95491,     0.95491,      0.9549,     0.95487,     0.95506,     0.95525,     0.95544,     0.95564,     0.95595,     0.95643,     0.95664,     0.95662,     0.95709,     0.95753,     0.95749,     0.95746,     0.95743,     0.95753,\n",
       "            0.95778,     0.95802,     0.95827,      0.9583,     0.95866,     0.95914,     0.95917,     0.95909,     0.95901,     0.95988,     0.96076,     0.96081,     0.96079,     0.96078,     0.96077,     0.96072,      0.9607,     0.96064,      0.9606,     0.96052,     0.96048,     0.96059,     0.96137,\n",
       "            0.96134,     0.96133,     0.96131,     0.96125,     0.96121,     0.96154,     0.96255,     0.96311,      0.9631,      0.9631,     0.96309,     0.96308,     0.96306,     0.96299,     0.96297,     0.96295,     0.96293,     0.96305,     0.96331,     0.96356,     0.96382,     0.96384,     0.96383,\n",
       "            0.96383,     0.96382,     0.96382,     0.96381,     0.96381,     0.96371,     0.96368,      0.9636,     0.96357,     0.96357,     0.96356,     0.96355,     0.96463,     0.96484,     0.96505,     0.96525,     0.96546,     0.96551,     0.96551,      0.9655,     0.96549,     0.96549,     0.96548,\n",
       "            0.96547,     0.96545,     0.96544,     0.96543,     0.96542,     0.96538,     0.96579,     0.96621,     0.96638,     0.96636,     0.96697,     0.96801,     0.96833,     0.96905,     0.96933,     0.96932,     0.96929,     0.96927,     0.96925,     0.96924,     0.96923,     0.96923,     0.96922,\n",
       "            0.96913,     0.96911,      0.9691,      0.9691,     0.96909,     0.96906,     0.96903,       0.969,     0.96893,     0.96887,     0.96878,     0.96875,     0.96873,     0.96871,     0.96868,     0.96866,     0.96864,     0.96863,     0.96862,      0.9686,     0.96859,     0.96858,     0.96849,\n",
       "            0.96957,     0.97059,     0.97055,     0.97046,     0.97043,     0.97039,     0.97038,     0.97037,     0.97036,     0.97035,     0.97033,     0.97139,     0.97138,      0.9713,     0.97129,     0.97128,     0.97121,     0.97114,     0.97106,       0.971,     0.97211,     0.97312,     0.97309,\n",
       "            0.97302,     0.97299,     0.97298,     0.97295,     0.97373,     0.97403,     0.97402,       0.974,     0.97394,     0.97389,     0.97387,     0.97383,     0.97382,     0.97381,     0.97379,     0.97487,     0.97485,     0.97483,     0.97474,     0.97473,     0.97472,     0.97468,     0.97464,\n",
       "             0.9749,     0.97548,     0.97562,     0.97586,     0.97683,     0.97741,     0.97779,     0.97877,     0.97891,      0.9789,     0.98114,     0.98112,     0.98111,      0.9811,     0.98109,     0.98108,     0.98108,     0.98107,     0.98107,     0.98105,     0.98113,     0.98173,     0.98332,\n",
       "             0.9833,     0.98327,     0.98326,     0.98321,      0.9832,     0.98318,     0.98313,     0.98307,     0.98304,       0.983,     0.98301,     0.98418,     0.98409,     0.98407,     0.98404,     0.98403,     0.98397,     0.98395,     0.98394,     0.98392,     0.98389,     0.98385,     0.98384,\n",
       "            0.98383,     0.98378,     0.98376,     0.98375,     0.98372,     0.98371,      0.9837,     0.98366,     0.98362,      0.9836,     0.98355,     0.98349,     0.98344,     0.98342,      0.9834,     0.98339,     0.98358,     0.98444,     0.98462,     0.98457,     0.98448,     0.98445,     0.98444,\n",
       "            0.98442,      0.9844,     0.98433,     0.98432,     0.98432,     0.98425,     0.98422,     0.98416,      0.9841,     0.98409,     0.98407,     0.98535,     0.98589,      0.9879,     0.98789,     0.98789,     0.98787,      0.9878,     0.98778,     0.98776,     0.98772,       0.989,     0.98903,\n",
       "            0.98901,     0.98898,     0.98897,     0.98895,     0.98893,     0.98883,     0.98881,      0.9888,     0.98879,     0.98877,     0.98873,     0.98872,     0.98872,     0.98866,     0.98863,     0.98999,     0.98997,     0.98996,      0.9899,     0.98987,     0.99126,     0.99127,     0.99125,\n",
       "             0.9912,     0.99118,     0.99115,     0.99112,     0.99108,     0.99106,     0.99099,     0.99094,     0.99089,     0.99087,      0.9908,     0.99077,     0.99072,     0.99068,     0.99209,     0.99287,     0.99373,     0.99368,     0.99363,     0.99361,      0.9936,     0.99358,     0.99356,\n",
       "            0.99354,      0.9935,     0.99348,     0.99348,     0.99347,     0.99342,     0.99339,     0.99336,     0.99333,     0.99496,     0.99493,     0.99491,     0.99489,     0.99487,     0.99656,     0.99652,     0.99651,      0.9965,     0.99647,     0.99645,     0.99643,     0.99641,     0.99638,\n",
       "            0.99637,     0.99634,      0.9963,     0.99627,     0.99625,     0.99624,     0.99621,     0.99619,     0.99806,     0.99805,     0.99804,     0.99802,       0.998,     0.99795,     0.99793,      0.9979,     0.99789,     0.99787,     0.99786,     0.99784,     0.99783,      0.9978,     0.99777,\n",
       "            0.99776,     0.99775,     0.99772,     0.99769,     0.99767,     0.99765,     0.99762,     0.99758,     0.99754,     0.99744,     0.99741,     0.99733,     0.99728,     0.99727,     0.99724,     0.99717,     0.99716,     0.99711,     0.99704,       0.997,      0.9969,     0.99681,     0.99671,\n",
       "            0.99664,     0.99653,     0.99642,     0.99634,     0.99626,     0.99616,     0.99607,     0.99595,     0.99581,     0.99574,     0.99566,     0.99556,     0.99545,     0.99536,     0.99515,     0.99513,     0.99492,     0.99472,     0.99466,     0.99421,     0.99395,     0.99371,     0.99327,\n",
       "            0.99301,      0.9927,           1,           1,           1,           1,           1,           1,           1,           1,           1,           1,           1,           1,           1,           1,           1,           1,           1,           1,           1,           1,           1,\n",
       "                  1,           1,           1,           1,           1,           1,           1,           1,           1,           1,           1,           1,           1,           1,           1,           1,           1,           1,           1,           1,           1,           1,           1,\n",
       "                  1,           1,           1,           1,           1,           1,           1,           1,           1,           1,           1,           1,           1,           1,           1,           1,           1,           1,           1,           1,           1,           1,           1,\n",
       "                  1,           1,           1,           1,           1,           1,           1,           1,           1,           1,           1,           1,           1,           1,           1,           1,           1,           1,           1,           1,           1,           1,           1,\n",
       "                  1,           1,           1,           1,           1,           1,           1,           1,           1,           1,           1]]), 'Confidence', 'Precision'], [array([          0,    0.001001,    0.002002,    0.003003,    0.004004,    0.005005,    0.006006,    0.007007,    0.008008,    0.009009,     0.01001,    0.011011,    0.012012,    0.013013,    0.014014,    0.015015,    0.016016,    0.017017,    0.018018,    0.019019,     0.02002,    0.021021,    0.022022,    0.023023,\n",
       "          0.024024,    0.025025,    0.026026,    0.027027,    0.028028,    0.029029,     0.03003,    0.031031,    0.032032,    0.033033,    0.034034,    0.035035,    0.036036,    0.037037,    0.038038,    0.039039,     0.04004,    0.041041,    0.042042,    0.043043,    0.044044,    0.045045,    0.046046,    0.047047,\n",
       "          0.048048,    0.049049,     0.05005,    0.051051,    0.052052,    0.053053,    0.054054,    0.055055,    0.056056,    0.057057,    0.058058,    0.059059,     0.06006,    0.061061,    0.062062,    0.063063,    0.064064,    0.065065,    0.066066,    0.067067,    0.068068,    0.069069,     0.07007,    0.071071,\n",
       "          0.072072,    0.073073,    0.074074,    0.075075,    0.076076,    0.077077,    0.078078,    0.079079,     0.08008,    0.081081,    0.082082,    0.083083,    0.084084,    0.085085,    0.086086,    0.087087,    0.088088,    0.089089,     0.09009,    0.091091,    0.092092,    0.093093,    0.094094,    0.095095,\n",
       "          0.096096,    0.097097,    0.098098,    0.099099,      0.1001,      0.1011,      0.1021,      0.1031,      0.1041,     0.10511,     0.10611,     0.10711,     0.10811,     0.10911,     0.11011,     0.11111,     0.11211,     0.11311,     0.11411,     0.11512,     0.11612,     0.11712,     0.11812,     0.11912,\n",
       "           0.12012,     0.12112,     0.12212,     0.12312,     0.12412,     0.12513,     0.12613,     0.12713,     0.12813,     0.12913,     0.13013,     0.13113,     0.13213,     0.13313,     0.13413,     0.13514,     0.13614,     0.13714,     0.13814,     0.13914,     0.14014,     0.14114,     0.14214,     0.14314,\n",
       "           0.14414,     0.14515,     0.14615,     0.14715,     0.14815,     0.14915,     0.15015,     0.15115,     0.15215,     0.15315,     0.15415,     0.15516,     0.15616,     0.15716,     0.15816,     0.15916,     0.16016,     0.16116,     0.16216,     0.16316,     0.16416,     0.16517,     0.16617,     0.16717,\n",
       "           0.16817,     0.16917,     0.17017,     0.17117,     0.17217,     0.17317,     0.17417,     0.17518,     0.17618,     0.17718,     0.17818,     0.17918,     0.18018,     0.18118,     0.18218,     0.18318,     0.18418,     0.18519,     0.18619,     0.18719,     0.18819,     0.18919,     0.19019,     0.19119,\n",
       "           0.19219,     0.19319,     0.19419,      0.1952,      0.1962,      0.1972,      0.1982,      0.1992,      0.2002,      0.2012,      0.2022,      0.2032,      0.2042,     0.20521,     0.20621,     0.20721,     0.20821,     0.20921,     0.21021,     0.21121,     0.21221,     0.21321,     0.21421,     0.21522,\n",
       "           0.21622,     0.21722,     0.21822,     0.21922,     0.22022,     0.22122,     0.22222,     0.22322,     0.22422,     0.22523,     0.22623,     0.22723,     0.22823,     0.22923,     0.23023,     0.23123,     0.23223,     0.23323,     0.23423,     0.23524,     0.23624,     0.23724,     0.23824,     0.23924,\n",
       "           0.24024,     0.24124,     0.24224,     0.24324,     0.24424,     0.24525,     0.24625,     0.24725,     0.24825,     0.24925,     0.25025,     0.25125,     0.25225,     0.25325,     0.25425,     0.25526,     0.25626,     0.25726,     0.25826,     0.25926,     0.26026,     0.26126,     0.26226,     0.26326,\n",
       "           0.26426,     0.26527,     0.26627,     0.26727,     0.26827,     0.26927,     0.27027,     0.27127,     0.27227,     0.27327,     0.27427,     0.27528,     0.27628,     0.27728,     0.27828,     0.27928,     0.28028,     0.28128,     0.28228,     0.28328,     0.28428,     0.28529,     0.28629,     0.28729,\n",
       "           0.28829,     0.28929,     0.29029,     0.29129,     0.29229,     0.29329,     0.29429,      0.2953,      0.2963,      0.2973,      0.2983,      0.2993,      0.3003,      0.3013,      0.3023,      0.3033,      0.3043,     0.30531,     0.30631,     0.30731,     0.30831,     0.30931,     0.31031,     0.31131,\n",
       "           0.31231,     0.31331,     0.31431,     0.31532,     0.31632,     0.31732,     0.31832,     0.31932,     0.32032,     0.32132,     0.32232,     0.32332,     0.32432,     0.32533,     0.32633,     0.32733,     0.32833,     0.32933,     0.33033,     0.33133,     0.33233,     0.33333,     0.33433,     0.33534,\n",
       "           0.33634,     0.33734,     0.33834,     0.33934,     0.34034,     0.34134,     0.34234,     0.34334,     0.34434,     0.34535,     0.34635,     0.34735,     0.34835,     0.34935,     0.35035,     0.35135,     0.35235,     0.35335,     0.35435,     0.35536,     0.35636,     0.35736,     0.35836,     0.35936,\n",
       "           0.36036,     0.36136,     0.36236,     0.36336,     0.36436,     0.36537,     0.36637,     0.36737,     0.36837,     0.36937,     0.37037,     0.37137,     0.37237,     0.37337,     0.37437,     0.37538,     0.37638,     0.37738,     0.37838,     0.37938,     0.38038,     0.38138,     0.38238,     0.38338,\n",
       "           0.38438,     0.38539,     0.38639,     0.38739,     0.38839,     0.38939,     0.39039,     0.39139,     0.39239,     0.39339,     0.39439,      0.3954,      0.3964,      0.3974,      0.3984,      0.3994,      0.4004,      0.4014,      0.4024,      0.4034,      0.4044,     0.40541,     0.40641,     0.40741,\n",
       "           0.40841,     0.40941,     0.41041,     0.41141,     0.41241,     0.41341,     0.41441,     0.41542,     0.41642,     0.41742,     0.41842,     0.41942,     0.42042,     0.42142,     0.42242,     0.42342,     0.42442,     0.42543,     0.42643,     0.42743,     0.42843,     0.42943,     0.43043,     0.43143,\n",
       "           0.43243,     0.43343,     0.43443,     0.43544,     0.43644,     0.43744,     0.43844,     0.43944,     0.44044,     0.44144,     0.44244,     0.44344,     0.44444,     0.44545,     0.44645,     0.44745,     0.44845,     0.44945,     0.45045,     0.45145,     0.45245,     0.45345,     0.45445,     0.45546,\n",
       "           0.45646,     0.45746,     0.45846,     0.45946,     0.46046,     0.46146,     0.46246,     0.46346,     0.46446,     0.46547,     0.46647,     0.46747,     0.46847,     0.46947,     0.47047,     0.47147,     0.47247,     0.47347,     0.47447,     0.47548,     0.47648,     0.47748,     0.47848,     0.47948,\n",
       "           0.48048,     0.48148,     0.48248,     0.48348,     0.48448,     0.48549,     0.48649,     0.48749,     0.48849,     0.48949,     0.49049,     0.49149,     0.49249,     0.49349,     0.49449,      0.4955,      0.4965,      0.4975,      0.4985,      0.4995,      0.5005,      0.5015,      0.5025,      0.5035,\n",
       "            0.5045,     0.50551,     0.50651,     0.50751,     0.50851,     0.50951,     0.51051,     0.51151,     0.51251,     0.51351,     0.51451,     0.51552,     0.51652,     0.51752,     0.51852,     0.51952,     0.52052,     0.52152,     0.52252,     0.52352,     0.52452,     0.52553,     0.52653,     0.52753,\n",
       "           0.52853,     0.52953,     0.53053,     0.53153,     0.53253,     0.53353,     0.53453,     0.53554,     0.53654,     0.53754,     0.53854,     0.53954,     0.54054,     0.54154,     0.54254,     0.54354,     0.54454,     0.54555,     0.54655,     0.54755,     0.54855,     0.54955,     0.55055,     0.55155,\n",
       "           0.55255,     0.55355,     0.55455,     0.55556,     0.55656,     0.55756,     0.55856,     0.55956,     0.56056,     0.56156,     0.56256,     0.56356,     0.56456,     0.56557,     0.56657,     0.56757,     0.56857,     0.56957,     0.57057,     0.57157,     0.57257,     0.57357,     0.57457,     0.57558,\n",
       "           0.57658,     0.57758,     0.57858,     0.57958,     0.58058,     0.58158,     0.58258,     0.58358,     0.58458,     0.58559,     0.58659,     0.58759,     0.58859,     0.58959,     0.59059,     0.59159,     0.59259,     0.59359,     0.59459,      0.5956,      0.5966,      0.5976,      0.5986,      0.5996,\n",
       "            0.6006,      0.6016,      0.6026,      0.6036,      0.6046,     0.60561,     0.60661,     0.60761,     0.60861,     0.60961,     0.61061,     0.61161,     0.61261,     0.61361,     0.61461,     0.61562,     0.61662,     0.61762,     0.61862,     0.61962,     0.62062,     0.62162,     0.62262,     0.62362,\n",
       "           0.62462,     0.62563,     0.62663,     0.62763,     0.62863,     0.62963,     0.63063,     0.63163,     0.63263,     0.63363,     0.63463,     0.63564,     0.63664,     0.63764,     0.63864,     0.63964,     0.64064,     0.64164,     0.64264,     0.64364,     0.64464,     0.64565,     0.64665,     0.64765,\n",
       "           0.64865,     0.64965,     0.65065,     0.65165,     0.65265,     0.65365,     0.65465,     0.65566,     0.65666,     0.65766,     0.65866,     0.65966,     0.66066,     0.66166,     0.66266,     0.66366,     0.66466,     0.66567,     0.66667,     0.66767,     0.66867,     0.66967,     0.67067,     0.67167,\n",
       "           0.67267,     0.67367,     0.67467,     0.67568,     0.67668,     0.67768,     0.67868,     0.67968,     0.68068,     0.68168,     0.68268,     0.68368,     0.68468,     0.68569,     0.68669,     0.68769,     0.68869,     0.68969,     0.69069,     0.69169,     0.69269,     0.69369,     0.69469,      0.6957,\n",
       "            0.6967,      0.6977,      0.6987,      0.6997,      0.7007,      0.7017,      0.7027,      0.7037,      0.7047,     0.70571,     0.70671,     0.70771,     0.70871,     0.70971,     0.71071,     0.71171,     0.71271,     0.71371,     0.71471,     0.71572,     0.71672,     0.71772,     0.71872,     0.71972,\n",
       "           0.72072,     0.72172,     0.72272,     0.72372,     0.72472,     0.72573,     0.72673,     0.72773,     0.72873,     0.72973,     0.73073,     0.73173,     0.73273,     0.73373,     0.73473,     0.73574,     0.73674,     0.73774,     0.73874,     0.73974,     0.74074,     0.74174,     0.74274,     0.74374,\n",
       "           0.74474,     0.74575,     0.74675,     0.74775,     0.74875,     0.74975,     0.75075,     0.75175,     0.75275,     0.75375,     0.75475,     0.75576,     0.75676,     0.75776,     0.75876,     0.75976,     0.76076,     0.76176,     0.76276,     0.76376,     0.76476,     0.76577,     0.76677,     0.76777,\n",
       "           0.76877,     0.76977,     0.77077,     0.77177,     0.77277,     0.77377,     0.77477,     0.77578,     0.77678,     0.77778,     0.77878,     0.77978,     0.78078,     0.78178,     0.78278,     0.78378,     0.78478,     0.78579,     0.78679,     0.78779,     0.78879,     0.78979,     0.79079,     0.79179,\n",
       "           0.79279,     0.79379,     0.79479,      0.7958,      0.7968,      0.7978,      0.7988,      0.7998,      0.8008,      0.8018,      0.8028,      0.8038,      0.8048,     0.80581,     0.80681,     0.80781,     0.80881,     0.80981,     0.81081,     0.81181,     0.81281,     0.81381,     0.81481,     0.81582,\n",
       "           0.81682,     0.81782,     0.81882,     0.81982,     0.82082,     0.82182,     0.82282,     0.82382,     0.82482,     0.82583,     0.82683,     0.82783,     0.82883,     0.82983,     0.83083,     0.83183,     0.83283,     0.83383,     0.83483,     0.83584,     0.83684,     0.83784,     0.83884,     0.83984,\n",
       "           0.84084,     0.84184,     0.84284,     0.84384,     0.84484,     0.84585,     0.84685,     0.84785,     0.84885,     0.84985,     0.85085,     0.85185,     0.85285,     0.85385,     0.85485,     0.85586,     0.85686,     0.85786,     0.85886,     0.85986,     0.86086,     0.86186,     0.86286,     0.86386,\n",
       "           0.86486,     0.86587,     0.86687,     0.86787,     0.86887,     0.86987,     0.87087,     0.87187,     0.87287,     0.87387,     0.87487,     0.87588,     0.87688,     0.87788,     0.87888,     0.87988,     0.88088,     0.88188,     0.88288,     0.88388,     0.88488,     0.88589,     0.88689,     0.88789,\n",
       "           0.88889,     0.88989,     0.89089,     0.89189,     0.89289,     0.89389,     0.89489,      0.8959,      0.8969,      0.8979,      0.8989,      0.8999,      0.9009,      0.9019,      0.9029,      0.9039,      0.9049,     0.90591,     0.90691,     0.90791,     0.90891,     0.90991,     0.91091,     0.91191,\n",
       "           0.91291,     0.91391,     0.91491,     0.91592,     0.91692,     0.91792,     0.91892,     0.91992,     0.92092,     0.92192,     0.92292,     0.92392,     0.92492,     0.92593,     0.92693,     0.92793,     0.92893,     0.92993,     0.93093,     0.93193,     0.93293,     0.93393,     0.93493,     0.93594,\n",
       "           0.93694,     0.93794,     0.93894,     0.93994,     0.94094,     0.94194,     0.94294,     0.94394,     0.94494,     0.94595,     0.94695,     0.94795,     0.94895,     0.94995,     0.95095,     0.95195,     0.95295,     0.95395,     0.95495,     0.95596,     0.95696,     0.95796,     0.95896,     0.95996,\n",
       "           0.96096,     0.96196,     0.96296,     0.96396,     0.96496,     0.96597,     0.96697,     0.96797,     0.96897,     0.96997,     0.97097,     0.97197,     0.97297,     0.97397,     0.97497,     0.97598,     0.97698,     0.97798,     0.97898,     0.97998,     0.98098,     0.98198,     0.98298,     0.98398,\n",
       "           0.98498,     0.98599,     0.98699,     0.98799,     0.98899,     0.98999,     0.99099,     0.99199,     0.99299,     0.99399,     0.99499,       0.996,       0.997,       0.998,       0.999,           1]), array([[    0.99159,     0.99159,     0.98823,     0.98738,     0.98402,      0.9815,     0.97897,     0.97561,     0.97393,     0.97309,     0.97225,      0.9714,      0.9714,      0.9714,      0.9714,      0.9714,     0.97056,     0.96972,      0.9672,     0.96636,     0.96468,     0.96468,     0.96384,\n",
       "            0.96299,     0.96131,     0.96131,     0.96131,     0.96047,     0.96047,     0.96047,     0.96047,     0.96047,     0.96047,     0.96047,     0.96047,     0.96047,     0.95963,     0.95963,     0.95879,     0.95795,     0.95711,     0.95711,     0.95627,     0.95627,     0.95627,     0.95542,\n",
       "            0.95458,      0.9529,      0.9529,      0.9529,      0.9529,      0.9529,      0.9529,     0.95206,     0.95206,     0.95206,     0.95206,     0.95122,     0.95038,     0.94991,     0.94954,      0.9487,      0.9487,     0.94714,     0.94701,     0.94701,     0.94701,     0.94701,     0.94701,\n",
       "            0.94545,     0.94365,     0.94365,     0.94365,     0.94281,     0.94197,     0.94113,     0.94113,     0.94113,     0.94029,     0.94029,     0.93944,      0.9386,     0.93692,     0.93692,     0.93692,     0.93692,     0.93692,     0.93608,     0.93608,     0.93608,     0.93607,     0.93356,\n",
       "            0.93272,     0.93188,     0.93188,     0.93188,     0.93188,     0.93188,     0.93186,     0.93103,     0.93103,     0.93103,     0.93103,     0.93103,     0.93019,     0.92935,     0.92935,     0.92851,     0.92851,     0.92851,     0.92851,     0.92851,     0.92851,     0.92851,     0.92851,\n",
       "            0.92851,     0.92772,     0.92767,     0.92752,     0.92599,     0.92599,     0.92599,     0.92599,     0.92599,     0.92531,     0.92515,     0.92515,     0.92515,     0.92515,     0.92515,     0.92515,     0.92431,     0.92431,     0.92431,     0.92431,     0.92262,     0.92089,      0.9201,\n",
       "             0.9201,      0.9201,      0.9201,     0.91948,     0.91854,     0.91674,     0.91674,     0.91674,     0.91669,      0.9159,      0.9159,      0.9159,      0.9159,      0.9159,      0.9159,     0.91505,     0.91421,     0.91337,     0.91337,     0.91337,     0.91337,     0.91253,     0.91253,\n",
       "            0.91253,     0.91253,     0.91253,     0.91253,     0.91253,     0.91169,     0.91169,     0.91169,     0.91085,     0.91085,     0.91085,     0.91001,     0.91001,     0.91001,     0.91001,     0.91001,     0.91001,     0.91001,      0.9097,     0.90833,     0.90833,     0.90833,     0.90833,\n",
       "            0.90833,     0.90833,     0.90833,     0.90833,     0.90833,     0.90833,     0.90833,     0.90833,     0.90833,     0.90833,     0.90833,     0.90815,     0.90749,     0.90749,     0.90664,     0.90664,     0.90546,     0.90492,     0.90398,     0.90365,     0.90333,     0.90328,     0.90328,\n",
       "            0.90244,     0.90244,     0.90229,     0.90186,      0.9016,      0.9016,     0.90099,      0.9005,     0.89992,     0.89992,     0.89907,     0.89823,     0.89823,     0.89823,     0.89791,     0.89715,      0.8962,     0.89571,     0.89571,     0.89523,     0.89487,     0.89319,     0.89319,\n",
       "            0.89319,     0.89235,     0.89235,     0.89235,     0.89235,     0.89235,     0.89235,     0.89235,     0.89235,     0.89235,     0.89235,     0.89205,     0.89151,     0.89151,     0.89151,     0.89143,     0.89086,     0.88955,     0.88915,      0.8883,     0.88814,     0.88814,     0.88814,\n",
       "            0.88814,     0.88814,     0.88814,     0.88797,      0.8873,      0.8873,     0.88562,     0.88562,      0.8856,     0.88511,     0.88478,     0.88478,      0.8847,     0.88413,     0.88394,     0.88394,     0.88394,     0.88394,      0.8839,     0.88275,     0.88141,     0.88073,     0.88057,\n",
       "            0.88057,     0.88057,     0.88057,     0.88057,     0.88057,     0.88057,     0.88057,     0.88057,     0.88057,     0.88057,     0.88057,     0.88057,     0.88057,     0.88057,     0.88009,     0.87941,     0.87889,     0.87889,     0.87889,     0.87889,     0.87889,     0.87889,     0.87889,\n",
       "            0.87889,     0.87846,     0.87805,     0.87805,     0.87721,     0.87721,     0.87721,     0.87721,     0.87721,     0.87637,     0.87637,     0.87637,     0.87637,     0.87637,     0.87627,     0.87522,     0.87426,     0.87384,     0.87384,     0.87384,       0.873,       0.873,       0.873,\n",
       "              0.873,       0.873,     0.87291,     0.87212,     0.87177,     0.87143,     0.87132,     0.87048,     0.87048,     0.87048,     0.87038,     0.87003,     0.86969,     0.86805,     0.86796,     0.86796,     0.86772,     0.86712,     0.86669,     0.86627,     0.86627,     0.86627,     0.86627,\n",
       "            0.86627,     0.86608,     0.86559,     0.86543,     0.86543,     0.86543,     0.86543,     0.86543,     0.86543,     0.86543,       0.865,     0.86404,     0.86375,     0.86375,     0.86375,     0.86375,     0.86375,     0.86375,     0.86359,      0.8631,     0.86291,     0.86291,     0.86291,\n",
       "            0.86291,     0.86291,     0.86291,     0.86291,     0.86276,     0.86227,     0.86207,      0.8618,     0.86137,     0.86039,     0.86039,     0.86039,      0.8599,      0.8587,      0.8587,      0.8587,      0.8587,      0.8587,      0.8587,     0.85813,     0.85727,      0.8564,     0.85618,\n",
       "            0.85531,     0.85449,     0.85426,     0.85403,      0.8538,     0.85349,     0.85306,     0.85178,     0.85135,     0.84972,     0.84945,     0.84945,     0.84945,     0.84945,     0.84945,     0.84902,     0.84853,      0.8481,     0.84777,     0.84777,     0.84753,     0.84609,     0.84609,\n",
       "            0.84525,     0.84525,     0.84497,     0.84454,     0.84421,     0.84392,     0.84363,     0.84357,     0.84318,     0.84265,     0.84179,     0.84093,     0.84007,     0.83936,     0.83834,     0.83768,     0.83768,     0.83768,     0.83768,     0.83768,     0.83768,     0.83749,       0.837,\n",
       "            0.83684,     0.83684,     0.83684,     0.83684,     0.83684,     0.83616,       0.836,       0.836,       0.836,       0.836,       0.836,     0.83573,     0.83544,     0.83515,     0.83346,     0.83303,     0.83172,      0.8309,      0.8304,     0.83011,     0.82927,     0.82927,     0.82822,\n",
       "            0.82779,     0.82759,     0.82651,     0.82608,     0.82578,     0.82556,     0.82534,     0.82513,     0.82422,      0.8236,     0.82338,     0.82338,     0.82338,     0.82338,     0.82338,     0.82264,     0.82254,     0.82091,     0.82086,     0.82044,     0.82002,     0.81994,     0.81986,\n",
       "            0.81978,      0.8197,     0.81962,     0.81955,     0.81947,     0.81939,     0.81931,     0.81923,     0.81749,     0.81749,     0.81749,     0.81749,     0.81749,     0.81749,     0.81749,     0.81646,     0.81603,     0.81581,     0.81536,      0.8145,     0.81388,     0.81345,     0.81245,\n",
       "            0.81245,     0.81245,     0.81245,     0.81183,     0.81161,     0.81161,     0.81008,     0.80838,     0.80668,     0.80497,     0.80488,     0.80409,     0.80383,     0.80362,      0.8034,     0.80234,     0.80191,      0.8006,     0.79974,     0.79803,     0.79717,     0.79563,     0.79545,\n",
       "            0.79472,     0.79443,     0.79414,     0.79284,     0.79198,     0.79142,     0.79142,     0.79051,     0.79034,     0.79017,     0.78999,     0.78982,     0.78929,     0.78782,     0.78739,     0.78696,     0.78653,     0.78553,     0.78553,     0.78553,     0.78553,      0.7846,     0.78448,\n",
       "            0.78435,     0.78423,     0.78411,     0.78399,     0.78386,     0.78164,     0.78094,     0.77924,      0.7787,     0.77848,     0.77827,     0.77805,     0.77712,     0.77712,     0.77712,     0.77712,     0.77712,     0.77702,     0.77688,     0.77673,     0.77659,     0.77645,      0.7763,\n",
       "            0.77591,     0.77548,     0.77524,     0.77503,     0.77481,     0.77376,     0.77376,     0.77376,     0.77351,     0.77308,     0.77208,     0.77208,      0.7715,     0.77124,     0.77093,     0.77049,     0.76973,     0.76921,     0.76878,     0.76855,     0.76836,     0.76817,     0.76798,\n",
       "             0.7658,     0.76525,     0.76503,     0.76481,      0.7646,     0.76401,     0.76315,     0.76229,     0.76058,     0.75907,     0.75676,       0.756,     0.75557,     0.75501,     0.75428,     0.75385,     0.75345,     0.75311,     0.75276,     0.75247,     0.75218,      0.7519,     0.74937,\n",
       "            0.74937,     0.74931,     0.74845,     0.74594,     0.74537,     0.74418,     0.74397,     0.74375,     0.74354,     0.74316,     0.74273,     0.74251,     0.74208,     0.74002,     0.73973,     0.73944,     0.73769,     0.73594,     0.73381,     0.73171,     0.73171,     0.73081,     0.72987,\n",
       "            0.72782,     0.72723,      0.7268,     0.72608,     0.72582,     0.72557,     0.72523,     0.72473,     0.72303,     0.72142,     0.72085,     0.71972,     0.71947,     0.71923,      0.7187,     0.71784,     0.71719,     0.71676,     0.71403,     0.71374,     0.71345,     0.71224,     0.71124,\n",
       "            0.70732,     0.70732,     0.70669,     0.70479,     0.70395,     0.70395,     0.70338,     0.70311,     0.70274,     0.70231,     0.70022,     0.69935,     0.69874,      0.6984,     0.69806,     0.69787,     0.69767,     0.69748,     0.69729,     0.69666,     0.69554,     0.69554,     0.69429,\n",
       "            0.69322,     0.69185,     0.69141,     0.68951,     0.68908,     0.68815,     0.68636,     0.68382,     0.68238,     0.68097,      0.6804,     0.68037,     0.67616,     0.67559,     0.67417,     0.67356,     0.67106,     0.67048,     0.66971,     0.66885,     0.66756,     0.66601,     0.66566,\n",
       "            0.66532,      0.6631,     0.66252,     0.66195,     0.66066,     0.66023,     0.65966,      0.6581,     0.65655,      0.6559,     0.65383,     0.65129,     0.64916,     0.64835,     0.64778,      0.6472,     0.64676,     0.64676,     0.64632,     0.64397,      0.6403,     0.63883,      0.6384,\n",
       "            0.63784,     0.63676,     0.63394,     0.63373,     0.63351,     0.63071,     0.62946,     0.62692,     0.62483,     0.62425,     0.62349,     0.62221,     0.62069,     0.61796,     0.61767,     0.61738,     0.61664,     0.61283,     0.61166,     0.61069,     0.60905,     0.60892,     0.60684,\n",
       "            0.60556,     0.60386,     0.60328,     0.60213,     0.60119,     0.59539,     0.59482,     0.59424,     0.59361,     0.59257,      0.5902,     0.58992,     0.58963,     0.58659,     0.58508,     0.58253,     0.58094,     0.58036,     0.57705,      0.5753,     0.57359,     0.57272,     0.57145,\n",
       "            0.56843,      0.5672,     0.56498,     0.56296,     0.56069,     0.55955,     0.55472,     0.55194,     0.54875,     0.54769,     0.54362,     0.54176,     0.53849,     0.53667,     0.53574,     0.53322,     0.53283,      0.5286,     0.52478,     0.52282,     0.52223,     0.52045,     0.51942,\n",
       "            0.51712,     0.51458,     0.51293,     0.51235,     0.51157,     0.50776,     0.50522,     0.50325,     0.50068,     0.49843,     0.49555,     0.49298,     0.49164,     0.48954,     0.48697,     0.48107,     0.48049,     0.47843,     0.47503,     0.47214,     0.46906,     0.46649,     0.46241,\n",
       "            0.46136,     0.45796,     0.45287,     0.44946,     0.44674,     0.44588,     0.44261,     0.44004,     0.43243,     0.43092,     0.42814,     0.42305,      0.4188,     0.41035,      0.4061,     0.40026,     0.39761,     0.39349,     0.39164,     0.38907,     0.38651,     0.38226,     0.37656,\n",
       "            0.37461,     0.37273,     0.36864,     0.36271,     0.36014,     0.35673,     0.35249,      0.3474,     0.34147,     0.32797,     0.32372,     0.31359,      0.3085,     0.30678,     0.30337,     0.29674,     0.29572,     0.29063,     0.28302,     0.27961,     0.27032,     0.26271,     0.25509,\n",
       "            0.24916,     0.24155,     0.23394,     0.22885,     0.22376,     0.21825,     0.21319,     0.20686,     0.20011,     0.19664,     0.19292,     0.18869,     0.18404,     0.18049,     0.17265,     0.17179,     0.16462,     0.15846,     0.15658,     0.14437,     0.13815,     0.13297,     0.12412,\n",
       "            0.11952,      0.1144,     0.10808,    0.096682,    0.092054,    0.083202,    0.078894,    0.071386,    0.069558,      0.0684,    0.061064,    0.057424,    0.054251,    0.049392,    0.046597,    0.044114,    0.042308,    0.038902,    0.036337,     0.03293,    0.027001,    0.025254,    0.022712,\n",
       "           0.016808,    0.016233,    0.014817,    0.014133,    0.012933,    0.011411,   0.0098012,    0.008077,   0.0063529,   0.0032598,   0.0028287,   0.0020214,  0.00098964,           0,           0,           0,           0,           0,           0,           0,           0,           0,           0,\n",
       "                  0,           0,           0,           0,           0,           0,           0,           0,           0,           0,           0,           0,           0,           0,           0,           0,           0,           0,           0,           0,           0,           0,           0,\n",
       "                  0,           0,           0,           0,           0,           0,           0,           0,           0,           0,           0,           0,           0,           0,           0,           0,           0,           0,           0,           0,           0,           0,           0,\n",
       "                  0,           0,           0,           0,           0,           0,           0,           0,           0,           0,           0]]), 'Confidence', 'Recall'], [array([          0,    0.001001,    0.002002,    0.003003,    0.004004,    0.005005,    0.006006,    0.007007,    0.008008,    0.009009,     0.01001,    0.011011,    0.012012,    0.013013,    0.014014,    0.015015,    0.016016,    0.017017,    0.018018,    0.019019,     0.02002,    0.021021,    0.022022,    0.023023,\n",
       "          0.024024,    0.025025,    0.026026,    0.027027,    0.028028,    0.029029,     0.03003,    0.031031,    0.032032,    0.033033,    0.034034,    0.035035,    0.036036,    0.037037,    0.038038,    0.039039,     0.04004,    0.041041,    0.042042,    0.043043,    0.044044,    0.045045,    0.046046,    0.047047,\n",
       "          0.048048,    0.049049,     0.05005,    0.051051,    0.052052,    0.053053,    0.054054,    0.055055,    0.056056,    0.057057,    0.058058,    0.059059,     0.06006,    0.061061,    0.062062,    0.063063,    0.064064,    0.065065,    0.066066,    0.067067,    0.068068,    0.069069,     0.07007,    0.071071,\n",
       "          0.072072,    0.073073,    0.074074,    0.075075,    0.076076,    0.077077,    0.078078,    0.079079,     0.08008,    0.081081,    0.082082,    0.083083,    0.084084,    0.085085,    0.086086,    0.087087,    0.088088,    0.089089,     0.09009,    0.091091,    0.092092,    0.093093,    0.094094,    0.095095,\n",
       "          0.096096,    0.097097,    0.098098,    0.099099,      0.1001,      0.1011,      0.1021,      0.1031,      0.1041,     0.10511,     0.10611,     0.10711,     0.10811,     0.10911,     0.11011,     0.11111,     0.11211,     0.11311,     0.11411,     0.11512,     0.11612,     0.11712,     0.11812,     0.11912,\n",
       "           0.12012,     0.12112,     0.12212,     0.12312,     0.12412,     0.12513,     0.12613,     0.12713,     0.12813,     0.12913,     0.13013,     0.13113,     0.13213,     0.13313,     0.13413,     0.13514,     0.13614,     0.13714,     0.13814,     0.13914,     0.14014,     0.14114,     0.14214,     0.14314,\n",
       "           0.14414,     0.14515,     0.14615,     0.14715,     0.14815,     0.14915,     0.15015,     0.15115,     0.15215,     0.15315,     0.15415,     0.15516,     0.15616,     0.15716,     0.15816,     0.15916,     0.16016,     0.16116,     0.16216,     0.16316,     0.16416,     0.16517,     0.16617,     0.16717,\n",
       "           0.16817,     0.16917,     0.17017,     0.17117,     0.17217,     0.17317,     0.17417,     0.17518,     0.17618,     0.17718,     0.17818,     0.17918,     0.18018,     0.18118,     0.18218,     0.18318,     0.18418,     0.18519,     0.18619,     0.18719,     0.18819,     0.18919,     0.19019,     0.19119,\n",
       "           0.19219,     0.19319,     0.19419,      0.1952,      0.1962,      0.1972,      0.1982,      0.1992,      0.2002,      0.2012,      0.2022,      0.2032,      0.2042,     0.20521,     0.20621,     0.20721,     0.20821,     0.20921,     0.21021,     0.21121,     0.21221,     0.21321,     0.21421,     0.21522,\n",
       "           0.21622,     0.21722,     0.21822,     0.21922,     0.22022,     0.22122,     0.22222,     0.22322,     0.22422,     0.22523,     0.22623,     0.22723,     0.22823,     0.22923,     0.23023,     0.23123,     0.23223,     0.23323,     0.23423,     0.23524,     0.23624,     0.23724,     0.23824,     0.23924,\n",
       "           0.24024,     0.24124,     0.24224,     0.24324,     0.24424,     0.24525,     0.24625,     0.24725,     0.24825,     0.24925,     0.25025,     0.25125,     0.25225,     0.25325,     0.25425,     0.25526,     0.25626,     0.25726,     0.25826,     0.25926,     0.26026,     0.26126,     0.26226,     0.26326,\n",
       "           0.26426,     0.26527,     0.26627,     0.26727,     0.26827,     0.26927,     0.27027,     0.27127,     0.27227,     0.27327,     0.27427,     0.27528,     0.27628,     0.27728,     0.27828,     0.27928,     0.28028,     0.28128,     0.28228,     0.28328,     0.28428,     0.28529,     0.28629,     0.28729,\n",
       "           0.28829,     0.28929,     0.29029,     0.29129,     0.29229,     0.29329,     0.29429,      0.2953,      0.2963,      0.2973,      0.2983,      0.2993,      0.3003,      0.3013,      0.3023,      0.3033,      0.3043,     0.30531,     0.30631,     0.30731,     0.30831,     0.30931,     0.31031,     0.31131,\n",
       "           0.31231,     0.31331,     0.31431,     0.31532,     0.31632,     0.31732,     0.31832,     0.31932,     0.32032,     0.32132,     0.32232,     0.32332,     0.32432,     0.32533,     0.32633,     0.32733,     0.32833,     0.32933,     0.33033,     0.33133,     0.33233,     0.33333,     0.33433,     0.33534,\n",
       "           0.33634,     0.33734,     0.33834,     0.33934,     0.34034,     0.34134,     0.34234,     0.34334,     0.34434,     0.34535,     0.34635,     0.34735,     0.34835,     0.34935,     0.35035,     0.35135,     0.35235,     0.35335,     0.35435,     0.35536,     0.35636,     0.35736,     0.35836,     0.35936,\n",
       "           0.36036,     0.36136,     0.36236,     0.36336,     0.36436,     0.36537,     0.36637,     0.36737,     0.36837,     0.36937,     0.37037,     0.37137,     0.37237,     0.37337,     0.37437,     0.37538,     0.37638,     0.37738,     0.37838,     0.37938,     0.38038,     0.38138,     0.38238,     0.38338,\n",
       "           0.38438,     0.38539,     0.38639,     0.38739,     0.38839,     0.38939,     0.39039,     0.39139,     0.39239,     0.39339,     0.39439,      0.3954,      0.3964,      0.3974,      0.3984,      0.3994,      0.4004,      0.4014,      0.4024,      0.4034,      0.4044,     0.40541,     0.40641,     0.40741,\n",
       "           0.40841,     0.40941,     0.41041,     0.41141,     0.41241,     0.41341,     0.41441,     0.41542,     0.41642,     0.41742,     0.41842,     0.41942,     0.42042,     0.42142,     0.42242,     0.42342,     0.42442,     0.42543,     0.42643,     0.42743,     0.42843,     0.42943,     0.43043,     0.43143,\n",
       "           0.43243,     0.43343,     0.43443,     0.43544,     0.43644,     0.43744,     0.43844,     0.43944,     0.44044,     0.44144,     0.44244,     0.44344,     0.44444,     0.44545,     0.44645,     0.44745,     0.44845,     0.44945,     0.45045,     0.45145,     0.45245,     0.45345,     0.45445,     0.45546,\n",
       "           0.45646,     0.45746,     0.45846,     0.45946,     0.46046,     0.46146,     0.46246,     0.46346,     0.46446,     0.46547,     0.46647,     0.46747,     0.46847,     0.46947,     0.47047,     0.47147,     0.47247,     0.47347,     0.47447,     0.47548,     0.47648,     0.47748,     0.47848,     0.47948,\n",
       "           0.48048,     0.48148,     0.48248,     0.48348,     0.48448,     0.48549,     0.48649,     0.48749,     0.48849,     0.48949,     0.49049,     0.49149,     0.49249,     0.49349,     0.49449,      0.4955,      0.4965,      0.4975,      0.4985,      0.4995,      0.5005,      0.5015,      0.5025,      0.5035,\n",
       "            0.5045,     0.50551,     0.50651,     0.50751,     0.50851,     0.50951,     0.51051,     0.51151,     0.51251,     0.51351,     0.51451,     0.51552,     0.51652,     0.51752,     0.51852,     0.51952,     0.52052,     0.52152,     0.52252,     0.52352,     0.52452,     0.52553,     0.52653,     0.52753,\n",
       "           0.52853,     0.52953,     0.53053,     0.53153,     0.53253,     0.53353,     0.53453,     0.53554,     0.53654,     0.53754,     0.53854,     0.53954,     0.54054,     0.54154,     0.54254,     0.54354,     0.54454,     0.54555,     0.54655,     0.54755,     0.54855,     0.54955,     0.55055,     0.55155,\n",
       "           0.55255,     0.55355,     0.55455,     0.55556,     0.55656,     0.55756,     0.55856,     0.55956,     0.56056,     0.56156,     0.56256,     0.56356,     0.56456,     0.56557,     0.56657,     0.56757,     0.56857,     0.56957,     0.57057,     0.57157,     0.57257,     0.57357,     0.57457,     0.57558,\n",
       "           0.57658,     0.57758,     0.57858,     0.57958,     0.58058,     0.58158,     0.58258,     0.58358,     0.58458,     0.58559,     0.58659,     0.58759,     0.58859,     0.58959,     0.59059,     0.59159,     0.59259,     0.59359,     0.59459,      0.5956,      0.5966,      0.5976,      0.5986,      0.5996,\n",
       "            0.6006,      0.6016,      0.6026,      0.6036,      0.6046,     0.60561,     0.60661,     0.60761,     0.60861,     0.60961,     0.61061,     0.61161,     0.61261,     0.61361,     0.61461,     0.61562,     0.61662,     0.61762,     0.61862,     0.61962,     0.62062,     0.62162,     0.62262,     0.62362,\n",
       "           0.62462,     0.62563,     0.62663,     0.62763,     0.62863,     0.62963,     0.63063,     0.63163,     0.63263,     0.63363,     0.63463,     0.63564,     0.63664,     0.63764,     0.63864,     0.63964,     0.64064,     0.64164,     0.64264,     0.64364,     0.64464,     0.64565,     0.64665,     0.64765,\n",
       "           0.64865,     0.64965,     0.65065,     0.65165,     0.65265,     0.65365,     0.65465,     0.65566,     0.65666,     0.65766,     0.65866,     0.65966,     0.66066,     0.66166,     0.66266,     0.66366,     0.66466,     0.66567,     0.66667,     0.66767,     0.66867,     0.66967,     0.67067,     0.67167,\n",
       "           0.67267,     0.67367,     0.67467,     0.67568,     0.67668,     0.67768,     0.67868,     0.67968,     0.68068,     0.68168,     0.68268,     0.68368,     0.68468,     0.68569,     0.68669,     0.68769,     0.68869,     0.68969,     0.69069,     0.69169,     0.69269,     0.69369,     0.69469,      0.6957,\n",
       "            0.6967,      0.6977,      0.6987,      0.6997,      0.7007,      0.7017,      0.7027,      0.7037,      0.7047,     0.70571,     0.70671,     0.70771,     0.70871,     0.70971,     0.71071,     0.71171,     0.71271,     0.71371,     0.71471,     0.71572,     0.71672,     0.71772,     0.71872,     0.71972,\n",
       "           0.72072,     0.72172,     0.72272,     0.72372,     0.72472,     0.72573,     0.72673,     0.72773,     0.72873,     0.72973,     0.73073,     0.73173,     0.73273,     0.73373,     0.73473,     0.73574,     0.73674,     0.73774,     0.73874,     0.73974,     0.74074,     0.74174,     0.74274,     0.74374,\n",
       "           0.74474,     0.74575,     0.74675,     0.74775,     0.74875,     0.74975,     0.75075,     0.75175,     0.75275,     0.75375,     0.75475,     0.75576,     0.75676,     0.75776,     0.75876,     0.75976,     0.76076,     0.76176,     0.76276,     0.76376,     0.76476,     0.76577,     0.76677,     0.76777,\n",
       "           0.76877,     0.76977,     0.77077,     0.77177,     0.77277,     0.77377,     0.77477,     0.77578,     0.77678,     0.77778,     0.77878,     0.77978,     0.78078,     0.78178,     0.78278,     0.78378,     0.78478,     0.78579,     0.78679,     0.78779,     0.78879,     0.78979,     0.79079,     0.79179,\n",
       "           0.79279,     0.79379,     0.79479,      0.7958,      0.7968,      0.7978,      0.7988,      0.7998,      0.8008,      0.8018,      0.8028,      0.8038,      0.8048,     0.80581,     0.80681,     0.80781,     0.80881,     0.80981,     0.81081,     0.81181,     0.81281,     0.81381,     0.81481,     0.81582,\n",
       "           0.81682,     0.81782,     0.81882,     0.81982,     0.82082,     0.82182,     0.82282,     0.82382,     0.82482,     0.82583,     0.82683,     0.82783,     0.82883,     0.82983,     0.83083,     0.83183,     0.83283,     0.83383,     0.83483,     0.83584,     0.83684,     0.83784,     0.83884,     0.83984,\n",
       "           0.84084,     0.84184,     0.84284,     0.84384,     0.84484,     0.84585,     0.84685,     0.84785,     0.84885,     0.84985,     0.85085,     0.85185,     0.85285,     0.85385,     0.85485,     0.85586,     0.85686,     0.85786,     0.85886,     0.85986,     0.86086,     0.86186,     0.86286,     0.86386,\n",
       "           0.86486,     0.86587,     0.86687,     0.86787,     0.86887,     0.86987,     0.87087,     0.87187,     0.87287,     0.87387,     0.87487,     0.87588,     0.87688,     0.87788,     0.87888,     0.87988,     0.88088,     0.88188,     0.88288,     0.88388,     0.88488,     0.88589,     0.88689,     0.88789,\n",
       "           0.88889,     0.88989,     0.89089,     0.89189,     0.89289,     0.89389,     0.89489,      0.8959,      0.8969,      0.8979,      0.8989,      0.8999,      0.9009,      0.9019,      0.9029,      0.9039,      0.9049,     0.90591,     0.90691,     0.90791,     0.90891,     0.90991,     0.91091,     0.91191,\n",
       "           0.91291,     0.91391,     0.91491,     0.91592,     0.91692,     0.91792,     0.91892,     0.91992,     0.92092,     0.92192,     0.92292,     0.92392,     0.92492,     0.92593,     0.92693,     0.92793,     0.92893,     0.92993,     0.93093,     0.93193,     0.93293,     0.93393,     0.93493,     0.93594,\n",
       "           0.93694,     0.93794,     0.93894,     0.93994,     0.94094,     0.94194,     0.94294,     0.94394,     0.94494,     0.94595,     0.94695,     0.94795,     0.94895,     0.94995,     0.95095,     0.95195,     0.95295,     0.95395,     0.95495,     0.95596,     0.95696,     0.95796,     0.95896,     0.95996,\n",
       "           0.96096,     0.96196,     0.96296,     0.96396,     0.96496,     0.96597,     0.96697,     0.96797,     0.96897,     0.96997,     0.97097,     0.97197,     0.97297,     0.97397,     0.97497,     0.97598,     0.97698,     0.97798,     0.97898,     0.97998,     0.98098,     0.98198,     0.98298,     0.98398,\n",
       "           0.98498,     0.98599,     0.98699,     0.98799,     0.98899,     0.98999,     0.99099,     0.99199,     0.99299,     0.99399,     0.99499,       0.996,       0.997,       0.998,       0.999,           1]), array([[          1,           1,           1,           1,           1,           1,     0.98246,     0.98246,     0.98246,     0.98246,     0.98246,     0.98246,     0.98246,     0.98246,     0.98246,     0.98246,     0.98246,     0.98246,     0.98246,     0.98246,     0.98246,     0.98246,     0.98246,\n",
       "            0.98246,     0.98246,     0.98246,     0.98246,     0.98246,     0.98246,     0.98246,     0.98246,     0.98246,     0.98246,     0.98246,     0.98246,     0.98246,     0.98246,     0.98246,     0.98246,     0.98246,     0.98246,     0.98246,     0.98246,     0.98246,     0.98246,     0.98246,\n",
       "            0.98246,     0.98246,     0.97701,     0.97701,     0.97701,     0.97701,     0.97701,     0.97701,     0.97701,     0.97701,     0.97701,     0.97701,     0.97701,     0.97701,     0.97701,     0.97701,     0.97701,     0.97701,     0.97701,     0.97701,     0.97701,     0.97701,     0.97701,\n",
       "            0.97701,     0.97701,     0.97701,     0.96774,     0.96774,     0.96774,     0.96774,     0.95276,     0.95276,     0.95276,     0.95276,     0.95276,     0.95276,     0.95276,     0.95276,     0.95276,     0.95276,     0.95276,     0.95276,     0.95276,     0.95276,     0.95276,     0.95276,\n",
       "            0.95276,     0.95276,     0.95276,     0.95276,     0.95276,     0.95276,     0.95276,     0.95276,     0.95276,     0.95276,     0.94937,     0.94937,     0.94937,     0.94937,     0.94937,     0.94937,     0.94937,     0.94937,     0.94937,     0.94937,     0.94937,     0.94937,     0.94937,\n",
       "            0.94937,     0.94937,     0.94937,     0.94937,     0.94937,     0.94937,     0.94937,     0.94937,     0.94937,     0.94937,     0.94937,     0.94937,     0.94706,     0.94706,     0.94706,     0.94706,     0.94706,     0.94706,     0.94706,     0.94706,     0.94706,     0.94419,     0.94419,\n",
       "            0.94419,     0.94419,     0.94419,     0.94419,     0.94419,     0.94419,     0.94419,     0.94419,     0.94419,     0.94419,     0.94419,     0.94419,     0.94419,     0.94419,     0.94419,     0.94419,     0.94419,     0.94419,     0.94419,     0.94419,     0.94419,     0.94419,     0.94419,\n",
       "            0.94419,     0.94419,     0.94419,     0.94419,     0.94419,     0.94419,     0.94419,     0.94419,     0.94419,     0.94419,     0.94397,     0.94397,     0.94397,     0.94397,     0.94397,     0.94397,     0.94397,     0.94397,     0.94397,     0.94397,     0.94397,     0.94397,     0.94397,\n",
       "            0.94397,     0.94167,     0.94167,     0.94167,     0.94167,     0.94167,     0.93469,     0.93469,     0.93469,     0.93385,     0.93385,     0.93385,     0.93385,     0.93385,     0.93385,     0.93385,     0.93385,     0.93385,     0.93258,     0.93258,     0.93258,     0.93258,     0.93258,\n",
       "            0.93258,     0.93258,     0.93258,     0.93069,     0.93069,     0.93069,     0.93069,     0.93069,     0.93069,     0.93069,     0.93069,     0.93069,     0.93069,     0.93069,     0.93069,     0.93069,     0.93069,     0.93069,     0.93069,     0.93069,     0.93069,     0.93069,     0.93069,\n",
       "            0.93069,     0.93069,     0.93069,     0.93069,     0.93069,     0.93069,     0.93069,      0.9281,      0.9281,     0.92332,     0.92332,     0.92332,     0.92332,     0.92089,     0.92089,     0.91824,     0.91641,     0.91641,     0.91641,     0.91411,     0.91411,     0.91159,      0.9115,\n",
       "             0.9115,      0.9115,      0.9115,      0.9115,      0.9115,      0.9115,      0.9115,     0.90935,     0.90935,     0.90935,     0.90935,     0.90935,     0.90935,     0.90935,     0.90935,     0.90935,     0.90935,     0.90909,     0.90909,     0.90909,     0.90909,     0.90909,     0.90909,\n",
       "            0.90909,     0.90909,     0.90541,     0.90541,     0.90541,     0.90541,     0.90323,     0.90107,      0.8971,      0.8971,     0.89487,     0.89487,     0.89487,     0.89487,     0.89487,     0.89487,     0.89487,     0.89487,     0.89114,     0.89114,     0.88945,     0.88945,     0.88806,\n",
       "            0.88806,      0.8867,      0.8867,      0.8867,      0.8848,     0.88406,     0.88406,     0.88406,     0.88406,     0.88389,     0.88389,     0.88389,     0.88389,     0.88389,     0.88389,     0.88028,     0.88028,     0.87126,     0.87126,     0.87126,     0.86986,     0.86986,     0.86878,\n",
       "            0.86878,     0.86842,     0.86842,     0.86842,     0.86842,     0.86842,     0.86842,     0.86842,     0.86842,     0.86842,     0.86842,      0.8671,      0.8671,      0.8658,      0.8658,     0.86081,     0.85957,     0.85957,     0.85805,     0.85684,     0.85535,     0.85216,     0.85216,\n",
       "            0.85216,     0.85216,     0.85216,     0.85216,     0.85072,      0.8499,      0.8499,      0.8499,     0.84879,     0.84631,     0.84631,     0.84631,     0.84554,     0.84554,     0.84449,     0.84449,     0.84314,     0.84047,     0.83955,     0.83955,     0.83955,     0.83955,     0.83955,\n",
       "            0.83955,     0.83955,     0.83955,     0.83955,     0.83955,     0.83955,     0.83955,     0.83955,     0.83955,     0.83955,     0.83955,     0.83859,     0.83824,     0.83824,     0.83824,     0.83824,     0.83607,     0.83607,     0.83604,     0.83604,     0.83604,     0.83604,     0.83507,\n",
       "            0.83507,     0.83507,     0.83507,     0.83507,     0.83507,     0.83507,     0.83507,     0.83507,     0.83507,     0.83507,     0.83507,     0.83507,     0.83507,     0.83507,      0.8299,     0.82624,     0.82624,     0.82234,     0.82155,     0.82155,     0.81847,     0.81847,     0.81847,\n",
       "            0.81847,     0.81847,     0.81847,     0.81847,     0.81847,     0.81847,     0.81847,     0.81847,     0.81847,     0.81847,     0.81847,     0.81847,     0.81847,     0.81847,     0.81847,     0.81847,     0.81847,     0.81847,     0.81775,     0.81775,     0.81675,     0.81633,     0.81633,\n",
       "            0.81435,     0.81435,     0.81337,     0.81298,     0.81298,     0.80952,     0.80734,     0.80699,     0.80699,     0.80699,     0.80635,     0.80568,     0.80568,     0.80568,     0.80568,     0.80568,     0.80238,     0.80147,     0.80147,     0.80147,     0.80147,     0.80117,     0.80117,\n",
       "            0.80117,     0.80058,     0.80058,     0.79971,     0.79971,     0.79971,     0.79971,     0.79885,     0.79714,     0.79403,      0.7932,     0.79014,     0.78933,     0.78412,     0.77931,     0.77854,     0.77702,     0.77702,     0.77612,     0.77612,     0.77612,     0.77358,     0.77358,\n",
       "            0.77285,     0.76729,     0.76253,     0.76184,     0.76016,      0.7588,     0.75844,     0.75844,     0.75809,     0.75809,     0.75481,     0.75481,     0.75159,     0.74905,     0.74717,     0.74717,     0.74717,     0.74593,     0.74566,     0.74566,     0.74566,     0.74566,     0.74505,\n",
       "            0.74353,     0.73723,     0.73723,     0.73723,     0.73221,     0.73086,     0.73086,     0.73086,     0.73063,     0.73063,     0.72556,     0.72556,     0.72365,     0.72365,     0.72313,     0.72158,     0.72158,      0.7194,     0.71332,     0.71332,     0.71332,     0.71332,     0.71332,\n",
       "            0.71332,     0.71332,     0.71332,     0.71156,     0.71029,     0.70745,     0.70699,     0.70575,     0.70306,     0.70306,     0.70306,     0.70306,     0.70306,     0.69913,     0.69795,     0.69752,      0.6971,       0.697,     0.69658,     0.69649,     0.69649,     0.69639,     0.69639,\n",
       "            0.69304,     0.68933,     0.68634,     0.68634,     0.68634,     0.68634,     0.68066,     0.67785,     0.67785,     0.67611,     0.67404,     0.67234,     0.67133,     0.67099,     0.66865,     0.66798,       0.667,     0.66569,     0.66569,     0.66536,     0.66504,     0.66407,     0.66023,\n",
       "            0.65865,     0.65679,     0.65679,     0.65649,     0.65033,       0.647,     0.64585,     0.64585,     0.64498,     0.63836,     0.63836,     0.63836,     0.63836,     0.63636,     0.61993,     0.61993,     0.61842,     0.61842,     0.61767,     0.60739,     0.59983,     0.59631,     0.59631,\n",
       "            0.59631,     0.59417,     0.58511,     0.57695,      0.5736,     0.56382,     0.56382,     0.55978,     0.55453,     0.55445,     0.54724,     0.51823,     0.50486,     0.49356,      0.4929,     0.48829,     0.48475,     0.48445,     0.45365,     0.43083,     0.42153,     0.41899,     0.41137,\n",
       "            0.35818,      0.3492,     0.30891,     0.29887,     0.29477,     0.27426,     0.27263,     0.24711,     0.23892,     0.22908,     0.19317,     0.19303,     0.18878,     0.18015,     0.17035,      0.1544,     0.15165,     0.14902,     0.14305,     0.14216,     0.14041,     0.11603,     0.11481,\n",
       "            0.10978,     0.10179,    0.092942,    0.079946,    0.070406,    0.064197,     0.06194,    0.061154,    0.054929,     0.05477,    0.054612,    0.054454,    0.054295,    0.054137,    0.053979,    0.053821,    0.053662,    0.053504,    0.053346,    0.053187,    0.053029,    0.052871,    0.052712,\n",
       "           0.052554,    0.052396,    0.052238,    0.052079,    0.051921,    0.051763,    0.051604,    0.051446,    0.051288,     0.05113,    0.050971,    0.050813,    0.050655,    0.050496,    0.050338,     0.05018,    0.050021,    0.049863,    0.049705,    0.049547,    0.049388,     0.04923,    0.049072,\n",
       "           0.048913,    0.048755,    0.048597,    0.048439,     0.04828,    0.048122,    0.047964,    0.047805,    0.047647,    0.047489,     0.04733,    0.047172,    0.047014,    0.046856,    0.046697,    0.046539,    0.046381,    0.046222,    0.046064,    0.045906,    0.045747,    0.045589,    0.045431,\n",
       "           0.045273,    0.045114,    0.044956,    0.044798,    0.044639,    0.044481,    0.044323,    0.044165,    0.044006,    0.043848,     0.04369,    0.043531,    0.043373,    0.043215,    0.043056,    0.042898,     0.04274,    0.042582,    0.042423,    0.042265,    0.042107,    0.041948,     0.04179,\n",
       "           0.041632,    0.041473,    0.041315,    0.041157,    0.040999,     0.04084,    0.040682,    0.040524,    0.040365,    0.040207,    0.040049,    0.039891,    0.039732,    0.039574,    0.039416,    0.039257,    0.039099,    0.038941,    0.038782,    0.038624,    0.038466,    0.038308,    0.038149,\n",
       "           0.037991,    0.037833,    0.037674,    0.037516,    0.037358,      0.0372,    0.037041,    0.036883,    0.036725,    0.036566,    0.036408,     0.03625,    0.036091,    0.035933,    0.035775,    0.035617,    0.035458,      0.0353,    0.035142,    0.034983,    0.034825,    0.034667,    0.034508,\n",
       "            0.03435,    0.034192,    0.034034,    0.033875,    0.033717,    0.033559,      0.0334,    0.033242,    0.033084,    0.032926,    0.032767,    0.032609,    0.032451,    0.032292,    0.032134,    0.031976,    0.031817,    0.031659,    0.031501,    0.031343,    0.031184,    0.031026,    0.030868,\n",
       "           0.030709,    0.030551,    0.030393,    0.030234,    0.030076,    0.029918,     0.02976,    0.029601,    0.029443,    0.029285,    0.029126,    0.028968,     0.02881,    0.028652,    0.028493,    0.028335,    0.028177,    0.028018,     0.02786,    0.027702,    0.027543,    0.027385,    0.027227,\n",
       "           0.027069,     0.02691,    0.026752,    0.026594,    0.026435,    0.026277,    0.026119,    0.025961,    0.025802,    0.025644,    0.025486,    0.025327,    0.025169,    0.025011,    0.024852,    0.024694,    0.024536,    0.024378,    0.024219,    0.024061,    0.023903,    0.023744,    0.023586,\n",
       "           0.023428,    0.023269,    0.023111,    0.022953,    0.022795,    0.022636,    0.022478,     0.02232,    0.022161,    0.022003,    0.021845,    0.021687,    0.021528,     0.02137,    0.021212,    0.021053,    0.020895,    0.020737,    0.020578,     0.02042,    0.020262,    0.020104,    0.019945,\n",
       "           0.019787,    0.019629,     0.01947,    0.019312,    0.019154,    0.018995,    0.018837,    0.018679,    0.018521,    0.018362,    0.018204,    0.018046,    0.017887,    0.017729,    0.017571,    0.017413,    0.017254,    0.017096,    0.016938,    0.016779,    0.016621,    0.016463,    0.016304,\n",
       "           0.016146,    0.015988,     0.01583,    0.015671,    0.015513,    0.015355,    0.015196,    0.015038,     0.01488,    0.014722,    0.014563,    0.014405,    0.014247,    0.014088,     0.01393,    0.013772,    0.013613,    0.013455,    0.013297,    0.013139,     0.01298,    0.012822,    0.012664,\n",
       "           0.012505,    0.012347,    0.012189,     0.01203,    0.011872,    0.011714,    0.011556,    0.011397,    0.011239,    0.011081,    0.010922,    0.010764,    0.010606,    0.010448,    0.010289,    0.010131,   0.0099726,   0.0098143,    0.009656,   0.0094977,   0.0093395,   0.0091812,   0.0090229,\n",
       "          0.0088646,   0.0087063,    0.008548,   0.0083897,   0.0082314,   0.0080731,   0.0079148,   0.0077565,   0.0075982,   0.0074399,   0.0072816,   0.0071233,    0.006965,   0.0068067,   0.0066484,   0.0064901,   0.0063318,   0.0061735,   0.0060152,   0.0058569,   0.0056986,   0.0055404,   0.0053821,\n",
       "          0.0052238,   0.0050655,   0.0049072,   0.0047489,   0.0045906,   0.0044323,    0.004274,   0.0041157,   0.0039574,   0.0037991,   0.0036408,   0.0034825,   0.0033242,   0.0031659,   0.0030076,   0.0028493,    0.002691,   0.0025327,   0.0023744,   0.0022161,   0.0020578,   0.0018995,   0.0017413,\n",
       "           0.001583,   0.0014247,   0.0012664,   0.0011081,  0.00094977,  0.00079148,  0.00063318,  0.00047489,  0.00031659,   0.0001583,           0]]), 'Recall', 'Precision'], [array([          0,    0.001001,    0.002002,    0.003003,    0.004004,    0.005005,    0.006006,    0.007007,    0.008008,    0.009009,     0.01001,    0.011011,    0.012012,    0.013013,    0.014014,    0.015015,    0.016016,    0.017017,    0.018018,    0.019019,     0.02002,    0.021021,    0.022022,    0.023023,\n",
       "          0.024024,    0.025025,    0.026026,    0.027027,    0.028028,    0.029029,     0.03003,    0.031031,    0.032032,    0.033033,    0.034034,    0.035035,    0.036036,    0.037037,    0.038038,    0.039039,     0.04004,    0.041041,    0.042042,    0.043043,    0.044044,    0.045045,    0.046046,    0.047047,\n",
       "          0.048048,    0.049049,     0.05005,    0.051051,    0.052052,    0.053053,    0.054054,    0.055055,    0.056056,    0.057057,    0.058058,    0.059059,     0.06006,    0.061061,    0.062062,    0.063063,    0.064064,    0.065065,    0.066066,    0.067067,    0.068068,    0.069069,     0.07007,    0.071071,\n",
       "          0.072072,    0.073073,    0.074074,    0.075075,    0.076076,    0.077077,    0.078078,    0.079079,     0.08008,    0.081081,    0.082082,    0.083083,    0.084084,    0.085085,    0.086086,    0.087087,    0.088088,    0.089089,     0.09009,    0.091091,    0.092092,    0.093093,    0.094094,    0.095095,\n",
       "          0.096096,    0.097097,    0.098098,    0.099099,      0.1001,      0.1011,      0.1021,      0.1031,      0.1041,     0.10511,     0.10611,     0.10711,     0.10811,     0.10911,     0.11011,     0.11111,     0.11211,     0.11311,     0.11411,     0.11512,     0.11612,     0.11712,     0.11812,     0.11912,\n",
       "           0.12012,     0.12112,     0.12212,     0.12312,     0.12412,     0.12513,     0.12613,     0.12713,     0.12813,     0.12913,     0.13013,     0.13113,     0.13213,     0.13313,     0.13413,     0.13514,     0.13614,     0.13714,     0.13814,     0.13914,     0.14014,     0.14114,     0.14214,     0.14314,\n",
       "           0.14414,     0.14515,     0.14615,     0.14715,     0.14815,     0.14915,     0.15015,     0.15115,     0.15215,     0.15315,     0.15415,     0.15516,     0.15616,     0.15716,     0.15816,     0.15916,     0.16016,     0.16116,     0.16216,     0.16316,     0.16416,     0.16517,     0.16617,     0.16717,\n",
       "           0.16817,     0.16917,     0.17017,     0.17117,     0.17217,     0.17317,     0.17417,     0.17518,     0.17618,     0.17718,     0.17818,     0.17918,     0.18018,     0.18118,     0.18218,     0.18318,     0.18418,     0.18519,     0.18619,     0.18719,     0.18819,     0.18919,     0.19019,     0.19119,\n",
       "           0.19219,     0.19319,     0.19419,      0.1952,      0.1962,      0.1972,      0.1982,      0.1992,      0.2002,      0.2012,      0.2022,      0.2032,      0.2042,     0.20521,     0.20621,     0.20721,     0.20821,     0.20921,     0.21021,     0.21121,     0.21221,     0.21321,     0.21421,     0.21522,\n",
       "           0.21622,     0.21722,     0.21822,     0.21922,     0.22022,     0.22122,     0.22222,     0.22322,     0.22422,     0.22523,     0.22623,     0.22723,     0.22823,     0.22923,     0.23023,     0.23123,     0.23223,     0.23323,     0.23423,     0.23524,     0.23624,     0.23724,     0.23824,     0.23924,\n",
       "           0.24024,     0.24124,     0.24224,     0.24324,     0.24424,     0.24525,     0.24625,     0.24725,     0.24825,     0.24925,     0.25025,     0.25125,     0.25225,     0.25325,     0.25425,     0.25526,     0.25626,     0.25726,     0.25826,     0.25926,     0.26026,     0.26126,     0.26226,     0.26326,\n",
       "           0.26426,     0.26527,     0.26627,     0.26727,     0.26827,     0.26927,     0.27027,     0.27127,     0.27227,     0.27327,     0.27427,     0.27528,     0.27628,     0.27728,     0.27828,     0.27928,     0.28028,     0.28128,     0.28228,     0.28328,     0.28428,     0.28529,     0.28629,     0.28729,\n",
       "           0.28829,     0.28929,     0.29029,     0.29129,     0.29229,     0.29329,     0.29429,      0.2953,      0.2963,      0.2973,      0.2983,      0.2993,      0.3003,      0.3013,      0.3023,      0.3033,      0.3043,     0.30531,     0.30631,     0.30731,     0.30831,     0.30931,     0.31031,     0.31131,\n",
       "           0.31231,     0.31331,     0.31431,     0.31532,     0.31632,     0.31732,     0.31832,     0.31932,     0.32032,     0.32132,     0.32232,     0.32332,     0.32432,     0.32533,     0.32633,     0.32733,     0.32833,     0.32933,     0.33033,     0.33133,     0.33233,     0.33333,     0.33433,     0.33534,\n",
       "           0.33634,     0.33734,     0.33834,     0.33934,     0.34034,     0.34134,     0.34234,     0.34334,     0.34434,     0.34535,     0.34635,     0.34735,     0.34835,     0.34935,     0.35035,     0.35135,     0.35235,     0.35335,     0.35435,     0.35536,     0.35636,     0.35736,     0.35836,     0.35936,\n",
       "           0.36036,     0.36136,     0.36236,     0.36336,     0.36436,     0.36537,     0.36637,     0.36737,     0.36837,     0.36937,     0.37037,     0.37137,     0.37237,     0.37337,     0.37437,     0.37538,     0.37638,     0.37738,     0.37838,     0.37938,     0.38038,     0.38138,     0.38238,     0.38338,\n",
       "           0.38438,     0.38539,     0.38639,     0.38739,     0.38839,     0.38939,     0.39039,     0.39139,     0.39239,     0.39339,     0.39439,      0.3954,      0.3964,      0.3974,      0.3984,      0.3994,      0.4004,      0.4014,      0.4024,      0.4034,      0.4044,     0.40541,     0.40641,     0.40741,\n",
       "           0.40841,     0.40941,     0.41041,     0.41141,     0.41241,     0.41341,     0.41441,     0.41542,     0.41642,     0.41742,     0.41842,     0.41942,     0.42042,     0.42142,     0.42242,     0.42342,     0.42442,     0.42543,     0.42643,     0.42743,     0.42843,     0.42943,     0.43043,     0.43143,\n",
       "           0.43243,     0.43343,     0.43443,     0.43544,     0.43644,     0.43744,     0.43844,     0.43944,     0.44044,     0.44144,     0.44244,     0.44344,     0.44444,     0.44545,     0.44645,     0.44745,     0.44845,     0.44945,     0.45045,     0.45145,     0.45245,     0.45345,     0.45445,     0.45546,\n",
       "           0.45646,     0.45746,     0.45846,     0.45946,     0.46046,     0.46146,     0.46246,     0.46346,     0.46446,     0.46547,     0.46647,     0.46747,     0.46847,     0.46947,     0.47047,     0.47147,     0.47247,     0.47347,     0.47447,     0.47548,     0.47648,     0.47748,     0.47848,     0.47948,\n",
       "           0.48048,     0.48148,     0.48248,     0.48348,     0.48448,     0.48549,     0.48649,     0.48749,     0.48849,     0.48949,     0.49049,     0.49149,     0.49249,     0.49349,     0.49449,      0.4955,      0.4965,      0.4975,      0.4985,      0.4995,      0.5005,      0.5015,      0.5025,      0.5035,\n",
       "            0.5045,     0.50551,     0.50651,     0.50751,     0.50851,     0.50951,     0.51051,     0.51151,     0.51251,     0.51351,     0.51451,     0.51552,     0.51652,     0.51752,     0.51852,     0.51952,     0.52052,     0.52152,     0.52252,     0.52352,     0.52452,     0.52553,     0.52653,     0.52753,\n",
       "           0.52853,     0.52953,     0.53053,     0.53153,     0.53253,     0.53353,     0.53453,     0.53554,     0.53654,     0.53754,     0.53854,     0.53954,     0.54054,     0.54154,     0.54254,     0.54354,     0.54454,     0.54555,     0.54655,     0.54755,     0.54855,     0.54955,     0.55055,     0.55155,\n",
       "           0.55255,     0.55355,     0.55455,     0.55556,     0.55656,     0.55756,     0.55856,     0.55956,     0.56056,     0.56156,     0.56256,     0.56356,     0.56456,     0.56557,     0.56657,     0.56757,     0.56857,     0.56957,     0.57057,     0.57157,     0.57257,     0.57357,     0.57457,     0.57558,\n",
       "           0.57658,     0.57758,     0.57858,     0.57958,     0.58058,     0.58158,     0.58258,     0.58358,     0.58458,     0.58559,     0.58659,     0.58759,     0.58859,     0.58959,     0.59059,     0.59159,     0.59259,     0.59359,     0.59459,      0.5956,      0.5966,      0.5976,      0.5986,      0.5996,\n",
       "            0.6006,      0.6016,      0.6026,      0.6036,      0.6046,     0.60561,     0.60661,     0.60761,     0.60861,     0.60961,     0.61061,     0.61161,     0.61261,     0.61361,     0.61461,     0.61562,     0.61662,     0.61762,     0.61862,     0.61962,     0.62062,     0.62162,     0.62262,     0.62362,\n",
       "           0.62462,     0.62563,     0.62663,     0.62763,     0.62863,     0.62963,     0.63063,     0.63163,     0.63263,     0.63363,     0.63463,     0.63564,     0.63664,     0.63764,     0.63864,     0.63964,     0.64064,     0.64164,     0.64264,     0.64364,     0.64464,     0.64565,     0.64665,     0.64765,\n",
       "           0.64865,     0.64965,     0.65065,     0.65165,     0.65265,     0.65365,     0.65465,     0.65566,     0.65666,     0.65766,     0.65866,     0.65966,     0.66066,     0.66166,     0.66266,     0.66366,     0.66466,     0.66567,     0.66667,     0.66767,     0.66867,     0.66967,     0.67067,     0.67167,\n",
       "           0.67267,     0.67367,     0.67467,     0.67568,     0.67668,     0.67768,     0.67868,     0.67968,     0.68068,     0.68168,     0.68268,     0.68368,     0.68468,     0.68569,     0.68669,     0.68769,     0.68869,     0.68969,     0.69069,     0.69169,     0.69269,     0.69369,     0.69469,      0.6957,\n",
       "            0.6967,      0.6977,      0.6987,      0.6997,      0.7007,      0.7017,      0.7027,      0.7037,      0.7047,     0.70571,     0.70671,     0.70771,     0.70871,     0.70971,     0.71071,     0.71171,     0.71271,     0.71371,     0.71471,     0.71572,     0.71672,     0.71772,     0.71872,     0.71972,\n",
       "           0.72072,     0.72172,     0.72272,     0.72372,     0.72472,     0.72573,     0.72673,     0.72773,     0.72873,     0.72973,     0.73073,     0.73173,     0.73273,     0.73373,     0.73473,     0.73574,     0.73674,     0.73774,     0.73874,     0.73974,     0.74074,     0.74174,     0.74274,     0.74374,\n",
       "           0.74474,     0.74575,     0.74675,     0.74775,     0.74875,     0.74975,     0.75075,     0.75175,     0.75275,     0.75375,     0.75475,     0.75576,     0.75676,     0.75776,     0.75876,     0.75976,     0.76076,     0.76176,     0.76276,     0.76376,     0.76476,     0.76577,     0.76677,     0.76777,\n",
       "           0.76877,     0.76977,     0.77077,     0.77177,     0.77277,     0.77377,     0.77477,     0.77578,     0.77678,     0.77778,     0.77878,     0.77978,     0.78078,     0.78178,     0.78278,     0.78378,     0.78478,     0.78579,     0.78679,     0.78779,     0.78879,     0.78979,     0.79079,     0.79179,\n",
       "           0.79279,     0.79379,     0.79479,      0.7958,      0.7968,      0.7978,      0.7988,      0.7998,      0.8008,      0.8018,      0.8028,      0.8038,      0.8048,     0.80581,     0.80681,     0.80781,     0.80881,     0.80981,     0.81081,     0.81181,     0.81281,     0.81381,     0.81481,     0.81582,\n",
       "           0.81682,     0.81782,     0.81882,     0.81982,     0.82082,     0.82182,     0.82282,     0.82382,     0.82482,     0.82583,     0.82683,     0.82783,     0.82883,     0.82983,     0.83083,     0.83183,     0.83283,     0.83383,     0.83483,     0.83584,     0.83684,     0.83784,     0.83884,     0.83984,\n",
       "           0.84084,     0.84184,     0.84284,     0.84384,     0.84484,     0.84585,     0.84685,     0.84785,     0.84885,     0.84985,     0.85085,     0.85185,     0.85285,     0.85385,     0.85485,     0.85586,     0.85686,     0.85786,     0.85886,     0.85986,     0.86086,     0.86186,     0.86286,     0.86386,\n",
       "           0.86486,     0.86587,     0.86687,     0.86787,     0.86887,     0.86987,     0.87087,     0.87187,     0.87287,     0.87387,     0.87487,     0.87588,     0.87688,     0.87788,     0.87888,     0.87988,     0.88088,     0.88188,     0.88288,     0.88388,     0.88488,     0.88589,     0.88689,     0.88789,\n",
       "           0.88889,     0.88989,     0.89089,     0.89189,     0.89289,     0.89389,     0.89489,      0.8959,      0.8969,      0.8979,      0.8989,      0.8999,      0.9009,      0.9019,      0.9029,      0.9039,      0.9049,     0.90591,     0.90691,     0.90791,     0.90891,     0.90991,     0.91091,     0.91191,\n",
       "           0.91291,     0.91391,     0.91491,     0.91592,     0.91692,     0.91792,     0.91892,     0.91992,     0.92092,     0.92192,     0.92292,     0.92392,     0.92492,     0.92593,     0.92693,     0.92793,     0.92893,     0.92993,     0.93093,     0.93193,     0.93293,     0.93393,     0.93493,     0.93594,\n",
       "           0.93694,     0.93794,     0.93894,     0.93994,     0.94094,     0.94194,     0.94294,     0.94394,     0.94494,     0.94595,     0.94695,     0.94795,     0.94895,     0.94995,     0.95095,     0.95195,     0.95295,     0.95395,     0.95495,     0.95596,     0.95696,     0.95796,     0.95896,     0.95996,\n",
       "           0.96096,     0.96196,     0.96296,     0.96396,     0.96496,     0.96597,     0.96697,     0.96797,     0.96897,     0.96997,     0.97097,     0.97197,     0.97297,     0.97397,     0.97497,     0.97598,     0.97698,     0.97798,     0.97898,     0.97998,     0.98098,     0.98198,     0.98298,     0.98398,\n",
       "           0.98498,     0.98599,     0.98699,     0.98799,     0.98899,     0.98999,     0.99099,     0.99199,     0.99299,     0.99399,     0.99499,       0.996,       0.997,       0.998,       0.999,           1]), array([[    0.10155,     0.10155,     0.15132,     0.18712,     0.21421,     0.23766,     0.25671,     0.27384,     0.28956,     0.30238,     0.31506,     0.32634,     0.33498,     0.34231,      0.3511,     0.35905,     0.36644,     0.37496,     0.38138,     0.38683,     0.39273,     0.39779,     0.40323,\n",
       "            0.40813,     0.41379,     0.41802,     0.42155,      0.4259,     0.43021,     0.43281,      0.4358,     0.43873,      0.4417,     0.44561,     0.44755,     0.44877,       0.451,     0.45396,     0.45563,     0.45826,      0.4611,      0.4644,     0.46629,     0.46923,      0.4714,     0.47314,\n",
       "            0.47483,     0.47837,      0.4804,     0.48207,     0.48435,     0.48567,     0.48702,       0.489,     0.49174,     0.49242,     0.49354,      0.4948,     0.49543,     0.49689,     0.49861,      0.4999,      0.5013,     0.50134,     0.50212,     0.50351,     0.50478,     0.50596,     0.50692,\n",
       "            0.50775,     0.50849,     0.50955,     0.51042,     0.51258,     0.51354,     0.51587,     0.51831,     0.51991,     0.52243,     0.52249,     0.52414,     0.52549,     0.52663,     0.52731,     0.52835,     0.52982,     0.53064,     0.53192,     0.53247,     0.53294,     0.53348,     0.53452,\n",
       "            0.53551,     0.53629,     0.53658,     0.53755,     0.53877,     0.53906,     0.53963,     0.54008,      0.5405,     0.54133,     0.54156,     0.54198,     0.54207,     0.54188,     0.54384,     0.54357,      0.5438,      0.5442,     0.54454,     0.54471,     0.54517,      0.5457,     0.54583,\n",
       "            0.54645,     0.54603,      0.5468,     0.54748,     0.54791,     0.54812,     0.54854,      0.5493,     0.54976,     0.55009,     0.55097,     0.55147,     0.55241,     0.55253,     0.55282,     0.55371,     0.55451,     0.55485,     0.55529,     0.55545,     0.55619,     0.55663,     0.55707,\n",
       "            0.55741,     0.55801,     0.55823,     0.55893,      0.5596,     0.55982,     0.56015,     0.56059,     0.56125,     0.56158,     0.56236,      0.5629,     0.56334,     0.56349,      0.5636,     0.56434,     0.56527,     0.56567,     0.56608,      0.5664,     0.56671,     0.56746,      0.5676,\n",
       "            0.56799,     0.56854,     0.56865,     0.56904,     0.56943,     0.56987,     0.57019,     0.57047,     0.57173,     0.57197,     0.57239,     0.57303,      0.5734,     0.57387,     0.57424,      0.5753,     0.57562,     0.57613,     0.57622,     0.57657,      0.5767,     0.57716,     0.57763,\n",
       "            0.57793,     0.57814,     0.57834,     0.57876,     0.57914,     0.57924,     0.57934,     0.57947,     0.57967,     0.57988,     0.58001,     0.57957,     0.57936,     0.57998,     0.58066,     0.58093,     0.58155,     0.58213,     0.58186,     0.58195,     0.58204,     0.58262,     0.58297,\n",
       "            0.58382,     0.58331,     0.58283,     0.58296,     0.58261,     0.58283,      0.5831,     0.58371,     0.58407,     0.58513,     0.58576,     0.58658,     0.58685,     0.58707,     0.58732,     0.58777,      0.5877,     0.58764,     0.58781,     0.58823,      0.5885,     0.58898,     0.58876,\n",
       "            0.58888,     0.58956,     0.59004,      0.5902,     0.59032,     0.59071,     0.59098,     0.59116,     0.59133,      0.5916,      0.5918,     0.59197,     0.59215,     0.59249,     0.59282,     0.59306,     0.59266,     0.59203,     0.59214,     0.59264,     0.59293,      0.5931,     0.59349,\n",
       "             0.5936,     0.59379,     0.59438,     0.59471,     0.59498,     0.59515,     0.59573,     0.59607,     0.59666,      0.5968,     0.59682,     0.59655,     0.59634,     0.59651,     0.59679,     0.59708,     0.59716,     0.59724,     0.59733,     0.59733,     0.59653,     0.59616,     0.59637,\n",
       "            0.59645,     0.59653,     0.59663,     0.59674,     0.59683,      0.5969,     0.59696,     0.59703,     0.59714,     0.59729,     0.59746,      0.5976,      0.5977,     0.59781,     0.59772,      0.5975,     0.59717,     0.59725,     0.59733,     0.59744,     0.59758,     0.59786,     0.59838,\n",
       "            0.59881,     0.59928,     0.59948,     0.59963,      0.6002,     0.60046,     0.60055,     0.60065,     0.60039,     0.60142,     0.60164,     0.60175,     0.60185,     0.60199,     0.60216,       0.603,     0.60329,     0.60348,     0.60358,     0.60367,      0.6042,     0.60426,     0.60431,\n",
       "            0.60436,     0.60441,     0.60448,     0.60472,     0.60483,     0.60494,     0.60515,     0.60536,     0.60519,     0.60501,     0.60492,     0.60503,     0.60514,     0.60488,     0.60427,     0.60461,      0.6048,     0.60512,     0.60495,     0.60422,     0.60417,     0.60432,     0.60442,\n",
       "            0.60451,     0.60463,     0.60478,     0.60488,     0.60495,     0.60502,     0.60536,     0.60543,      0.6055,     0.60557,     0.60575,     0.60605,     0.60632,     0.60665,     0.60692,     0.60745,     0.60755,     0.60765,     0.60803,     0.60818,     0.60827,      0.6083,     0.60834,\n",
       "            0.60837,     0.60841,     0.60845,     0.60848,      0.6084,     0.60805,     0.60806,     0.60825,     0.60839,     0.60876,     0.60886,     0.60896,     0.60938,     0.60977,     0.60982,     0.60986,     0.60991,     0.60996,     0.61001,      0.6102,     0.61074,     0.61102,     0.61147,\n",
       "            0.61102,     0.61182,     0.61189,     0.61197,     0.61204,     0.61196,     0.61165,     0.61073,     0.61042,     0.61011,     0.61013,     0.61094,      0.6111,     0.61124,      0.6115,     0.61194,     0.61209,     0.61223,     0.61237,      0.6125,     0.61295,     0.61258,     0.61271,\n",
       "            0.61225,      0.6124,     0.61253,     0.61222,     0.61197,     0.61176,     0.61155,     0.61172,      0.6119,     0.61207,     0.61225,     0.61174,     0.61202,     0.61257,     0.61312,     0.61319,     0.61273,      0.6128,     0.61287,     0.61294,     0.61309,     0.61332,     0.61348,\n",
       "            0.61363,     0.61377,     0.61415,     0.61424,     0.61434,     0.61485,     0.61465,     0.61433,     0.61453,     0.61469,     0.61483,     0.61492,     0.61502,      0.6151,     0.61475,     0.61444,     0.61355,     0.61409,     0.61425,     0.61446,     0.61434,     0.61448,     0.61468,\n",
       "            0.61436,     0.61436,     0.61459,     0.61427,     0.61418,     0.61425,     0.61432,     0.61439,     0.61489,     0.61517,     0.61529,     0.61535,      0.6154,     0.61546,     0.61552,     0.61497,     0.61515,     0.61487,      0.6151,      0.6148,     0.61448,     0.61451,     0.61453,\n",
       "            0.61456,     0.61458,     0.61461,     0.61464,     0.61466,     0.61469,     0.61471,     0.61474,     0.61352,     0.61358,     0.61363,     0.61369,     0.61375,     0.61384,     0.61398,     0.61419,     0.61387,     0.61385,     0.61414,     0.61391,     0.61345,     0.61313,     0.61333,\n",
       "             0.6134,     0.61347,     0.61354,      0.6131,     0.61304,     0.61318,     0.61372,     0.61352,     0.61315,     0.61306,     0.61325,     0.61354,     0.61362,     0.61369,     0.61376,     0.61319,     0.61286,     0.61287,     0.61316,      0.6136,      0.6131,     0.61367,     0.61376,\n",
       "            0.61321,     0.61299,     0.61277,     0.61299,     0.61328,     0.61357,     0.61386,     0.61342,     0.61348,     0.61353,     0.61359,     0.61365,     0.61383,     0.61433,     0.61447,     0.61433,       0.614,     0.61422,     0.61429,     0.61437,     0.61444,     0.61477,     0.61482,\n",
       "            0.61486,      0.6149,     0.61494,     0.61498,     0.61502,     0.61427,     0.61373,     0.61335,     0.61306,     0.61313,     0.61321,     0.61328,     0.61391,     0.61397,     0.61403,     0.61409,     0.61415,      0.6142,     0.61425,      0.6143,     0.61435,      0.6144,     0.61445,\n",
       "            0.61416,     0.61383,     0.61387,     0.61395,     0.61402,     0.61438,      0.6145,     0.61462,     0.61448,     0.61414,     0.61449,     0.61478,     0.61443,     0.61444,     0.61463,     0.61477,     0.61504,     0.61521,     0.61536,     0.61544,     0.61551,     0.61557,     0.61564,\n",
       "            0.61451,     0.61458,     0.61442,     0.61425,     0.61408,     0.61363,     0.61354,     0.61323,     0.61285,     0.61211,     0.61176,     0.61128,     0.61143,     0.61134,     0.61092,     0.61107,     0.61121,     0.61132,     0.61144,     0.61125,     0.61102,      0.6108,     0.61167,\n",
       "            0.61197,      0.6122,     0.61161,     0.61051,     0.61005,     0.61008,     0.60991,     0.60974,     0.60957,     0.60927,     0.60893,      0.6092,     0.60935,      0.6091,      0.6092,      0.6093,     0.60907,     0.60956,     0.60887,     0.60912,     0.60942,     0.60905,     0.60938,\n",
       "            0.60913,     0.60933,     0.60948,     0.60907,     0.60907,     0.60896,     0.60868,     0.60829,     0.60693,     0.60661,     0.60615,     0.60524,     0.60505,     0.60485,     0.60443,     0.60403,     0.60376,     0.60391,     0.60486,     0.60496,     0.60506,     0.60548,     0.60583,\n",
       "            0.60634,     0.60649,     0.60603,     0.60555,     0.60513,     0.60528,     0.60491,     0.60495,     0.60469,     0.60434,     0.60421,     0.60351,      0.6032,     0.60332,     0.60343,     0.60328,     0.60312,     0.60296,     0.60281,     0.60295,     0.60338,     0.60353,     0.60438,\n",
       "            0.60401,     0.60328,     0.60343,     0.60196,      0.6016,     0.60162,     0.60126,     0.60117,     0.60168,     0.60218,     0.60239,     0.60266,     0.60121,     0.60141,     0.60192,     0.60214,     0.60292,     0.60244,     0.60252,     0.60283,     0.60229,     0.60172,     0.60144,\n",
       "            0.60115,     0.59987,     0.59982,     0.59933,     0.59927,      0.5989,     0.59909,     0.59864,     0.59783,     0.59728,     0.59715,     0.59705,     0.59767,     0.59709,      0.5973,     0.59702,      0.5967,     0.59691,     0.59711,     0.59662,     0.59725,     0.59632,     0.59596,\n",
       "             0.5961,     0.59559,      0.5942,     0.59401,     0.59383,     0.59357,     0.59402,     0.59331,     0.59365,     0.59385,     0.59413,     0.59387,     0.59456,     0.59475,      0.5945,     0.59425,     0.59445,     0.59377,     0.59344,     0.59259,     0.59117,     0.59134,     0.59059,\n",
       "             0.5905,     0.59008,     0.59029,      0.5896,     0.58897,     0.59005,     0.59026,     0.59047,     0.59071,     0.59109,     0.59065,      0.5904,     0.59015,     0.59062,     0.59034,     0.59051,     0.59016,     0.58965,     0.58882,     0.58726,     0.58604,     0.58632,     0.58519,\n",
       "            0.58354,     0.58307,      0.5815,     0.57967,     0.57976,     0.57947,     0.57756,      0.5761,     0.57484,     0.57437,      0.5724,     0.57217,     0.57241,     0.57073,     0.57024,     0.56907,     0.56939,     0.56712,     0.56574,      0.5639,     0.56334,     0.56166,     0.56069,\n",
       "            0.55851,     0.55629,     0.55564,     0.55509,     0.55434,     0.55293,     0.55049,     0.54859,       0.548,     0.54689,     0.54593,     0.54551,       0.546,     0.54458,     0.54464,     0.54338,     0.54282,     0.54079,     0.53857,     0.53571,     0.53378,     0.53236,     0.52942,\n",
       "            0.52836,     0.52608,     0.52324,     0.52162,     0.51932,     0.51844,     0.51507,     0.51243,     0.50718,     0.50679,     0.50616,     0.50326,     0.49996,     0.49575,      0.4924,     0.48971,     0.48805,     0.48599,     0.48519,     0.48408,     0.48323,       0.481,     0.47472,\n",
       "            0.47255,     0.47047,     0.46835,     0.46415,     0.46373,     0.46359,     0.46126,     0.45663,     0.45113,     0.44178,       0.438,     0.43108,     0.42755,     0.42548,     0.42394,     0.41612,     0.41594,      0.4097,     0.40289,     0.39864,      0.3909,     0.38473,      0.3781,\n",
       "            0.37175,     0.36177,     0.35304,     0.34622,     0.34202,      0.3346,     0.32904,     0.32028,     0.31504,     0.31016,      0.3063,     0.30028,     0.29362,     0.28905,     0.27848,     0.27721,     0.26661,     0.25886,     0.25604,     0.23744,     0.23076,     0.22269,      0.2102,\n",
       "            0.20284,     0.19461,     0.18444,     0.16711,     0.15935,     0.14586,     0.14032,     0.13012,     0.12692,     0.12489,     0.11193,     0.10543,    0.099728,    0.090929,    0.087438,    0.082889,    0.079568,    0.073271,    0.068502,    0.062133,    0.050944,    0.047623,     0.04277,\n",
       "           0.031406,    0.030293,    0.027545,    0.026213,    0.023874,    0.020902,    0.017746,    0.014356,    0.011701,   0.0064984,   0.0056415,   0.0040346,   0.0019773,           0,           0,           0,           0,           0,           0,           0,           0,           0,           0,\n",
       "                  0,           0,           0,           0,           0,           0,           0,           0,           0,           0,           0,           0,           0,           0,           0,           0,           0,           0,           0,           0,           0,           0,           0,\n",
       "                  0,           0,           0,           0,           0,           0,           0,           0,           0,           0,           0,           0,           0,           0,           0,           0,           0,           0,           0,           0,           0,           0,           0,\n",
       "                  0,           0,           0,           0,           0,           0,           0,           0,           0,           0,           0]]), 'Confidence', 'F1'], [array([          0,    0.001001,    0.002002,    0.003003,    0.004004,    0.005005,    0.006006,    0.007007,    0.008008,    0.009009,     0.01001,    0.011011,    0.012012,    0.013013,    0.014014,    0.015015,    0.016016,    0.017017,    0.018018,    0.019019,     0.02002,    0.021021,    0.022022,    0.023023,\n",
       "          0.024024,    0.025025,    0.026026,    0.027027,    0.028028,    0.029029,     0.03003,    0.031031,    0.032032,    0.033033,    0.034034,    0.035035,    0.036036,    0.037037,    0.038038,    0.039039,     0.04004,    0.041041,    0.042042,    0.043043,    0.044044,    0.045045,    0.046046,    0.047047,\n",
       "          0.048048,    0.049049,     0.05005,    0.051051,    0.052052,    0.053053,    0.054054,    0.055055,    0.056056,    0.057057,    0.058058,    0.059059,     0.06006,    0.061061,    0.062062,    0.063063,    0.064064,    0.065065,    0.066066,    0.067067,    0.068068,    0.069069,     0.07007,    0.071071,\n",
       "          0.072072,    0.073073,    0.074074,    0.075075,    0.076076,    0.077077,    0.078078,    0.079079,     0.08008,    0.081081,    0.082082,    0.083083,    0.084084,    0.085085,    0.086086,    0.087087,    0.088088,    0.089089,     0.09009,    0.091091,    0.092092,    0.093093,    0.094094,    0.095095,\n",
       "          0.096096,    0.097097,    0.098098,    0.099099,      0.1001,      0.1011,      0.1021,      0.1031,      0.1041,     0.10511,     0.10611,     0.10711,     0.10811,     0.10911,     0.11011,     0.11111,     0.11211,     0.11311,     0.11411,     0.11512,     0.11612,     0.11712,     0.11812,     0.11912,\n",
       "           0.12012,     0.12112,     0.12212,     0.12312,     0.12412,     0.12513,     0.12613,     0.12713,     0.12813,     0.12913,     0.13013,     0.13113,     0.13213,     0.13313,     0.13413,     0.13514,     0.13614,     0.13714,     0.13814,     0.13914,     0.14014,     0.14114,     0.14214,     0.14314,\n",
       "           0.14414,     0.14515,     0.14615,     0.14715,     0.14815,     0.14915,     0.15015,     0.15115,     0.15215,     0.15315,     0.15415,     0.15516,     0.15616,     0.15716,     0.15816,     0.15916,     0.16016,     0.16116,     0.16216,     0.16316,     0.16416,     0.16517,     0.16617,     0.16717,\n",
       "           0.16817,     0.16917,     0.17017,     0.17117,     0.17217,     0.17317,     0.17417,     0.17518,     0.17618,     0.17718,     0.17818,     0.17918,     0.18018,     0.18118,     0.18218,     0.18318,     0.18418,     0.18519,     0.18619,     0.18719,     0.18819,     0.18919,     0.19019,     0.19119,\n",
       "           0.19219,     0.19319,     0.19419,      0.1952,      0.1962,      0.1972,      0.1982,      0.1992,      0.2002,      0.2012,      0.2022,      0.2032,      0.2042,     0.20521,     0.20621,     0.20721,     0.20821,     0.20921,     0.21021,     0.21121,     0.21221,     0.21321,     0.21421,     0.21522,\n",
       "           0.21622,     0.21722,     0.21822,     0.21922,     0.22022,     0.22122,     0.22222,     0.22322,     0.22422,     0.22523,     0.22623,     0.22723,     0.22823,     0.22923,     0.23023,     0.23123,     0.23223,     0.23323,     0.23423,     0.23524,     0.23624,     0.23724,     0.23824,     0.23924,\n",
       "           0.24024,     0.24124,     0.24224,     0.24324,     0.24424,     0.24525,     0.24625,     0.24725,     0.24825,     0.24925,     0.25025,     0.25125,     0.25225,     0.25325,     0.25425,     0.25526,     0.25626,     0.25726,     0.25826,     0.25926,     0.26026,     0.26126,     0.26226,     0.26326,\n",
       "           0.26426,     0.26527,     0.26627,     0.26727,     0.26827,     0.26927,     0.27027,     0.27127,     0.27227,     0.27327,     0.27427,     0.27528,     0.27628,     0.27728,     0.27828,     0.27928,     0.28028,     0.28128,     0.28228,     0.28328,     0.28428,     0.28529,     0.28629,     0.28729,\n",
       "           0.28829,     0.28929,     0.29029,     0.29129,     0.29229,     0.29329,     0.29429,      0.2953,      0.2963,      0.2973,      0.2983,      0.2993,      0.3003,      0.3013,      0.3023,      0.3033,      0.3043,     0.30531,     0.30631,     0.30731,     0.30831,     0.30931,     0.31031,     0.31131,\n",
       "           0.31231,     0.31331,     0.31431,     0.31532,     0.31632,     0.31732,     0.31832,     0.31932,     0.32032,     0.32132,     0.32232,     0.32332,     0.32432,     0.32533,     0.32633,     0.32733,     0.32833,     0.32933,     0.33033,     0.33133,     0.33233,     0.33333,     0.33433,     0.33534,\n",
       "           0.33634,     0.33734,     0.33834,     0.33934,     0.34034,     0.34134,     0.34234,     0.34334,     0.34434,     0.34535,     0.34635,     0.34735,     0.34835,     0.34935,     0.35035,     0.35135,     0.35235,     0.35335,     0.35435,     0.35536,     0.35636,     0.35736,     0.35836,     0.35936,\n",
       "           0.36036,     0.36136,     0.36236,     0.36336,     0.36436,     0.36537,     0.36637,     0.36737,     0.36837,     0.36937,     0.37037,     0.37137,     0.37237,     0.37337,     0.37437,     0.37538,     0.37638,     0.37738,     0.37838,     0.37938,     0.38038,     0.38138,     0.38238,     0.38338,\n",
       "           0.38438,     0.38539,     0.38639,     0.38739,     0.38839,     0.38939,     0.39039,     0.39139,     0.39239,     0.39339,     0.39439,      0.3954,      0.3964,      0.3974,      0.3984,      0.3994,      0.4004,      0.4014,      0.4024,      0.4034,      0.4044,     0.40541,     0.40641,     0.40741,\n",
       "           0.40841,     0.40941,     0.41041,     0.41141,     0.41241,     0.41341,     0.41441,     0.41542,     0.41642,     0.41742,     0.41842,     0.41942,     0.42042,     0.42142,     0.42242,     0.42342,     0.42442,     0.42543,     0.42643,     0.42743,     0.42843,     0.42943,     0.43043,     0.43143,\n",
       "           0.43243,     0.43343,     0.43443,     0.43544,     0.43644,     0.43744,     0.43844,     0.43944,     0.44044,     0.44144,     0.44244,     0.44344,     0.44444,     0.44545,     0.44645,     0.44745,     0.44845,     0.44945,     0.45045,     0.45145,     0.45245,     0.45345,     0.45445,     0.45546,\n",
       "           0.45646,     0.45746,     0.45846,     0.45946,     0.46046,     0.46146,     0.46246,     0.46346,     0.46446,     0.46547,     0.46647,     0.46747,     0.46847,     0.46947,     0.47047,     0.47147,     0.47247,     0.47347,     0.47447,     0.47548,     0.47648,     0.47748,     0.47848,     0.47948,\n",
       "           0.48048,     0.48148,     0.48248,     0.48348,     0.48448,     0.48549,     0.48649,     0.48749,     0.48849,     0.48949,     0.49049,     0.49149,     0.49249,     0.49349,     0.49449,      0.4955,      0.4965,      0.4975,      0.4985,      0.4995,      0.5005,      0.5015,      0.5025,      0.5035,\n",
       "            0.5045,     0.50551,     0.50651,     0.50751,     0.50851,     0.50951,     0.51051,     0.51151,     0.51251,     0.51351,     0.51451,     0.51552,     0.51652,     0.51752,     0.51852,     0.51952,     0.52052,     0.52152,     0.52252,     0.52352,     0.52452,     0.52553,     0.52653,     0.52753,\n",
       "           0.52853,     0.52953,     0.53053,     0.53153,     0.53253,     0.53353,     0.53453,     0.53554,     0.53654,     0.53754,     0.53854,     0.53954,     0.54054,     0.54154,     0.54254,     0.54354,     0.54454,     0.54555,     0.54655,     0.54755,     0.54855,     0.54955,     0.55055,     0.55155,\n",
       "           0.55255,     0.55355,     0.55455,     0.55556,     0.55656,     0.55756,     0.55856,     0.55956,     0.56056,     0.56156,     0.56256,     0.56356,     0.56456,     0.56557,     0.56657,     0.56757,     0.56857,     0.56957,     0.57057,     0.57157,     0.57257,     0.57357,     0.57457,     0.57558,\n",
       "           0.57658,     0.57758,     0.57858,     0.57958,     0.58058,     0.58158,     0.58258,     0.58358,     0.58458,     0.58559,     0.58659,     0.58759,     0.58859,     0.58959,     0.59059,     0.59159,     0.59259,     0.59359,     0.59459,      0.5956,      0.5966,      0.5976,      0.5986,      0.5996,\n",
       "            0.6006,      0.6016,      0.6026,      0.6036,      0.6046,     0.60561,     0.60661,     0.60761,     0.60861,     0.60961,     0.61061,     0.61161,     0.61261,     0.61361,     0.61461,     0.61562,     0.61662,     0.61762,     0.61862,     0.61962,     0.62062,     0.62162,     0.62262,     0.62362,\n",
       "           0.62462,     0.62563,     0.62663,     0.62763,     0.62863,     0.62963,     0.63063,     0.63163,     0.63263,     0.63363,     0.63463,     0.63564,     0.63664,     0.63764,     0.63864,     0.63964,     0.64064,     0.64164,     0.64264,     0.64364,     0.64464,     0.64565,     0.64665,     0.64765,\n",
       "           0.64865,     0.64965,     0.65065,     0.65165,     0.65265,     0.65365,     0.65465,     0.65566,     0.65666,     0.65766,     0.65866,     0.65966,     0.66066,     0.66166,     0.66266,     0.66366,     0.66466,     0.66567,     0.66667,     0.66767,     0.66867,     0.66967,     0.67067,     0.67167,\n",
       "           0.67267,     0.67367,     0.67467,     0.67568,     0.67668,     0.67768,     0.67868,     0.67968,     0.68068,     0.68168,     0.68268,     0.68368,     0.68468,     0.68569,     0.68669,     0.68769,     0.68869,     0.68969,     0.69069,     0.69169,     0.69269,     0.69369,     0.69469,      0.6957,\n",
       "            0.6967,      0.6977,      0.6987,      0.6997,      0.7007,      0.7017,      0.7027,      0.7037,      0.7047,     0.70571,     0.70671,     0.70771,     0.70871,     0.70971,     0.71071,     0.71171,     0.71271,     0.71371,     0.71471,     0.71572,     0.71672,     0.71772,     0.71872,     0.71972,\n",
       "           0.72072,     0.72172,     0.72272,     0.72372,     0.72472,     0.72573,     0.72673,     0.72773,     0.72873,     0.72973,     0.73073,     0.73173,     0.73273,     0.73373,     0.73473,     0.73574,     0.73674,     0.73774,     0.73874,     0.73974,     0.74074,     0.74174,     0.74274,     0.74374,\n",
       "           0.74474,     0.74575,     0.74675,     0.74775,     0.74875,     0.74975,     0.75075,     0.75175,     0.75275,     0.75375,     0.75475,     0.75576,     0.75676,     0.75776,     0.75876,     0.75976,     0.76076,     0.76176,     0.76276,     0.76376,     0.76476,     0.76577,     0.76677,     0.76777,\n",
       "           0.76877,     0.76977,     0.77077,     0.77177,     0.77277,     0.77377,     0.77477,     0.77578,     0.77678,     0.77778,     0.77878,     0.77978,     0.78078,     0.78178,     0.78278,     0.78378,     0.78478,     0.78579,     0.78679,     0.78779,     0.78879,     0.78979,     0.79079,     0.79179,\n",
       "           0.79279,     0.79379,     0.79479,      0.7958,      0.7968,      0.7978,      0.7988,      0.7998,      0.8008,      0.8018,      0.8028,      0.8038,      0.8048,     0.80581,     0.80681,     0.80781,     0.80881,     0.80981,     0.81081,     0.81181,     0.81281,     0.81381,     0.81481,     0.81582,\n",
       "           0.81682,     0.81782,     0.81882,     0.81982,     0.82082,     0.82182,     0.82282,     0.82382,     0.82482,     0.82583,     0.82683,     0.82783,     0.82883,     0.82983,     0.83083,     0.83183,     0.83283,     0.83383,     0.83483,     0.83584,     0.83684,     0.83784,     0.83884,     0.83984,\n",
       "           0.84084,     0.84184,     0.84284,     0.84384,     0.84484,     0.84585,     0.84685,     0.84785,     0.84885,     0.84985,     0.85085,     0.85185,     0.85285,     0.85385,     0.85485,     0.85586,     0.85686,     0.85786,     0.85886,     0.85986,     0.86086,     0.86186,     0.86286,     0.86386,\n",
       "           0.86486,     0.86587,     0.86687,     0.86787,     0.86887,     0.86987,     0.87087,     0.87187,     0.87287,     0.87387,     0.87487,     0.87588,     0.87688,     0.87788,     0.87888,     0.87988,     0.88088,     0.88188,     0.88288,     0.88388,     0.88488,     0.88589,     0.88689,     0.88789,\n",
       "           0.88889,     0.88989,     0.89089,     0.89189,     0.89289,     0.89389,     0.89489,      0.8959,      0.8969,      0.8979,      0.8989,      0.8999,      0.9009,      0.9019,      0.9029,      0.9039,      0.9049,     0.90591,     0.90691,     0.90791,     0.90891,     0.90991,     0.91091,     0.91191,\n",
       "           0.91291,     0.91391,     0.91491,     0.91592,     0.91692,     0.91792,     0.91892,     0.91992,     0.92092,     0.92192,     0.92292,     0.92392,     0.92492,     0.92593,     0.92693,     0.92793,     0.92893,     0.92993,     0.93093,     0.93193,     0.93293,     0.93393,     0.93493,     0.93594,\n",
       "           0.93694,     0.93794,     0.93894,     0.93994,     0.94094,     0.94194,     0.94294,     0.94394,     0.94494,     0.94595,     0.94695,     0.94795,     0.94895,     0.94995,     0.95095,     0.95195,     0.95295,     0.95395,     0.95495,     0.95596,     0.95696,     0.95796,     0.95896,     0.95996,\n",
       "           0.96096,     0.96196,     0.96296,     0.96396,     0.96496,     0.96597,     0.96697,     0.96797,     0.96897,     0.96997,     0.97097,     0.97197,     0.97297,     0.97397,     0.97497,     0.97598,     0.97698,     0.97798,     0.97898,     0.97998,     0.98098,     0.98198,     0.98298,     0.98398,\n",
       "           0.98498,     0.98599,     0.98699,     0.98799,     0.98899,     0.98999,     0.99099,     0.99199,     0.99299,     0.99399,     0.99499,       0.996,       0.997,       0.998,       0.999,           1]), array([[   0.055062,    0.055062,    0.085682,     0.10943,     0.12853,     0.14596,     0.16082,     0.17456,     0.18762,     0.19877,     0.20997,     0.22011,     0.22804,       0.235,      0.2435,     0.25135,     0.25865,     0.26722,     0.27395,     0.27977,     0.28599,     0.29157,     0.29765,\n",
       "            0.30322,     0.30972,     0.31447,     0.31849,     0.32348,     0.32848,     0.33152,     0.33505,     0.33852,     0.34208,     0.34678,     0.34916,      0.3509,     0.35363,     0.35728,     0.35964,     0.36292,      0.3665,     0.37068,      0.3731,     0.37688,     0.37968,     0.38195,\n",
       "            0.38415,     0.38881,      0.3915,     0.39372,     0.39678,     0.39856,     0.40037,     0.40305,     0.40679,     0.40772,     0.40926,     0.41136,     0.41261,     0.41464,     0.41703,     0.41923,     0.42121,     0.42165,     0.42276,     0.42474,     0.42655,     0.42823,      0.4296,\n",
       "             0.4308,     0.43227,     0.43382,     0.43507,     0.43822,     0.43963,     0.44306,     0.44667,     0.44906,     0.45282,     0.45337,     0.45585,     0.45791,     0.45964,     0.46067,     0.46226,     0.46451,     0.46578,     0.46776,      0.4686,     0.46934,     0.47018,     0.47228,\n",
       "            0.47384,     0.47505,     0.47551,     0.47703,     0.47896,     0.47942,     0.48032,     0.48104,     0.48171,     0.48303,     0.48339,     0.48406,     0.48473,     0.48494,      0.4881,     0.48818,     0.48856,      0.4892,     0.48976,     0.49003,     0.49078,     0.49164,     0.49185,\n",
       "            0.49286,     0.49323,     0.49452,     0.49563,     0.49634,     0.49668,     0.49737,     0.49862,     0.49939,     0.49993,     0.50138,     0.50221,     0.50378,     0.50455,     0.50503,     0.50651,     0.50786,     0.50843,     0.50917,     0.50944,     0.51068,     0.51203,     0.51277,\n",
       "            0.51333,     0.51435,     0.51473,     0.51592,     0.51707,     0.51805,     0.51861,     0.51937,     0.52051,     0.52107,     0.52243,     0.52335,     0.52412,     0.52437,     0.52456,     0.52584,     0.52747,     0.52816,     0.52888,     0.52943,     0.52998,      0.5313,     0.53154,\n",
       "            0.53221,     0.53319,     0.53338,     0.53407,     0.53476,     0.53553,     0.53609,     0.53659,     0.53882,     0.53926,        0.54,     0.54114,     0.54181,     0.54263,      0.5433,      0.5452,     0.54577,     0.54669,     0.54712,     0.54817,      0.5484,     0.54923,     0.55009,\n",
       "            0.55063,     0.55102,     0.55137,     0.55214,     0.55283,     0.55302,      0.5532,     0.55344,     0.55381,     0.55418,     0.55441,     0.55446,     0.55464,     0.55576,     0.55702,     0.55752,     0.55866,     0.55977,     0.55995,     0.56012,     0.56029,     0.56136,     0.56201,\n",
       "             0.5636,     0.56344,     0.56322,     0.56344,     0.56352,     0.56394,     0.56445,     0.56559,     0.56627,     0.56826,     0.56945,     0.57101,     0.57152,     0.57193,      0.5724,     0.57327,     0.57346,     0.57379,      0.5741,      0.5749,     0.57542,     0.57677,     0.57669,\n",
       "            0.57692,     0.57822,     0.57916,     0.57946,     0.57969,     0.58044,     0.58097,     0.58132,     0.58164,     0.58216,     0.58255,     0.58289,     0.58323,     0.58388,     0.58454,     0.58508,     0.58484,     0.58458,     0.58481,     0.58577,     0.58635,     0.58668,     0.58743,\n",
       "            0.58765,     0.58803,     0.58918,     0.58985,     0.59037,     0.59071,     0.59185,     0.59253,     0.59368,     0.59397,     0.59412,     0.59396,     0.59387,     0.59421,     0.59478,     0.59535,     0.59551,     0.59566,     0.59584,     0.59618,     0.59593,     0.59586,     0.59644,\n",
       "            0.59659,     0.59675,     0.59696,     0.59719,     0.59737,      0.5975,     0.59763,     0.59776,     0.59798,     0.59828,     0.59862,     0.59891,     0.59911,     0.59932,     0.59964,     0.59987,     0.59975,     0.59991,     0.60007,     0.60028,     0.60058,     0.60114,     0.60219,\n",
       "            0.60306,     0.60402,     0.60443,     0.60473,     0.60588,     0.60641,     0.60661,      0.6068,     0.60708,     0.60926,     0.60972,     0.60994,     0.61015,     0.61044,     0.61079,     0.61251,     0.61312,     0.61351,     0.61371,      0.6139,     0.61501,     0.61511,     0.61522,\n",
       "            0.61532,     0.61543,     0.61558,     0.61608,     0.61631,     0.61653,     0.61698,      0.6176,      0.6175,     0.61741,      0.6174,     0.61763,     0.61785,     0.61813,     0.61778,     0.61858,     0.61899,     0.61965,     0.61976,     0.61935,     0.61951,     0.61982,     0.62003,\n",
       "            0.62023,     0.62048,      0.6208,     0.62101,     0.62116,     0.62131,     0.62201,     0.62216,     0.62231,     0.62246,     0.62284,     0.62348,     0.62405,     0.62475,     0.62533,     0.62645,     0.62666,     0.62687,     0.62768,     0.62801,     0.62818,     0.62826,     0.62834,\n",
       "            0.62841,     0.62849,     0.62857,     0.62865,     0.62864,     0.62845,     0.62871,     0.62911,      0.6294,      0.6302,     0.63042,     0.63063,     0.63153,     0.63237,     0.63247,     0.63257,     0.63267,     0.63278,     0.63288,      0.6333,     0.63447,     0.63506,     0.63604,\n",
       "            0.63605,     0.63778,     0.63794,      0.6381,     0.63826,     0.63829,     0.63812,     0.63762,     0.63745,     0.63772,     0.63807,     0.63985,     0.64021,     0.64051,     0.64108,     0.64204,     0.64238,     0.64269,     0.64299,      0.6433,     0.64429,     0.64448,     0.64478,\n",
       "            0.64477,     0.64513,     0.64574,     0.64557,     0.64544,     0.64533,     0.64522,     0.64567,     0.64607,     0.64645,     0.64697,     0.64676,     0.64738,     0.64861,     0.64985,     0.65025,     0.65004,      0.6502,     0.65035,     0.65051,     0.65084,     0.65136,     0.65173,\n",
       "            0.65206,     0.65237,     0.65323,     0.65344,     0.65366,     0.65483,     0.65481,     0.65464,     0.65517,     0.65552,     0.65584,     0.65606,     0.65628,     0.65648,     0.65678,     0.65661,     0.65618,     0.65743,      0.6578,     0.65828,      0.6591,     0.65942,     0.66015,\n",
       "            0.65998,     0.66025,     0.66109,     0.66092,     0.66095,     0.66111,     0.66128,     0.66144,     0.66259,     0.66325,     0.66352,     0.66365,     0.66379,     0.66392,     0.66405,     0.66378,     0.66433,     0.66473,     0.66534,      0.6652,     0.66503,      0.6651,     0.66516,\n",
       "            0.66522,     0.66528,     0.66534,      0.6654,     0.66546,     0.66552,     0.66558,     0.66564,     0.66507,      0.6652,     0.66534,     0.66547,      0.6656,     0.66582,     0.66615,     0.66692,     0.66675,       0.667,     0.66768,      0.6678,     0.66756,     0.66739,     0.66809,\n",
       "            0.66826,     0.66843,      0.6686,     0.66841,     0.66858,     0.66892,     0.67019,     0.67071,     0.67105,     0.67205,     0.67263,     0.67332,     0.67353,      0.6737,     0.67388,     0.67371,     0.67354,     0.67413,     0.67482,     0.67607,      0.6759,     0.67729,     0.67778,\n",
       "            0.67749,     0.67738,     0.67727,      0.6781,     0.67881,     0.67952,     0.68023,     0.68039,     0.68053,     0.68067,     0.68081,     0.68096,      0.6814,     0.68262,     0.68298,     0.68303,     0.68286,     0.68362,      0.6838,     0.68398,     0.68416,     0.68499,      0.6851,\n",
       "             0.6852,     0.68531,     0.68541,     0.68551,     0.68562,     0.68581,     0.68553,     0.68591,     0.68584,     0.68602,      0.6862,     0.68638,     0.68798,     0.68813,     0.68827,     0.68842,     0.68857,      0.6887,     0.68882,     0.68895,     0.68907,     0.68919,     0.68931,\n",
       "            0.68919,     0.68902,     0.68917,     0.68936,     0.68955,     0.69046,     0.69075,     0.69105,     0.69108,     0.69091,     0.69205,     0.69279,     0.69281,     0.69324,     0.69372,     0.69409,     0.69476,     0.69522,     0.69559,     0.69579,     0.69596,     0.69613,      0.6963,\n",
       "            0.69609,     0.69645,     0.69636,     0.69628,      0.6962,     0.69597,      0.6963,     0.69637,     0.69679,      0.6967,     0.69745,     0.69729,     0.69767,     0.69786,     0.69774,     0.69813,     0.69849,      0.6988,     0.69911,     0.69903,     0.69892,     0.69881,      0.7011,\n",
       "            0.70188,     0.70259,     0.70236,     0.70238,     0.70216,      0.7028,     0.70271,     0.70263,     0.70255,      0.7024,     0.70223,     0.70309,     0.70349,     0.70429,     0.70456,     0.70482,     0.70546,     0.70697,     0.70729,     0.70872,     0.70953,     0.71002,     0.71091,\n",
       "            0.71173,     0.71229,      0.7127,     0.71261,     0.71309,     0.71322,     0.71309,      0.7129,     0.71224,     0.71275,     0.71253,     0.71209,     0.71199,      0.7119,     0.71169,     0.71217,     0.71221,     0.71263,     0.71529,     0.71557,     0.71585,     0.71703,     0.71802,\n",
       "            0.72103,     0.72146,     0.72134,     0.72199,     0.72241,     0.72284,     0.72291,     0.72354,     0.72351,     0.72334,     0.72542,     0.72508,     0.72508,     0.72543,     0.72577,     0.72569,     0.72562,     0.72554,     0.72547,     0.72602,     0.72725,     0.72769,     0.73018,\n",
       "            0.73039,     0.73033,     0.73078,     0.73016,     0.72999,     0.73058,     0.73125,     0.73272,     0.73423,     0.73573,     0.73635,     0.73721,     0.73811,     0.73872,     0.74025,     0.74092,     0.74349,     0.74327,     0.74387,     0.74481,     0.74498,      0.7453,     0.74517,\n",
       "            0.74504,     0.74493,     0.74523,     0.74502,     0.74578,     0.74562,     0.74623,     0.74672,     0.74674,     0.74649,     0.74772,     0.74932,     0.75155,     0.75138,     0.75204,     0.75208,     0.75207,     0.75273,     0.75339,      0.7544,     0.75778,     0.75764,     0.75747,\n",
       "            0.75806,     0.75816,     0.75841,     0.75833,     0.75825,     0.75993,     0.76141,     0.76235,     0.76432,     0.76501,     0.76593,     0.76718,     0.76948,     0.77277,     0.77267,     0.77256,      0.7734,     0.77543,     0.77589,     0.77554,     0.77495,      0.7759,     0.77657,\n",
       "            0.77746,     0.77825,     0.77898,     0.77898,      0.7789,       0.785,     0.78575,     0.78651,     0.78733,      0.7887,     0.79007,     0.78997,     0.78987,     0.79304,     0.79393,     0.79704,     0.79792,     0.79772,     0.79945,     0.79885,     0.79941,     0.80057,     0.80013,\n",
       "            0.80055,     0.80099,     0.80081,     0.80011,     0.80228,     0.80291,     0.80468,     0.80521,     0.80643,     0.80676,     0.80784,     0.80928,     0.81277,     0.81214,     0.81311,     0.81434,     0.81565,      0.8166,     0.81846,     0.81779,     0.81758,     0.81696,      0.8166,\n",
       "            0.81579,     0.81516,     0.81592,     0.81572,     0.81544,     0.81735,     0.81644,     0.81572,     0.81761,      0.8193,     0.82101,     0.82321,     0.82546,     0.82566,     0.82961,     0.83449,     0.83429,     0.83358,     0.83416,     0.83315,     0.83384,     0.83473,     0.83509,\n",
       "            0.83471,     0.83532,     0.83718,     0.83891,      0.8387,     0.83839,      0.8372,     0.83626,     0.83888,     0.84027,     0.84304,     0.84524,     0.84568,     0.85069,      0.8512,     0.85532,     0.85647,     0.85923,     0.86071,      0.8628,     0.86538,     0.86828,     0.86629,\n",
       "            0.86559,     0.86492,     0.86797,     0.87045,     0.87419,     0.88004,     0.88336,     0.88394,     0.88452,     0.89268,     0.89376,     0.90103,     0.90484,     0.90431,     0.90877,     0.90722,     0.90925,     0.90766,     0.91111,     0.91003,     0.91625,     0.92227,      0.9277,\n",
       "            0.92935,     0.92714,     0.92836,     0.92677,     0.93239,      0.9309,      0.9332,     0.93116,      0.9414,     0.94038,     0.94357,     0.94231,     0.94086,     0.94154,     0.94183,     0.94154,       0.939,     0.94192,     0.94123,     0.93629,     0.94554,     0.94343,     0.94616,\n",
       "             0.9441,     0.94162,     0.94553,     0.94781,     0.94518,     0.94946,     0.95946,     0.97644,     0.97582,     0.97541,     0.97245,     0.97071,     0.96899,     0.96594,     0.98195,     0.98093,     0.98012,     0.97838,     0.97685,     0.97446,     0.96885,      0.9667,     0.96297,\n",
       "            0.94996,     0.94816,      0.9432,     0.94046,      0.9349,      0.9262,     0.91404,      0.8956,     0.93081,           1,           1,           1,           1,           1,           1,           1,           1,           1,           1,           1,           1,           1,           1,\n",
       "                  1,           1,           1,           1,           1,           1,           1,           1,           1,           1,           1,           1,           1,           1,           1,           1,           1,           1,           1,           1,           1,           1,           1,\n",
       "                  1,           1,           1,           1,           1,           1,           1,           1,           1,           1,           1,           1,           1,           1,           1,           1,           1,           1,           1,           1,           1,           1,           1,\n",
       "                  1,           1,           1,           1,           1,           1,           1,           1,           1,           1,           1]]), 'Confidence', 'Precision'], [array([          0,    0.001001,    0.002002,    0.003003,    0.004004,    0.005005,    0.006006,    0.007007,    0.008008,    0.009009,     0.01001,    0.011011,    0.012012,    0.013013,    0.014014,    0.015015,    0.016016,    0.017017,    0.018018,    0.019019,     0.02002,    0.021021,    0.022022,    0.023023,\n",
       "          0.024024,    0.025025,    0.026026,    0.027027,    0.028028,    0.029029,     0.03003,    0.031031,    0.032032,    0.033033,    0.034034,    0.035035,    0.036036,    0.037037,    0.038038,    0.039039,     0.04004,    0.041041,    0.042042,    0.043043,    0.044044,    0.045045,    0.046046,    0.047047,\n",
       "          0.048048,    0.049049,     0.05005,    0.051051,    0.052052,    0.053053,    0.054054,    0.055055,    0.056056,    0.057057,    0.058058,    0.059059,     0.06006,    0.061061,    0.062062,    0.063063,    0.064064,    0.065065,    0.066066,    0.067067,    0.068068,    0.069069,     0.07007,    0.071071,\n",
       "          0.072072,    0.073073,    0.074074,    0.075075,    0.076076,    0.077077,    0.078078,    0.079079,     0.08008,    0.081081,    0.082082,    0.083083,    0.084084,    0.085085,    0.086086,    0.087087,    0.088088,    0.089089,     0.09009,    0.091091,    0.092092,    0.093093,    0.094094,    0.095095,\n",
       "          0.096096,    0.097097,    0.098098,    0.099099,      0.1001,      0.1011,      0.1021,      0.1031,      0.1041,     0.10511,     0.10611,     0.10711,     0.10811,     0.10911,     0.11011,     0.11111,     0.11211,     0.11311,     0.11411,     0.11512,     0.11612,     0.11712,     0.11812,     0.11912,\n",
       "           0.12012,     0.12112,     0.12212,     0.12312,     0.12412,     0.12513,     0.12613,     0.12713,     0.12813,     0.12913,     0.13013,     0.13113,     0.13213,     0.13313,     0.13413,     0.13514,     0.13614,     0.13714,     0.13814,     0.13914,     0.14014,     0.14114,     0.14214,     0.14314,\n",
       "           0.14414,     0.14515,     0.14615,     0.14715,     0.14815,     0.14915,     0.15015,     0.15115,     0.15215,     0.15315,     0.15415,     0.15516,     0.15616,     0.15716,     0.15816,     0.15916,     0.16016,     0.16116,     0.16216,     0.16316,     0.16416,     0.16517,     0.16617,     0.16717,\n",
       "           0.16817,     0.16917,     0.17017,     0.17117,     0.17217,     0.17317,     0.17417,     0.17518,     0.17618,     0.17718,     0.17818,     0.17918,     0.18018,     0.18118,     0.18218,     0.18318,     0.18418,     0.18519,     0.18619,     0.18719,     0.18819,     0.18919,     0.19019,     0.19119,\n",
       "           0.19219,     0.19319,     0.19419,      0.1952,      0.1962,      0.1972,      0.1982,      0.1992,      0.2002,      0.2012,      0.2022,      0.2032,      0.2042,     0.20521,     0.20621,     0.20721,     0.20821,     0.20921,     0.21021,     0.21121,     0.21221,     0.21321,     0.21421,     0.21522,\n",
       "           0.21622,     0.21722,     0.21822,     0.21922,     0.22022,     0.22122,     0.22222,     0.22322,     0.22422,     0.22523,     0.22623,     0.22723,     0.22823,     0.22923,     0.23023,     0.23123,     0.23223,     0.23323,     0.23423,     0.23524,     0.23624,     0.23724,     0.23824,     0.23924,\n",
       "           0.24024,     0.24124,     0.24224,     0.24324,     0.24424,     0.24525,     0.24625,     0.24725,     0.24825,     0.24925,     0.25025,     0.25125,     0.25225,     0.25325,     0.25425,     0.25526,     0.25626,     0.25726,     0.25826,     0.25926,     0.26026,     0.26126,     0.26226,     0.26326,\n",
       "           0.26426,     0.26527,     0.26627,     0.26727,     0.26827,     0.26927,     0.27027,     0.27127,     0.27227,     0.27327,     0.27427,     0.27528,     0.27628,     0.27728,     0.27828,     0.27928,     0.28028,     0.28128,     0.28228,     0.28328,     0.28428,     0.28529,     0.28629,     0.28729,\n",
       "           0.28829,     0.28929,     0.29029,     0.29129,     0.29229,     0.29329,     0.29429,      0.2953,      0.2963,      0.2973,      0.2983,      0.2993,      0.3003,      0.3013,      0.3023,      0.3033,      0.3043,     0.30531,     0.30631,     0.30731,     0.30831,     0.30931,     0.31031,     0.31131,\n",
       "           0.31231,     0.31331,     0.31431,     0.31532,     0.31632,     0.31732,     0.31832,     0.31932,     0.32032,     0.32132,     0.32232,     0.32332,     0.32432,     0.32533,     0.32633,     0.32733,     0.32833,     0.32933,     0.33033,     0.33133,     0.33233,     0.33333,     0.33433,     0.33534,\n",
       "           0.33634,     0.33734,     0.33834,     0.33934,     0.34034,     0.34134,     0.34234,     0.34334,     0.34434,     0.34535,     0.34635,     0.34735,     0.34835,     0.34935,     0.35035,     0.35135,     0.35235,     0.35335,     0.35435,     0.35536,     0.35636,     0.35736,     0.35836,     0.35936,\n",
       "           0.36036,     0.36136,     0.36236,     0.36336,     0.36436,     0.36537,     0.36637,     0.36737,     0.36837,     0.36937,     0.37037,     0.37137,     0.37237,     0.37337,     0.37437,     0.37538,     0.37638,     0.37738,     0.37838,     0.37938,     0.38038,     0.38138,     0.38238,     0.38338,\n",
       "           0.38438,     0.38539,     0.38639,     0.38739,     0.38839,     0.38939,     0.39039,     0.39139,     0.39239,     0.39339,     0.39439,      0.3954,      0.3964,      0.3974,      0.3984,      0.3994,      0.4004,      0.4014,      0.4024,      0.4034,      0.4044,     0.40541,     0.40641,     0.40741,\n",
       "           0.40841,     0.40941,     0.41041,     0.41141,     0.41241,     0.41341,     0.41441,     0.41542,     0.41642,     0.41742,     0.41842,     0.41942,     0.42042,     0.42142,     0.42242,     0.42342,     0.42442,     0.42543,     0.42643,     0.42743,     0.42843,     0.42943,     0.43043,     0.43143,\n",
       "           0.43243,     0.43343,     0.43443,     0.43544,     0.43644,     0.43744,     0.43844,     0.43944,     0.44044,     0.44144,     0.44244,     0.44344,     0.44444,     0.44545,     0.44645,     0.44745,     0.44845,     0.44945,     0.45045,     0.45145,     0.45245,     0.45345,     0.45445,     0.45546,\n",
       "           0.45646,     0.45746,     0.45846,     0.45946,     0.46046,     0.46146,     0.46246,     0.46346,     0.46446,     0.46547,     0.46647,     0.46747,     0.46847,     0.46947,     0.47047,     0.47147,     0.47247,     0.47347,     0.47447,     0.47548,     0.47648,     0.47748,     0.47848,     0.47948,\n",
       "           0.48048,     0.48148,     0.48248,     0.48348,     0.48448,     0.48549,     0.48649,     0.48749,     0.48849,     0.48949,     0.49049,     0.49149,     0.49249,     0.49349,     0.49449,      0.4955,      0.4965,      0.4975,      0.4985,      0.4995,      0.5005,      0.5015,      0.5025,      0.5035,\n",
       "            0.5045,     0.50551,     0.50651,     0.50751,     0.50851,     0.50951,     0.51051,     0.51151,     0.51251,     0.51351,     0.51451,     0.51552,     0.51652,     0.51752,     0.51852,     0.51952,     0.52052,     0.52152,     0.52252,     0.52352,     0.52452,     0.52553,     0.52653,     0.52753,\n",
       "           0.52853,     0.52953,     0.53053,     0.53153,     0.53253,     0.53353,     0.53453,     0.53554,     0.53654,     0.53754,     0.53854,     0.53954,     0.54054,     0.54154,     0.54254,     0.54354,     0.54454,     0.54555,     0.54655,     0.54755,     0.54855,     0.54955,     0.55055,     0.55155,\n",
       "           0.55255,     0.55355,     0.55455,     0.55556,     0.55656,     0.55756,     0.55856,     0.55956,     0.56056,     0.56156,     0.56256,     0.56356,     0.56456,     0.56557,     0.56657,     0.56757,     0.56857,     0.56957,     0.57057,     0.57157,     0.57257,     0.57357,     0.57457,     0.57558,\n",
       "           0.57658,     0.57758,     0.57858,     0.57958,     0.58058,     0.58158,     0.58258,     0.58358,     0.58458,     0.58559,     0.58659,     0.58759,     0.58859,     0.58959,     0.59059,     0.59159,     0.59259,     0.59359,     0.59459,      0.5956,      0.5966,      0.5976,      0.5986,      0.5996,\n",
       "            0.6006,      0.6016,      0.6026,      0.6036,      0.6046,     0.60561,     0.60661,     0.60761,     0.60861,     0.60961,     0.61061,     0.61161,     0.61261,     0.61361,     0.61461,     0.61562,     0.61662,     0.61762,     0.61862,     0.61962,     0.62062,     0.62162,     0.62262,     0.62362,\n",
       "           0.62462,     0.62563,     0.62663,     0.62763,     0.62863,     0.62963,     0.63063,     0.63163,     0.63263,     0.63363,     0.63463,     0.63564,     0.63664,     0.63764,     0.63864,     0.63964,     0.64064,     0.64164,     0.64264,     0.64364,     0.64464,     0.64565,     0.64665,     0.64765,\n",
       "           0.64865,     0.64965,     0.65065,     0.65165,     0.65265,     0.65365,     0.65465,     0.65566,     0.65666,     0.65766,     0.65866,     0.65966,     0.66066,     0.66166,     0.66266,     0.66366,     0.66466,     0.66567,     0.66667,     0.66767,     0.66867,     0.66967,     0.67067,     0.67167,\n",
       "           0.67267,     0.67367,     0.67467,     0.67568,     0.67668,     0.67768,     0.67868,     0.67968,     0.68068,     0.68168,     0.68268,     0.68368,     0.68468,     0.68569,     0.68669,     0.68769,     0.68869,     0.68969,     0.69069,     0.69169,     0.69269,     0.69369,     0.69469,      0.6957,\n",
       "            0.6967,      0.6977,      0.6987,      0.6997,      0.7007,      0.7017,      0.7027,      0.7037,      0.7047,     0.70571,     0.70671,     0.70771,     0.70871,     0.70971,     0.71071,     0.71171,     0.71271,     0.71371,     0.71471,     0.71572,     0.71672,     0.71772,     0.71872,     0.71972,\n",
       "           0.72072,     0.72172,     0.72272,     0.72372,     0.72472,     0.72573,     0.72673,     0.72773,     0.72873,     0.72973,     0.73073,     0.73173,     0.73273,     0.73373,     0.73473,     0.73574,     0.73674,     0.73774,     0.73874,     0.73974,     0.74074,     0.74174,     0.74274,     0.74374,\n",
       "           0.74474,     0.74575,     0.74675,     0.74775,     0.74875,     0.74975,     0.75075,     0.75175,     0.75275,     0.75375,     0.75475,     0.75576,     0.75676,     0.75776,     0.75876,     0.75976,     0.76076,     0.76176,     0.76276,     0.76376,     0.76476,     0.76577,     0.76677,     0.76777,\n",
       "           0.76877,     0.76977,     0.77077,     0.77177,     0.77277,     0.77377,     0.77477,     0.77578,     0.77678,     0.77778,     0.77878,     0.77978,     0.78078,     0.78178,     0.78278,     0.78378,     0.78478,     0.78579,     0.78679,     0.78779,     0.78879,     0.78979,     0.79079,     0.79179,\n",
       "           0.79279,     0.79379,     0.79479,      0.7958,      0.7968,      0.7978,      0.7988,      0.7998,      0.8008,      0.8018,      0.8028,      0.8038,      0.8048,     0.80581,     0.80681,     0.80781,     0.80881,     0.80981,     0.81081,     0.81181,     0.81281,     0.81381,     0.81481,     0.81582,\n",
       "           0.81682,     0.81782,     0.81882,     0.81982,     0.82082,     0.82182,     0.82282,     0.82382,     0.82482,     0.82583,     0.82683,     0.82783,     0.82883,     0.82983,     0.83083,     0.83183,     0.83283,     0.83383,     0.83483,     0.83584,     0.83684,     0.83784,     0.83884,     0.83984,\n",
       "           0.84084,     0.84184,     0.84284,     0.84384,     0.84484,     0.84585,     0.84685,     0.84785,     0.84885,     0.84985,     0.85085,     0.85185,     0.85285,     0.85385,     0.85485,     0.85586,     0.85686,     0.85786,     0.85886,     0.85986,     0.86086,     0.86186,     0.86286,     0.86386,\n",
       "           0.86486,     0.86587,     0.86687,     0.86787,     0.86887,     0.86987,     0.87087,     0.87187,     0.87287,     0.87387,     0.87487,     0.87588,     0.87688,     0.87788,     0.87888,     0.87988,     0.88088,     0.88188,     0.88288,     0.88388,     0.88488,     0.88589,     0.88689,     0.88789,\n",
       "           0.88889,     0.88989,     0.89089,     0.89189,     0.89289,     0.89389,     0.89489,      0.8959,      0.8969,      0.8979,      0.8989,      0.8999,      0.9009,      0.9019,      0.9029,      0.9039,      0.9049,     0.90591,     0.90691,     0.90791,     0.90891,     0.90991,     0.91091,     0.91191,\n",
       "           0.91291,     0.91391,     0.91491,     0.91592,     0.91692,     0.91792,     0.91892,     0.91992,     0.92092,     0.92192,     0.92292,     0.92392,     0.92492,     0.92593,     0.92693,     0.92793,     0.92893,     0.92993,     0.93093,     0.93193,     0.93293,     0.93393,     0.93493,     0.93594,\n",
       "           0.93694,     0.93794,     0.93894,     0.93994,     0.94094,     0.94194,     0.94294,     0.94394,     0.94494,     0.94595,     0.94695,     0.94795,     0.94895,     0.94995,     0.95095,     0.95195,     0.95295,     0.95395,     0.95495,     0.95596,     0.95696,     0.95796,     0.95896,     0.95996,\n",
       "           0.96096,     0.96196,     0.96296,     0.96396,     0.96496,     0.96597,     0.96697,     0.96797,     0.96897,     0.96997,     0.97097,     0.97197,     0.97297,     0.97397,     0.97497,     0.97598,     0.97698,     0.97798,     0.97898,     0.97998,     0.98098,     0.98198,     0.98298,     0.98398,\n",
       "           0.98498,     0.98599,     0.98699,     0.98799,     0.98899,     0.98999,     0.99099,     0.99199,     0.99299,     0.99399,     0.99499,       0.996,       0.997,       0.998,       0.999,           1]), array([[    0.65181,     0.65181,     0.64676,     0.64508,     0.64256,     0.63919,     0.63583,     0.63499,     0.63415,     0.63162,     0.63078,     0.63078,     0.63078,     0.62994,      0.6291,     0.62826,     0.62826,     0.62826,     0.62742,     0.62658,     0.62658,     0.62574,     0.62489,\n",
       "            0.62405,     0.62321,     0.62321,     0.62321,     0.62321,     0.62321,     0.62321,     0.62321,     0.62321,     0.62321,     0.62321,     0.62312,     0.62237,     0.62237,     0.62237,     0.62153,     0.62153,     0.62153,     0.62153,     0.62153,     0.62153,     0.62153,     0.62153,\n",
       "            0.62153,     0.62153,     0.62153,     0.62153,     0.62153,     0.62153,     0.62153,     0.62153,     0.62153,     0.62153,     0.62153,     0.62069,     0.61985,     0.61985,     0.61985,     0.61901,     0.61901,     0.61817,     0.61817,     0.61817,     0.61817,     0.61817,     0.61817,\n",
       "            0.61817,     0.61733,     0.61733,     0.61733,     0.61733,     0.61733,     0.61733,     0.61733,     0.61733,     0.61733,     0.61648,     0.61648,     0.61648,     0.61648,     0.61648,     0.61648,     0.61648,     0.61648,     0.61648,     0.61648,     0.61648,     0.61648,     0.61564,\n",
       "            0.61564,     0.61564,     0.61564,     0.61564,     0.61564,     0.61564,     0.61564,     0.61564,     0.61564,     0.61564,     0.61564,     0.61564,      0.6148,     0.61396,     0.61396,     0.61312,     0.61312,     0.61312,     0.61312,     0.61312,     0.61312,     0.61312,     0.61312,\n",
       "            0.61312,     0.61148,     0.61144,     0.61144,     0.61144,     0.61144,     0.61144,     0.61144,     0.61144,     0.61144,     0.61144,     0.61144,     0.61144,      0.6106,      0.6106,      0.6106,      0.6106,      0.6106,      0.6106,      0.6106,      0.6106,     0.60976,     0.60976,\n",
       "            0.60976,     0.60976,     0.60976,     0.60976,     0.60976,     0.60892,     0.60892,     0.60892,     0.60892,     0.60892,     0.60892,     0.60892,     0.60892,     0.60892,     0.60892,     0.60892,     0.60892,     0.60892,     0.60892,     0.60892,     0.60892,     0.60892,     0.60892,\n",
       "            0.60892,     0.60892,     0.60892,     0.60892,     0.60892,     0.60892,     0.60892,     0.60892,     0.60892,     0.60892,     0.60892,     0.60892,     0.60892,     0.60892,     0.60892,     0.60892,     0.60892,     0.60892,     0.60861,     0.60807,     0.60807,     0.60807,     0.60807,\n",
       "            0.60807,     0.60807,     0.60807,     0.60807,     0.60807,     0.60807,     0.60807,     0.60807,     0.60807,     0.60807,     0.60807,     0.60706,     0.60639,     0.60639,     0.60639,     0.60639,     0.60639,     0.60635,     0.60555,     0.60555,     0.60555,     0.60555,     0.60555,\n",
       "            0.60555,     0.60462,     0.60387,     0.60387,     0.60303,     0.60303,     0.60303,     0.60303,     0.60303,     0.60303,     0.60303,     0.60303,     0.60303,     0.60303,     0.60303,     0.60303,     0.60267,     0.60219,     0.60219,     0.60219,     0.60219,     0.60172,     0.60135,\n",
       "            0.60135,     0.60135,     0.60135,     0.60135,     0.60135,     0.60135,     0.60135,     0.60135,     0.60135,     0.60135,     0.60135,     0.60135,     0.60135,     0.60135,     0.60135,     0.60127,      0.6007,     0.59966,     0.59966,     0.59966,     0.59966,     0.59966,     0.59966,\n",
       "            0.59966,     0.59966,     0.59966,     0.59966,     0.59966,     0.59966,     0.59966,     0.59966,     0.59966,     0.59966,     0.59954,     0.59916,     0.59882,     0.59882,     0.59882,     0.59882,     0.59882,     0.59882,     0.59882,     0.59848,     0.59714,     0.59646,      0.5963,\n",
       "             0.5963,      0.5963,      0.5963,      0.5963,      0.5963,      0.5963,      0.5963,      0.5963,      0.5963,      0.5963,      0.5963,      0.5963,      0.5963,      0.5963,     0.59582,     0.59514,     0.59462,     0.59462,     0.59462,     0.59462,     0.59462,     0.59462,     0.59462,\n",
       "            0.59462,     0.59462,     0.59462,     0.59462,     0.59462,     0.59462,     0.59462,     0.59462,     0.59385,     0.59378,     0.59378,     0.59378,     0.59378,     0.59378,     0.59378,     0.59378,     0.59378,     0.59378,     0.59378,     0.59378,     0.59378,     0.59378,     0.59378,\n",
       "            0.59378,     0.59378,     0.59378,     0.59378,     0.59378,     0.59378,     0.59378,      0.5936,     0.59335,     0.59311,     0.59294,     0.59294,     0.59294,     0.59219,     0.59133,     0.59125,     0.59125,     0.59125,     0.59083,     0.58981,     0.58957,     0.58957,     0.58957,\n",
       "            0.58957,     0.58957,     0.58957,     0.58957,     0.58957,     0.58957,     0.58957,     0.58957,     0.58957,     0.58957,     0.58957,     0.58957,     0.58957,     0.58957,     0.58957,     0.58957,     0.58957,     0.58957,     0.58957,     0.58957,     0.58957,     0.58957,     0.58957,\n",
       "            0.58957,     0.58957,     0.58957,     0.58957,     0.58942,     0.58893,     0.58873,     0.58873,     0.58873,     0.58873,     0.58873,     0.58873,     0.58873,     0.58873,     0.58873,     0.58873,     0.58873,     0.58873,     0.58873,     0.58873,     0.58873,     0.58873,     0.58873,\n",
       "            0.58789,     0.58789,     0.58789,     0.58789,     0.58789,     0.58772,     0.58729,     0.58601,     0.58558,     0.58479,     0.58452,     0.58452,     0.58452,     0.58452,     0.58452,     0.58452,     0.58452,     0.58452,     0.58452,     0.58452,     0.58452,     0.58368,     0.58368,\n",
       "            0.58284,     0.58284,     0.58257,     0.58213,      0.5818,     0.58152,     0.58123,     0.58116,     0.58116,     0.58116,     0.58107,     0.58032,     0.58032,     0.58032,     0.58032,     0.58012,     0.57948,     0.57948,     0.57948,     0.57948,     0.57948,     0.57948,     0.57948,\n",
       "            0.57948,     0.57948,     0.57948,     0.57948,     0.57948,     0.57948,     0.57913,      0.5787,     0.57864,     0.57864,     0.57864,     0.57864,     0.57864,     0.57863,     0.57778,     0.57735,     0.57611,     0.57611,     0.57611,     0.57611,     0.57527,     0.57527,     0.57507,\n",
       "            0.57464,     0.57443,      0.5742,     0.57377,     0.57359,     0.57359,     0.57359,     0.57359,     0.57359,     0.57359,     0.57359,     0.57359,     0.57359,     0.57359,     0.57359,     0.57285,     0.57275,     0.57196,     0.57191,     0.57149,     0.57107,     0.57107,     0.57107,\n",
       "            0.57107,     0.57107,     0.57107,     0.57107,     0.57107,     0.57107,     0.57107,     0.57107,     0.56939,     0.56939,     0.56939,     0.56939,     0.56939,     0.56939,     0.56939,     0.56919,     0.56876,     0.56854,     0.56854,     0.56807,     0.56746,     0.56703,     0.56686,\n",
       "            0.56686,     0.56686,     0.56686,     0.56624,     0.56602,     0.56602,     0.56602,     0.56532,     0.56446,     0.56359,      0.5635,      0.5635,      0.5635,      0.5635,      0.5635,     0.56264,     0.56221,     0.56182,     0.56182,      0.5617,     0.56098,     0.56098,      0.5608,\n",
       "            0.56007,     0.55978,     0.55949,     0.55929,     0.55929,     0.55929,     0.55929,     0.55845,     0.55845,     0.55845,     0.55845,     0.55845,     0.55845,     0.55845,     0.55845,     0.55819,     0.55776,     0.55761,     0.55761,     0.55761,     0.55761,     0.55761,     0.55761,\n",
       "            0.55761,     0.55761,     0.55761,     0.55761,     0.55761,     0.55624,     0.55554,     0.55468,     0.55425,     0.55425,     0.55425,     0.55425,     0.55425,     0.55425,     0.55425,     0.55425,     0.55425,     0.55425,     0.55425,     0.55425,     0.55425,     0.55425,     0.55425,\n",
       "            0.55387,     0.55344,     0.55341,     0.55341,     0.55341,     0.55341,     0.55341,     0.55341,     0.55316,     0.55273,     0.55257,     0.55257,     0.55199,     0.55172,     0.55172,     0.55172,     0.55172,     0.55172,     0.55172,     0.55172,     0.55172,     0.55172,     0.55172,\n",
       "            0.55004,     0.54994,     0.54972,     0.54951,     0.54929,      0.5487,     0.54836,     0.54782,     0.54696,     0.54584,     0.54481,     0.54415,     0.54415,     0.54391,     0.54331,     0.54331,     0.54331,     0.54331,     0.54331,     0.54305,     0.54276,     0.54248,     0.54247,\n",
       "            0.54247,     0.54242,     0.54163,     0.53988,     0.53931,     0.53897,     0.53875,     0.53854,     0.53832,     0.53795,     0.53751,     0.53743,     0.53743,     0.53659,     0.53659,     0.53659,     0.53584,     0.53574,     0.53449,     0.53406,     0.53406,     0.53322,     0.53322,\n",
       "            0.53238,     0.53238,     0.53238,      0.5318,     0.53154,     0.53129,     0.53094,     0.53045,     0.52875,     0.52798,     0.52741,     0.52628,     0.52603,     0.52579,     0.52526,      0.5244,     0.52397,     0.52397,     0.52397,     0.52397,     0.52397,     0.52397,     0.52397,\n",
       "            0.52313,     0.52313,      0.5225,     0.52145,     0.52061,     0.52061,     0.52003,     0.51976,     0.51939,     0.51896,     0.51771,     0.51685,      0.5164,      0.5164,     0.51639,      0.5162,     0.51601,     0.51582,     0.51563,     0.51556,     0.51556,     0.51556,     0.51556,\n",
       "            0.51491,     0.51388,     0.51388,     0.51205,     0.51162,     0.51135,     0.51051,     0.50967,     0.50967,     0.50967,     0.50967,     0.50964,     0.50715,     0.50715,     0.50715,     0.50715,     0.50705,     0.50648,     0.50631,     0.50631,     0.50547,     0.50453,     0.50418,\n",
       "            0.50384,      0.5021,     0.50188,     0.50131,     0.50087,     0.50043,     0.50042,     0.49958,     0.49843,     0.49778,     0.49706,     0.49622,     0.49609,     0.49537,     0.49537,     0.49497,     0.49453,     0.49453,     0.49453,     0.49342,     0.49285,     0.49164,     0.49121,\n",
       "            0.49117,     0.49042,     0.48844,     0.48823,     0.48801,     0.48696,     0.48696,     0.48562,     0.48528,     0.48528,     0.48528,     0.48444,     0.48444,     0.48339,      0.4831,     0.48282,     0.48276,     0.48108,     0.48046,     0.47948,     0.47785,     0.47771,     0.47648,\n",
       "            0.47603,     0.47519,     0.47519,     0.47429,     0.47351,     0.47267,     0.47267,     0.47267,     0.47267,     0.47267,     0.47162,     0.47133,     0.47104,     0.47052,     0.46985,     0.46899,     0.46824,     0.46767,     0.46603,     0.46428,     0.46257,     0.46254,     0.46127,\n",
       "            0.45909,     0.45837,     0.45649,     0.45446,     0.45388,     0.45332,     0.45043,     0.44849,     0.44659,     0.44593,     0.44323,     0.44252,     0.44177,     0.43995,     0.43909,     0.43734,     0.43734,      0.4344,     0.43226,     0.43031,     0.42971,     0.42793,      0.4269,\n",
       "             0.4246,      0.4222,     0.42125,     0.42068,     0.41989,     0.41777,     0.41523,     0.41325,     0.41211,     0.41043,     0.40892,     0.40791,     0.40791,     0.40627,     0.40539,     0.40285,     0.40227,     0.40022,     0.39765,     0.39477,     0.39252,      0.3908,     0.38756,\n",
       "            0.38651,     0.38394,     0.38054,     0.37847,      0.3761,     0.37523,     0.37196,     0.36939,     0.36346,      0.3628,     0.36165,     0.35829,     0.35488,      0.3498,     0.34639,     0.34306,     0.34126,     0.33882,     0.33781,     0.33642,      0.3352,     0.33264,     0.32694,\n",
       "            0.32499,     0.32311,      0.3207,     0.31645,     0.31557,     0.31468,     0.31212,     0.30782,     0.30278,     0.29352,     0.29008,     0.28331,      0.2799,     0.27818,     0.27646,     0.26997,     0.26964,     0.26456,     0.25863,     0.25522,     0.24845,     0.24306,     0.23743,\n",
       "            0.23234,     0.22473,     0.21796,     0.21287,     0.20942,     0.20396,     0.19973,      0.1934,     0.18917,     0.18571,     0.18282,      0.1786,     0.17395,     0.17073,      0.1634,     0.16253,     0.15536,     0.15005,     0.14817,     0.13596,     0.13142,     0.12624,     0.11823,\n",
       "            0.11363,     0.10852,     0.10219,    0.091636,    0.087008,    0.078997,    0.075694,    0.069703,    0.067876,    0.066718,    0.059382,    0.055742,    0.052569,     0.04771,    0.045756,    0.043273,    0.041467,    0.038061,    0.035496,    0.032089,     0.02616,    0.024413,     0.02187,\n",
       "           0.015967,    0.015392,    0.013976,    0.013292,    0.012092,     0.01057,   0.0089602,    0.007236,   0.0058873,   0.0032598,   0.0028287,   0.0020214,  0.00098964,           0,           0,           0,           0,           0,           0,           0,           0,           0,           0,\n",
       "                  0,           0,           0,           0,           0,           0,           0,           0,           0,           0,           0,           0,           0,           0,           0,           0,           0,           0,           0,           0,           0,           0,           0,\n",
       "                  0,           0,           0,           0,           0,           0,           0,           0,           0,           0,           0,           0,           0,           0,           0,           0,           0,           0,           0,           0,           0,           0,           0,\n",
       "                  0,           0,           0,           0,           0,           0,           0,           0,           0,           0,           0]]), 'Confidence', 'Recall']]\n",
       "fitness: np.float64(0.9814319579657442)\n",
       "keys: ['metrics/precision(B)', 'metrics/recall(B)', 'metrics/mAP50(B)', 'metrics/mAP50-95(B)', 'metrics/precision(P)', 'metrics/recall(P)', 'metrics/mAP50(P)', 'metrics/mAP50-95(P)']\n",
       "maps: array([     0.9257,      0.9257,      0.9257,      0.9257,      0.9257])\n",
       "names: {0: 'dog', 1: 'cat', 2: 'sheep', 3: 'horse', 4: 'cow'}\n",
       "nt_per_class: array([1189,    0,    0,    0,    0])\n",
       "nt_per_image: array([921,   0,   0,   0,   0])\n",
       "pose: ultralytics.utils.metrics.Metric object\n",
       "results_dict: {'metrics/precision(B)': 0.9180924099352098, 'metrics/recall(B)': 0.8637510513036165, 'metrics/mAP50(B)': 0.9396000211832685, 'metrics/mAP50-95(B)': 0.7233888634298631, 'metrics/precision(P)': 0.6653995251333501, 'metrics/recall(P)': 0.5710681244743482, 'metrics/mAP50(P)': 0.5434173468185937, 'metrics/mAP50-95(P)': 0.20231138230964568, 'fitness': 0.9814319579657442}\n",
       "run_url: Url('C:/Users/gudbrand/AppData/Local/3LC/3LC/projects/3LC Tutorials/runs/weighted-search')\n",
       "save_dir: WindowsPath('c:/Project/3lc-ultralytics/runs/pose/train28')\n",
       "speed: {'preprocess': 0.3069160693455548, 'inference': 2.4147129205690576, 'loss': 0.00015656881177965773, 'postprocess': 2.0762525513908754}\n",
       "stats: {'tp': [], 'conf': [], 'pred_cls': [], 'target_cls': [], 'target_img': [], 'tp_p': []}\n",
       "task: 'pose'"
      ]
     },
     "execution_count": 5,
     "metadata": {},
     "output_type": "execute_result"
    }
   ],
   "source": [
    "model = YOLO(\"yolo11n-pose.pt\")\n",
    "\n",
    "settings = Settings(\n",
    "    project_name=PROJECT_NAME,\n",
    "    run_name=\"train-yolon-animalpose\",\n",
    "    run_description=\"Training a YOLO model for pose estimation on the AnimalPose dataset\",\n",
    "    collect_loss=True,\n",
    "    image_embeddings_dim=2,\n",
    ")\n",
    "\n",
    "model.train(\n",
    "    tables=tables,\n",
    "    epochs=10,\n",
    "    workers=0,\n",
    ")"
   ]
  }
 ],
 "metadata": {
  "kernelspec": {
   "display_name": ".venv",
   "language": "python",
   "name": "python3"
  },
  "language_info": {
   "codemirror_mode": {
    "name": "ipython",
    "version": 3
   },
   "file_extension": ".py",
   "mimetype": "text/x-python",
   "name": "python",
   "nbconvert_exporter": "python",
   "pygments_lexer": "ipython3",
   "version": "3.12.9"
  }
 },
 "nbformat": 4,
 "nbformat_minor": 5
}
