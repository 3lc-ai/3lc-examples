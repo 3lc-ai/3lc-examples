{
 "cells": [
  {
   "cell_type": "code",
   "execution_count": null,
   "id": "02437b4f",
   "metadata": {},
   "outputs": [],
   "source": [
    "hands"
   ]
  }
 ],
 "metadata": {
  "language_info": {
   "name": "python"
  }
 },
 "nbformat": 4,
 "nbformat_minor": 5
}
