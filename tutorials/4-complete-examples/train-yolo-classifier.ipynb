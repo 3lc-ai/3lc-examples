{
 "cells": [
  {
   "cell_type": "markdown",
   "metadata": {},
   "source": [
    "# Train a YOLO classifier with 3LC metrics collection"
   ]
  },
  {
   "cell_type": "markdown",
   "metadata": {},
   "source": [
    "## Imports"
   ]
  },
  {
   "cell_type": "code",
   "execution_count": null,
   "metadata": {},
   "outputs": [],
   "source": [
    "import tlc\n",
    "from ultralytics.utils.tlc import TLCYOLO, Settings"
   ]
  },
  {
   "cell_type": "markdown",
   "metadata": {},
   "source": [
    "## Project setup"
   ]
  },
  {
   "cell_type": "code",
   "execution_count": null,
   "metadata": {},
   "outputs": [],
   "source": [
    "PROJECT_NAME = \"3LC Tutorials\"\n",
    "MODEL_NAME = \"yolov8m-cls.pt\"\n",
    "IMAGE_COLUMN = \"Image\"\n",
    "LABEL_COLUMN = \"Label\"\n",
    "EPOCHS = 5\n",
    "BATCH_SIZE = 32\n",
    "IMAGE_SIZE = 32"
   ]
  },
  {
   "cell_type": "code",
   "execution_count": null,
   "metadata": {},
   "outputs": [],
   "source": [
    "train_table = tlc.Table.from_names(\"initial\", \"CIFAR-10-train\", \"3LC Tutorials\")\n",
    "val_table = tlc.Table.from_names(\"initial\", \"CIFAR-10-val\", \"3LC Tutorials\")"
   ]
  },
  {
   "cell_type": "code",
   "execution_count": null,
   "metadata": {},
   "outputs": [],
   "source": [
    "model = TLCYOLO(MODEL_NAME)\n",
    "\n",
    "settings = Settings(\n",
    "    project_name=PROJECT_NAME,\n",
    "    run_name=\"Train YOLO Classifier\",\n",
    "    image_embeddings_dim=2,\n",
    "    conf_thres=0.2,\n",
    "    sampling_weights=True,\n",
    "    exclude_zero_weight_training=True,\n",
    "    exclude_zero_weight_collection=False,\n",
    "    collection_epoch_start=1,  # Start collecting metrics from epoch 1\n",
    "    collection_epoch_interval=1,  # Collect metrics every epoch\n",
    ")\n",
    "\n",
    "model.train(\n",
    "    tables={\n",
    "        \"train\": train_table,\n",
    "        \"val\": val_table,\n",
    "    },\n",
    "    image_column_name=IMAGE_COLUMN,\n",
    "    label_column_name=LABEL_COLUMN,\n",
    "    settings=settings,\n",
    "    batch=BATCH_SIZE,\n",
    "    imgsz=IMAGE_SIZE,\n",
    "    epochs=EPOCHS,\n",
    "    workers=0,  # Multiple workers in notebook environment is not supported on Windows\n",
    "    project=\"../../transient_data\",\n",
    ")"
   ]
  }
 ],
 "metadata": {
  "kernelspec": {
   "display_name": ".venv",
   "language": "python",
   "name": "python3"
  },
  "language_info": {
   "codemirror_mode": {
    "name": "ipython",
    "version": 3
   },
   "file_extension": ".py",
   "mimetype": "text/x-python",
   "name": "python",
   "nbconvert_exporter": "python",
   "pygments_lexer": "ipython3",
   "version": "3.11.3"
  }
 },
 "nbformat": 4,
 "nbformat_minor": 2
}
