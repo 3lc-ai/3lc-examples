{
 "cells": [
  {
   "cell_type": "code",
   "execution_count": 1,
   "metadata": {},
   "outputs": [],
   "source": [
    "PROJECT_NAME = \"3LC Tutorials\"\n",
    "DATASET_NAME = \"ADE20k_toy_dataset\"\n",
    "TRANSIENT_DATA_PATH = \"../../transient_data\"\n"
   ]
  },
  {
   "cell_type": "code",
   "execution_count": 2,
   "metadata": {},
   "outputs": [],
   "source": [
    "import tlc\n",
    "from pathlib import Path"
   ]
  },
  {
   "cell_type": "code",
   "execution_count": 3,
   "metadata": {},
   "outputs": [],
   "source": [
    "DATASET_ROOT = (Path(TRANSIENT_DATA_PATH) / \"ADE20k_toy_dataset\").resolve().as_posix()\n",
    "tlc.register_url_alias(\"ADE20K_TOY_DATASET_ROOT\", DATASET_ROOT)"
   ]
  },
  {
   "cell_type": "code",
   "execution_count": 4,
   "metadata": {},
   "outputs": [],
   "source": [
    "table = tlc.Table.from_names(\"train\", DATASET_NAME, PROJECT_NAME)"
   ]
  },
  {
   "cell_type": "code",
   "execution_count": 5,
   "metadata": {},
   "outputs": [
    {
     "data": {
      "text/plain": [
       "(<PIL.JpegImagePlugin.JpegImageFile image mode=RGB size=683x512>,\n",
       " <PIL.PngImagePlugin.PngImageFile image mode=L size=683x512>,\n",
       " (512, 683))"
      ]
     },
     "execution_count": 5,
     "metadata": {},
     "output_type": "execute_result"
    }
   ],
   "source": [
    "table[0]"
   ]
  },
  {
   "cell_type": "code",
   "execution_count": 6,
   "metadata": {},
   "outputs": [
    {
     "data": {
      "text/plain": [
       "ImmutableDict({'image': '<ADE20K_TOY_DATASET_ROOT>/images/training/ADE_train_00000001.jpg', 'segmentation_map': '<ADE20K_TOY_DATASET_ROOT>/annotations/training/ADE_train_00000001.png', 'mask size': {'width': 512, 'height': 683}, 'weight': 1.0})"
      ]
     },
     "execution_count": 6,
     "metadata": {},
     "output_type": "execute_result"
    }
   ],
   "source": [
    "table.table_rows[0]"
   ]
  },
  {
   "cell_type": "code",
   "execution_count": 7,
   "metadata": {},
   "outputs": [
    {
     "name": "stdout",
     "output_type": "stream",
     "text": [
      "\u001b[90m3lc: \u001b[0mCould not get value map for value path segmentation_map: The schema for the path must be numeric.\n",
      "None\n"
     ]
    }
   ],
   "source": [
    "value_map = table.get_value_map(\"segmentation_map\")\n",
    "print(value_map)"
   ]
  },
  {
   "cell_type": "code",
   "execution_count": 27,
   "metadata": {},
   "outputs": [],
   "source": [
    "table_writer = tlc.TableWriter(\n",
    "    table_name=f\"{table.name}_instances\",\n",
    "    dataset_name=DATASET_NAME,\n",
    "    project_name=PROJECT_NAME,\n",
    "    column_schemas={\n",
    "        \"image\": tlc.PILImage(\"image\"),\n",
    "        \"instances\": tlc.InstanceSegmentationMasks(\n",
    "            \"instances\",\n",
    "            instance_properties_structure={\n",
    "                \"label\": tlc.CategoricalLabel(\"label\", value_map),\n",
    "            },\n",
    "        ),\n",
    "    },\n",
    "    if_exists=\"rename\",\n",
    ")"
   ]
  },
  {
   "cell_type": "code",
   "execution_count": null,
   "metadata": {},
   "outputs": [],
   "source": [
    "segmentation_image = table.table_rows[0]    "
   ]
  },
  {
   "cell_type": "code",
   "execution_count": 20,
   "metadata": {},
   "outputs": [],
   "source": [
    "value_map = table.rows_schema.values[\"segmentation_map\"].value.map\n"
   ]
  },
  {
   "cell_type": "code",
   "execution_count": 9,
   "metadata": {},
   "outputs": [
    {
     "data": {
      "text/plain": [
       "['image', 'segmentation_map', 'mask size', 'weight']"
      ]
     },
     "execution_count": 9,
     "metadata": {},
     "output_type": "execute_result"
    }
   ],
   "source": [
    "table.columns\n"
   ]
  },
  {
   "cell_type": "code",
   "execution_count": 11,
   "metadata": {},
   "outputs": [],
   "source": [
    "import numpy as np"
   ]
  },
  {
   "cell_type": "code",
   "execution_count": 32,
   "metadata": {},
   "outputs": [],
   "source": [
    "def single_channel_map_to_per_class_masks(map: np.ndarray):\n",
    "    masks = []\n",
    "    class_ids = []\n",
    "    for class_id in np.unique(map):\n",
    "        mask = (map == class_id).astype(np.uint8)\n",
    "        masks.append(mask)\n",
    "        class_ids.append(class_id)\n",
    "    return np.asfortranarray(np.stack(masks, axis=-1)), np.array(class_ids)\n"
   ]
  },
  {
   "cell_type": "code",
   "execution_count": 33,
   "metadata": {},
   "outputs": [
    {
     "name": "stdout",
     "output_type": "stream",
     "text": [
      "(512, 683, 17)\n",
      "[  0   1   4   5   6  13  18  32  33  43  44  88  97 105 126 139 150]\n"
     ]
    }
   ],
   "source": [
    "for image, map, (h, w) in table:\n",
    "    map_np = np.array(map)\n",
    "    masks, class_ids = single_channel_map_to_per_class_masks(map_np)\n",
    "    print(masks.shape)\n",
    "    print(class_ids)\n",
    "\n",
    "    table_writer.add_row(\n",
    "        {\n",
    "            \"image\": image,\n",
    "            \"instances\": {\n",
    "                \"image_height\": h,\n",
    "                \"image_width\": w,\n",
    "                \"masks\": masks,\n",
    "                \"instance_properties\": {\n",
    "                    \"label\": class_ids.tolist(),\n",
    "                },\n",
    "            },\n",
    "        }\n",
    "    )\n",
    "\n"
   ]
  },
  {
   "cell_type": "code",
   "execution_count": 34,
   "metadata": {},
   "outputs": [],
   "source": [
    "table = table_writer.finalize()"
   ]
  }
 ],
 "metadata": {
  "kernelspec": {
   "display_name": ".venv",
   "language": "python",
   "name": "python3"
  },
  "language_info": {
   "codemirror_mode": {
    "name": "ipython",
    "version": 3
   },
   "file_extension": ".py",
   "mimetype": "text/x-python",
   "name": "python",
   "nbconvert_exporter": "python",
   "pygments_lexer": "ipython3",
   "version": "3.11.11"
  }
 },
 "nbformat": 4,
 "nbformat_minor": 2
}
