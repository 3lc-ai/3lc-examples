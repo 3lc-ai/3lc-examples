{
 "cells": [
  {
   "cell_type": "code",
   "execution_count": null,
   "metadata": {},
   "outputs": [],
   "source": [
    "%load_ext autoreload\n",
    "%autoreload 2"
   ]
  },
  {
   "cell_type": "code",
   "execution_count": null,
   "metadata": {},
   "outputs": [],
   "source": [
    "from tlc_tools.cli.commands.augment_bb_table import main\n",
    "\n",
    "val_table = \"C:/Users/gudbrand/AppData/Local/3LC/3LC/projects/Levatas/datasets/Levatas-Val/tables/intial\"\n",
    "train_table = \"C:/Users/gudbrand/AppData/Local/3LC/3LC/projects/Levatas/datasets/Levatas-Train/tables/intial\"\n",
    "\n",
    "main([\"--train_table\", train_table, \"--val_table\", val_table, \"--num_workers\", \"0\", \"--epochs\", \"20\"])"
   ]
  },
  {
   "cell_type": "code",
   "execution_count": null,
   "metadata": {},
   "outputs": [],
   "source": [
    "!3lc-tools list"
   ]
  },
  {
   "cell_type": "code",
   "execution_count": null,
   "metadata": {},
   "outputs": [],
   "source": [
    "!3lc-tools run augment-bb-table -h"
   ]
  },
  {
   "cell_type": "code",
   "execution_count": null,
   "metadata": {},
   "outputs": [],
   "source": [
    "!3lc-tools run augment-bb-table --train_table $train_table --val_table $val_table"
   ]
  },
  {
   "cell_type": "code",
   "execution_count": null,
   "metadata": {},
   "outputs": [],
   "source": [
    "from tlc_tools.cli.commands.augment_bb_table import main\n",
    "\n",
    "main([\"--train_table\", train_table, \"--val_table\", val_table, \"--num_workers\", \"0\", \"--epochs\", \"20\"])"
   ]
  }
 ],
 "metadata": {
  "kernelspec": {
   "display_name": ".venv",
   "language": "python",
   "name": "python3"
  },
  "language_info": {
   "codemirror_mode": {
    "name": "ipython",
    "version": 3
   },
   "file_extension": ".py",
   "mimetype": "text/x-python",
   "name": "python",
   "nbconvert_exporter": "python",
   "pygments_lexer": "ipython3",
   "version": "3.12.9"
  }
 },
 "nbformat": 4,
 "nbformat_minor": 2
}
