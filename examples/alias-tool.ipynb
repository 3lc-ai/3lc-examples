{
 "cells": [
  {
   "cell_type": "markdown",
   "metadata": {},
   "source": [
    "# 3lc Alias Tool Usage Example\n",
    "\n",
    "This notebook demonstrates the basic usage of the 3LC Alias Tool."
   ]
  },
  {
   "cell_type": "code",
   "execution_count": null,
   "metadata": {},
   "outputs": [],
   "source": [
    "!3lc-tools run --exp alias -h"
   ]
  },
  {
   "cell_type": "code",
   "execution_count": null,
   "metadata": {},
   "outputs": [],
   "source": [
    "import tlc\n",
    "\n",
    "# Create a table with interesting and varied schemas\n",
    "data = {\n",
    "    \"path\": [\"/data/path1\", \"<DATA_PATH>/path2\"],\n",
    "    \"model_path\": [\"<MODEL_PATH>/model.pt\", \"/models/other.pt\"],\n",
    "    \"cache_dir\": [\"/cache/temp\", \"<CACHE_PATH>/data\"],\n",
    "    \"metadata\": [\n",
    "        {\n",
    "            \"id\": 1,\n",
    "            \"path\": \"<META_PATH>/meta1.json\",\n",
    "            \"config\": {\"data_dir\": \"/data/config1\", \"model_dir\": \"<MODEL_PATH>/config1\"},\n",
    "        },\n",
    "        {\n",
    "            \"id\": 2,\n",
    "            \"path\": \"<META_PATH>/meta2.json\",\n",
    "            \"config\": {\"data_dir\": \"<DATA_PATH>/config2\", \"model_dir\": \"/models/config2\"},\n",
    "        },\n",
    "    ],\n",
    "}\n",
    "\n",
    "table = tlc.Table.from_dict(\n",
    "    data,\n",
    "    table_name=\"ALIAS_SHOWCASE_TABLE\",\n",
    "    project_name=\"ALIAS_SHOWCASE_PROJECT\",\n",
    ")"
   ]
  },
  {
   "cell_type": "markdown",
   "metadata": {},
   "source": [
    "## `list` command"
   ]
  },
  {
   "cell_type": "code",
   "execution_count": null,
   "metadata": {},
   "outputs": [],
   "source": [
    "!3lc-tools run --exp alias list -h"
   ]
  },
  {
   "cell_type": "code",
   "execution_count": null,
   "metadata": {},
   "outputs": [],
   "source": [
    "!3lc-tools run --exp alias list \"{table.url}\""
   ]
  },
  {
   "cell_type": "code",
   "execution_count": null,
   "metadata": {},
   "outputs": [],
   "source": [
    "!3lc-tools run --exp alias list \"{table.url}\" --columns path"
   ]
  },
  {
   "cell_type": "code",
   "execution_count": null,
   "metadata": {},
   "outputs": [],
   "source": [
    "!3lc-tools run --exp alias list \"{table.url}\" --columns foo"
   ]
  },
  {
   "cell_type": "markdown",
   "metadata": {},
   "source": [
    "## `replace` command"
   ]
  },
  {
   "cell_type": "code",
   "execution_count": null,
   "metadata": {},
   "outputs": [],
   "source": [
    "!3lc-tools run --exp alias replace -h"
   ]
  },
  {
   "cell_type": "code",
   "execution_count": null,
   "metadata": {},
   "outputs": [],
   "source": [
    "!3lc-tools run --exp alias replace \"{table.url}\" --columns path --from /data --to \"<DATA_PATH>\""
   ]
  },
  {
   "cell_type": "code",
   "execution_count": null,
   "metadata": {},
   "outputs": [],
   "source": [
    "tlc.ObjectRegistry.drop_cache()\n",
    "\n",
    "restored_table = tlc.Table.from_url(table.url)\n",
    "\n",
    "print(\"Original table:\")\n",
    "for row in table.table_rows:\n",
    "    print(row)\n",
    "print(\"--------------------------------\")\n",
    "print(\"Restored table:\")\n",
    "for row in restored_table.table_rows:\n",
    "    print(row)"
   ]
  },
  {
   "cell_type": "code",
   "execution_count": null,
   "metadata": {},
   "outputs": [],
   "source": []
  }
 ],
 "metadata": {
  "kernelspec": {
   "display_name": ".venv",
   "language": "python",
   "name": "python3"
  },
  "language_info": {
   "codemirror_mode": {
    "name": "ipython",
    "version": 3
   },
   "file_extension": ".py",
   "mimetype": "text/x-python",
   "name": "python",
   "nbconvert_exporter": "python",
   "pygments_lexer": "ipython3",
   "version": "3.12.9"
  }
 },
 "nbformat": 4,
 "nbformat_minor": 2
}
