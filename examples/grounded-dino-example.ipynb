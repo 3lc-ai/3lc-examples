{
 "cells": [
  {
   "cell_type": "code",
   "execution_count": 16,
   "metadata": {},
   "outputs": [],
   "source": [
    "import requests\n",
    "\n",
    "import torch\n",
    "from PIL import Image\n",
    "from transformers import AutoProcessor, AutoModelForZeroShotObjectDetection\n",
    "import os\n",
    "from pathlib import Path\n",
    "\n",
    "model_id = \"IDEA-Research/grounding-dino-tiny\"\n",
    "device = \"cuda\"\n",
    "\n",
    "processor = AutoProcessor.from_pretrained(model_id)\n",
    "model = AutoModelForZeroShotObjectDetection.from_pretrained(model_id).to(device)\n",
    "\n"
   ]
  },
  {
   "cell_type": "code",
   "execution_count": 20,
   "metadata": {},
   "outputs": [],
   "source": [
    "\n",
    "image_folder = Path(\"C:/Data/3lc-images\")\n",
    "\n",
    "image_files = list(image_folder.glob(\"*.jpg\")) + list(image_folder.glob(\"*.webp\"))\n",
    "image_files = [str(file) for file in image_files]\n",
    "images = [Image.open(file) for file in image_files]\n"
   ]
  },
  {
   "cell_type": "code",
   "execution_count": 25,
   "metadata": {},
   "outputs": [],
   "source": [
    "# Run inference\n",
    "\n",
    "label_names = [\"a person\", \"the boss\", \"some text\"]\n",
    "\n",
    "text_labels = [label_names] * len(image_files)\n",
    "\n",
    "inputs = processor(images=images, text=text_labels, return_tensors=\"pt\").to(device)\n",
    "\n",
    "with torch.no_grad():\n",
    "    outputs = model(**inputs)\n",
    "\n",
    "results = processor.post_process_grounded_object_detection(\n",
    "    outputs,\n",
    "    inputs.input_ids,\n",
    "    box_threshold=0.4,\n",
    "    text_threshold=0.3,\n",
    "    target_sizes=[image.size[::-1] for image in images]\n",
    ")"
   ]
  },
  {
   "cell_type": "code",
   "execution_count": null,
   "metadata": {},
   "outputs": [],
   "source": [
    "\n",
    "import tlc\n",
    "\n",
    "table_writer = tlc.TableWriter(\n",
    "    \"grounded-dino-predictions\",\n",
    "    \"GROUNDED_DINO_DEMO\",\n",
    "    \"GROUNDED_DINO_DEMO\",\n",
    "    column_schemas={\n",
    "        \"image\": tlc.ImagePath(\"image\"),\n",
    "        \"predicted_boxes\": tlc.BoundingBoxListSchema(\n",
    "            {i: tlc.MapElement(label_names[i]) for i in range(len(label_names))},\n",
    "            is_prediction=True,\n",
    "            include_segmentation=False,\n",
    "\n",
    "        )\n",
    "    },\n",
    "    if_exists=\"rename\"\n",
    ")\n",
    "\n",
    "with table_writer:\n",
    "    \n",
    "    for i, result in enumerate(results):\n",
    "\n",
    "        bb_list = []\n",
    "        for box, score, labels in zip(result[\"boxes\"], result[\"scores\"], result[\"labels\"]):\n",
    "            box = [round(x, 2) for x in box.tolist()]\n",
    "            print(f\"Detected {labels} with confidence {round(score.item(), 3)} at location {box}\")\n",
    "\n",
    "            bb_list.append(\n",
    "                {\n",
    "                    \"x0\": box[0],\n",
    "                    \"y0\": box[1],\n",
    "                    \"x1\": box[2], \"y1\": box[3],\n",
    "                    \"label\": label_names.index(labels),\n",
    "                    \"confidence\": score.item(),\n",
    "                    \"iou\": 0.0,\n",
    "                }\n",
    "            )\n",
    "\n",
    "        table_writer.add_row(\n",
    "            {\n",
    "                \"image\": image_files[i],\n",
    "                \"predicted_boxes\": {\n",
    "                    \"image_height\": images[i].height,\n",
    "                    \"image_width\": images[i].width,\n",
    "                    \"bb_list\": bb_list,\n",
    "                }\n",
    "            }\n",
    "        )\n",
    "\n"
   ]
  }
 ],
 "metadata": {
  "kernelspec": {
   "display_name": ".venv",
   "language": "python",
   "name": "python3"
  },
  "language_info": {
   "codemirror_mode": {
    "name": "ipython",
    "version": 3
   },
   "file_extension": ".py",
   "mimetype": "text/x-python",
   "name": "python",
   "nbconvert_exporter": "python",
   "pygments_lexer": "ipython3",
   "version": "3.12.9"
  }
 },
 "nbformat": 4,
 "nbformat_minor": 2
}
