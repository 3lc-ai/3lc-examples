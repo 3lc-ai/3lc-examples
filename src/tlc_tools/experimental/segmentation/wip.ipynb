{
 "cells": [
  {
   "cell_type": "code",
   "execution_count": null,
   "metadata": {},
   "outputs": [],
   "source": [
    "import cv2\n",
    "import numpy as np\n",
    "import tlc"
   ]
  },
  {
   "cell_type": "code",
   "execution_count": null,
   "metadata": {},
   "outputs": [],
   "source": [
    "def mask_to_polygons(mask: np.ndarray) -> tuple[list[np.ndarray], bool]:\n",
    "    # cv2.RETR_CCOMP flag retrieves all the contours and arranges them to a 2-level\n",
    "    # hierarchy. External contours (boundary) of the object are placed in hierarchy-1.\n",
    "    # Internal contours (holes) are placed in hierarchy-2.\n",
    "    # cv2.CHAIN_APPROX_NONE flag gets vertices of polygons from contours.\n",
    "    mask = np.ascontiguousarray(mask)  # some versions of cv2 does not support incontiguous arr\n",
    "    res = cv2.findContours(mask.astype(\"uint8\"), cv2.RETR_CCOMP, cv2.CHAIN_APPROX_NONE)\n",
    "    hierarchy = res[-1]\n",
    "    if hierarchy is None:  # empty mask\n",
    "        return [], False\n",
    "    has_holes = (hierarchy.reshape(-1, 4)[:, 3] >= 0).sum() > 0\n",
    "    res = res[-2]\n",
    "    res = [x.flatten() for x in res]\n",
    "    # These coordinates from OpenCV are integers in range [0, W-1 or H-1].\n",
    "    # We add 0.5 to turn them into real-value coordinate space. A better solution\n",
    "    # would be to first +0.5 and then dilate the returned polygon by 0.5.\n",
    "    res = [x + 0.5 for x in res if len(x) >= 6]\n",
    "    return res, has_holes"
   ]
  },
  {
   "cell_type": "code",
   "execution_count": null,
   "metadata": {},
   "outputs": [],
   "source": [
    "# TODO: Dataset_name should not contain \"/\"\n",
    "# TODO: look into alias paths with trailing slashes..\n"
   ]
  },
  {
   "cell_type": "code",
   "execution_count": null,
   "metadata": {},
   "outputs": [],
   "source": [
    "table_url = tlc.Url.create_table_url(\"my_table\", \"my/dataset\", \"my_project\")\n",
    "\n",
    "print(table_url)"
   ]
  },
  {
   "cell_type": "code",
   "execution_count": null,
   "metadata": {},
   "outputs": [],
   "source": [
    "from tlc.core.objects.table import _names_from_url_and_folder_layout as table_url_parts\n",
    "\n",
    "print(table_url_parts(table_url))"
   ]
  },
  {
   "cell_type": "code",
   "execution_count": null,
   "metadata": {},
   "outputs": [],
   "source": [
    "tlc.register_url_alias(\"MY_TEST_TOKEN\", \"/this/is/a/\")\n",
    "\n",
    "url = tlc.Url(\"/this/is/a/test\")\n",
    "\n",
    "print(url.to_relative().to_str())\n",
    "\n",
    "print(url.to_relative().to_absolute())\n",
    "\n",
    "print(tlc.Url(url.to_relative().to_str()).to_absolute())"
   ]
  }
 ],
 "metadata": {
  "kernelspec": {
   "display_name": ".venv",
   "language": "python",
   "name": "python3"
  },
  "language_info": {
   "codemirror_mode": {
    "name": "ipython",
    "version": 3
   },
   "file_extension": ".py",
   "mimetype": "text/x-python",
   "name": "python",
   "nbconvert_exporter": "python",
   "pygments_lexer": "ipython3",
   "version": "3.12.9"
  }
 },
 "nbformat": 4,
 "nbformat_minor": 2
}
