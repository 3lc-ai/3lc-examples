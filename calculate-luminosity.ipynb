{
 "cells": [
  {
   "cell_type": "markdown",
   "metadata": {},
   "source": [
    "# Per Bounding Box Luminosity Calculation\n",
    "\n",
    "This notebook demonstrates how to calculate the luminosity of images and their respective bounding boxes. We will then write these calculated luminosity properties to a 3LC Run."
   ]
  },
  {
   "cell_type": "code",
   "execution_count": null,
   "metadata": {
    "tags": [
     "parameters"
    ]
   },
   "outputs": [],
   "source": [
    "PROJECT_NAME = \"Luminosity\"\n",
    "DATASET_NAME = \"COCO128\"\n",
    "INSTALL_DEPENDENCIES = False\n",
    "TEST_DATA_PATH = \"../tests/test_data/data\"\n",
    "TLC_PUBLIC_EXAMPLES_DEVELOPER_MODE = True"
   ]
  },
  {
   "cell_type": "code",
   "execution_count": null,
   "metadata": {},
   "outputs": [],
   "source": [
    "if INSTALL_DEPENDENCIES:\n",
    "    %pip --quiet install ipykernel ipywidgets\n",
    "    %pip --quiet install torch --index-url https://download.pytorch.org/whl/cu118\n",
    "    %pip --quiet install torchvision --index-url https://download.pytorch.org/whl/cu118\n",
    "    %pip --quiet install tlc"
   ]
  },
  {
   "cell_type": "code",
   "execution_count": null,
   "metadata": {},
   "outputs": [],
   "source": [
    "!3lc config --list"
   ]
  },
  {
   "cell_type": "markdown",
   "metadata": {},
   "source": [
    "## Import and Initialize\n",
    "\n",
    "First, let's import necessary modules and initialize a 3LC Run using a input table URL."
   ]
  },
  {
   "cell_type": "code",
   "execution_count": null,
   "metadata": {},
   "outputs": [],
   "source": [
    "from __future__ import annotations\n",
    "\n",
    "from io import BytesIO\n",
    "\n",
    "import tqdm\n",
    "import numpy as np\n",
    "from PIL import Image\n",
    "\n",
    "import tlc"
   ]
  },
  {
   "cell_type": "code",
   "execution_count": null,
   "metadata": {
    "nbsphinx": "hidden",
    "tags": []
   },
   "outputs": [],
   "source": [
    "### HIDDEN CELL ###\n",
    "\n",
    "if not TLC_PUBLIC_EXAMPLES_DEVELOPER_MODE:\n",
    "    from tlc.client.utils import (\n",
    "        TLC_PUBLIC_EXAMPLES_RUN_ROOT,\n",
    "        TLC_PUBLIC_EXAMPLES_TABLE_ROOT,\n",
    "        TLC_PUBLIC_EXAMPLES_COCO_128_DATA_ALIAS_NAME,\n",
    "    )\n",
    "\n",
    "    from tlc.core.objects.mutable_objects import Configuration\n",
    "    from tlc.core.objects.tables.system_tables.indexing_tables import TableIndexingTable\n",
    "    from tlc import Url, UrlAliasRegistry\n",
    "\n",
    "    print(f\"Runs and Tables will be written to remote location: '{TLC_PUBLIC_EXAMPLES_RUN_ROOT}' and '{TLC_PUBLIC_EXAMPLES_TABLE_ROOT}'\")\n",
    "    Configuration.instance().run_root_url = TLC_PUBLIC_EXAMPLES_RUN_ROOT\n",
    "    Configuration.instance().table_root_url = TLC_PUBLIC_EXAMPLES_TABLE_ROOT\n",
    "\n",
    "    local_data_location = tlc.Url(TEST_DATA_PATH + \"/coco128\").to_absolute()\n",
    "\n",
    "    # Register COCO128 data alias\n",
    "    if TLC_PUBLIC_EXAMPLES_COCO_128_DATA_ALIAS_NAME not in UrlAliasRegistry.instance()._url_aliases:\n",
    "        UrlAliasRegistry.instance().register_url_alias(\n",
    "            TLC_PUBLIC_EXAMPLES_COCO_128_DATA_ALIAS_NAME,\n",
    "            local_data_location.to_str(),\n",
    "        )\n",
    "        print(f\"Local data at '{local_data_location}' hidden under alias '{TLC_PUBLIC_EXAMPLES_COCO_128_DATA_ALIAS_NAME}'\")\n",
    "\n",
    "    TableIndexingTable.instance().scan_urls.append(Url(TLC_PUBLIC_EXAMPLES_TABLE_ROOT))"
   ]
  },
  {
   "cell_type": "markdown",
   "metadata": {},
   "source": [
    "## Set Up Input Table\n",
    "\n",
    "We will use a `TableFromCoco` to load the input dataset from a annotations file and a folder of images."
   ]
  },
  {
   "cell_type": "code",
   "execution_count": null,
   "metadata": {},
   "outputs": [],
   "source": [
    "table_url = tlc.Table.default_write_location() / f\"{PROJECT_NAME}/table_from_coco.json\"\n",
    "\n",
    "annotations_file = tlc.Url(TEST_DATA_PATH  + \"/coco128/annotations.json\").to_absolute()\n",
    "images_dir = tlc.Url(TEST_DATA_PATH + \"/coco128/images\").to_absolute()\n",
    "\n",
    "table_from_coco = tlc.TableFromCoco(\n",
    "    url=table_url,\n",
    "    dataset_name=DATASET_NAME,\n",
    "    project_name=PROJECT_NAME,\n",
    "    input_url=annotations_file.to_relative(),\n",
    "    image_folder_url=images_dir.to_relative(),\n",
    "    row_cache_url=\"../table_from_coco.parquet\",\n",
    ")\n",
    "\n",
    "print(table_from_coco.url)"
   ]
  },
  {
   "cell_type": "code",
   "execution_count": null,
   "metadata": {},
   "outputs": [],
   "source": [
    "run = tlc.init(project_name=PROJECT_NAME)\n",
    "run.add_input_table(table_from_coco)"
   ]
  },
  {
   "cell_type": "markdown",
   "metadata": {},
   "source": [
    "## Calculate the Luminoisty of Images and Bounding Boxes\n",
    "\n",
    "In this section, we will calculate the luminosity property for each image as well as for each bounding box within the images.\n",
    "\n",
    "We build the variables `per_image_luminosity` and `per_bb_luminosity` to store the luminosity properties for each image and bounding box, respectively."
   ]
  },
  {
   "cell_type": "code",
   "execution_count": null,
   "metadata": {},
   "outputs": [],
   "source": [
    "def calculate_luminosity(image: Image) -> float:\n",
    "    np_image = np.array(image)\n",
    "    axes_to_reduce = tuple(range(np_image.ndim - 1))\n",
    "    avg_luminosity = np.mean(np_image, axis=axes_to_reduce) / 255.0\n",
    "    return float(np.mean(avg_luminosity))"
   ]
  },
  {
   "cell_type": "code",
   "execution_count": null,
   "metadata": {},
   "outputs": [],
   "source": [
    "per_bb_luminosity: list[list[float]] = []\n",
    "per_image_luminosity: list[float] = []\n",
    "\n",
    "bb_schema = table_from_coco.schema.values[\"rows\"].values[\"bbs\"].values[\"bb_list\"]\n",
    "\n",
    "for row in tqdm.tqdm(table_from_coco.table_rows, total=len(table_from_coco), desc=\"Calculating luminosity\"):\n",
    "    image_filename = row[\"image\"]\n",
    "    image_bbs = row[\"bbs\"][\"bb_list\"]\n",
    "\n",
    "    image_bytes = tlc.Url(image_filename).read()\n",
    "    image = Image.open(BytesIO(image_bytes))\n",
    "\n",
    "    image_luminosity = calculate_luminosity(image)\n",
    "    per_image_luminosity.append(image_luminosity)\n",
    "\n",
    "    bb_luminosity_list: list[float] = []\n",
    "    h, w = image.size\n",
    "\n",
    "    for bb in image_bbs:\n",
    "        bb_crop = tlc.BBCropInterface.crop(image, bb, bb_schema)\n",
    "        bb_luminosity = calculate_luminosity(bb_crop)\n",
    "        bb_luminosity_list.append(bb_luminosity)\n",
    "\n",
    "    per_bb_luminosity.append(bb_luminosity_list)"
   ]
  },
  {
   "cell_type": "markdown",
   "metadata": {},
   "source": [
    "## Add Metrics to Run\n",
    "\n",
    "After calculating the luminosity, we will extend the existing run with the new metrics, which will be written as a new metrics table."
   ]
  },
  {
   "cell_type": "code",
   "execution_count": null,
   "metadata": {},
   "outputs": [],
   "source": [
    "# Column-wise metrics\n",
    "data = {\n",
    "    \"per_image_luminosity\": per_image_luminosity,\n",
    "    \"per_bb_luminosity\": per_bb_luminosity,\n",
    "}\n",
    "\n",
    "# Each entry in the list is a list of luminosity values for each bounding box in the image \n",
    "float_list_schema = tlc.Schema(\n",
    "    value=tlc.Float32Value(\n",
    "        value_min=0,\n",
    "        value_max=1,\n",
    "        number_role=tlc.NUMBER_ROLE_FRACTION,\n",
    "    ),\n",
    "    size0=tlc.DimensionNumericValue(value_min=0, value_max=1000),  # Max 1000 bounding boxes\n",
    ")\n",
    "\n",
    "# We don't need to explicitly override the per_image_luminosity column schema because is is a simple float\n",
    "schemas = {\n",
    "    \"per_bb_luminosity\": float_list_schema,\n",
    "}\n",
    "\n",
    "run.add_metrics_data(\n",
    "    data,\n",
    "    override_column_schemas=schemas,\n",
    "    input_table_url=table_from_coco.url,\n",
    ")"
   ]
  },
  {
   "cell_type": "markdown",
   "metadata": {},
   "source": [
    "## Add More Metrics Based on Existing Ones\n",
    "\n",
    "If necessary, you can also add additional metrics based on the previously calculated ones."
   ]
  },
  {
   "cell_type": "code",
   "execution_count": null,
   "metadata": {},
   "outputs": [],
   "source": [
    "# Fetch the metrics table we just created\n",
    "metrics_table = run.metrics_tables[0]\n",
    "\n",
    "# Find the URL of the input table used for generating this metrics table (it should be the same as the input table we used)\n",
    "table_url = metrics_table.get_foreign_table_url()"
   ]
  },
  {
   "cell_type": "code",
   "execution_count": null,
   "metadata": {},
   "outputs": [],
   "source": [
    "print(table_url)"
   ]
  },
  {
   "cell_type": "code",
   "execution_count": null,
   "metadata": {},
   "outputs": [],
   "source": [
    "# WIP: add a column to the metrics table that is the average of the per_bb_luminosity column\n",
    "\n",
    "avg_bb_luminosity = []\n",
    "\n",
    "for row in metrics_table.table_rows:\n",
    "    per_bb_luminosity = row[\"per_bb_luminosity\"]\n",
    "    avg_bb_luminosity.append(np.mean(per_bb_luminosity or [0]))\n",
    "\n",
    "new_metrics_table = metrics_table.add_column(\n",
    "    \"avg_bb_luminosity\",\n",
    "    avg_bb_luminosity,\n",
    "    url=metrics_table.absolute_url_from_relative(tlc.Url(\"../edited_metric.json\")),\n",
    ")\n",
    "new_metrics_table.write_to_url()\n",
    "\n",
    "run.update_metrics_table_urls({metrics_table.url: new_metrics_table.url})\n",
    "new_metrics_table.write_to_url()\n"
   ]
  }
 ],
 "metadata": {
  "kernelspec": {
   "display_name": ".venv",
   "language": "python",
   "name": "python3"
  },
  "language_info": {
   "codemirror_mode": {
    "name": "ipython",
    "version": 3
   },
   "file_extension": ".py",
   "mimetype": "text/x-python",
   "name": "python",
   "nbconvert_exporter": "python",
   "pygments_lexer": "ipython3",
   "version": "3.8.10"
  }
 },
 "nbformat": 4,
 "nbformat_minor": 2
}
