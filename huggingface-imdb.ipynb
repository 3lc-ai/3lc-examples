{
 "cells": [
  {
   "attachments": {},
   "cell_type": "markdown",
   "id": "e81980d6",
   "metadata": {},
   "source": [
    "# 🤗 and 3LC example on the IMDb dataset\n",
    "\n",
    "This notebook demonstrates fine-tuning a pretrained DistilBERT model from `transformers` on the `IMDb` dataset, using the 3LC integrations with `Trainer` and `datasets` from Hugging Face. 3LC metrics are collected before and after one epoch of training.\n",
    "\n",
    "The notebook covers:\n",
    "\n",
    "- Creating a `Table` from a `datasets` dataset.\n",
    "- Fine-tuning a pretrained `transformers` model on the IMDb dataset with `TLCTrainer`.\n",
    "- Using a custom function for metrics collection."
   ]
  },
  {
   "cell_type": "code",
   "execution_count": null,
   "id": "fc35de1d",
   "metadata": {
    "tags": [
     "parameters"
    ]
   },
   "outputs": [],
   "source": [
    "EPOCHS = 1\n",
    "TRAIN_BATCH_SIZE = 16\n",
    "EVAL_BATCH_SIZE = 256\n",
    "TRAIN_DATASET_NAME = \"hf-imdb-train\"\n",
    "EVAL_DATASET_NAME = \"hf-imdb-test\"\n",
    "TRANSIENT_DATA_PATH = \"../transient_data\"\n",
    "DEVICE = \"cuda:0\"\n",
    "PROJECT_NAME = \"hf-imdb\"\n",
    "RUN_NAME = \"Train DistilBERT on IMDB\"\n",
    "DESCRIPTION = \"Example notebook for training a DistilBERT model on the IMDB dataset\"\n",
    "TLC_PUBLIC_EXAMPLES_DEVELOPER_MODE = True\n",
    "INSTALL_DEPENDENCIES = False"
   ]
  },
  {
   "cell_type": "code",
   "execution_count": null,
   "id": "684a881c",
   "metadata": {},
   "outputs": [],
   "source": [
    "%%capture\n",
    "if INSTALL_DEPENDENCIES:\n",
    "    %pip --quiet install torch --index-url https://download.pytorch.org/whl/cu118\n",
    "    %pip --quiet install torchvision --index-url https://download.pytorch.org/whl/cu118\n",
    "    %pip --quiet install datasets transformers evaluate\n",
    "    %pip --quiet install accelerate\n",
    "    %pip --quiet install scikit-learn\n",
    "    %pip --quiet install tlc"
   ]
  },
  {
   "cell_type": "code",
   "execution_count": null,
   "id": "1d1153d9",
   "metadata": {},
   "outputs": [],
   "source": [
    "import datasets\n",
    "import evaluate\n",
    "import numpy as np\n",
    "import tlc\n",
    "import torch\n",
    "from transformers import AutoModelForSequenceClassification, AutoTokenizer, DataCollatorWithPadding, TrainingArguments\n",
    "\n",
    "datasets.utils.logging.disable_progress_bar()"
   ]
  },
  {
   "cell_type": "markdown",
   "id": "7b19f7be",
   "metadata": {},
   "source": [
    "## Initialize a 3LC Run\n",
    "\n",
    "We initialize a Run with a call to `tlc.init`, and add the configuration to the Run object."
   ]
  },
  {
   "cell_type": "code",
   "execution_count": null,
   "id": "89ae5aad",
   "metadata": {},
   "outputs": [],
   "source": [
    "config = {\n",
    "    \"epochs\": EPOCHS,\n",
    "    \"train_batch_size\": TRAIN_BATCH_SIZE,\n",
    "    \"eval_batch_size\": EVAL_BATCH_SIZE,\n",
    "}\n",
    "\n",
    "run = tlc.init(\n",
    "    project_name=PROJECT_NAME,\n",
    "    run_name=RUN_NAME,\n",
    "    description=DESCRIPTION,\n",
    "    parameters=config,\n",
    "    if_exists=\"overwrite\",\n",
    ")"
   ]
  },
  {
   "cell_type": "markdown",
   "id": "2e2b7c55",
   "metadata": {},
   "source": [
    "With the 3LC integration, you can use `load_dataset` as a drop-in replacement to create a `Table`. Notice `.latest()`, which gets the latest version of the 3LC dataset."
   ]
  },
  {
   "cell_type": "code",
   "execution_count": null,
   "id": "5279faf9",
   "metadata": {},
   "outputs": [],
   "source": [
    "train_dataset = tlc.Table.from_hugging_face(\n",
    "    \"imdb\",\n",
    "    split=\"train\",\n",
    "    project_name=PROJECT_NAME,\n",
    "    dataset_name=TRAIN_DATASET_NAME,\n",
    "    if_exists=\"overwrite\",\n",
    ").latest()\n",
    "\n",
    "eval_dataset = tlc.Table.from_hugging_face(\n",
    "    \"imdb\",\n",
    "    split=\"test\",\n",
    "    project_name=PROJECT_NAME,\n",
    "    dataset_name=EVAL_DATASET_NAME,\n",
    "    if_exists=\"overwrite\",\n",
    ").latest()"
   ]
  },
  {
   "cell_type": "markdown",
   "id": "580d4efe",
   "metadata": {},
   "source": [
    "You can use the data produced by these Tables like you would with a 🤗 dataset."
   ]
  },
  {
   "cell_type": "code",
   "execution_count": null,
   "id": "9b1183cc",
   "metadata": {},
   "outputs": [],
   "source": [
    "train_dataset_hf = datasets.load_dataset(\"imdb\", split=\"train\")\n",
    "train_dataset_hf[0]"
   ]
  },
  {
   "cell_type": "code",
   "execution_count": null,
   "id": "607a2e6c",
   "metadata": {},
   "outputs": [],
   "source": [
    "train_dataset[0]"
   ]
  },
  {
   "cell_type": "markdown",
   "id": "92022036",
   "metadata": {},
   "source": [
    "`Table` provides a method `map` to apply both preprocessing and on-the-fly transforms to your data before it is sent to the model."
   ]
  },
  {
   "cell_type": "code",
   "execution_count": null,
   "id": "43e1c417",
   "metadata": {},
   "outputs": [],
   "source": [
    "tokenizer = AutoTokenizer.from_pretrained(\"distilbert-base-uncased\")\n",
    "tokenize = lambda sample: {**sample, **tokenizer(sample[\"text\"], truncation=True)}"
   ]
  },
  {
   "cell_type": "code",
   "execution_count": null,
   "id": "6d260bac",
   "metadata": {},
   "outputs": [],
   "source": [
    "train_tokenized = train_dataset.map(tokenize)\n",
    "eval_tokenized = eval_dataset.map(tokenize)"
   ]
  },
  {
   "cell_type": "code",
   "execution_count": null,
   "id": "d1ea02e5",
   "metadata": {},
   "outputs": [],
   "source": [
    "data_collator = DataCollatorWithPadding(tokenizer=tokenizer)"
   ]
  },
  {
   "cell_type": "code",
   "execution_count": null,
   "id": "b8c99bba",
   "metadata": {},
   "outputs": [],
   "source": [
    "id2label = {0: \"neg\", 1: \"pos\"}\n",
    "label2id = {\"neg\": 0, \"pos\": 1}\n",
    "\n",
    "# For demonstration purposes, we use the distilbert-base-uncased model with a different set of labels than\n",
    "# it was trained on. As a result, there will be a warning about the inconsistency of the classifier and\n",
    "# pre_classifier weights. This is expected and can be ignored.\n",
    "model = AutoModelForSequenceClassification.from_pretrained(\n",
    "    \"distilbert-base-uncased\", num_labels=2, id2label=id2label, label2id=label2id\n",
    ")"
   ]
  },
  {
   "cell_type": "markdown",
   "id": "96e2145e",
   "metadata": {},
   "source": [
    "## Setup Metrics Collection\n",
    "\n",
    "Computing metrics is done by implementing a function which returns per-sample metrics you would like to see in the 3LC Dashboard. \n",
    "\n",
    "We keep the metrics function in Hugging Face to see the intermediate aggregate metrics.\n",
    "\n",
    "For special metrics such as the predicted category we specify that we would like this to be shown as a `CategoricalLabel`. "
   ]
  },
  {
   "cell_type": "code",
   "execution_count": null,
   "id": "90275587",
   "metadata": {},
   "outputs": [],
   "source": [
    "accuracy = evaluate.load(\"accuracy\")\n",
    "\n",
    "def compute_metrics(eval_pred):\n",
    "    predictions, labels = eval_pred\n",
    "    predictions = np.argmax(predictions, axis=1)\n",
    "    return accuracy.compute(predictions=predictions, references=labels)\n",
    "\n",
    "def compute_tlc_metrics(logits, labels):\n",
    "    probabilities = torch.nn.functional.softmax(logits, dim=-1)\n",
    "\n",
    "    predictions = logits.argmax(dim=-1)\n",
    "    loss = torch.nn.functional.cross_entropy(logits, labels, reduction=\"none\")\n",
    "    confidence = probabilities.gather(dim=-1, index=predictions.unsqueeze(-1)).squeeze()\n",
    "\n",
    "    return {\n",
    "        \"predicted\": predictions,\n",
    "        \"loss\": loss,\n",
    "        \"confidence\": confidence,\n",
    "    }\n",
    "\n",
    "compute_tlc_metrics.column_schemas = {\n",
    "    \"predicted\": tlc.CategoricalLabelSchema(display_name=\"Predicted Label\", class_names=id2label.values(), display_importance=4005),\n",
    "    \"loss\": tlc.Schema(display_name=\"Loss\", writable=False, value=tlc.Float32Value()),\n",
    "    \"confidence\": tlc.Schema(display_name=\"Confidence\", writable=False, value=tlc.Float32Value()),\n",
    "}"
   ]
  },
  {
   "cell_type": "code",
   "execution_count": null,
   "id": "934fbab5",
   "metadata": {},
   "outputs": [],
   "source": [
    "# Add references to the input datasets used by the Run.\n",
    "run.add_input_table(train_dataset)\n",
    "run.add_input_table(eval_dataset)"
   ]
  },
  {
   "attachments": {},
   "cell_type": "markdown",
   "id": "23ca09c6",
   "metadata": {},
   "source": [
    "## Train the model with TLCTrainer\n",
    "\n",
    "To perform model training, we replace the usual `Trainer` with `TLCTrainer` and provide the per-sample metrics collection function. We also specify that we would like to collect metrics prior to training."
   ]
  },
  {
   "cell_type": "code",
   "execution_count": null,
   "id": "671cfdbf",
   "metadata": {},
   "outputs": [],
   "source": [
    "from tlc.integration.hugging_face import TLCTrainer\n",
    "\n",
    "training_args = TrainingArguments(\n",
    "    output_dir=TRANSIENT_DATA_PATH,\n",
    "    learning_rate=2e-5,\n",
    "    per_device_train_batch_size=TRAIN_BATCH_SIZE,\n",
    "    per_device_eval_batch_size=EVAL_BATCH_SIZE,\n",
    "    num_train_epochs=EPOCHS,\n",
    "    weight_decay=0.01,\n",
    "    evaluation_strategy=\"epoch\",\n",
    "    no_cuda=DEVICE == \"cpu\",\n",
    "    disable_tqdm=True,\n",
    ")\n",
    "\n",
    "trainer = TLCTrainer(\n",
    "    model=model,\n",
    "    args=training_args,\n",
    "    train_dataset=train_tokenized,\n",
    "    eval_dataset=eval_tokenized,\n",
    "    tokenizer=tokenizer,\n",
    "    data_collator=data_collator,\n",
    "    compute_metrics=compute_metrics,\n",
    "    compute_tlc_metrics=compute_tlc_metrics,\n",
    "    collect_tlc_metrics_before_training=True,\n",
    ")"
   ]
  },
  {
   "cell_type": "code",
   "execution_count": null,
   "id": "08459926",
   "metadata": {},
   "outputs": [],
   "source": [
    "trainer.train()"
   ]
  }
 ],
 "metadata": {
  "kernelspec": {
   "display_name": ".venv",
   "language": "python",
   "name": "python3"
  },
  "language_info": {
   "codemirror_mode": {
    "name": "ipython",
    "version": 3
   },
   "file_extension": ".py",
   "mimetype": "text/x-python",
   "name": "python",
   "nbconvert_exporter": "python",
   "pygments_lexer": "ipython3",
   "version": "3.8.10"
  }
 },
 "nbformat": 4,
 "nbformat_minor": 5
}
